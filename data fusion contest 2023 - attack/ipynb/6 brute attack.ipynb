{
 "cells": [
  {
   "cell_type": "markdown",
   "id": "2b452af3-1293-4c1e-966a-fa578362280a",
   "metadata": {},
   "source": [
    "### 6 Brute attack\n",
    "\n",
    "Multiprocessing брутфорс по самым топовым hero и poor пользователям (ROC-AUC Diff 0,240041 для топ 20 hero_users_top и poor_users_top и рельсой 1-20 по первым и последним 5 транзакциям - `5last_brute_2.py`)"
   ]
  },
  {
   "cell_type": "code",
   "execution_count": 1,
   "id": "78e67a11-f31d-4901-b7a6-dafba5548eaa",
   "metadata": {},
   "outputs": [],
   "source": [
    "import numpy as np\n",
    "import pandas as pd\n",
    "from tqdm.notebook import tqdm\n",
    "# from tqdm import tqdm\n",
    "import random\n",
    "from model import predict # Функция, позволяет получить предсказание нейронки.\n",
    "from check_budget import check_budget # функция проверки бюджета. Проверяйте допустимость решения до сабмита\n",
    "from sklearn.metrics import roc_auc_score\n",
    "import matplotlib.pyplot as plt\n",
    "\n",
    "bins_path = \"nn_bins.pickle\" # путь до файла с бинами после тренировки модели (nn_bins.pickle)\n",
    "model_path = \"nn_weights.ckpt\" # путь до файла с весами нейронной сети (nn_weights.ckpt)\n",
    "quantiles_path = \"quantiles.json\" # путь до файла с квантилями для таргета (quantiles.pickle)\n",
    "\n",
    "transactions_path = \"../sample_submission.csv\"    # путь до файла с транзакциями, которые атакуются\n",
    "\n",
    "train_data_path = \"../transactions_finetune.csv\" # X - train data\n",
    "train_target_path = \"../target_finetune.csv\" # y - true target"
   ]
  },
  {
   "cell_type": "code",
   "execution_count": 2,
   "id": "63970d1e-8a55-4d08-930c-8bae3cda2f82",
   "metadata": {},
   "outputs": [],
   "source": [
    "seed = 26041999\n",
    "threshold = pd.read_csv(train_target_path).target.mean() # примерный threshold трейна"
   ]
  },
  {
   "cell_type": "code",
   "execution_count": 29,
   "id": "c8225e9f-91fe-49bd-823a-a734a4047b12",
   "metadata": {},
   "outputs": [],
   "source": [
    "transactions_path = \"../sample_submission.csv\"    # путь до файла с транзакциями, которые атакуются\n",
    "t = pd.read_csv(transactions_path)\n",
    "# t = t[t['user_id'].isin(t.user_id.unique()[::150])]\n",
    "# split = t.shape[0] // 14\n",
    "split = 315000\n",
    "for i in range(4):\n",
    "    t.iloc[split*i:split*(i+1)].to_csv(f'datasets/sample_submission{i}.csv', index=True)\n",
    "\n",
    "    # 0 90k\n",
    "    # 90k 180k\n",
    "    # 180k 270k\n",
    "    # ...\n",
    "    # 1170k 1260k"
   ]
  },
  {
   "cell_type": "code",
   "execution_count": 4,
   "id": "3a7d55d8-dac7-49e9-bec9-a5c4429c343f",
   "metadata": {},
   "outputs": [],
   "source": [
    "transactions_path = \"../sample_submission.csv\"    # путь до файла с транзакциями, которые атакуются\n",
    "t = pd.read_csv(transactions_path)"
   ]
  },
  {
   "cell_type": "code",
   "execution_count": 30,
   "id": "6ca6733c-e575-4273-b0a6-79a961ce67f7",
   "metadata": {},
   "outputs": [
    {
     "data": {
      "text/plain": [
       "644130    300\n",
       "Name: user_id, dtype: int64"
      ]
     },
     "execution_count": 30,
     "metadata": {},
     "output_type": "execute_result"
    }
   ],
   "source": [
    "ts = pd.read_csv('datasets/sample_submission3.csv', index_col=0)\n",
    "ts.loc[ts.user_id == ts.user_id.unique()[0]].user_id.value_counts()"
   ]
  },
  {
   "cell_type": "code",
   "execution_count": 37,
   "id": "55a6193d-b93e-410b-8327-012871e8baba",
   "metadata": {
    "tags": []
   },
   "outputs": [
    {
     "name": "stderr",
     "output_type": "stream",
     "text": [
      "Global seed set to 26041999\n",
      "Global seed set to 26041999\n"
     ]
    },
    {
     "data": {
      "application/vnd.jupyter.widget-view+json": {
       "model_id": "9d9925918ef6430ba847e289216148a4",
       "version_major": 2,
       "version_minor": 0
      },
      "text/plain": [
       "Total:   0%|          | 0/1050 [00:00<?, ?it/s]"
      ]
     },
     "metadata": {},
     "output_type": "display_data"
    },
    {
     "data": {
      "application/vnd.jupyter.widget-view+json": {
       "model_id": "",
       "version_major": 2,
       "version_minor": 0
      },
      "text/plain": [
       "poor_users_top:   0%|          | 0/20 [00:00<?, ?it/s]"
      ]
     },
     "metadata": {},
     "output_type": "display_data"
    },
    {
     "data": {
      "application/vnd.jupyter.widget-view+json": {
       "model_id": "",
       "version_major": 2,
       "version_minor": 0
      },
      "text/plain": [
       "hero_users_top:   0%|          | 0/20 [00:00<?, ?it/s]"
      ]
     },
     "metadata": {},
     "output_type": "display_data"
    },
    {
     "data": {
      "application/vnd.jupyter.widget-view+json": {
       "model_id": "",
       "version_major": 2,
       "version_minor": 0
      },
      "text/plain": [
       "hero_users_top:   0%|          | 0/20 [00:00<?, ?it/s]"
      ]
     },
     "metadata": {},
     "output_type": "display_data"
    },
    {
     "data": {
      "application/vnd.jupyter.widget-view+json": {
       "model_id": "",
       "version_major": 2,
       "version_minor": 0
      },
      "text/plain": [
       "poor_users_top:   0%|          | 0/20 [00:00<?, ?it/s]"
      ]
     },
     "metadata": {},
     "output_type": "display_data"
    },
    {
     "data": {
      "application/vnd.jupyter.widget-view+json": {
       "model_id": "e275140b12b1448e840c569f084f0788",
       "version_major": 2,
       "version_minor": 0
      },
      "text/plain": [
       "hero_users_top:   0%|          | 0/20 [00:00<?, ?it/s]"
      ]
     },
     "metadata": {},
     "output_type": "display_data"
    },
    {
     "ename": "KeyboardInterrupt",
     "evalue": "",
     "output_type": "error",
     "traceback": [
      "\u001b[1;31m---------------------------------------------------------------------------\u001b[0m",
      "\u001b[1;31mKeyboardInterrupt\u001b[0m                         Traceback (most recent call last)",
      "Cell \u001b[1;32mIn[37], line 149\u001b[0m\n\u001b[0;32m    145\u001b[0m df_transactions_user\u001b[38;5;241m.\u001b[39mloc[idx_to[sign_mask], \u001b[38;5;124m\"\u001b[39m\u001b[38;5;124mtransaction_amt\u001b[39m\u001b[38;5;124m\"\u001b[39m] \u001b[38;5;241m=\u001b[39m df_transactions\u001b[38;5;241m.\u001b[39mloc[idx_from[sign_mask], \u001b[38;5;124m\"\u001b[39m\u001b[38;5;124mtransaction_amt\u001b[39m\u001b[38;5;124m\"\u001b[39m]\u001b[38;5;241m.\u001b[39mvalues\n\u001b[0;32m    147\u001b[0m dataloader \u001b[38;5;241m=\u001b[39m create_dl(df_transactions_user, bins_path)\n\u001b[1;32m--> 149\u001b[0m attacked_target \u001b[38;5;241m=\u001b[39m \u001b[43mpredictor\u001b[49m\u001b[43m(\u001b[49m\u001b[43mdataloader\u001b[49m\u001b[43m,\u001b[49m\u001b[43m \u001b[49m\u001b[43mmodel\u001b[49m\u001b[43m)\u001b[49m\n\u001b[0;32m    151\u001b[0m current_user_score \u001b[38;5;241m=\u001b[39m check_target_attack(user, target, attacked_target)\n\u001b[0;32m    153\u001b[0m \u001b[38;5;28;01mif\u001b[39;00m current_user_score \u001b[38;5;241m>\u001b[39m\u001b[38;5;241m=\u001b[39m user_score:\n",
      "Cell \u001b[1;32mIn[37], line 39\u001b[0m, in \u001b[0;36mpredictor\u001b[1;34m(dataloader, model)\u001b[0m\n\u001b[0;32m     37\u001b[0m preds \u001b[38;5;241m=\u001b[39m []\n\u001b[0;32m     38\u001b[0m users \u001b[38;5;241m=\u001b[39m []\n\u001b[1;32m---> 39\u001b[0m \u001b[38;5;28;01mfor\u001b[39;00m data, target \u001b[38;5;129;01min\u001b[39;00m dataloader:\n\u001b[0;32m     40\u001b[0m     y_pred \u001b[38;5;241m=\u001b[39m model(data)\n\u001b[0;32m     41\u001b[0m     preds\u001b[38;5;241m.\u001b[39mappend(y_pred\u001b[38;5;241m.\u001b[39mdetach()\u001b[38;5;241m.\u001b[39mcpu()\u001b[38;5;241m.\u001b[39mnumpy())\n",
      "File \u001b[1;32m~\\anaconda3\\envs\\tf_gpu\\lib\\site-packages\\torch\\utils\\data\\dataloader.py:435\u001b[0m, in \u001b[0;36mDataLoader.__iter__\u001b[1;34m(self)\u001b[0m\n\u001b[0;32m    433\u001b[0m     \u001b[38;5;28;01mreturn\u001b[39;00m \u001b[38;5;28mself\u001b[39m\u001b[38;5;241m.\u001b[39m_iterator\n\u001b[0;32m    434\u001b[0m \u001b[38;5;28;01melse\u001b[39;00m:\n\u001b[1;32m--> 435\u001b[0m     \u001b[38;5;28;01mreturn\u001b[39;00m \u001b[38;5;28;43mself\u001b[39;49m\u001b[38;5;241;43m.\u001b[39;49m\u001b[43m_get_iterator\u001b[49m\u001b[43m(\u001b[49m\u001b[43m)\u001b[49m\n",
      "File \u001b[1;32m~\\anaconda3\\envs\\tf_gpu\\lib\\site-packages\\torch\\utils\\data\\dataloader.py:378\u001b[0m, in \u001b[0;36mDataLoader._get_iterator\u001b[1;34m(self)\u001b[0m\n\u001b[0;32m    376\u001b[0m \u001b[38;5;28;01mdef\u001b[39;00m \u001b[38;5;21m_get_iterator\u001b[39m(\u001b[38;5;28mself\u001b[39m) \u001b[38;5;241m-\u001b[39m\u001b[38;5;241m>\u001b[39m \u001b[38;5;124m'\u001b[39m\u001b[38;5;124m_BaseDataLoaderIter\u001b[39m\u001b[38;5;124m'\u001b[39m:\n\u001b[0;32m    377\u001b[0m     \u001b[38;5;28;01mif\u001b[39;00m \u001b[38;5;28mself\u001b[39m\u001b[38;5;241m.\u001b[39mnum_workers \u001b[38;5;241m==\u001b[39m \u001b[38;5;241m0\u001b[39m:\n\u001b[1;32m--> 378\u001b[0m         \u001b[38;5;28;01mreturn\u001b[39;00m \u001b[43m_SingleProcessDataLoaderIter\u001b[49m\u001b[43m(\u001b[49m\u001b[38;5;28;43mself\u001b[39;49m\u001b[43m)\u001b[49m\n\u001b[0;32m    379\u001b[0m     \u001b[38;5;28;01melse\u001b[39;00m:\n\u001b[0;32m    380\u001b[0m         \u001b[38;5;28mself\u001b[39m\u001b[38;5;241m.\u001b[39mcheck_worker_number_rationality()\n",
      "File \u001b[1;32m~\\anaconda3\\envs\\tf_gpu\\lib\\site-packages\\torch\\utils\\data\\dataloader.py:657\u001b[0m, in \u001b[0;36m_SingleProcessDataLoaderIter.__init__\u001b[1;34m(self, loader)\u001b[0m\n\u001b[0;32m    656\u001b[0m \u001b[38;5;28;01mdef\u001b[39;00m \u001b[38;5;21m__init__\u001b[39m(\u001b[38;5;28mself\u001b[39m, loader):\n\u001b[1;32m--> 657\u001b[0m     \u001b[38;5;28;43msuper\u001b[39;49m\u001b[43m(\u001b[49m\u001b[43m_SingleProcessDataLoaderIter\u001b[49m\u001b[43m,\u001b[49m\u001b[43m \u001b[49m\u001b[38;5;28;43mself\u001b[39;49m\u001b[43m)\u001b[49m\u001b[38;5;241;43m.\u001b[39;49m\u001b[38;5;21;43m__init__\u001b[39;49m\u001b[43m(\u001b[49m\u001b[43mloader\u001b[49m\u001b[43m)\u001b[49m\n\u001b[0;32m    658\u001b[0m     \u001b[38;5;28;01massert\u001b[39;00m \u001b[38;5;28mself\u001b[39m\u001b[38;5;241m.\u001b[39m_timeout \u001b[38;5;241m==\u001b[39m \u001b[38;5;241m0\u001b[39m\n\u001b[0;32m    659\u001b[0m     \u001b[38;5;28;01massert\u001b[39;00m \u001b[38;5;28mself\u001b[39m\u001b[38;5;241m.\u001b[39m_num_workers \u001b[38;5;241m==\u001b[39m \u001b[38;5;241m0\u001b[39m\n",
      "File \u001b[1;32m~\\anaconda3\\envs\\tf_gpu\\lib\\site-packages\\torch\\utils\\data\\dataloader.py:599\u001b[0m, in \u001b[0;36m_BaseDataLoaderIter.__init__\u001b[1;34m(self, loader)\u001b[0m\n\u001b[0;32m    597\u001b[0m \u001b[38;5;28mself\u001b[39m\u001b[38;5;241m.\u001b[39m_collate_fn \u001b[38;5;241m=\u001b[39m loader\u001b[38;5;241m.\u001b[39mcollate_fn\n\u001b[0;32m    598\u001b[0m \u001b[38;5;28mself\u001b[39m\u001b[38;5;241m.\u001b[39m_sampler_iter \u001b[38;5;241m=\u001b[39m \u001b[38;5;28miter\u001b[39m(\u001b[38;5;28mself\u001b[39m\u001b[38;5;241m.\u001b[39m_index_sampler)\n\u001b[1;32m--> 599\u001b[0m \u001b[38;5;28mself\u001b[39m\u001b[38;5;241m.\u001b[39m_base_seed \u001b[38;5;241m=\u001b[39m \u001b[43mtorch\u001b[49m\u001b[38;5;241;43m.\u001b[39;49m\u001b[43mempty\u001b[49m\u001b[43m(\u001b[49m\u001b[43m(\u001b[49m\u001b[43m)\u001b[49m\u001b[43m,\u001b[49m\u001b[43m \u001b[49m\u001b[43mdtype\u001b[49m\u001b[38;5;241;43m=\u001b[39;49m\u001b[43mtorch\u001b[49m\u001b[38;5;241;43m.\u001b[39;49m\u001b[43mint64\u001b[49m\u001b[43m)\u001b[49m\u001b[38;5;241m.\u001b[39mrandom_(generator\u001b[38;5;241m=\u001b[39mloader\u001b[38;5;241m.\u001b[39mgenerator)\u001b[38;5;241m.\u001b[39mitem()\n\u001b[0;32m    600\u001b[0m \u001b[38;5;28mself\u001b[39m\u001b[38;5;241m.\u001b[39m_persistent_workers \u001b[38;5;241m=\u001b[39m loader\u001b[38;5;241m.\u001b[39mpersistent_workers\n\u001b[0;32m    601\u001b[0m \u001b[38;5;28mself\u001b[39m\u001b[38;5;241m.\u001b[39m_num_yielded \u001b[38;5;241m=\u001b[39m \u001b[38;5;241m0\u001b[39m\n",
      "\u001b[1;31mKeyboardInterrupt\u001b[0m: "
     ]
    }
   ],
   "source": [
    "import pytorch_lightning as pl\n",
    "import torch\n",
    "import pickle\n",
    "from model import process_for_nn, TransactionsDataset, get_dataloader, device, TransactionsRnn\n",
    "\n",
    "bins_path = \"nn_bins.pickle\" # путь до файла с бинами после тренировки модели (nn_bins.pickle)\n",
    "model_path = \"nn_weights.ckpt\" # путь до файла с весами нейронной сети (nn_weights.ckpt)\n",
    "quantiles_path = \"quantiles.json\" # путь до файла с квантилями для таргета (quantiles.pickle)\n",
    "\n",
    "transactions_path = \"datasets/sample_submission3.csv\"    # путь до файла с транзакциями, которые атакуются\n",
    "\n",
    "train_data_path = \"../transactions_finetune.csv\" # X - train data\n",
    "train_target_path = \"../target_finetune.csv\" # y - true target\n",
    "\n",
    "threshold = pd.read_csv(train_target_path).target.mean() # примерный threshold трейна\n",
    "\n",
    "\n",
    "def create_dl(df, bins_path):\n",
    "    df_transactions = df.dropna().assign(\n",
    "            hour=lambda x: x.transaction_dttm.dt.hour,\n",
    "            day=lambda x: x.transaction_dttm.dt.dayofweek,\n",
    "            month=lambda x: x.transaction_dttm.dt.month,\n",
    "            number_day=lambda x: x.transaction_dttm.dt.day,\n",
    "        )\n",
    "\n",
    "    with open(bins_path, \"rb\") as f:\n",
    "        bins = pickle.load(f)\n",
    "    features = bins.pop(\"features\")\n",
    "    # features = bins[\"features\"]  ########################## мб можно оптимизировать\n",
    "    df = process_for_nn(df_transactions, features, bins)\n",
    "    dataset = TransactionsDataset(df)\n",
    "    dataloader = get_dataloader(dataset, device, is_validation=True)\n",
    "    return dataloader\n",
    "\n",
    "\n",
    "def predictor(dataloader, model):\n",
    "    preds = []\n",
    "    users = []\n",
    "    for data, target in dataloader:\n",
    "        y_pred = model(data)\n",
    "        preds.append(y_pred.detach().cpu().numpy())\n",
    "        users.append(target.detach().cpu().numpy())\n",
    "    preds = np.concatenate(preds)\n",
    "    users = np.concatenate(users)\n",
    "    return pd.DataFrame({\"user_id\": users, \"target\": preds[:, 1]})\n",
    "\n",
    "\n",
    "def check_target_attack(user, target, attacked_target):\n",
    "    if target.target_true.loc[target.user_id == user].values[0]:\n",
    "        return target.target.loc[target.user_id == user].values[0] - attacked_target.target.loc[attacked_target.user_id == user].values[0]\n",
    "    else:\n",
    "        return attacked_target.target.loc[attacked_target.user_id == user].values[0] - target.target.loc[target.user_id == user].values[0]\n",
    "\n",
    "\n",
    "pl.seed_everything(26041999)\n",
    "model = TransactionsRnn()\n",
    "model.load_state_dict(torch.load(model_path))\n",
    "model.to(device)\n",
    "model.eval()\n",
    "with open(bins_path, \"rb\") as f:\n",
    "    bins = pickle.load(f)\n",
    "\n",
    "random.seed(20230206)\n",
    "###############################################\n",
    "# testing df_train last 10\n",
    "##############################################\n",
    "\n",
    "# threshold = pd.read_csv(\"../data/target_finetune.csv\").target.mean()  # вероятность, по которой мы считаем таргет\n",
    "\n",
    "df_transactions = pd.read_csv(transactions_path, index_col=0)\n",
    "# cutted_df = pd.read_csv(transactions_path)\n",
    "df_transactions['transaction_dttm'] = pd.to_datetime(df_transactions.transaction_dttm, format='%Y-%m-%d %H:%M:%S')\n",
    "\n",
    "\n",
    "df_transactions_attacked = df_transactions.copy()\n",
    "\n",
    "bins_path = \"nn_bins.pickle\"\n",
    "model_path = \"nn_weights.ckpt\"\n",
    "\n",
    "target = predict(transactions_path, bins_path, model_path)\n",
    "target['target_true'] = target.target.apply(lambda x: 0 if x <= threshold else 1)\n",
    "hero_users_top = target.loc[(target.target_true == 1)].sort_values('target')[-20:].user_id.values\n",
    "poor_users_top = target.loc[(target.target_true == 0)].sort_values('target')[:20].user_id.values\n",
    "\n",
    "one_idx = target.index[target.target > threshold]  # Эти пользователи похожи на Героя\n",
    "zero_idx = target.index[target.target <= threshold] # А эти на Неудачника\n",
    "\n",
    "users = target.user_id.values\n",
    "\n",
    "one_users = users[one_idx] # defolt - 1\n",
    "zero_users = users[zero_idx] # norm users - 0\n",
    "\n",
    "for user in tqdm(users, desc='Total'):\n",
    "    df_transactions_user = df_transactions.loc[df_transactions.user_id == user].copy()\n",
    "    user_score = 0\n",
    "    best_copy_from = 829187\n",
    "    best_i = 1\n",
    "    if user in one_users:\n",
    "        for copy_from in tqdm(poor_users_top, leave=False, desc='poor_users_top'):\n",
    "            for i in range(1, 20):\n",
    "                idx_to_first = df_transactions_user.index[df_transactions_user.user_id == user][:5] # айдишники первых 5 транзакций юзера\n",
    "                idx_from_first = df_transactions.index[df_transactions.user_id == copy_from][:5*i:i] # айдишники первых 5 транзакций воннаби\n",
    "\n",
    "                idx_to_last = df_transactions_user.index[df_transactions_user.user_id == user][-5:] # айдишники последних 5 транзакций юзера\n",
    "                idx_from_last = df_transactions.index[df_transactions.user_id == copy_from][-5*i::i] # айдишники последних 5 транзакций воннаби\n",
    "\n",
    "                idx_to = idx_to_first.append(idx_to_last)\n",
    "                idx_from = idx_from_first.append(idx_from_last)\n",
    "\n",
    "                sign_to = np.sign(df_transactions.loc[idx_to, \"transaction_amt\"].values)\n",
    "                sign_from = np.sign(df_transactions.loc[idx_from, \"transaction_amt\"].values)\n",
    "                sign_mask = (sign_to == sign_from)\n",
    "\n",
    "                df_transactions_user.loc[idx_to[sign_mask], \"mcc_code\"] = df_transactions.loc[idx_from[sign_mask], \"mcc_code\"].values\n",
    "                df_transactions_user.loc[idx_to[sign_mask], \"transaction_amt\"] = df_transactions.loc[idx_from[sign_mask], \"transaction_amt\"].values\n",
    "\n",
    "                dataloader = create_dl(df_transactions_user, bins_path)\n",
    "\n",
    "                attacked_target = predictor(dataloader, model)\n",
    "\n",
    "                current_user_score = check_target_attack(user, target, attacked_target)\n",
    "\n",
    "                if current_user_score >= user_score:\n",
    "                    user_score = current_user_score\n",
    "                    best_copy_from = copy_from\n",
    "                    best_i = i\n",
    "\n",
    "    else:\n",
    "        for copy_from in tqdm(hero_users_top, leave=False, desc='hero_users_top'):\n",
    "            for i in range(1, 20):\n",
    "                idx_to_first = df_transactions_user.index[df_transactions_user.user_id == user][:5] # айдишники первых 5 транзакций юзера\n",
    "                idx_from_first = df_transactions.index[df_transactions.user_id == copy_from][:5*i:i] # айдишники первых 5 транзакций воннаби\n",
    "\n",
    "                idx_to_last = df_transactions_user.index[df_transactions_user.user_id == user][-5:] # айдишники последних 5 транзакций юзера\n",
    "                idx_from_last = df_transactions.index[df_transactions.user_id == copy_from][-5*i::i] # айдишники последних 5 транзакций воннаби\n",
    "\n",
    "                idx_to = idx_to_first.append(idx_to_last)\n",
    "                idx_from = idx_from_first.append(idx_from_last)\n",
    "\n",
    "                sign_to = np.sign(df_transactions.loc[idx_to, \"transaction_amt\"].values)\n",
    "                sign_from = np.sign(df_transactions.loc[idx_from, \"transaction_amt\"].values)\n",
    "                sign_mask = (sign_to == sign_from)\n",
    "\n",
    "                df_transactions_user.loc[idx_to[sign_mask], \"mcc_code\"] = df_transactions.loc[idx_from[sign_mask], \"mcc_code\"].values\n",
    "                df_transactions_user.loc[idx_to[sign_mask], \"transaction_amt\"] = df_transactions.loc[idx_from[sign_mask], \"transaction_amt\"].values\n",
    "\n",
    "                dataloader = create_dl(df_transactions_user, bins_path)\n",
    "\n",
    "                attacked_target = predictor(dataloader, model)\n",
    "\n",
    "                current_user_score = check_target_attack(user, target, attacked_target)\n",
    "\n",
    "                if current_user_score >= user_score:\n",
    "                    user_score = current_user_score\n",
    "                    best_copy_from = copy_from\n",
    "                    best_i = i\n",
    "\n",
    "    idx_to_first = df_transactions.index[df_transactions.user_id == user][:5]\n",
    "    idx_from_first = df_transactions.index[df_transactions.user_id == best_copy_from][:5*best_i:best_i]\n",
    "\n",
    "    idx_to_last = df_transactions.index[df_transactions.user_id == user][-5:]\n",
    "    idx_from_last = df_transactions.index[df_transactions.user_id == best_copy_from][-5*best_i::best_i]\n",
    "\n",
    "    idx_to = idx_to_first.append(idx_to_last)\n",
    "    idx_from = idx_from_first.append(idx_from_last)\n",
    "\n",
    "    sign_to = np.sign(df_transactions.loc[idx_to, \"transaction_amt\"].values)\n",
    "    sign_from = np.sign(df_transactions.loc[idx_from, \"transaction_amt\"].values)\n",
    "    sign_mask = (sign_to == sign_from)\n",
    "\n",
    "    df_transactions_attacked.loc[idx_to[sign_mask], \"mcc_code\"] = df_transactions.loc[idx_from[sign_mask], \"mcc_code\"].values\n",
    "    df_transactions_attacked.loc[idx_to[sign_mask], \"transaction_amt\"] = df_transactions.loc[idx_from[sign_mask], \"transaction_amt\"].values\n",
    "\n",
    "\n",
    "attacked_path = 'last_brute_split_test.csv'\n",
    "df_transactions_attacked.to_csv(attacked_path, index=False)"
   ]
  },
  {
   "cell_type": "code",
   "execution_count": 32,
   "id": "d6ff081e-71b9-4f1a-bcfa-90b17c54f11b",
   "metadata": {},
   "outputs": [
    {
     "data": {
      "text/html": [
       "<div>\n",
       "<style scoped>\n",
       "    .dataframe tbody tr th:only-of-type {\n",
       "        vertical-align: middle;\n",
       "    }\n",
       "\n",
       "    .dataframe tbody tr th {\n",
       "        vertical-align: top;\n",
       "    }\n",
       "\n",
       "    .dataframe thead th {\n",
       "        text-align: right;\n",
       "    }\n",
       "</style>\n",
       "<table border=\"1\" class=\"dataframe\">\n",
       "  <thead>\n",
       "    <tr style=\"text-align: right;\">\n",
       "      <th></th>\n",
       "      <th>user_id</th>\n",
       "      <th>target</th>\n",
       "      <th>target_true</th>\n",
       "    </tr>\n",
       "  </thead>\n",
       "  <tbody>\n",
       "    <tr>\n",
       "      <th>0</th>\n",
       "      <td>644130</td>\n",
       "      <td>0.065741</td>\n",
       "      <td>1</td>\n",
       "    </tr>\n",
       "    <tr>\n",
       "      <th>1</th>\n",
       "      <td>644135</td>\n",
       "      <td>0.008330</td>\n",
       "      <td>0</td>\n",
       "    </tr>\n",
       "    <tr>\n",
       "      <th>2</th>\n",
       "      <td>644567</td>\n",
       "      <td>0.009597</td>\n",
       "      <td>0</td>\n",
       "    </tr>\n",
       "    <tr>\n",
       "      <th>3</th>\n",
       "      <td>644723</td>\n",
       "      <td>0.051293</td>\n",
       "      <td>1</td>\n",
       "    </tr>\n",
       "    <tr>\n",
       "      <th>4</th>\n",
       "      <td>644801</td>\n",
       "      <td>0.035781</td>\n",
       "      <td>0</td>\n",
       "    </tr>\n",
       "    <tr>\n",
       "      <th>...</th>\n",
       "      <td>...</td>\n",
       "      <td>...</td>\n",
       "      <td>...</td>\n",
       "    </tr>\n",
       "    <tr>\n",
       "      <th>1045</th>\n",
       "      <td>868183</td>\n",
       "      <td>0.018597</td>\n",
       "      <td>0</td>\n",
       "    </tr>\n",
       "    <tr>\n",
       "      <th>1046</th>\n",
       "      <td>868407</td>\n",
       "      <td>0.034842</td>\n",
       "      <td>0</td>\n",
       "    </tr>\n",
       "    <tr>\n",
       "      <th>1047</th>\n",
       "      <td>868573</td>\n",
       "      <td>0.021223</td>\n",
       "      <td>0</td>\n",
       "    </tr>\n",
       "    <tr>\n",
       "      <th>1048</th>\n",
       "      <td>868694</td>\n",
       "      <td>0.017885</td>\n",
       "      <td>0</td>\n",
       "    </tr>\n",
       "    <tr>\n",
       "      <th>1049</th>\n",
       "      <td>868873</td>\n",
       "      <td>0.007999</td>\n",
       "      <td>0</td>\n",
       "    </tr>\n",
       "  </tbody>\n",
       "</table>\n",
       "<p>1050 rows × 3 columns</p>\n",
       "</div>"
      ],
      "text/plain": [
       "      user_id    target  target_true\n",
       "0      644130  0.065741            1\n",
       "1      644135  0.008330            0\n",
       "2      644567  0.009597            0\n",
       "3      644723  0.051293            1\n",
       "4      644801  0.035781            0\n",
       "...       ...       ...          ...\n",
       "1045   868183  0.018597            0\n",
       "1046   868407  0.034842            0\n",
       "1047   868573  0.021223            0\n",
       "1048   868694  0.017885            0\n",
       "1049   868873  0.007999            0\n",
       "\n",
       "[1050 rows x 3 columns]"
      ]
     },
     "execution_count": 32,
     "metadata": {},
     "output_type": "execute_result"
    }
   ],
   "source": [
    "target"
   ]
  },
  {
   "cell_type": "code",
   "execution_count": 20,
   "id": "9551c357-d895-475b-b7b0-f178dd09d9ea",
   "metadata": {},
   "outputs": [
    {
     "data": {
      "text/plain": [
       "2880    300\n",
       "3267    300\n",
       "3418    300\n",
       "3588    300\n",
       "Name: user_id, dtype: int64"
      ]
     },
     "execution_count": 20,
     "metadata": {},
     "output_type": "execute_result"
    }
   ],
   "source": [
    "ts.user_id.value_counts()"
   ]
  },
  {
   "cell_type": "code",
   "execution_count": 26,
   "id": "d40389fc-f977-4e7a-9baa-6707d154ba02",
   "metadata": {},
   "outputs": [
    {
     "data": {
      "text/plain": [
       "(4200,)"
      ]
     },
     "execution_count": 26,
     "metadata": {},
     "output_type": "execute_result"
    }
   ],
   "source": [
    "t.user_id.unique().shape"
   ]
  },
  {
   "cell_type": "code",
   "execution_count": 28,
   "id": "c32312ad-8f3b-4c5f-a21c-44ad4be9bb14",
   "metadata": {},
   "outputs": [
    {
     "data": {
      "text/plain": [
       "315000.0"
      ]
     },
     "execution_count": 28,
     "metadata": {},
     "output_type": "execute_result"
    }
   ],
   "source": [
    "4200/4*300"
   ]
  },
  {
   "cell_type": "code",
   "execution_count": 3,
   "id": "c98578de-d4bd-4523-afa8-53d02de31f0c",
   "metadata": {},
   "outputs": [],
   "source": [
    "df_attacked1 = pd.read_csv('datasets/sample_submission0_attacked.csv')\n",
    "df_attacked2 = pd.read_csv('datasets/sample_submission1_attacked.csv')\n",
    "df_attacked3 = pd.read_csv('datasets/sample_submission2_attacked.csv')\n",
    "df_attacked4 = pd.read_csv('datasets/sample_submission3_attacked.csv')"
   ]
  },
  {
   "cell_type": "code",
   "execution_count": 4,
   "id": "771e8b90-ff08-4185-b751-2b95a6a2f604",
   "metadata": {},
   "outputs": [],
   "source": [
    "df_attacked = pd.concat([df_attacked1, df_attacked2, df_attacked3, df_attacked4], ignore_index=True)\n",
    "attacked_path = \"brute_atack.csv\"\n",
    "df_attacked.to_csv(attacked_path, index=False)"
   ]
  },
  {
   "cell_type": "code",
   "execution_count": 6,
   "id": "af788afc-7089-416e-896b-32f88a0d15b5",
   "metadata": {},
   "outputs": [
    {
     "name": "stderr",
     "output_type": "stream",
     "text": [
      "Global seed set to 26041999\n"
     ]
    }
   ],
   "source": [
    "attac = predict(attacked_path, bins_path, model_path, random_seed=26041999)"
   ]
  },
  {
   "cell_type": "code",
   "execution_count": 7,
   "id": "88e30095-a27e-4c05-8dcb-8f20d58160b9",
   "metadata": {},
   "outputs": [
    {
     "name": "stderr",
     "output_type": "stream",
     "text": [
      "Global seed set to 26041999\n"
     ]
    }
   ],
   "source": [
    "pred = predict('../sample_submission.csv', bins_path, model_path, random_seed=26041999)\n",
    "pred['target_true'] = pred.target.apply(lambda x: 0 if x <= threshold else 1)"
   ]
  },
  {
   "cell_type": "code",
   "execution_count": 9,
   "id": "24b6ef51-2bd9-44a6-9c32-e2395406d81d",
   "metadata": {},
   "outputs": [
    {
     "data": {
      "text/plain": [
       "0.3809765240904621"
      ]
     },
     "execution_count": 9,
     "metadata": {},
     "output_type": "execute_result"
    }
   ],
   "source": [
    "roc_auc_score(pred['target_true'], attac['target'])"
   ]
  },
  {
   "cell_type": "code",
   "execution_count": null,
   "id": "84d6818e-3aba-4ca5-85db-ed638adf7c0a",
   "metadata": {},
   "outputs": [],
   "source": []
  }
 ],
 "metadata": {
  "kernelspec": {
   "display_name": "Python 3 (ipykernel)",
   "language": "python",
   "name": "python3"
  },
  "language_info": {
   "codemirror_mode": {
    "name": "ipython",
    "version": 3
   },
   "file_extension": ".py",
   "mimetype": "text/x-python",
   "name": "python",
   "nbconvert_exporter": "python",
   "pygments_lexer": "ipython3",
   "version": "3.9.16"
  }
 },
 "nbformat": 4,
 "nbformat_minor": 5
}
