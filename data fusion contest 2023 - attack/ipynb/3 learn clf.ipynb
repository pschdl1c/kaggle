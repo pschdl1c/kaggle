{
 "cells": [
  {
   "cell_type": "markdown",
   "id": "403e9a70-e16b-497d-b3cb-2dbfadcb6d4b",
   "metadata": {},
   "source": [
    "## 3 Classifier training\n",
    "\n",
    "Обучение моделек и развлечение"
   ]
  },
  {
   "cell_type": "code",
   "execution_count": 1,
   "id": "9016ac43-0573-4e6d-acad-236aa61f4346",
   "metadata": {},
   "outputs": [],
   "source": [
    "import numpy as np\n",
    "import pandas as pd\n",
    "from model import predict # Функция, позволяет получить предсказание нейронки.\n",
    "from check_budget import check_budget # функция проверки бюджета. Проверяйте допустимость решения до сабмита\n",
    "from sklearn.metrics import roc_auc_score\n",
    "import matplotlib.pyplot as plt\n",
    "\n",
    "bins_path = \"nn_bins.pickle\" # путь до файла с бинами после тренировки модели (nn_bins.pickle)\n",
    "model_path = \"nn_weights.ckpt\" # путь до файла с весами нейронной сети (nn_weights.ckpt)\n",
    "quantiles_path = \"quantiles.json\" # путь до файла с квантилями для таргета (quantiles.pickle)\n",
    "\n",
    "output_path = \"naive_submission.csv\" # куда сохранить атакованные транзакции\n",
    "transactions_path = \"../sample_submission.csv\"    # путь до файла с транзакциями, которые атакуются\n",
    "\n",
    "train_data_path = \"../transactions_finetune.csv\" # X - train data\n",
    "train_target_path = \"../target_finetune.csv\" # y - true target"
   ]
  },
  {
   "cell_type": "code",
   "execution_count": 2,
   "id": "2ef43f63-8716-4ad4-93fb-495216e4b39c",
   "metadata": {},
   "outputs": [],
   "source": [
    "df_transactions = pd.read_csv(train_data_path,\n",
    "                              parse_dates=[\"transaction_dttm\"],\n",
    "                              dtype={\"user_id\": int, \"mcc_code\": int, \"currency_rk\": int, \"transaction_amt\": float}).assign(\n",
    "    hour=lambda x: x.transaction_dttm.dt.hour,\n",
    "    day=lambda x: x.transaction_dttm.dt.dayofweek,\n",
    "    month=lambda x: x.transaction_dttm.dt.month,\n",
    "    number_day=lambda x: x.transaction_dttm.dt.day)"
   ]
  },
  {
   "cell_type": "code",
   "execution_count": 3,
   "id": "29691480-482f-46b1-afca-458bca06fc84",
   "metadata": {},
   "outputs": [
    {
     "data": {
      "text/html": [
       "<div>\n",
       "<style scoped>\n",
       "    .dataframe tbody tr th:only-of-type {\n",
       "        vertical-align: middle;\n",
       "    }\n",
       "\n",
       "    .dataframe tbody tr th {\n",
       "        vertical-align: top;\n",
       "    }\n",
       "\n",
       "    .dataframe thead th {\n",
       "        text-align: right;\n",
       "    }\n",
       "</style>\n",
       "<table border=\"1\" class=\"dataframe\">\n",
       "  <thead>\n",
       "    <tr style=\"text-align: right;\">\n",
       "      <th></th>\n",
       "      <th>user_id</th>\n",
       "      <th>mcc_code</th>\n",
       "      <th>currency_rk</th>\n",
       "      <th>transaction_amt</th>\n",
       "      <th>transaction_dttm</th>\n",
       "      <th>hour</th>\n",
       "      <th>day</th>\n",
       "      <th>month</th>\n",
       "      <th>number_day</th>\n",
       "    </tr>\n",
       "  </thead>\n",
       "  <tbody>\n",
       "    <tr>\n",
       "      <th>0</th>\n",
       "      <td>69</td>\n",
       "      <td>5541</td>\n",
       "      <td>48</td>\n",
       "      <td>-342.89792</td>\n",
       "      <td>2021-03-05 02:52:36</td>\n",
       "      <td>2</td>\n",
       "      <td>4</td>\n",
       "      <td>3</td>\n",
       "      <td>5</td>\n",
       "    </tr>\n",
       "    <tr>\n",
       "      <th>1</th>\n",
       "      <td>69</td>\n",
       "      <td>5533</td>\n",
       "      <td>48</td>\n",
       "      <td>-1251.88120</td>\n",
       "      <td>2021-03-05 09:43:28</td>\n",
       "      <td>9</td>\n",
       "      <td>4</td>\n",
       "      <td>3</td>\n",
       "      <td>5</td>\n",
       "    </tr>\n",
       "    <tr>\n",
       "      <th>2</th>\n",
       "      <td>69</td>\n",
       "      <td>5331</td>\n",
       "      <td>48</td>\n",
       "      <td>-87.30924</td>\n",
       "      <td>2021-03-05 11:17:23</td>\n",
       "      <td>11</td>\n",
       "      <td>4</td>\n",
       "      <td>3</td>\n",
       "      <td>5</td>\n",
       "    </tr>\n",
       "    <tr>\n",
       "      <th>3</th>\n",
       "      <td>69</td>\n",
       "      <td>5921</td>\n",
       "      <td>48</td>\n",
       "      <td>-1822.17700</td>\n",
       "      <td>2021-03-05 13:41:03</td>\n",
       "      <td>13</td>\n",
       "      <td>4</td>\n",
       "      <td>3</td>\n",
       "      <td>5</td>\n",
       "    </tr>\n",
       "    <tr>\n",
       "      <th>4</th>\n",
       "      <td>69</td>\n",
       "      <td>5311</td>\n",
       "      <td>48</td>\n",
       "      <td>-427.12363</td>\n",
       "      <td>2021-03-05 19:14:23</td>\n",
       "      <td>19</td>\n",
       "      <td>4</td>\n",
       "      <td>3</td>\n",
       "      <td>5</td>\n",
       "    </tr>\n",
       "  </tbody>\n",
       "</table>\n",
       "</div>"
      ],
      "text/plain": [
       "   user_id  mcc_code  currency_rk  transaction_amt    transaction_dttm  hour  \\\n",
       "0       69      5541           48       -342.89792 2021-03-05 02:52:36     2   \n",
       "1       69      5533           48      -1251.88120 2021-03-05 09:43:28     9   \n",
       "2       69      5331           48        -87.30924 2021-03-05 11:17:23    11   \n",
       "3       69      5921           48      -1822.17700 2021-03-05 13:41:03    13   \n",
       "4       69      5311           48       -427.12363 2021-03-05 19:14:23    19   \n",
       "\n",
       "   day  month  number_day  \n",
       "0    4      3           5  \n",
       "1    4      3           5  \n",
       "2    4      3           5  \n",
       "3    4      3           5  \n",
       "4    4      3           5  "
      ]
     },
     "execution_count": 3,
     "metadata": {},
     "output_type": "execute_result"
    }
   ],
   "source": [
    "df_transactions.head()"
   ]
  },
  {
   "cell_type": "code",
   "execution_count": 4,
   "id": "362534e3-31e6-4980-ab0d-5d64a65ec237",
   "metadata": {},
   "outputs": [],
   "source": [
    "id_list = df_transactions.user_id.unique()"
   ]
  },
  {
   "cell_type": "code",
   "execution_count": 5,
   "id": "3f41ca21-f8d2-4ae5-9232-97dd3ecf57fd",
   "metadata": {},
   "outputs": [
    {
     "data": {
      "text/plain": [
       "1500    -586.027470\n",
       "1501     -50.992100\n",
       "1502   -3318.621800\n",
       "1503    -582.319640\n",
       "1504    -461.845340\n",
       "           ...     \n",
       "1795    -104.104385\n",
       "1796    -161.041020\n",
       "1797    -264.240600\n",
       "1798    -956.717700\n",
       "1799   -1349.225600\n",
       "Name: transaction_amt, Length: 300, dtype: float64"
      ]
     },
     "execution_count": 5,
     "metadata": {},
     "output_type": "execute_result"
    }
   ],
   "source": [
    "df_transactions.loc[df_transactions.user_id == id_list[5]]['transaction_amt']"
   ]
  },
  {
   "cell_type": "code",
   "execution_count": 6,
   "id": "0e0157ac-d814-408e-b8ef-a7cd33852063",
   "metadata": {},
   "outputs": [],
   "source": [
    "# посмотрим итоговую сумму по транзакциям для каждого юзера\n",
    "cumsum_list = np.array([])\n",
    "for i in id_list:\n",
    "    cumsum_list = np.append(cumsum_list, df_transactions.loc[df_transactions.user_id == i]['transaction_amt'].cumsum().values[-1])"
   ]
  },
  {
   "cell_type": "code",
   "execution_count": 7,
   "id": "35828816-3780-42d1-9a4d-4ed34e4b8457",
   "metadata": {},
   "outputs": [
    {
     "data": {
      "text/plain": [
       "(array([1., 0., 0., ..., 0., 0., 1.]),\n",
       " array([-18351825.62893598, -18348705.22605459, -18345584.82317321, ...,\n",
       "          3734385.96552122,   3737506.36840261,   3740626.771284  ]),\n",
       " <BarContainer object of 7080 artists>)"
      ]
     },
     "execution_count": 7,
     "metadata": {},
     "output_type": "execute_result"
    },
    {
     "data": {
      "image/png": "[encoded data removed]",
      "text/plain": [
       "<Figure size 640x480 with 1 Axes>"
      ]
     },
     "metadata": {},
     "output_type": "display_data"
    }
   ],
   "source": [
    "plt.hist(cumsum_list, bins=cumsum_list.shape[0])"
   ]
  },
  {
   "cell_type": "code",
   "execution_count": 8,
   "id": "59f9fdac-5001-472b-90f3-7f90d6d7ebba",
   "metadata": {},
   "outputs": [],
   "source": [
    "df = df_transactions.copy()"
   ]
  },
  {
   "cell_type": "code",
   "execution_count": 9,
   "id": "42f7fb08-0c71-4b0a-85d4-11271fecb753",
   "metadata": {},
   "outputs": [
    {
     "data": {
      "text/html": [
       "<div>\n",
       "<style scoped>\n",
       "    .dataframe tbody tr th:only-of-type {\n",
       "        vertical-align: middle;\n",
       "    }\n",
       "\n",
       "    .dataframe tbody tr th {\n",
       "        vertical-align: top;\n",
       "    }\n",
       "\n",
       "    .dataframe thead th {\n",
       "        text-align: right;\n",
       "    }\n",
       "</style>\n",
       "<table border=\"1\" class=\"dataframe\">\n",
       "  <thead>\n",
       "    <tr style=\"text-align: right;\">\n",
       "      <th></th>\n",
       "      <th>user_id</th>\n",
       "      <th>mcc_code</th>\n",
       "      <th>currency_rk</th>\n",
       "      <th>transaction_amt</th>\n",
       "      <th>transaction_dttm</th>\n",
       "      <th>hour</th>\n",
       "      <th>day</th>\n",
       "      <th>month</th>\n",
       "      <th>number_day</th>\n",
       "    </tr>\n",
       "  </thead>\n",
       "  <tbody>\n",
       "    <tr>\n",
       "      <th>0</th>\n",
       "      <td>69</td>\n",
       "      <td>5541</td>\n",
       "      <td>48</td>\n",
       "      <td>-342.89792</td>\n",
       "      <td>2021-03-05 02:52:36</td>\n",
       "      <td>2</td>\n",
       "      <td>4</td>\n",
       "      <td>3</td>\n",
       "      <td>5</td>\n",
       "    </tr>\n",
       "    <tr>\n",
       "      <th>1</th>\n",
       "      <td>69</td>\n",
       "      <td>5533</td>\n",
       "      <td>48</td>\n",
       "      <td>-1251.88120</td>\n",
       "      <td>2021-03-05 09:43:28</td>\n",
       "      <td>9</td>\n",
       "      <td>4</td>\n",
       "      <td>3</td>\n",
       "      <td>5</td>\n",
       "    </tr>\n",
       "    <tr>\n",
       "      <th>2</th>\n",
       "      <td>69</td>\n",
       "      <td>5331</td>\n",
       "      <td>48</td>\n",
       "      <td>-87.30924</td>\n",
       "      <td>2021-03-05 11:17:23</td>\n",
       "      <td>11</td>\n",
       "      <td>4</td>\n",
       "      <td>3</td>\n",
       "      <td>5</td>\n",
       "    </tr>\n",
       "    <tr>\n",
       "      <th>3</th>\n",
       "      <td>69</td>\n",
       "      <td>5921</td>\n",
       "      <td>48</td>\n",
       "      <td>-1822.17700</td>\n",
       "      <td>2021-03-05 13:41:03</td>\n",
       "      <td>13</td>\n",
       "      <td>4</td>\n",
       "      <td>3</td>\n",
       "      <td>5</td>\n",
       "    </tr>\n",
       "    <tr>\n",
       "      <th>4</th>\n",
       "      <td>69</td>\n",
       "      <td>5311</td>\n",
       "      <td>48</td>\n",
       "      <td>-427.12363</td>\n",
       "      <td>2021-03-05 19:14:23</td>\n",
       "      <td>19</td>\n",
       "      <td>4</td>\n",
       "      <td>3</td>\n",
       "      <td>5</td>\n",
       "    </tr>\n",
       "    <tr>\n",
       "      <th>...</th>\n",
       "      <td>...</td>\n",
       "      <td>...</td>\n",
       "      <td>...</td>\n",
       "      <td>...</td>\n",
       "      <td>...</td>\n",
       "      <td>...</td>\n",
       "      <td>...</td>\n",
       "      <td>...</td>\n",
       "      <td>...</td>\n",
       "    </tr>\n",
       "    <tr>\n",
       "      <th>2123995</th>\n",
       "      <td>868949</td>\n",
       "      <td>5411</td>\n",
       "      <td>48</td>\n",
       "      <td>-203.11295</td>\n",
       "      <td>2021-05-11 17:05:09</td>\n",
       "      <td>17</td>\n",
       "      <td>1</td>\n",
       "      <td>5</td>\n",
       "      <td>11</td>\n",
       "    </tr>\n",
       "    <tr>\n",
       "      <th>2123996</th>\n",
       "      <td>868949</td>\n",
       "      <td>4131</td>\n",
       "      <td>48</td>\n",
       "      <td>-63.25255</td>\n",
       "      <td>2021-05-13 11:28:52</td>\n",
       "      <td>11</td>\n",
       "      <td>3</td>\n",
       "      <td>5</td>\n",
       "      <td>13</td>\n",
       "    </tr>\n",
       "    <tr>\n",
       "      <th>2123997</th>\n",
       "      <td>868949</td>\n",
       "      <td>4131</td>\n",
       "      <td>48</td>\n",
       "      <td>-40.04709</td>\n",
       "      <td>2021-05-13 11:38:42</td>\n",
       "      <td>11</td>\n",
       "      <td>3</td>\n",
       "      <td>5</td>\n",
       "      <td>13</td>\n",
       "    </tr>\n",
       "    <tr>\n",
       "      <th>2123998</th>\n",
       "      <td>868949</td>\n",
       "      <td>4131</td>\n",
       "      <td>48</td>\n",
       "      <td>-594.77850</td>\n",
       "      <td>2021-05-13 14:00:44</td>\n",
       "      <td>14</td>\n",
       "      <td>3</td>\n",
       "      <td>5</td>\n",
       "      <td>13</td>\n",
       "    </tr>\n",
       "    <tr>\n",
       "      <th>2123999</th>\n",
       "      <td>868949</td>\n",
       "      <td>5814</td>\n",
       "      <td>48</td>\n",
       "      <td>-127.33617</td>\n",
       "      <td>2021-05-13 14:17:28</td>\n",
       "      <td>14</td>\n",
       "      <td>3</td>\n",
       "      <td>5</td>\n",
       "      <td>13</td>\n",
       "    </tr>\n",
       "  </tbody>\n",
       "</table>\n",
       "<p>2124000 rows × 9 columns</p>\n",
       "</div>"
      ],
      "text/plain": [
       "         user_id  mcc_code  currency_rk  transaction_amt    transaction_dttm  \\\n",
       "0             69      5541           48       -342.89792 2021-03-05 02:52:36   \n",
       "1             69      5533           48      -1251.88120 2021-03-05 09:43:28   \n",
       "2             69      5331           48        -87.30924 2021-03-05 11:17:23   \n",
       "3             69      5921           48      -1822.17700 2021-03-05 13:41:03   \n",
       "4             69      5311           48       -427.12363 2021-03-05 19:14:23   \n",
       "...          ...       ...          ...              ...                 ...   \n",
       "2123995   868949      5411           48       -203.11295 2021-05-11 17:05:09   \n",
       "2123996   868949      4131           48        -63.25255 2021-05-13 11:28:52   \n",
       "2123997   868949      4131           48        -40.04709 2021-05-13 11:38:42   \n",
       "2123998   868949      4131           48       -594.77850 2021-05-13 14:00:44   \n",
       "2123999   868949      5814           48       -127.33617 2021-05-13 14:17:28   \n",
       "\n",
       "         hour  day  month  number_day  \n",
       "0           2    4      3           5  \n",
       "1           9    4      3           5  \n",
       "2          11    4      3           5  \n",
       "3          13    4      3           5  \n",
       "4          19    4      3           5  \n",
       "...       ...  ...    ...         ...  \n",
       "2123995    17    1      5          11  \n",
       "2123996    11    3      5          13  \n",
       "2123997    11    3      5          13  \n",
       "2123998    14    3      5          13  \n",
       "2123999    14    3      5          13  \n",
       "\n",
       "[2124000 rows x 9 columns]"
      ]
     },
     "execution_count": 9,
     "metadata": {},
     "output_type": "execute_result"
    }
   ],
   "source": [
    "df"
   ]
  },
  {
   "cell_type": "code",
   "execution_count": 10,
   "id": "eff5f998-98c9-47f0-8265-28732503165a",
   "metadata": {},
   "outputs": [
    {
     "name": "stderr",
     "output_type": "stream",
     "text": [
      "C:\\Users\\zekat\\AppData\\Local\\Temp\\ipykernel_14520\\2653872874.py:2: FutureWarning: The default dtype for empty Series will be 'object' instead of 'float64' in a future version. Specify a dtype explicitly to silence this warning.\n",
      "  cumsum = pd.Series()\n"
     ]
    }
   ],
   "source": [
    "# накапливаемая сумма для транзакций каждого клиента\n",
    "cumsum = pd.Series()\n",
    "for i in id_list:\n",
    "    cumsum = pd.concat([cumsum, df_transactions.loc[df_transactions.user_id == i]['transaction_amt'].cumsum()])\n",
    "    cumsum.name = 'cumsum'\n",
    "df = df.join(cumsum)"
   ]
  },
  {
   "cell_type": "code",
   "execution_count": 11,
   "id": "4aede1e1-d8db-46b4-9768-53386c76f95f",
   "metadata": {},
   "outputs": [
    {
     "data": {
      "text/html": [
       "<div>\n",
       "<style scoped>\n",
       "    .dataframe tbody tr th:only-of-type {\n",
       "        vertical-align: middle;\n",
       "    }\n",
       "\n",
       "    .dataframe tbody tr th {\n",
       "        vertical-align: top;\n",
       "    }\n",
       "\n",
       "    .dataframe thead th {\n",
       "        text-align: right;\n",
       "    }\n",
       "</style>\n",
       "<table border=\"1\" class=\"dataframe\">\n",
       "  <thead>\n",
       "    <tr style=\"text-align: right;\">\n",
       "      <th></th>\n",
       "      <th>user_id</th>\n",
       "      <th>mcc_code</th>\n",
       "      <th>currency_rk</th>\n",
       "      <th>transaction_amt</th>\n",
       "      <th>transaction_dttm</th>\n",
       "      <th>hour</th>\n",
       "      <th>day</th>\n",
       "      <th>month</th>\n",
       "      <th>number_day</th>\n",
       "      <th>cumsum</th>\n",
       "    </tr>\n",
       "  </thead>\n",
       "  <tbody>\n",
       "    <tr>\n",
       "      <th>0</th>\n",
       "      <td>69</td>\n",
       "      <td>5541</td>\n",
       "      <td>48</td>\n",
       "      <td>-342.89792</td>\n",
       "      <td>2021-03-05 02:52:36</td>\n",
       "      <td>2</td>\n",
       "      <td>4</td>\n",
       "      <td>3</td>\n",
       "      <td>5</td>\n",
       "      <td>-342.897920</td>\n",
       "    </tr>\n",
       "    <tr>\n",
       "      <th>1</th>\n",
       "      <td>69</td>\n",
       "      <td>5533</td>\n",
       "      <td>48</td>\n",
       "      <td>-1251.88120</td>\n",
       "      <td>2021-03-05 09:43:28</td>\n",
       "      <td>9</td>\n",
       "      <td>4</td>\n",
       "      <td>3</td>\n",
       "      <td>5</td>\n",
       "      <td>-1594.779120</td>\n",
       "    </tr>\n",
       "    <tr>\n",
       "      <th>2</th>\n",
       "      <td>69</td>\n",
       "      <td>5331</td>\n",
       "      <td>48</td>\n",
       "      <td>-87.30924</td>\n",
       "      <td>2021-03-05 11:17:23</td>\n",
       "      <td>11</td>\n",
       "      <td>4</td>\n",
       "      <td>3</td>\n",
       "      <td>5</td>\n",
       "      <td>-1682.088360</td>\n",
       "    </tr>\n",
       "    <tr>\n",
       "      <th>3</th>\n",
       "      <td>69</td>\n",
       "      <td>5921</td>\n",
       "      <td>48</td>\n",
       "      <td>-1822.17700</td>\n",
       "      <td>2021-03-05 13:41:03</td>\n",
       "      <td>13</td>\n",
       "      <td>4</td>\n",
       "      <td>3</td>\n",
       "      <td>5</td>\n",
       "      <td>-3504.265360</td>\n",
       "    </tr>\n",
       "    <tr>\n",
       "      <th>4</th>\n",
       "      <td>69</td>\n",
       "      <td>5311</td>\n",
       "      <td>48</td>\n",
       "      <td>-427.12363</td>\n",
       "      <td>2021-03-05 19:14:23</td>\n",
       "      <td>19</td>\n",
       "      <td>4</td>\n",
       "      <td>3</td>\n",
       "      <td>5</td>\n",
       "      <td>-3931.388990</td>\n",
       "    </tr>\n",
       "    <tr>\n",
       "      <th>...</th>\n",
       "      <td>...</td>\n",
       "      <td>...</td>\n",
       "      <td>...</td>\n",
       "      <td>...</td>\n",
       "      <td>...</td>\n",
       "      <td>...</td>\n",
       "      <td>...</td>\n",
       "      <td>...</td>\n",
       "      <td>...</td>\n",
       "      <td>...</td>\n",
       "    </tr>\n",
       "    <tr>\n",
       "      <th>2123995</th>\n",
       "      <td>868949</td>\n",
       "      <td>5411</td>\n",
       "      <td>48</td>\n",
       "      <td>-203.11295</td>\n",
       "      <td>2021-05-11 17:05:09</td>\n",
       "      <td>17</td>\n",
       "      <td>1</td>\n",
       "      <td>5</td>\n",
       "      <td>11</td>\n",
       "      <td>-361135.468071</td>\n",
       "    </tr>\n",
       "    <tr>\n",
       "      <th>2123996</th>\n",
       "      <td>868949</td>\n",
       "      <td>4131</td>\n",
       "      <td>48</td>\n",
       "      <td>-63.25255</td>\n",
       "      <td>2021-05-13 11:28:52</td>\n",
       "      <td>11</td>\n",
       "      <td>3</td>\n",
       "      <td>5</td>\n",
       "      <td>13</td>\n",
       "      <td>-361198.720621</td>\n",
       "    </tr>\n",
       "    <tr>\n",
       "      <th>2123997</th>\n",
       "      <td>868949</td>\n",
       "      <td>4131</td>\n",
       "      <td>48</td>\n",
       "      <td>-40.04709</td>\n",
       "      <td>2021-05-13 11:38:42</td>\n",
       "      <td>11</td>\n",
       "      <td>3</td>\n",
       "      <td>5</td>\n",
       "      <td>13</td>\n",
       "      <td>-361238.767711</td>\n",
       "    </tr>\n",
       "    <tr>\n",
       "      <th>2123998</th>\n",
       "      <td>868949</td>\n",
       "      <td>4131</td>\n",
       "      <td>48</td>\n",
       "      <td>-594.77850</td>\n",
       "      <td>2021-05-13 14:00:44</td>\n",
       "      <td>14</td>\n",
       "      <td>3</td>\n",
       "      <td>5</td>\n",
       "      <td>13</td>\n",
       "      <td>-361833.546211</td>\n",
       "    </tr>\n",
       "    <tr>\n",
       "      <th>2123999</th>\n",
       "      <td>868949</td>\n",
       "      <td>5814</td>\n",
       "      <td>48</td>\n",
       "      <td>-127.33617</td>\n",
       "      <td>2021-05-13 14:17:28</td>\n",
       "      <td>14</td>\n",
       "      <td>3</td>\n",
       "      <td>5</td>\n",
       "      <td>13</td>\n",
       "      <td>-361960.882381</td>\n",
       "    </tr>\n",
       "  </tbody>\n",
       "</table>\n",
       "<p>2124000 rows × 10 columns</p>\n",
       "</div>"
      ],
      "text/plain": [
       "         user_id  mcc_code  currency_rk  transaction_amt    transaction_dttm  \\\n",
       "0             69      5541           48       -342.89792 2021-03-05 02:52:36   \n",
       "1             69      5533           48      -1251.88120 2021-03-05 09:43:28   \n",
       "2             69      5331           48        -87.30924 2021-03-05 11:17:23   \n",
       "3             69      5921           48      -1822.17700 2021-03-05 13:41:03   \n",
       "4             69      5311           48       -427.12363 2021-03-05 19:14:23   \n",
       "...          ...       ...          ...              ...                 ...   \n",
       "2123995   868949      5411           48       -203.11295 2021-05-11 17:05:09   \n",
       "2123996   868949      4131           48        -63.25255 2021-05-13 11:28:52   \n",
       "2123997   868949      4131           48        -40.04709 2021-05-13 11:38:42   \n",
       "2123998   868949      4131           48       -594.77850 2021-05-13 14:00:44   \n",
       "2123999   868949      5814           48       -127.33617 2021-05-13 14:17:28   \n",
       "\n",
       "         hour  day  month  number_day         cumsum  \n",
       "0           2    4      3           5    -342.897920  \n",
       "1           9    4      3           5   -1594.779120  \n",
       "2          11    4      3           5   -1682.088360  \n",
       "3          13    4      3           5   -3504.265360  \n",
       "4          19    4      3           5   -3931.388990  \n",
       "...       ...  ...    ...         ...            ...  \n",
       "2123995    17    1      5          11 -361135.468071  \n",
       "2123996    11    3      5          13 -361198.720621  \n",
       "2123997    11    3      5          13 -361238.767711  \n",
       "2123998    14    3      5          13 -361833.546211  \n",
       "2123999    14    3      5          13 -361960.882381  \n",
       "\n",
       "[2124000 rows x 10 columns]"
      ]
     },
     "execution_count": 11,
     "metadata": {},
     "output_type": "execute_result"
    }
   ],
   "source": [
    "df"
   ]
  },
  {
   "cell_type": "code",
   "execution_count": 12,
   "id": "c48f71e3-6578-4b52-bbb9-037010865809",
   "metadata": {},
   "outputs": [],
   "source": [
    "target = pd.read_csv(train_target_path)"
   ]
  },
  {
   "cell_type": "code",
   "execution_count": 13,
   "id": "2f4fdf36-74df-477e-bebe-ece5ae69a320",
   "metadata": {},
   "outputs": [],
   "source": [
    "data = df.merge(target, how='left', on='user_id')"
   ]
  },
  {
   "cell_type": "code",
   "execution_count": 14,
   "id": "655db2af-af14-4587-b969-1bee70b0ff1c",
   "metadata": {},
   "outputs": [
    {
     "data": {
      "text/html": [
       "<div>\n",
       "<style scoped>\n",
       "    .dataframe tbody tr th:only-of-type {\n",
       "        vertical-align: middle;\n",
       "    }\n",
       "\n",
       "    .dataframe tbody tr th {\n",
       "        vertical-align: top;\n",
       "    }\n",
       "\n",
       "    .dataframe thead th {\n",
       "        text-align: right;\n",
       "    }\n",
       "</style>\n",
       "<table border=\"1\" class=\"dataframe\">\n",
       "  <thead>\n",
       "    <tr style=\"text-align: right;\">\n",
       "      <th></th>\n",
       "      <th>user_id</th>\n",
       "      <th>mcc_code</th>\n",
       "      <th>currency_rk</th>\n",
       "      <th>transaction_amt</th>\n",
       "      <th>transaction_dttm</th>\n",
       "      <th>hour</th>\n",
       "      <th>day</th>\n",
       "      <th>month</th>\n",
       "      <th>number_day</th>\n",
       "      <th>cumsum</th>\n",
       "      <th>target</th>\n",
       "    </tr>\n",
       "  </thead>\n",
       "  <tbody>\n",
       "    <tr>\n",
       "      <th>0</th>\n",
       "      <td>69</td>\n",
       "      <td>5541</td>\n",
       "      <td>48</td>\n",
       "      <td>-342.89792</td>\n",
       "      <td>2021-03-05 02:52:36</td>\n",
       "      <td>2</td>\n",
       "      <td>4</td>\n",
       "      <td>3</td>\n",
       "      <td>5</td>\n",
       "      <td>-342.897920</td>\n",
       "      <td>0</td>\n",
       "    </tr>\n",
       "    <tr>\n",
       "      <th>1</th>\n",
       "      <td>69</td>\n",
       "      <td>5533</td>\n",
       "      <td>48</td>\n",
       "      <td>-1251.88120</td>\n",
       "      <td>2021-03-05 09:43:28</td>\n",
       "      <td>9</td>\n",
       "      <td>4</td>\n",
       "      <td>3</td>\n",
       "      <td>5</td>\n",
       "      <td>-1594.779120</td>\n",
       "      <td>0</td>\n",
       "    </tr>\n",
       "    <tr>\n",
       "      <th>2</th>\n",
       "      <td>69</td>\n",
       "      <td>5331</td>\n",
       "      <td>48</td>\n",
       "      <td>-87.30924</td>\n",
       "      <td>2021-03-05 11:17:23</td>\n",
       "      <td>11</td>\n",
       "      <td>4</td>\n",
       "      <td>3</td>\n",
       "      <td>5</td>\n",
       "      <td>-1682.088360</td>\n",
       "      <td>0</td>\n",
       "    </tr>\n",
       "    <tr>\n",
       "      <th>3</th>\n",
       "      <td>69</td>\n",
       "      <td>5921</td>\n",
       "      <td>48</td>\n",
       "      <td>-1822.17700</td>\n",
       "      <td>2021-03-05 13:41:03</td>\n",
       "      <td>13</td>\n",
       "      <td>4</td>\n",
       "      <td>3</td>\n",
       "      <td>5</td>\n",
       "      <td>-3504.265360</td>\n",
       "      <td>0</td>\n",
       "    </tr>\n",
       "    <tr>\n",
       "      <th>4</th>\n",
       "      <td>69</td>\n",
       "      <td>5311</td>\n",
       "      <td>48</td>\n",
       "      <td>-427.12363</td>\n",
       "      <td>2021-03-05 19:14:23</td>\n",
       "      <td>19</td>\n",
       "      <td>4</td>\n",
       "      <td>3</td>\n",
       "      <td>5</td>\n",
       "      <td>-3931.388990</td>\n",
       "      <td>0</td>\n",
       "    </tr>\n",
       "    <tr>\n",
       "      <th>...</th>\n",
       "      <td>...</td>\n",
       "      <td>...</td>\n",
       "      <td>...</td>\n",
       "      <td>...</td>\n",
       "      <td>...</td>\n",
       "      <td>...</td>\n",
       "      <td>...</td>\n",
       "      <td>...</td>\n",
       "      <td>...</td>\n",
       "      <td>...</td>\n",
       "      <td>...</td>\n",
       "    </tr>\n",
       "    <tr>\n",
       "      <th>2123995</th>\n",
       "      <td>868949</td>\n",
       "      <td>5411</td>\n",
       "      <td>48</td>\n",
       "      <td>-203.11295</td>\n",
       "      <td>2021-05-11 17:05:09</td>\n",
       "      <td>17</td>\n",
       "      <td>1</td>\n",
       "      <td>5</td>\n",
       "      <td>11</td>\n",
       "      <td>-361135.468071</td>\n",
       "      <td>0</td>\n",
       "    </tr>\n",
       "    <tr>\n",
       "      <th>2123996</th>\n",
       "      <td>868949</td>\n",
       "      <td>4131</td>\n",
       "      <td>48</td>\n",
       "      <td>-63.25255</td>\n",
       "      <td>2021-05-13 11:28:52</td>\n",
       "      <td>11</td>\n",
       "      <td>3</td>\n",
       "      <td>5</td>\n",
       "      <td>13</td>\n",
       "      <td>-361198.720621</td>\n",
       "      <td>0</td>\n",
       "    </tr>\n",
       "    <tr>\n",
       "      <th>2123997</th>\n",
       "      <td>868949</td>\n",
       "      <td>4131</td>\n",
       "      <td>48</td>\n",
       "      <td>-40.04709</td>\n",
       "      <td>2021-05-13 11:38:42</td>\n",
       "      <td>11</td>\n",
       "      <td>3</td>\n",
       "      <td>5</td>\n",
       "      <td>13</td>\n",
       "      <td>-361238.767711</td>\n",
       "      <td>0</td>\n",
       "    </tr>\n",
       "    <tr>\n",
       "      <th>2123998</th>\n",
       "      <td>868949</td>\n",
       "      <td>4131</td>\n",
       "      <td>48</td>\n",
       "      <td>-594.77850</td>\n",
       "      <td>2021-05-13 14:00:44</td>\n",
       "      <td>14</td>\n",
       "      <td>3</td>\n",
       "      <td>5</td>\n",
       "      <td>13</td>\n",
       "      <td>-361833.546211</td>\n",
       "      <td>0</td>\n",
       "    </tr>\n",
       "    <tr>\n",
       "      <th>2123999</th>\n",
       "      <td>868949</td>\n",
       "      <td>5814</td>\n",
       "      <td>48</td>\n",
       "      <td>-127.33617</td>\n",
       "      <td>2021-05-13 14:17:28</td>\n",
       "      <td>14</td>\n",
       "      <td>3</td>\n",
       "      <td>5</td>\n",
       "      <td>13</td>\n",
       "      <td>-361960.882381</td>\n",
       "      <td>0</td>\n",
       "    </tr>\n",
       "  </tbody>\n",
       "</table>\n",
       "<p>2124000 rows × 11 columns</p>\n",
       "</div>"
      ],
      "text/plain": [
       "         user_id  mcc_code  currency_rk  transaction_amt    transaction_dttm  \\\n",
       "0             69      5541           48       -342.89792 2021-03-05 02:52:36   \n",
       "1             69      5533           48      -1251.88120 2021-03-05 09:43:28   \n",
       "2             69      5331           48        -87.30924 2021-03-05 11:17:23   \n",
       "3             69      5921           48      -1822.17700 2021-03-05 13:41:03   \n",
       "4             69      5311           48       -427.12363 2021-03-05 19:14:23   \n",
       "...          ...       ...          ...              ...                 ...   \n",
       "2123995   868949      5411           48       -203.11295 2021-05-11 17:05:09   \n",
       "2123996   868949      4131           48        -63.25255 2021-05-13 11:28:52   \n",
       "2123997   868949      4131           48        -40.04709 2021-05-13 11:38:42   \n",
       "2123998   868949      4131           48       -594.77850 2021-05-13 14:00:44   \n",
       "2123999   868949      5814           48       -127.33617 2021-05-13 14:17:28   \n",
       "\n",
       "         hour  day  month  number_day         cumsum  target  \n",
       "0           2    4      3           5    -342.897920       0  \n",
       "1           9    4      3           5   -1594.779120       0  \n",
       "2          11    4      3           5   -1682.088360       0  \n",
       "3          13    4      3           5   -3504.265360       0  \n",
       "4          19    4      3           5   -3931.388990       0  \n",
       "...       ...  ...    ...         ...            ...     ...  \n",
       "2123995    17    1      5          11 -361135.468071       0  \n",
       "2123996    11    3      5          13 -361198.720621       0  \n",
       "2123997    11    3      5          13 -361238.767711       0  \n",
       "2123998    14    3      5          13 -361833.546211       0  \n",
       "2123999    14    3      5          13 -361960.882381       0  \n",
       "\n",
       "[2124000 rows x 11 columns]"
      ]
     },
     "execution_count": 14,
     "metadata": {},
     "output_type": "execute_result"
    }
   ],
   "source": [
    "data"
   ]
  },
  {
   "cell_type": "code",
   "execution_count": 15,
   "id": "bfb05cb4-d02b-43a2-8d93-f93d51aa2e1d",
   "metadata": {},
   "outputs": [],
   "source": [
    "X = data[['user_id', 'mcc_code', 'currency_rk', 'transaction_amt',\n",
    "          'hour', 'day', 'month', 'number_day', 'cumsum']]\n",
    "y = data[['target']]"
   ]
  },
  {
   "cell_type": "code",
   "execution_count": 16,
   "id": "4a526afe-9185-42da-ac99-ac0022633d18",
   "metadata": {},
   "outputs": [],
   "source": [
    "from sklearn.model_selection import train_test_split\n",
    "\n",
    "X_train, X_test, y_train, y_test =\\\n",
    "    train_test_split(X, y, test_size=0.2, stratify=y, random_state=1) # shuffle=True"
   ]
  },
  {
   "cell_type": "code",
   "execution_count": 17,
   "id": "3f16ae69-5187-426e-a1f2-9250e5620063",
   "metadata": {},
   "outputs": [
    {
     "data": {
      "text/plain": [
       "array([0, 0, 0, ..., 0, 0, 0], dtype=int64)"
      ]
     },
     "execution_count": 17,
     "metadata": {},
     "output_type": "execute_result"
    }
   ],
   "source": [
    "y_train.values.ravel()"
   ]
  },
  {
   "cell_type": "code",
   "execution_count": 18,
   "id": "3cde7c33-ba69-4f93-a6ed-4c462d6f4fcb",
   "metadata": {},
   "outputs": [
    {
     "name": "stdout",
     "output_type": "stream",
     "text": [
      "      Iter       Train Loss   Remaining Time \n",
      "         1           0.2819            3.15m\n",
      "         2           0.2580            2.83m\n",
      "         3           0.2207            2.54m\n",
      "         4           0.1963            2.22m\n",
      "         5           0.1692            1.90m\n",
      "         6           0.1659            1.52m\n",
      "         7           0.1589            1.15m\n",
      "         8           0.1480           47.03s\n",
      "         9           0.1458           23.58s\n",
      "        10           0.1360            0.00s\n",
      "acc:  0.9725\n"
     ]
    }
   ],
   "source": [
    "# градиентный бустинг\n",
    "from sklearn.preprocessing import StandardScaler\n",
    "from sklearn.ensemble import GradientBoostingClassifier\n",
    "from sklearn.linear_model import LogisticRegression\n",
    "from sklearn.pipeline import make_pipeline\n",
    "\n",
    "pipe_gbclf = make_pipeline(StandardScaler(),\n",
    "                           GradientBoostingClassifier(loss='log_loss', n_estimators=10, learning_rate=0.1,\n",
    "                                                      max_depth=15, random_state=0, verbose=1)\n",
    "                          )\n",
    "pipe_gbclf.fit(X_train, y_train.values.ravel())\n",
    "print('acc: ', pipe_gbclf.score(X_test, y_test))"
   ]
  },
  {
   "cell_type": "code",
   "execution_count": 19,
   "id": "6d571726-2011-4d8e-bb05-26a2c82c5f6a",
   "metadata": {},
   "outputs": [
    {
     "data": {
      "text/plain": [
       "0.9849991940271361"
      ]
     },
     "execution_count": 19,
     "metadata": {},
     "output_type": "execute_result"
    }
   ],
   "source": [
    "# roc auc score для теста (валидации)\n",
    "roc_auc_score(y_test, pipe_gbclf.predict_proba(X_test)[:, 1])"
   ]
  },
  {
   "cell_type": "code",
   "execution_count": 20,
   "id": "01354c2f-cd4c-4cbf-b6c3-23087276a965",
   "metadata": {},
   "outputs": [],
   "source": [
    "# обработка данных для сабмита\n",
    "def feature_add_handler(data_path):\n",
    "    X_df = pd.read_csv(data_path,\n",
    "                       parse_dates=[\"transaction_dttm\"],\n",
    "                       dtype={\"user_id\": int, \"mcc_code\": int, \"currency_rk\": int, \"transaction_amt\": float}).assign(\n",
    "        hour=lambda x: x.transaction_dttm.dt.hour,\n",
    "        day=lambda x: x.transaction_dttm.dt.dayofweek,\n",
    "        month=lambda x: x.transaction_dttm.dt.month,\n",
    "        number_day=lambda x: x.transaction_dttm.dt.day)\n",
    "\n",
    "    # накапливаемая сумма для транзакций каждого клиента\n",
    "    cumsum = pd.Series()\n",
    "    id_list = X_df.user_id.unique()\n",
    "    for i in id_list:\n",
    "        cumsum = pd.concat([cumsum, X_df.loc[X_df.user_id == i]['transaction_amt'].cumsum()])\n",
    "        cumsum.name = 'cumsum'\n",
    "    X_df = X_df.join(cumsum)\n",
    "    X_df = X_df[['user_id', 'mcc_code', 'currency_rk', 'transaction_amt',\n",
    "                 'hour', 'day', 'month', 'number_day', 'cumsum']]\n",
    "    return X_df"
   ]
  },
  {
   "cell_type": "code",
   "execution_count": 21,
   "id": "55481cd9-7aff-470b-ba92-8ef6ec7907dc",
   "metadata": {},
   "outputs": [
    {
     "name": "stderr",
     "output_type": "stream",
     "text": [
      "C:\\Users\\zekat\\AppData\\Local\\Temp\\ipykernel_14520\\1202302041.py:12: FutureWarning: The default dtype for empty Series will be 'object' instead of 'float64' in a future version. Specify a dtype explicitly to silence this warning.\n",
      "  cumsum = pd.Series()\n"
     ]
    }
   ],
   "source": [
    "X_df = feature_add_handler(transactions_path)"
   ]
  },
  {
   "cell_type": "code",
   "execution_count": 22,
   "id": "a375a6a5-e27d-4d6e-9bc9-b2ed5d8d9c43",
   "metadata": {},
   "outputs": [
    {
     "data": {
      "text/plain": [
       "0.037005649717514126"
      ]
     },
     "execution_count": 22,
     "metadata": {},
     "output_type": "execute_result"
    }
   ],
   "source": [
    "threshold = pd.read_csv(train_target_path).target.mean()\n",
    "threshold"
   ]
  },
  {
   "cell_type": "code",
   "execution_count": 23,
   "id": "3cf2c935-5844-4bb6-bad0-0561d139263e",
   "metadata": {},
   "outputs": [],
   "source": [
    "y_df = [0 if x <= threshold else 1 for x in pipe_gbclf.predict_proba(X_df)[:, 1]]"
   ]
  },
  {
   "cell_type": "code",
   "execution_count": 24,
   "id": "abe2a88b-2650-478c-aa1b-613751701afc",
   "metadata": {},
   "outputs": [
    {
     "data": {
      "text/plain": [
       "1.0"
      ]
     },
     "execution_count": 24,
     "metadata": {},
     "output_type": "execute_result"
    }
   ],
   "source": [
    "# roc auc score для сабмита\n",
    "roc_auc_score(y_df, pipe_gbclf.predict_proba(X_df)[:, 1])"
   ]
  },
  {
   "cell_type": "markdown",
   "id": "549a109a-c268-4501-897f-a8c8aafda49d",
   "metadata": {},
   "source": [
    "///////////////////////"
   ]
  },
  {
   "cell_type": "code",
   "execution_count": 25,
   "id": "8fc5d9ce-eda4-478b-b173-0710f4cacbcb",
   "metadata": {},
   "outputs": [
    {
     "name": "stderr",
     "output_type": "stream",
     "text": [
      "C:\\Users\\zekat\\AppData\\Local\\Temp\\ipykernel_14520\\1202302041.py:12: FutureWarning: The default dtype for empty Series will be 'object' instead of 'float64' in a future version. Specify a dtype explicitly to silence this warning.\n",
      "  cumsum = pd.Series()\n"
     ]
    }
   ],
   "source": [
    "X_attac = feature_add_handler('first_attack.csv')"
   ]
  },
  {
   "cell_type": "code",
   "execution_count": 26,
   "id": "a3815df3-43bc-4871-a07d-1e003ff5e50b",
   "metadata": {},
   "outputs": [
    {
     "data": {
      "text/plain": [
       "0.9667929274424091"
      ]
     },
     "execution_count": 26,
     "metadata": {},
     "output_type": "execute_result"
    }
   ],
   "source": [
    "# roc auc score для наивной атаки\n",
    "roc_auc_score(y_df, pipe_gbclf.predict_proba(X_attac)[:, 1])"
   ]
  },
  {
   "cell_type": "markdown",
   "id": "c5bda63d-db42-4830-8a91-740f4eaca1cc",
   "metadata": {},
   "source": [
    "//////////////////////"
   ]
  },
  {
   "cell_type": "code",
   "execution_count": 27,
   "id": "afa90905-eb61-4139-bf2c-e94fc360d793",
   "metadata": {},
   "outputs": [
    {
     "data": {
      "text/plain": [
       "target\n",
       "0         0.962994\n",
       "1         0.037006\n",
       "dtype: float64"
      ]
     },
     "execution_count": 27,
     "metadata": {},
     "output_type": "execute_result"
    }
   ],
   "source": [
    "# соотношение классов\n",
    "(y_train.value_counts()/y_train.shape[0])"
   ]
  },
  {
   "cell_type": "code",
   "execution_count": 30,
   "id": "641a5057-366e-4482-9b7f-84be759cda8b",
   "metadata": {},
   "outputs": [
    {
     "data": {
      "image/png": "[encoded data removed]",
      "text/plain": [
       "<Figure size 640x480 with 1 Axes>"
      ]
     },
     "metadata": {},
     "output_type": "display_data"
    }
   ],
   "source": [
    "# PCA визуализация для данных\n",
    "from sklearn.decomposition import PCA\n",
    "\n",
    "pca = PCA(n_components=2)\n",
    "X_train_pca = pca.fit_transform(X_train)\n",
    "y_train_pca = y_train.values.ravel()\n",
    "\n",
    "colors = ['r', 'b']\n",
    "# markers = ['s', 'x']\n",
    "\n",
    "for l, c in zip(np.unique(y_train_pca), colors):\n",
    "    plt.scatter(X_train_pca[y_train_pca == l, 0],\n",
    "                X_train_pca[y_train_pca == l, 1],\n",
    "                c=c, label=l, alpha=0.2)\n",
    "plt.xlabel('PC 1')\n",
    "plt.ylabel('PC 2')\n",
    "plt.legend()\n",
    "plt.tight_layout()\n",
    "plt.show()"
   ]
  },
  {
   "cell_type": "code",
   "execution_count": 31,
   "id": "44244937-7f12-4ab4-addb-ac3711f3a989",
   "metadata": {},
   "outputs": [],
   "source": [
    "X_train, X_valid, y_train, y_valid =\\\n",
    "    train_test_split(X_train, y_train, test_size=0.2, stratify=y_train, random_state=1) # shuffle=True"
   ]
  },
  {
   "cell_type": "code",
   "execution_count": 32,
   "id": "c187287b-634c-41bd-8c10-95033a81590f",
   "metadata": {},
   "outputs": [
    {
     "name": "stderr",
     "output_type": "stream",
     "text": [
      "Default metric period is 5 because AUC is/are not implemented for GPU\n"
     ]
    },
    {
     "name": "stdout",
     "output_type": "stream",
     "text": [
      "0:\ttest: 0.5506444\tbest: 0.5506444 (0)\ttotal: 16.8ms\tremaining: 16.8s\n",
      "200:\ttest: 0.7666395\tbest: 0.7666395 (200)\ttotal: 3.06s\tremaining: 12.2s\n",
      "400:\ttest: 0.7944735\tbest: 0.7944755 (399)\ttotal: 6.21s\tremaining: 9.27s\n",
      "600:\ttest: 0.8098115\tbest: 0.8098115 (600)\ttotal: 9.25s\tremaining: 6.14s\n",
      "800:\ttest: 0.8221509\tbest: 0.8221509 (800)\ttotal: 12.3s\tremaining: 3.05s\n",
      "999:\ttest: 0.8294068\tbest: 0.8294114 (998)\ttotal: 15.4s\tremaining: 0us\n",
      "bestTest = 0.829411447\n",
      "bestIteration = 998\n",
      "Shrink model to first 999 iterations.\n"
     ]
    },
    {
     "data": {
      "text/plain": [
       "<catboost.core.CatBoostClassifier at 0x2d4b5059d90>"
      ]
     },
     "execution_count": 32,
     "metadata": {},
     "output_type": "execute_result"
    }
   ],
   "source": [
    "from catboost import CatBoostClassifier\n",
    "\n",
    "params = {'learning_rate': 0.4,\n",
    "          'eval_metric': 'AUC',\n",
    "          'loss_function': 'Logloss',\n",
    "          # 'n_estimators': 1700,\n",
    "          'l2_leaf_reg': 2.5,\n",
    "          'max_depth': 3,\n",
    "          # 'verbose': 100,\n",
    "          'early_stopping_rounds': 200,\n",
    "          'verbose': 200,\n",
    "          'task_type': 'GPU',\n",
    "          'random_seed': 123}\n",
    "\n",
    "cbc_2 = CatBoostClassifier(**params)\n",
    "cbc_2.fit(X_train, y_train.values.ravel(),\n",
    "          eval_set=(X_valid, y_valid.values.ravel()))\n",
    "\n",
    "# grid_search\n",
    "# model = CatBoostClassifier(verbose=False, task_type='GPU')\n",
    "\n",
    "# grid = {'learning_rate': [1, 0.6, 0.3, 0.1],\n",
    "#         'n_estimators': [100, 500, 1000],\n",
    "#         'depth': [4, 6, 10],\n",
    "#         'l2_leaf_reg': [1, 3, 5, 7, 9]}\n",
    "\n",
    "# grid_search_result = model.grid_search(grid,\n",
    "#                                        X=X_train,\n",
    "#                                        y=y_train.values.ravel(),\n",
    "#                                        shuffle=False,\n",
    "#                                        partition_random_seed=0)"
   ]
  },
  {
   "cell_type": "code",
   "execution_count": 33,
   "id": "cad66826-f73d-464c-9159-2fa33b4f4297",
   "metadata": {},
   "outputs": [
    {
     "data": {
      "text/plain": [
       "0.7132994038439315"
      ]
     },
     "execution_count": 33,
     "metadata": {},
     "output_type": "execute_result"
    }
   ],
   "source": [
    "# roc auc score для сабмита\n",
    "roc_auc_score(y_df, cbc_2.predict_proba(X_df)[:, 1])"
   ]
  },
  {
   "cell_type": "code",
   "execution_count": 34,
   "id": "f0628b69-9a30-40bb-b856-e53e844319bb",
   "metadata": {},
   "outputs": [
    {
     "data": {
      "text/plain": [
       "0.6770752130327106"
      ]
     },
     "execution_count": 34,
     "metadata": {},
     "output_type": "execute_result"
    }
   ],
   "source": [
    "# roc auc score для наивной атаки\n",
    "roc_auc_score(y_df, cbc_2.predict_proba(X_attac)[:, 1])"
   ]
  },
  {
   "cell_type": "code",
   "execution_count": 77,
   "id": "59156a95-f7a9-441b-a0d2-64ed2bc379c7",
   "metadata": {},
   "outputs": [],
   "source": [
    "# oversampling\n",
    "from collections import Counter\n",
    "from imblearn.over_sampling import RandomOverSampler, SMOTE, ADASYN\n",
    "\n",
    "ros = RandomOverSampler(random_state=0)\n",
    "smote = SMOTE(random_state=0)\n",
    "adasyn = ADASYN(random_state=0)\n",
    "X_resampled, y_resampled = ros.fit_resample(X, y)"
   ]
  },
  {
   "cell_type": "code",
   "execution_count": 78,
   "id": "af6e2571-0deb-40ae-a6a5-58c463ae51d0",
   "metadata": {},
   "outputs": [
    {
     "data": {
      "text/plain": [
       "target\n",
       "0         0.5\n",
       "1         0.5\n",
       "dtype: float64"
      ]
     },
     "execution_count": 78,
     "metadata": {},
     "output_type": "execute_result"
    }
   ],
   "source": [
    "# соотношение классов\n",
    "(y_resampled.value_counts()/y_resampled.shape[0])"
   ]
  },
  {
   "cell_type": "code",
   "execution_count": 79,
   "id": "725bd047-4ad7-4702-94f5-4d64f5acd9e1",
   "metadata": {},
   "outputs": [],
   "source": [
    "from sklearn.model_selection import train_test_split\n",
    "\n",
    "X_train, X_test, y_train, y_test =\\\n",
    "    train_test_split(X_resampled, y_resampled, test_size=0.2, stratify=y_resampled, random_state=1) # shuffle=True\n",
    "\n",
    "X_train, X_valid, y_train, y_valid =\\\n",
    "    train_test_split(X_train, y_train, test_size=0.2, stratify=y_train, random_state=1) # shuffle=True"
   ]
  },
  {
   "cell_type": "code",
   "execution_count": 112,
   "id": "72d00eb8-37a2-4a84-8ad5-bbbe0a3e01f1",
   "metadata": {},
   "outputs": [
    {
     "name": "stderr",
     "output_type": "stream",
     "text": [
      "Warning: less than 75% gpu memory available for training. Free: 3300 Total: 6143.6875\n",
      "Default metric period is 5 because AUC is/are not implemented for GPU\n"
     ]
    },
    {
     "name": "stdout",
     "output_type": "stream",
     "text": [
      "0:\ttest: 0.5571107\tbest: 0.5571107 (0)\ttotal: 39.4ms\tremaining: 39.4s\n",
      "200:\ttest: 0.8448652\tbest: 0.8448652 (200)\ttotal: 6.18s\tremaining: 24.6s\n",
      "400:\ttest: 0.8842274\tbest: 0.8842274 (400)\ttotal: 12.4s\tremaining: 18.6s\n",
      "600:\ttest: 0.9036157\tbest: 0.9036157 (600)\ttotal: 18.4s\tremaining: 12.2s\n",
      "800:\ttest: 0.9171753\tbest: 0.9171753 (800)\ttotal: 24.7s\tremaining: 6.14s\n",
      "999:\ttest: 0.9269794\tbest: 0.9269794 (999)\ttotal: 31s\tremaining: 0us\n",
      "bestTest = 0.9269794226\n",
      "bestIteration = 999\n"
     ]
    },
    {
     "data": {
      "text/plain": [
       "<catboost.core.CatBoostClassifier at 0x2d505d68e20>"
      ]
     },
     "execution_count": 112,
     "metadata": {},
     "output_type": "execute_result"
    }
   ],
   "source": [
    "params = {'learning_rate': 0.32,\n",
    "          'eval_metric': 'AUC',\n",
    "          'loss_function': 'Logloss',\n",
    "          # 'n_estimators': 1700,\n",
    "          'l2_leaf_reg': 7.5,\n",
    "          'max_depth': 5,\n",
    "          # 'verbose': 100,\n",
    "          'early_stopping_rounds': 200,\n",
    "          'verbose': 200,\n",
    "          'task_type': 'GPU',\n",
    "          'random_seed': 123}\n",
    "\n",
    "cbc_2 = CatBoostClassifier(**params)\n",
    "cbc_2.fit(X_train, y_train.values.ravel(),\n",
    "          eval_set=(X_valid, y_valid.values.ravel()))"
   ]
  },
  {
   "cell_type": "code",
   "execution_count": 113,
   "id": "95e9c35d-f606-44b5-ac9f-fe58579ade39",
   "metadata": {},
   "outputs": [
    {
     "data": {
      "text/plain": [
       "0.9275680561179815"
      ]
     },
     "execution_count": 113,
     "metadata": {},
     "output_type": "execute_result"
    }
   ],
   "source": [
    "roc_auc_score(y_test, cbc_2.predict_proba(X_test)[:, 1])"
   ]
  },
  {
   "cell_type": "code",
   "execution_count": 114,
   "id": "6f88dca6-7974-42d4-9641-ee8b93aa748d",
   "metadata": {},
   "outputs": [
    {
     "data": {
      "text/plain": [
       "0.6814568804643739"
      ]
     },
     "execution_count": 114,
     "metadata": {},
     "output_type": "execute_result"
    }
   ],
   "source": [
    "# roc auc score для сабмита\n",
    "roc_auc_score(y_df, cbc_2.predict_proba(X_df)[:, 1])"
   ]
  },
  {
   "cell_type": "code",
   "execution_count": 115,
   "id": "d49da8fa-5824-4da4-b5e2-2c1fb5228273",
   "metadata": {},
   "outputs": [
    {
     "data": {
      "text/plain": [
       "0.6395766379112693"
      ]
     },
     "execution_count": 115,
     "metadata": {},
     "output_type": "execute_result"
    }
   ],
   "source": [
    "# roc auc score для наивной атаки\n",
    "roc_auc_score(y_df, cbc_2.predict_proba(X_attac)[:, 1])"
   ]
  },
  {
   "cell_type": "code",
   "execution_count": 98,
   "id": "6bc498b5-d0cd-4d10-91cb-020ad7ff41eb",
   "metadata": {},
   "outputs": [
    {
     "name": "stderr",
     "output_type": "stream",
     "text": [
      "Global seed set to 1\n"
     ]
    },
    {
     "data": {
      "text/html": [
       "<div>\n",
       "<style scoped>\n",
       "    .dataframe tbody tr th:only-of-type {\n",
       "        vertical-align: middle;\n",
       "    }\n",
       "\n",
       "    .dataframe tbody tr th {\n",
       "        vertical-align: top;\n",
       "    }\n",
       "\n",
       "    .dataframe thead th {\n",
       "        text-align: right;\n",
       "    }\n",
       "</style>\n",
       "<table border=\"1\" class=\"dataframe\">\n",
       "  <thead>\n",
       "    <tr style=\"text-align: right;\">\n",
       "      <th></th>\n",
       "      <th>user_id</th>\n",
       "      <th>target</th>\n",
       "    </tr>\n",
       "  </thead>\n",
       "  <tbody>\n",
       "    <tr>\n",
       "      <th>0</th>\n",
       "      <td>66</td>\n",
       "      <td>0.020127</td>\n",
       "    </tr>\n",
       "    <tr>\n",
       "      <th>1</th>\n",
       "      <td>213</td>\n",
       "      <td>0.029878</td>\n",
       "    </tr>\n",
       "    <tr>\n",
       "      <th>2</th>\n",
       "      <td>345</td>\n",
       "      <td>0.160881</td>\n",
       "    </tr>\n",
       "    <tr>\n",
       "      <th>3</th>\n",
       "      <td>569</td>\n",
       "      <td>0.079511</td>\n",
       "    </tr>\n",
       "    <tr>\n",
       "      <th>4</th>\n",
       "      <td>573</td>\n",
       "      <td>0.017896</td>\n",
       "    </tr>\n",
       "  </tbody>\n",
       "</table>\n",
       "</div>"
      ],
      "text/plain": [
       "   user_id    target\n",
       "0       66  0.020127\n",
       "1      213  0.029878\n",
       "2      345  0.160881\n",
       "3      569  0.079511\n",
       "4      573  0.017896"
      ]
     },
     "execution_count": 98,
     "metadata": {},
     "output_type": "execute_result"
    }
   ],
   "source": [
    "result = predict(transactions_path, bins_path, model_path, random_seed=1)\n",
    "result.head()"
   ]
  },
  {
   "cell_type": "code",
   "execution_count": 99,
   "id": "2985f1ea-9896-4c41-9c8e-466f3c50cd02",
   "metadata": {},
   "outputs": [
    {
     "data": {
      "text/html": [
       "<div>\n",
       "<style scoped>\n",
       "    .dataframe tbody tr th:only-of-type {\n",
       "        vertical-align: middle;\n",
       "    }\n",
       "\n",
       "    .dataframe tbody tr th {\n",
       "        vertical-align: top;\n",
       "    }\n",
       "\n",
       "    .dataframe thead th {\n",
       "        text-align: right;\n",
       "    }\n",
       "</style>\n",
       "<table border=\"1\" class=\"dataframe\">\n",
       "  <thead>\n",
       "    <tr style=\"text-align: right;\">\n",
       "      <th></th>\n",
       "      <th>user_id</th>\n",
       "      <th>target</th>\n",
       "      <th>target_true</th>\n",
       "    </tr>\n",
       "  </thead>\n",
       "  <tbody>\n",
       "    <tr>\n",
       "      <th>0</th>\n",
       "      <td>66</td>\n",
       "      <td>0.020127</td>\n",
       "      <td>0</td>\n",
       "    </tr>\n",
       "    <tr>\n",
       "      <th>1</th>\n",
       "      <td>213</td>\n",
       "      <td>0.029878</td>\n",
       "      <td>0</td>\n",
       "    </tr>\n",
       "    <tr>\n",
       "      <th>2</th>\n",
       "      <td>345</td>\n",
       "      <td>0.160881</td>\n",
       "      <td>1</td>\n",
       "    </tr>\n",
       "    <tr>\n",
       "      <th>3</th>\n",
       "      <td>569</td>\n",
       "      <td>0.079511</td>\n",
       "      <td>1</td>\n",
       "    </tr>\n",
       "    <tr>\n",
       "      <th>4</th>\n",
       "      <td>573</td>\n",
       "      <td>0.017896</td>\n",
       "      <td>0</td>\n",
       "    </tr>\n",
       "    <tr>\n",
       "      <th>...</th>\n",
       "      <td>...</td>\n",
       "      <td>...</td>\n",
       "      <td>...</td>\n",
       "    </tr>\n",
       "    <tr>\n",
       "      <th>4195</th>\n",
       "      <td>868183</td>\n",
       "      <td>0.022651</td>\n",
       "      <td>0</td>\n",
       "    </tr>\n",
       "    <tr>\n",
       "      <th>4196</th>\n",
       "      <td>868407</td>\n",
       "      <td>0.036789</td>\n",
       "      <td>0</td>\n",
       "    </tr>\n",
       "    <tr>\n",
       "      <th>4197</th>\n",
       "      <td>868573</td>\n",
       "      <td>0.023594</td>\n",
       "      <td>0</td>\n",
       "    </tr>\n",
       "    <tr>\n",
       "      <th>4198</th>\n",
       "      <td>868694</td>\n",
       "      <td>0.050012</td>\n",
       "      <td>1</td>\n",
       "    </tr>\n",
       "    <tr>\n",
       "      <th>4199</th>\n",
       "      <td>868873</td>\n",
       "      <td>0.006262</td>\n",
       "      <td>0</td>\n",
       "    </tr>\n",
       "  </tbody>\n",
       "</table>\n",
       "<p>4200 rows × 3 columns</p>\n",
       "</div>"
      ],
      "text/plain": [
       "      user_id    target  target_true\n",
       "0          66  0.020127            0\n",
       "1         213  0.029878            0\n",
       "2         345  0.160881            1\n",
       "3         569  0.079511            1\n",
       "4         573  0.017896            0\n",
       "...       ...       ...          ...\n",
       "4195   868183  0.022651            0\n",
       "4196   868407  0.036789            0\n",
       "4197   868573  0.023594            0\n",
       "4198   868694  0.050012            1\n",
       "4199   868873  0.006262            0\n",
       "\n",
       "[4200 rows x 3 columns]"
      ]
     },
     "execution_count": 99,
     "metadata": {},
     "output_type": "execute_result"
    }
   ],
   "source": [
    "result['target_true'] = result.target.apply(lambda x: 0 if x <= threshold else 1)\n",
    "result"
   ]
  },
  {
   "cell_type": "code",
   "execution_count": 102,
   "id": "45bb2e5f-09db-4f01-9297-17501286597d",
   "metadata": {},
   "outputs": [
    {
     "name": "stderr",
     "output_type": "stream",
     "text": [
      "Global seed set to 1\n"
     ]
    },
    {
     "data": {
      "text/html": [
       "<div>\n",
       "<style scoped>\n",
       "    .dataframe tbody tr th:only-of-type {\n",
       "        vertical-align: middle;\n",
       "    }\n",
       "\n",
       "    .dataframe tbody tr th {\n",
       "        vertical-align: top;\n",
       "    }\n",
       "\n",
       "    .dataframe thead th {\n",
       "        text-align: right;\n",
       "    }\n",
       "</style>\n",
       "<table border=\"1\" class=\"dataframe\">\n",
       "  <thead>\n",
       "    <tr style=\"text-align: right;\">\n",
       "      <th></th>\n",
       "      <th>user_id</th>\n",
       "      <th>target</th>\n",
       "    </tr>\n",
       "  </thead>\n",
       "  <tbody>\n",
       "    <tr>\n",
       "      <th>0</th>\n",
       "      <td>66</td>\n",
       "      <td>0.017652</td>\n",
       "    </tr>\n",
       "    <tr>\n",
       "      <th>1</th>\n",
       "      <td>213</td>\n",
       "      <td>0.027609</td>\n",
       "    </tr>\n",
       "    <tr>\n",
       "      <th>2</th>\n",
       "      <td>345</td>\n",
       "      <td>0.161562</td>\n",
       "    </tr>\n",
       "    <tr>\n",
       "      <th>3</th>\n",
       "      <td>569</td>\n",
       "      <td>0.070948</td>\n",
       "    </tr>\n",
       "    <tr>\n",
       "      <th>4</th>\n",
       "      <td>573</td>\n",
       "      <td>0.016707</td>\n",
       "    </tr>\n",
       "    <tr>\n",
       "      <th>...</th>\n",
       "      <td>...</td>\n",
       "      <td>...</td>\n",
       "    </tr>\n",
       "    <tr>\n",
       "      <th>4195</th>\n",
       "      <td>868183</td>\n",
       "      <td>0.020343</td>\n",
       "    </tr>\n",
       "    <tr>\n",
       "      <th>4196</th>\n",
       "      <td>868407</td>\n",
       "      <td>0.038560</td>\n",
       "    </tr>\n",
       "    <tr>\n",
       "      <th>4197</th>\n",
       "      <td>868573</td>\n",
       "      <td>0.023573</td>\n",
       "    </tr>\n",
       "    <tr>\n",
       "      <th>4198</th>\n",
       "      <td>868694</td>\n",
       "      <td>0.046347</td>\n",
       "    </tr>\n",
       "    <tr>\n",
       "      <th>4199</th>\n",
       "      <td>868873</td>\n",
       "      <td>0.005910</td>\n",
       "    </tr>\n",
       "  </tbody>\n",
       "</table>\n",
       "<p>4200 rows × 2 columns</p>\n",
       "</div>"
      ],
      "text/plain": [
       "      user_id    target\n",
       "0          66  0.017652\n",
       "1         213  0.027609\n",
       "2         345  0.161562\n",
       "3         569  0.070948\n",
       "4         573  0.016707\n",
       "...       ...       ...\n",
       "4195   868183  0.020343\n",
       "4196   868407  0.038560\n",
       "4197   868573  0.023573\n",
       "4198   868694  0.046347\n",
       "4199   868873  0.005910\n",
       "\n",
       "[4200 rows x 2 columns]"
      ]
     },
     "execution_count": 102,
     "metadata": {},
     "output_type": "execute_result"
    }
   ],
   "source": [
    "result_attac = predict('first_attack.csv', bins_path, model_path, random_seed=1)\n",
    "result_attac"
   ]
  },
  {
   "cell_type": "code",
   "execution_count": 103,
   "id": "954e2bc6-8c94-4bf1-b48f-eff7d7c036bb",
   "metadata": {},
   "outputs": [
    {
     "data": {
      "text/plain": [
       "0.9980974459450453"
      ]
     },
     "execution_count": 103,
     "metadata": {},
     "output_type": "execute_result"
    }
   ],
   "source": [
    "roc_auc_score(result['target_true'], result_attac['target'])"
   ]
  },
  {
   "cell_type": "code",
   "execution_count": null,
   "id": "1d3ae90d-7318-4c36-8283-df851be6b791",
   "metadata": {},
   "outputs": [],
   "source": []
  }
 ],
 "metadata": {
  "kernelspec": {
   "display_name": "Python 3 (ipykernel)",
   "language": "python",
   "name": "python3"
  },
  "language_info": {
   "codemirror_mode": {
    "name": "ipython",
    "version": 3
   },
   "file_extension": ".py",
   "mimetype": "text/x-python",
   "name": "python",
   "nbconvert_exporter": "python",
   "pygments_lexer": "ipython3",
   "version": "3.9.16"
  }
 },
 "nbformat": 4,
 "nbformat_minor": 5
}
