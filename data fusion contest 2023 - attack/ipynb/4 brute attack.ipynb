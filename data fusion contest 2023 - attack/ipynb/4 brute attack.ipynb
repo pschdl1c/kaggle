{
 "cells": [
  {
   "cell_type": "markdown",
   "id": "457ec527-ce3d-459a-aeb7-b5651beeb78c",
   "metadata": {},
   "source": [
    "## 4 Brute attack\n",
    "\n",
    "Брутфорс для рельсы транзакций (наивный скор на паблике ROC-AUC Diff 0,04825)"
   ]
  },
  {
   "cell_type": "code",
   "execution_count": 1,
   "id": "b17c69f2-a817-4a1c-bacd-247304428858",
   "metadata": {},
   "outputs": [],
   "source": [
    "import json\n",
    "import numpy as np\n",
    "import pandas as pd\n",
    "from tqdm.notebook import tqdm\n",
    "# from tqdm import tqdm\n",
    "from model import predict # Функция, позволяет получить предсказание нейронки.\n",
    "from check_budget import check_budget # функция проверки бюджета. Проверяйте допустимость решения до сабмита\n",
    "from sklearn.metrics import roc_auc_score\n",
    "import matplotlib.pyplot as plt\n",
    "\n",
    "bins_path = \"nn_bins.pickle\" # путь до файла с бинами после тренировки модели (nn_bins.pickle)\n",
    "model_path = \"nn_weights.ckpt\" # путь до файла с весами нейронной сети (nn_weights.ckpt)\n",
    "quantiles_path = \"quantiles.json\" # путь до файла с квантилями для таргета (quantiles.pickle)\n",
    "\n",
    "transactions_path = \"../sample_submission.csv\"    # путь до файла с транзакциями, которые атакуются\n",
    "\n",
    "train_data_path = \"../transactions_finetune.csv\" # X - train data\n",
    "train_target_path = \"../target_finetune.csv\" # y - true target"
   ]
  },
  {
   "cell_type": "code",
   "execution_count": 2,
   "id": "d9545c03-e25e-447a-a3fd-01222f4c2820",
   "metadata": {},
   "outputs": [],
   "source": [
    "seed = 26041999\n",
    "BUDGET = 10 # разрешенное количество изменений транзакций для каждого пользователя - N транзакций\n",
    "threshold = pd.read_csv(train_target_path).target.mean() # примерный threshold трейна"
   ]
  },
  {
   "cell_type": "code",
   "execution_count": 3,
   "id": "3275e907-9deb-4655-9423-befca8f3341f",
   "metadata": {},
   "outputs": [
    {
     "data": {
      "text/html": [
       "<div>\n",
       "<style scoped>\n",
       "    .dataframe tbody tr th:only-of-type {\n",
       "        vertical-align: middle;\n",
       "    }\n",
       "\n",
       "    .dataframe tbody tr th {\n",
       "        vertical-align: top;\n",
       "    }\n",
       "\n",
       "    .dataframe thead th {\n",
       "        text-align: right;\n",
       "    }\n",
       "</style>\n",
       "<table border=\"1\" class=\"dataframe\">\n",
       "  <thead>\n",
       "    <tr style=\"text-align: right;\">\n",
       "      <th></th>\n",
       "      <th>user_id</th>\n",
       "      <th>mcc_code</th>\n",
       "      <th>currency_rk</th>\n",
       "      <th>transaction_amt</th>\n",
       "      <th>transaction_dttm</th>\n",
       "    </tr>\n",
       "  </thead>\n",
       "  <tbody>\n",
       "    <tr>\n",
       "      <th>0</th>\n",
       "      <td>69</td>\n",
       "      <td>5541</td>\n",
       "      <td>48</td>\n",
       "      <td>-342.89792</td>\n",
       "      <td>2021-03-05 02:52:36</td>\n",
       "    </tr>\n",
       "    <tr>\n",
       "      <th>1</th>\n",
       "      <td>69</td>\n",
       "      <td>5533</td>\n",
       "      <td>48</td>\n",
       "      <td>-1251.88120</td>\n",
       "      <td>2021-03-05 09:43:28</td>\n",
       "    </tr>\n",
       "    <tr>\n",
       "      <th>2</th>\n",
       "      <td>69</td>\n",
       "      <td>5331</td>\n",
       "      <td>48</td>\n",
       "      <td>-87.30924</td>\n",
       "      <td>2021-03-05 11:17:23</td>\n",
       "    </tr>\n",
       "    <tr>\n",
       "      <th>3</th>\n",
       "      <td>69</td>\n",
       "      <td>5921</td>\n",
       "      <td>48</td>\n",
       "      <td>-1822.17700</td>\n",
       "      <td>2021-03-05 13:41:03</td>\n",
       "    </tr>\n",
       "    <tr>\n",
       "      <th>4</th>\n",
       "      <td>69</td>\n",
       "      <td>5311</td>\n",
       "      <td>48</td>\n",
       "      <td>-427.12363</td>\n",
       "      <td>2021-03-05 19:14:23</td>\n",
       "    </tr>\n",
       "  </tbody>\n",
       "</table>\n",
       "</div>"
      ],
      "text/plain": [
       "   user_id  mcc_code  currency_rk  transaction_amt     transaction_dttm\n",
       "0       69      5541           48       -342.89792  2021-03-05 02:52:36\n",
       "1       69      5533           48      -1251.88120  2021-03-05 09:43:28\n",
       "2       69      5331           48        -87.30924  2021-03-05 11:17:23\n",
       "3       69      5921           48      -1822.17700  2021-03-05 13:41:03\n",
       "4       69      5311           48       -427.12363  2021-03-05 19:14:23"
      ]
     },
     "execution_count": 3,
     "metadata": {},
     "output_type": "execute_result"
    }
   ],
   "source": [
    "train_df = pd.read_csv(train_data_path)\n",
    "train_df.head()"
   ]
  },
  {
   "cell_type": "code",
   "execution_count": 4,
   "id": "38b79815-4a17-4d00-a4d3-f8ee40e026e3",
   "metadata": {},
   "outputs": [],
   "source": [
    "users_id = train_df.user_id.unique()"
   ]
  },
  {
   "cell_type": "code",
   "execution_count": 5,
   "id": "13749e55-218d-4c4b-b50d-5d85ba55658e",
   "metadata": {},
   "outputs": [],
   "source": [
    "cutted_df = train_df.loc[(train_df.user_id == users_id[0]) | (train_df.user_id == users_id[1]) |\n",
    "                         (train_df.user_id == users_id[2])]"
   ]
  },
  {
   "cell_type": "code",
   "execution_count": 6,
   "id": "838b90a1-dd33-453b-b910-2d4062e5985a",
   "metadata": {},
   "outputs": [
    {
     "data": {
      "text/html": [
       "<div>\n",
       "<style scoped>\n",
       "    .dataframe tbody tr th:only-of-type {\n",
       "        vertical-align: middle;\n",
       "    }\n",
       "\n",
       "    .dataframe tbody tr th {\n",
       "        vertical-align: top;\n",
       "    }\n",
       "\n",
       "    .dataframe thead th {\n",
       "        text-align: right;\n",
       "    }\n",
       "</style>\n",
       "<table border=\"1\" class=\"dataframe\">\n",
       "  <thead>\n",
       "    <tr style=\"text-align: right;\">\n",
       "      <th></th>\n",
       "      <th>user_id</th>\n",
       "      <th>mcc_code</th>\n",
       "      <th>currency_rk</th>\n",
       "      <th>transaction_amt</th>\n",
       "      <th>transaction_dttm</th>\n",
       "    </tr>\n",
       "  </thead>\n",
       "  <tbody>\n",
       "    <tr>\n",
       "      <th>600</th>\n",
       "      <td>196</td>\n",
       "      <td>4131</td>\n",
       "      <td>48</td>\n",
       "      <td>-22.061630</td>\n",
       "      <td>2021-03-23 16:49:23</td>\n",
       "    </tr>\n",
       "    <tr>\n",
       "      <th>601</th>\n",
       "      <td>196</td>\n",
       "      <td>5814</td>\n",
       "      <td>48</td>\n",
       "      <td>-79.838520</td>\n",
       "      <td>2021-03-24 03:06:44</td>\n",
       "    </tr>\n",
       "    <tr>\n",
       "      <th>602</th>\n",
       "      <td>196</td>\n",
       "      <td>5814</td>\n",
       "      <td>48</td>\n",
       "      <td>-42.548330</td>\n",
       "      <td>2021-03-24 03:19:53</td>\n",
       "    </tr>\n",
       "    <tr>\n",
       "      <th>603</th>\n",
       "      <td>196</td>\n",
       "      <td>5814</td>\n",
       "      <td>48</td>\n",
       "      <td>-89.789540</td>\n",
       "      <td>2021-03-24 08:04:58</td>\n",
       "    </tr>\n",
       "    <tr>\n",
       "      <th>604</th>\n",
       "      <td>196</td>\n",
       "      <td>5411</td>\n",
       "      <td>48</td>\n",
       "      <td>-478.066100</td>\n",
       "      <td>2021-03-24 13:58:36</td>\n",
       "    </tr>\n",
       "    <tr>\n",
       "      <th>...</th>\n",
       "      <td>...</td>\n",
       "      <td>...</td>\n",
       "      <td>...</td>\n",
       "      <td>...</td>\n",
       "      <td>...</td>\n",
       "    </tr>\n",
       "    <tr>\n",
       "      <th>895</th>\n",
       "      <td>196</td>\n",
       "      <td>5411</td>\n",
       "      <td>48</td>\n",
       "      <td>-342.244700</td>\n",
       "      <td>2021-06-28 12:30:41</td>\n",
       "    </tr>\n",
       "    <tr>\n",
       "      <th>896</th>\n",
       "      <td>196</td>\n",
       "      <td>4131</td>\n",
       "      <td>48</td>\n",
       "      <td>-22.680431</td>\n",
       "      <td>2021-06-29 12:56:50</td>\n",
       "    </tr>\n",
       "    <tr>\n",
       "      <th>897</th>\n",
       "      <td>196</td>\n",
       "      <td>5411</td>\n",
       "      <td>48</td>\n",
       "      <td>-426.916720</td>\n",
       "      <td>2021-06-29 14:04:43</td>\n",
       "    </tr>\n",
       "    <tr>\n",
       "      <th>898</th>\n",
       "      <td>196</td>\n",
       "      <td>5814</td>\n",
       "      <td>48</td>\n",
       "      <td>-101.980470</td>\n",
       "      <td>2021-06-30 06:12:21</td>\n",
       "    </tr>\n",
       "    <tr>\n",
       "      <th>899</th>\n",
       "      <td>196</td>\n",
       "      <td>5411</td>\n",
       "      <td>48</td>\n",
       "      <td>-166.352280</td>\n",
       "      <td>2021-06-30 13:09:30</td>\n",
       "    </tr>\n",
       "  </tbody>\n",
       "</table>\n",
       "<p>300 rows × 5 columns</p>\n",
       "</div>"
      ],
      "text/plain": [
       "     user_id  mcc_code  currency_rk  transaction_amt     transaction_dttm\n",
       "600      196      4131           48       -22.061630  2021-03-23 16:49:23\n",
       "601      196      5814           48       -79.838520  2021-03-24 03:06:44\n",
       "602      196      5814           48       -42.548330  2021-03-24 03:19:53\n",
       "603      196      5814           48       -89.789540  2021-03-24 08:04:58\n",
       "604      196      5411           48      -478.066100  2021-03-24 13:58:36\n",
       "..       ...       ...          ...              ...                  ...\n",
       "895      196      5411           48      -342.244700  2021-06-28 12:30:41\n",
       "896      196      4131           48       -22.680431  2021-06-29 12:56:50\n",
       "897      196      5411           48      -426.916720  2021-06-29 14:04:43\n",
       "898      196      5814           48      -101.980470  2021-06-30 06:12:21\n",
       "899      196      5411           48      -166.352280  2021-06-30 13:09:30\n",
       "\n",
       "[300 rows x 5 columns]"
      ]
     },
     "execution_count": 6,
     "metadata": {},
     "output_type": "execute_result"
    }
   ],
   "source": [
    "cutted_df.loc[cutted_df.user_id == 196]"
   ]
  },
  {
   "cell_type": "code",
   "execution_count": 7,
   "id": "505af398-cb7e-4c7c-b341-643de8ea4a3b",
   "metadata": {},
   "outputs": [],
   "source": [
    "cutted_df.to_csv('temp_first.csv', index=False)"
   ]
  },
  {
   "cell_type": "code",
   "execution_count": 8,
   "id": "b31610b9-2cf5-44c6-9319-9f2f66ec1f32",
   "metadata": {},
   "outputs": [
    {
     "data": {
      "text/plain": [
       "(4200,)"
      ]
     },
     "execution_count": 8,
     "metadata": {},
     "output_type": "execute_result"
    }
   ],
   "source": [
    "pd.read_csv(transactions_path).user_id.unique().shape"
   ]
  },
  {
   "cell_type": "code",
   "execution_count": 14,
   "id": "d0fdd408-409d-4b6b-af12-25e4187fce18",
   "metadata": {},
   "outputs": [
    {
     "name": "stderr",
     "output_type": "stream",
     "text": [
      "Global seed set to 26041999\n"
     ]
    }
   ],
   "source": [
    "import pytorch_lightning as pl\n",
    "import torch\n",
    "import pickle\n",
    "from model import process_for_nn, TransactionsDataset, get_dataloader, device, TransactionsRnn\n",
    "\n",
    "pl.seed_everything(seed)\n",
    "model = TransactionsRnn()\n",
    "model.load_state_dict(torch.load(model_path))\n",
    "model.to(device)\n",
    "model.eval()\n",
    "with open(bins_path, \"rb\") as f:\n",
    "    bins = pickle.load(f)\n",
    "# features = bins.pop(\"features\")\n",
    "\n",
    "def create_dl(df, bins_path):\n",
    "    df_transactions = df.dropna().assign(\n",
    "            hour=lambda x: x.transaction_dttm.dt.hour,\n",
    "            day=lambda x: x.transaction_dttm.dt.dayofweek,\n",
    "            month=lambda x: x.transaction_dttm.dt.month,\n",
    "            number_day=lambda x: x.transaction_dttm.dt.day,\n",
    "        )\n",
    "\n",
    "    with open(bins_path, \"rb\") as f:\n",
    "        bins = pickle.load(f)\n",
    "    features = bins.pop(\"features\")\n",
    "\n",
    "    df = process_for_nn(df_transactions, features, bins)\n",
    "    dataset = TransactionsDataset(df)\n",
    "    dataloader = get_dataloader(dataset, device, is_validation=True)\n",
    "    return dataloader\n",
    "\n",
    "\n",
    "def predictor(dataloader, model):\n",
    "    preds = []\n",
    "    users = []\n",
    "    for data, target in dataloader:\n",
    "        y_pred = model(data)\n",
    "        preds.append(y_pred.detach().cpu().numpy())\n",
    "        users.append(target.detach().cpu().numpy())\n",
    "    preds = np.concatenate(preds)\n",
    "    users = np.concatenate(users)\n",
    "    return pd.DataFrame({\"user_id\": users, \"target\": preds[:, 1]})"
   ]
  },
  {
   "cell_type": "code",
   "execution_count": 15,
   "id": "b93a735c-a567-4191-9f93-b563e1c5dfb5",
   "metadata": {},
   "outputs": [],
   "source": [
    "def check_target_attack(user, target, attacked_target):\n",
    "    if target.target_true.loc[target.user_id == user].values[0]:\n",
    "        return target.target.loc[target.user_id == user].values[0] - attacked_target.target.loc[attacked_target.user_id == user].values[0]\n",
    "    else:\n",
    "        return attacked_target.target.loc[attacked_target.user_id == user].values[0] - target.target.loc[target.user_id == user].values[0]"
   ]
  },
  {
   "cell_type": "code",
   "execution_count": 16,
   "id": "b79332e2-56b3-492e-95b8-342c6c6774f4",
   "metadata": {},
   "outputs": [
    {
     "data": {
      "text/html": [
       "<div>\n",
       "<style scoped>\n",
       "    .dataframe tbody tr th:only-of-type {\n",
       "        vertical-align: middle;\n",
       "    }\n",
       "\n",
       "    .dataframe tbody tr th {\n",
       "        vertical-align: top;\n",
       "    }\n",
       "\n",
       "    .dataframe thead th {\n",
       "        text-align: right;\n",
       "    }\n",
       "</style>\n",
       "<table border=\"1\" class=\"dataframe\">\n",
       "  <thead>\n",
       "    <tr style=\"text-align: right;\">\n",
       "      <th></th>\n",
       "      <th>user_id</th>\n",
       "      <th>mcc_code</th>\n",
       "      <th>currency_rk</th>\n",
       "      <th>transaction_amt</th>\n",
       "      <th>transaction_dttm</th>\n",
       "    </tr>\n",
       "  </thead>\n",
       "  <tbody>\n",
       "    <tr>\n",
       "      <th>0</th>\n",
       "      <td>69</td>\n",
       "      <td>5541</td>\n",
       "      <td>48</td>\n",
       "      <td>-342.897920</td>\n",
       "      <td>2021-03-05 02:52:36</td>\n",
       "    </tr>\n",
       "    <tr>\n",
       "      <th>1</th>\n",
       "      <td>69</td>\n",
       "      <td>5533</td>\n",
       "      <td>48</td>\n",
       "      <td>-1251.881200</td>\n",
       "      <td>2021-03-05 09:43:28</td>\n",
       "    </tr>\n",
       "    <tr>\n",
       "      <th>2</th>\n",
       "      <td>69</td>\n",
       "      <td>5331</td>\n",
       "      <td>48</td>\n",
       "      <td>-87.309240</td>\n",
       "      <td>2021-03-05 11:17:23</td>\n",
       "    </tr>\n",
       "    <tr>\n",
       "      <th>3</th>\n",
       "      <td>69</td>\n",
       "      <td>5921</td>\n",
       "      <td>48</td>\n",
       "      <td>-1822.177000</td>\n",
       "      <td>2021-03-05 13:41:03</td>\n",
       "    </tr>\n",
       "    <tr>\n",
       "      <th>4</th>\n",
       "      <td>69</td>\n",
       "      <td>5311</td>\n",
       "      <td>48</td>\n",
       "      <td>-427.123630</td>\n",
       "      <td>2021-03-05 19:14:23</td>\n",
       "    </tr>\n",
       "    <tr>\n",
       "      <th>...</th>\n",
       "      <td>...</td>\n",
       "      <td>...</td>\n",
       "      <td>...</td>\n",
       "      <td>...</td>\n",
       "      <td>...</td>\n",
       "    </tr>\n",
       "    <tr>\n",
       "      <th>895</th>\n",
       "      <td>196</td>\n",
       "      <td>5411</td>\n",
       "      <td>48</td>\n",
       "      <td>-342.244700</td>\n",
       "      <td>2021-06-28 12:30:41</td>\n",
       "    </tr>\n",
       "    <tr>\n",
       "      <th>896</th>\n",
       "      <td>196</td>\n",
       "      <td>4131</td>\n",
       "      <td>48</td>\n",
       "      <td>-22.680431</td>\n",
       "      <td>2021-06-29 12:56:50</td>\n",
       "    </tr>\n",
       "    <tr>\n",
       "      <th>897</th>\n",
       "      <td>196</td>\n",
       "      <td>5411</td>\n",
       "      <td>48</td>\n",
       "      <td>-426.916720</td>\n",
       "      <td>2021-06-29 14:04:43</td>\n",
       "    </tr>\n",
       "    <tr>\n",
       "      <th>898</th>\n",
       "      <td>196</td>\n",
       "      <td>5814</td>\n",
       "      <td>48</td>\n",
       "      <td>-101.980470</td>\n",
       "      <td>2021-06-30 06:12:21</td>\n",
       "    </tr>\n",
       "    <tr>\n",
       "      <th>899</th>\n",
       "      <td>196</td>\n",
       "      <td>5411</td>\n",
       "      <td>48</td>\n",
       "      <td>-166.352280</td>\n",
       "      <td>2021-06-30 13:09:30</td>\n",
       "    </tr>\n",
       "  </tbody>\n",
       "</table>\n",
       "<p>900 rows × 5 columns</p>\n",
       "</div>"
      ],
      "text/plain": [
       "     user_id  mcc_code  currency_rk  transaction_amt     transaction_dttm\n",
       "0         69      5541           48      -342.897920  2021-03-05 02:52:36\n",
       "1         69      5533           48     -1251.881200  2021-03-05 09:43:28\n",
       "2         69      5331           48       -87.309240  2021-03-05 11:17:23\n",
       "3         69      5921           48     -1822.177000  2021-03-05 13:41:03\n",
       "4         69      5311           48      -427.123630  2021-03-05 19:14:23\n",
       "..       ...       ...          ...              ...                  ...\n",
       "895      196      5411           48      -342.244700  2021-06-28 12:30:41\n",
       "896      196      4131           48       -22.680431  2021-06-29 12:56:50\n",
       "897      196      5411           48      -426.916720  2021-06-29 14:04:43\n",
       "898      196      5814           48      -101.980470  2021-06-30 06:12:21\n",
       "899      196      5411           48      -166.352280  2021-06-30 13:09:30\n",
       "\n",
       "[900 rows x 5 columns]"
      ]
     },
     "execution_count": 16,
     "metadata": {},
     "output_type": "execute_result"
    }
   ],
   "source": [
    "cutted_df"
   ]
  },
  {
   "cell_type": "code",
   "execution_count": 32,
   "id": "c3206bca-1bab-4ee3-82d7-80034d60c931",
   "metadata": {
    "tags": []
   },
   "outputs": [
    {
     "data": {
      "application/vnd.jupyter.widget-view+json": {
       "model_id": "15ab73228559491ebd84efe99c48c21d",
       "version_major": 2,
       "version_minor": 0
      },
      "text/plain": [
       "Total:   0%|                                                                                                  …"
      ]
     },
     "metadata": {},
     "output_type": "display_data"
    },
    {
     "data": {
      "application/vnd.jupyter.widget-view+json": {
       "model_id": "",
       "version_major": 2,
       "version_minor": 0
      },
      "text/plain": [
       "step_to:   0%|          | 0/30 [00:00<?, ?it/s]"
      ]
     },
     "metadata": {},
     "output_type": "display_data"
    },
    {
     "data": {
      "application/vnd.jupyter.widget-view+json": {
       "model_id": "",
       "version_major": 2,
       "version_minor": 0
      },
      "text/plain": [
       "step_from:   0%|          | 0/30 [00:00<?, ?it/s]"
      ]
     },
     "metadata": {},
     "output_type": "display_data"
    },
    {
     "data": {
      "application/vnd.jupyter.widget-view+json": {
       "model_id": "",
       "version_major": 2,
       "version_minor": 0
      },
      "text/plain": [
       "step_from:   0%|          | 0/30 [00:00<?, ?it/s]"
      ]
     },
     "metadata": {},
     "output_type": "display_data"
    },
    {
     "data": {
      "application/vnd.jupyter.widget-view+json": {
       "model_id": "",
       "version_major": 2,
       "version_minor": 0
      },
      "text/plain": [
       "step_from:   0%|          | 0/30 [00:00<?, ?it/s]"
      ]
     },
     "metadata": {},
     "output_type": "display_data"
    },
    {
     "data": {
      "application/vnd.jupyter.widget-view+json": {
       "model_id": "",
       "version_major": 2,
       "version_minor": 0
      },
      "text/plain": [
       "step_from:   0%|          | 0/30 [00:00<?, ?it/s]"
      ]
     },
     "metadata": {},
     "output_type": "display_data"
    },
    {
     "data": {
      "application/vnd.jupyter.widget-view+json": {
       "model_id": "",
       "version_major": 2,
       "version_minor": 0
      },
      "text/plain": [
       "step_from:   0%|          | 0/30 [00:00<?, ?it/s]"
      ]
     },
     "metadata": {},
     "output_type": "display_data"
    },
    {
     "data": {
      "application/vnd.jupyter.widget-view+json": {
       "model_id": "",
       "version_major": 2,
       "version_minor": 0
      },
      "text/plain": [
       "step_from:   0%|          | 0/30 [00:00<?, ?it/s]"
      ]
     },
     "metadata": {},
     "output_type": "display_data"
    },
    {
     "data": {
      "application/vnd.jupyter.widget-view+json": {
       "model_id": "",
       "version_major": 2,
       "version_minor": 0
      },
      "text/plain": [
       "step_from:   0%|          | 0/30 [00:00<?, ?it/s]"
      ]
     },
     "metadata": {},
     "output_type": "display_data"
    },
    {
     "data": {
      "application/vnd.jupyter.widget-view+json": {
       "model_id": "",
       "version_major": 2,
       "version_minor": 0
      },
      "text/plain": [
       "step_from:   0%|          | 0/30 [00:00<?, ?it/s]"
      ]
     },
     "metadata": {},
     "output_type": "display_data"
    },
    {
     "data": {
      "application/vnd.jupyter.widget-view+json": {
       "model_id": "",
       "version_major": 2,
       "version_minor": 0
      },
      "text/plain": [
       "step_from:   0%|          | 0/30 [00:00<?, ?it/s]"
      ]
     },
     "metadata": {},
     "output_type": "display_data"
    },
    {
     "data": {
      "application/vnd.jupyter.widget-view+json": {
       "model_id": "",
       "version_major": 2,
       "version_minor": 0
      },
      "text/plain": [
       "step_from:   0%|          | 0/30 [00:00<?, ?it/s]"
      ]
     },
     "metadata": {},
     "output_type": "display_data"
    },
    {
     "data": {
      "application/vnd.jupyter.widget-view+json": {
       "model_id": "",
       "version_major": 2,
       "version_minor": 0
      },
      "text/plain": [
       "step_from:   0%|          | 0/30 [00:00<?, ?it/s]"
      ]
     },
     "metadata": {},
     "output_type": "display_data"
    },
    {
     "data": {
      "application/vnd.jupyter.widget-view+json": {
       "model_id": "",
       "version_major": 2,
       "version_minor": 0
      },
      "text/plain": [
       "step_from:   0%|          | 0/30 [00:00<?, ?it/s]"
      ]
     },
     "metadata": {},
     "output_type": "display_data"
    },
    {
     "data": {
      "application/vnd.jupyter.widget-view+json": {
       "model_id": "",
       "version_major": 2,
       "version_minor": 0
      },
      "text/plain": [
       "step_from:   0%|          | 0/30 [00:00<?, ?it/s]"
      ]
     },
     "metadata": {},
     "output_type": "display_data"
    },
    {
     "data": {
      "application/vnd.jupyter.widget-view+json": {
       "model_id": "",
       "version_major": 2,
       "version_minor": 0
      },
      "text/plain": [
       "step_from:   0%|          | 0/30 [00:00<?, ?it/s]"
      ]
     },
     "metadata": {},
     "output_type": "display_data"
    },
    {
     "data": {
      "application/vnd.jupyter.widget-view+json": {
       "model_id": "",
       "version_major": 2,
       "version_minor": 0
      },
      "text/plain": [
       "step_from:   0%|          | 0/30 [00:00<?, ?it/s]"
      ]
     },
     "metadata": {},
     "output_type": "display_data"
    },
    {
     "data": {
      "application/vnd.jupyter.widget-view+json": {
       "model_id": "",
       "version_major": 2,
       "version_minor": 0
      },
      "text/plain": [
       "step_from:   0%|          | 0/30 [00:00<?, ?it/s]"
      ]
     },
     "metadata": {},
     "output_type": "display_data"
    },
    {
     "data": {
      "application/vnd.jupyter.widget-view+json": {
       "model_id": "",
       "version_major": 2,
       "version_minor": 0
      },
      "text/plain": [
       "step_from:   0%|          | 0/30 [00:00<?, ?it/s]"
      ]
     },
     "metadata": {},
     "output_type": "display_data"
    },
    {
     "data": {
      "application/vnd.jupyter.widget-view+json": {
       "model_id": "",
       "version_major": 2,
       "version_minor": 0
      },
      "text/plain": [
       "step_from:   0%|          | 0/30 [00:00<?, ?it/s]"
      ]
     },
     "metadata": {},
     "output_type": "display_data"
    },
    {
     "data": {
      "application/vnd.jupyter.widget-view+json": {
       "model_id": "",
       "version_major": 2,
       "version_minor": 0
      },
      "text/plain": [
       "step_from:   0%|          | 0/30 [00:00<?, ?it/s]"
      ]
     },
     "metadata": {},
     "output_type": "display_data"
    },
    {
     "data": {
      "application/vnd.jupyter.widget-view+json": {
       "model_id": "",
       "version_major": 2,
       "version_minor": 0
      },
      "text/plain": [
       "step_from:   0%|          | 0/30 [00:00<?, ?it/s]"
      ]
     },
     "metadata": {},
     "output_type": "display_data"
    },
    {
     "data": {
      "application/vnd.jupyter.widget-view+json": {
       "model_id": "",
       "version_major": 2,
       "version_minor": 0
      },
      "text/plain": [
       "step_from:   0%|          | 0/30 [00:00<?, ?it/s]"
      ]
     },
     "metadata": {},
     "output_type": "display_data"
    },
    {
     "data": {
      "application/vnd.jupyter.widget-view+json": {
       "model_id": "",
       "version_major": 2,
       "version_minor": 0
      },
      "text/plain": [
       "step_from:   0%|          | 0/30 [00:00<?, ?it/s]"
      ]
     },
     "metadata": {},
     "output_type": "display_data"
    },
    {
     "data": {
      "application/vnd.jupyter.widget-view+json": {
       "model_id": "",
       "version_major": 2,
       "version_minor": 0
      },
      "text/plain": [
       "step_from:   0%|          | 0/30 [00:00<?, ?it/s]"
      ]
     },
     "metadata": {},
     "output_type": "display_data"
    },
    {
     "data": {
      "application/vnd.jupyter.widget-view+json": {
       "model_id": "",
       "version_major": 2,
       "version_minor": 0
      },
      "text/plain": [
       "step_from:   0%|          | 0/30 [00:00<?, ?it/s]"
      ]
     },
     "metadata": {},
     "output_type": "display_data"
    },
    {
     "data": {
      "application/vnd.jupyter.widget-view+json": {
       "model_id": "",
       "version_major": 2,
       "version_minor": 0
      },
      "text/plain": [
       "step_from:   0%|          | 0/30 [00:00<?, ?it/s]"
      ]
     },
     "metadata": {},
     "output_type": "display_data"
    },
    {
     "data": {
      "application/vnd.jupyter.widget-view+json": {
       "model_id": "",
       "version_major": 2,
       "version_minor": 0
      },
      "text/plain": [
       "step_from:   0%|          | 0/30 [00:00<?, ?it/s]"
      ]
     },
     "metadata": {},
     "output_type": "display_data"
    },
    {
     "data": {
      "application/vnd.jupyter.widget-view+json": {
       "model_id": "",
       "version_major": 2,
       "version_minor": 0
      },
      "text/plain": [
       "step_from:   0%|          | 0/30 [00:00<?, ?it/s]"
      ]
     },
     "metadata": {},
     "output_type": "display_data"
    },
    {
     "data": {
      "application/vnd.jupyter.widget-view+json": {
       "model_id": "",
       "version_major": 2,
       "version_minor": 0
      },
      "text/plain": [
       "step_from:   0%|          | 0/30 [00:00<?, ?it/s]"
      ]
     },
     "metadata": {},
     "output_type": "display_data"
    },
    {
     "data": {
      "application/vnd.jupyter.widget-view+json": {
       "model_id": "",
       "version_major": 2,
       "version_minor": 0
      },
      "text/plain": [
       "step_from:   0%|          | 0/30 [00:00<?, ?it/s]"
      ]
     },
     "metadata": {},
     "output_type": "display_data"
    },
    {
     "data": {
      "application/vnd.jupyter.widget-view+json": {
       "model_id": "",
       "version_major": 2,
       "version_minor": 0
      },
      "text/plain": [
       "step_from:   0%|          | 0/30 [00:00<?, ?it/s]"
      ]
     },
     "metadata": {},
     "output_type": "display_data"
    },
    {
     "data": {
      "application/vnd.jupyter.widget-view+json": {
       "model_id": "61dabfcd320a4d36a2bd3e57b1b4196a",
       "version_major": 2,
       "version_minor": 0
      },
      "text/plain": [
       "step_to:   0%|          | 0/30 [00:00<?, ?it/s]"
      ]
     },
     "metadata": {},
     "output_type": "display_data"
    },
    {
     "data": {
      "application/vnd.jupyter.widget-view+json": {
       "model_id": "",
       "version_major": 2,
       "version_minor": 0
      },
      "text/plain": [
       "step_from:   0%|          | 0/30 [00:00<?, ?it/s]"
      ]
     },
     "metadata": {},
     "output_type": "display_data"
    },
    {
     "data": {
      "application/vnd.jupyter.widget-view+json": {
       "model_id": "",
       "version_major": 2,
       "version_minor": 0
      },
      "text/plain": [
       "step_from:   0%|          | 0/30 [00:00<?, ?it/s]"
      ]
     },
     "metadata": {},
     "output_type": "display_data"
    },
    {
     "data": {
      "application/vnd.jupyter.widget-view+json": {
       "model_id": "",
       "version_major": 2,
       "version_minor": 0
      },
      "text/plain": [
       "step_from:   0%|          | 0/30 [00:00<?, ?it/s]"
      ]
     },
     "metadata": {},
     "output_type": "display_data"
    },
    {
     "data": {
      "application/vnd.jupyter.widget-view+json": {
       "model_id": "bc64d8a68a844bbab23fca7c613a2cdb",
       "version_major": 2,
       "version_minor": 0
      },
      "text/plain": [
       "step_from:   0%|          | 0/30 [00:00<?, ?it/s]"
      ]
     },
     "metadata": {},
     "output_type": "display_data"
    },
    {
     "ename": "KeyboardInterrupt",
     "evalue": "",
     "output_type": "error",
     "traceback": [
      "\u001b[1;31m---------------------------------------------------------------------------\u001b[0m",
      "\u001b[1;31mKeyboardInterrupt\u001b[0m                         Traceback (most recent call last)",
      "Cell \u001b[1;32mIn[32], line 61\u001b[0m\n\u001b[0;32m     55\u001b[0m \u001b[38;5;66;03m# temp_path = \"temp.csv\"\u001b[39;00m\n\u001b[0;32m     56\u001b[0m \u001b[38;5;66;03m# cutted_df_copy.to_csv(temp_path, index=False)\u001b[39;00m\n\u001b[0;32m     57\u001b[0m \u001b[38;5;66;03m# attacked_target = predict(temp_path, bins_path, model_path)\u001b[39;00m\n\u001b[0;32m     59\u001b[0m dataloader \u001b[38;5;241m=\u001b[39m create_dl(cutted_df_copy, bins_path)\n\u001b[1;32m---> 61\u001b[0m attacked_target \u001b[38;5;241m=\u001b[39m \u001b[43mpredictor\u001b[49m\u001b[43m(\u001b[49m\u001b[43mdataloader\u001b[49m\u001b[43m,\u001b[49m\u001b[43m \u001b[49m\u001b[43mmodel\u001b[49m\u001b[43m)\u001b[49m\n\u001b[0;32m     63\u001b[0m current_user_score \u001b[38;5;241m=\u001b[39m check_target_attack(user, target, attacked_target)\n\u001b[0;32m     65\u001b[0m \u001b[38;5;28;01mif\u001b[39;00m current_user_score \u001b[38;5;241m>\u001b[39m\u001b[38;5;241m=\u001b[39m user_score:\n",
      "Cell \u001b[1;32mIn[14], line 37\u001b[0m, in \u001b[0;36mpredictor\u001b[1;34m(dataloader, model)\u001b[0m\n\u001b[0;32m     35\u001b[0m users \u001b[38;5;241m=\u001b[39m []\n\u001b[0;32m     36\u001b[0m \u001b[38;5;28;01mfor\u001b[39;00m data, target \u001b[38;5;129;01min\u001b[39;00m dataloader:\n\u001b[1;32m---> 37\u001b[0m     y_pred \u001b[38;5;241m=\u001b[39m \u001b[43mmodel\u001b[49m\u001b[43m(\u001b[49m\u001b[43mdata\u001b[49m\u001b[43m)\u001b[49m\n\u001b[0;32m     38\u001b[0m     preds\u001b[38;5;241m.\u001b[39mappend(y_pred\u001b[38;5;241m.\u001b[39mdetach()\u001b[38;5;241m.\u001b[39mcpu()\u001b[38;5;241m.\u001b[39mnumpy())\n\u001b[0;32m     39\u001b[0m     users\u001b[38;5;241m.\u001b[39mappend(target\u001b[38;5;241m.\u001b[39mdetach()\u001b[38;5;241m.\u001b[39mcpu()\u001b[38;5;241m.\u001b[39mnumpy())\n",
      "File \u001b[1;32m~\\anaconda3\\envs\\tf_gpu\\lib\\site-packages\\torch\\nn\\modules\\module.py:1194\u001b[0m, in \u001b[0;36mModule._call_impl\u001b[1;34m(self, *input, **kwargs)\u001b[0m\n\u001b[0;32m   1190\u001b[0m \u001b[38;5;66;03m# If we don't have any hooks, we want to skip the rest of the logic in\u001b[39;00m\n\u001b[0;32m   1191\u001b[0m \u001b[38;5;66;03m# this function, and just call forward.\u001b[39;00m\n\u001b[0;32m   1192\u001b[0m \u001b[38;5;28;01mif\u001b[39;00m \u001b[38;5;129;01mnot\u001b[39;00m (\u001b[38;5;28mself\u001b[39m\u001b[38;5;241m.\u001b[39m_backward_hooks \u001b[38;5;129;01mor\u001b[39;00m \u001b[38;5;28mself\u001b[39m\u001b[38;5;241m.\u001b[39m_forward_hooks \u001b[38;5;129;01mor\u001b[39;00m \u001b[38;5;28mself\u001b[39m\u001b[38;5;241m.\u001b[39m_forward_pre_hooks \u001b[38;5;129;01mor\u001b[39;00m _global_backward_hooks\n\u001b[0;32m   1193\u001b[0m         \u001b[38;5;129;01mor\u001b[39;00m _global_forward_hooks \u001b[38;5;129;01mor\u001b[39;00m _global_forward_pre_hooks):\n\u001b[1;32m-> 1194\u001b[0m     \u001b[38;5;28;01mreturn\u001b[39;00m forward_call(\u001b[38;5;241m*\u001b[39m\u001b[38;5;28minput\u001b[39m, \u001b[38;5;241m*\u001b[39m\u001b[38;5;241m*\u001b[39mkwargs)\n\u001b[0;32m   1195\u001b[0m \u001b[38;5;66;03m# Do not call functions when jit is used\u001b[39;00m\n\u001b[0;32m   1196\u001b[0m full_backward_hooks, non_full_backward_hooks \u001b[38;5;241m=\u001b[39m [], []\n",
      "File \u001b[1;32mD:\\kaggle\\data fusion contest 2023\\naive_baseline\\model.py:59\u001b[0m, in \u001b[0;36mTransactionsRnn.forward\u001b[1;34m(self, transactions_cat_features, return_embedding)\u001b[0m\n\u001b[0;32m     56\u001b[0m \u001b[38;5;28;01mdef\u001b[39;00m \u001b[38;5;21mforward\u001b[39m(\u001b[38;5;28mself\u001b[39m, transactions_cat_features, \u001b[38;5;241m*\u001b[39m, return_embedding\u001b[38;5;241m=\u001b[39m\u001b[38;5;28;01mFalse\u001b[39;00m):\n\u001b[0;32m     57\u001b[0m     batch_size \u001b[38;5;241m=\u001b[39m transactions_cat_features\u001b[38;5;241m.\u001b[39mshape[\u001b[38;5;241m0\u001b[39m]\n\u001b[1;32m---> 59\u001b[0m     last_hidden, states \u001b[38;5;241m=\u001b[39m \u001b[38;5;28;43mself\u001b[39;49m\u001b[38;5;241;43m.\u001b[39;49m\u001b[43mget_emb\u001b[49m\u001b[43m(\u001b[49m\u001b[43mtransactions_cat_features\u001b[49m\u001b[43m)\u001b[49m\n\u001b[0;32m     60\u001b[0m     probs \u001b[38;5;241m=\u001b[39m \u001b[38;5;28mself\u001b[39m\u001b[38;5;241m.\u001b[39mclassify_emb(batch_size, last_hidden, states)\n\u001b[0;32m     62\u001b[0m     \u001b[38;5;28;01mif\u001b[39;00m return_embedding:\n",
      "File \u001b[1;32mD:\\kaggle\\data fusion contest 2023\\naive_baseline\\model.py:84\u001b[0m, in \u001b[0;36mTransactionsRnn.get_emb\u001b[1;34m(self, transactions_cat_features)\u001b[0m\n\u001b[0;32m     82\u001b[0m dropout_embeddings \u001b[38;5;241m=\u001b[39m \u001b[38;5;28mself\u001b[39m\u001b[38;5;241m.\u001b[39m_spatial_dropout(concated_embeddings)\n\u001b[0;32m     83\u001b[0m dropout_embeddings \u001b[38;5;241m=\u001b[39m dropout_embeddings\u001b[38;5;241m.\u001b[39msqueeze(\u001b[38;5;241m3\u001b[39m)\u001b[38;5;241m.\u001b[39mpermute(\u001b[38;5;241m0\u001b[39m, \u001b[38;5;241m2\u001b[39m, \u001b[38;5;241m1\u001b[39m)\n\u001b[1;32m---> 84\u001b[0m states, last_hidden \u001b[38;5;241m=\u001b[39m \u001b[38;5;28;43mself\u001b[39;49m\u001b[38;5;241;43m.\u001b[39;49m\u001b[43m_gru\u001b[49m\u001b[43m(\u001b[49m\u001b[43mdropout_embeddings\u001b[49m\u001b[43m)\u001b[49m\n\u001b[0;32m     85\u001b[0m \u001b[38;5;28;01mreturn\u001b[39;00m last_hidden, states\n",
      "File \u001b[1;32m~\\anaconda3\\envs\\tf_gpu\\lib\\site-packages\\torch\\nn\\modules\\module.py:1194\u001b[0m, in \u001b[0;36mModule._call_impl\u001b[1;34m(self, *input, **kwargs)\u001b[0m\n\u001b[0;32m   1190\u001b[0m \u001b[38;5;66;03m# If we don't have any hooks, we want to skip the rest of the logic in\u001b[39;00m\n\u001b[0;32m   1191\u001b[0m \u001b[38;5;66;03m# this function, and just call forward.\u001b[39;00m\n\u001b[0;32m   1192\u001b[0m \u001b[38;5;28;01mif\u001b[39;00m \u001b[38;5;129;01mnot\u001b[39;00m (\u001b[38;5;28mself\u001b[39m\u001b[38;5;241m.\u001b[39m_backward_hooks \u001b[38;5;129;01mor\u001b[39;00m \u001b[38;5;28mself\u001b[39m\u001b[38;5;241m.\u001b[39m_forward_hooks \u001b[38;5;129;01mor\u001b[39;00m \u001b[38;5;28mself\u001b[39m\u001b[38;5;241m.\u001b[39m_forward_pre_hooks \u001b[38;5;129;01mor\u001b[39;00m _global_backward_hooks\n\u001b[0;32m   1193\u001b[0m         \u001b[38;5;129;01mor\u001b[39;00m _global_forward_hooks \u001b[38;5;129;01mor\u001b[39;00m _global_forward_pre_hooks):\n\u001b[1;32m-> 1194\u001b[0m     \u001b[38;5;28;01mreturn\u001b[39;00m forward_call(\u001b[38;5;241m*\u001b[39m\u001b[38;5;28minput\u001b[39m, \u001b[38;5;241m*\u001b[39m\u001b[38;5;241m*\u001b[39mkwargs)\n\u001b[0;32m   1195\u001b[0m \u001b[38;5;66;03m# Do not call functions when jit is used\u001b[39;00m\n\u001b[0;32m   1196\u001b[0m full_backward_hooks, non_full_backward_hooks \u001b[38;5;241m=\u001b[39m [], []\n",
      "File \u001b[1;32m~\\anaconda3\\envs\\tf_gpu\\lib\\site-packages\\torch\\nn\\modules\\rnn.py:955\u001b[0m, in \u001b[0;36mGRU.forward\u001b[1;34m(self, input, hx)\u001b[0m\n\u001b[0;32m    953\u001b[0m \u001b[38;5;28mself\u001b[39m\u001b[38;5;241m.\u001b[39mcheck_forward_args(\u001b[38;5;28minput\u001b[39m, hx, batch_sizes)\n\u001b[0;32m    954\u001b[0m \u001b[38;5;28;01mif\u001b[39;00m batch_sizes \u001b[38;5;129;01mis\u001b[39;00m \u001b[38;5;28;01mNone\u001b[39;00m:\n\u001b[1;32m--> 955\u001b[0m     result \u001b[38;5;241m=\u001b[39m \u001b[43m_VF\u001b[49m\u001b[38;5;241;43m.\u001b[39;49m\u001b[43mgru\u001b[49m\u001b[43m(\u001b[49m\u001b[38;5;28;43minput\u001b[39;49m\u001b[43m,\u001b[49m\u001b[43m \u001b[49m\u001b[43mhx\u001b[49m\u001b[43m,\u001b[49m\u001b[43m \u001b[49m\u001b[38;5;28;43mself\u001b[39;49m\u001b[38;5;241;43m.\u001b[39;49m\u001b[43m_flat_weights\u001b[49m\u001b[43m,\u001b[49m\u001b[43m \u001b[49m\u001b[38;5;28;43mself\u001b[39;49m\u001b[38;5;241;43m.\u001b[39;49m\u001b[43mbias\u001b[49m\u001b[43m,\u001b[49m\u001b[43m \u001b[49m\u001b[38;5;28;43mself\u001b[39;49m\u001b[38;5;241;43m.\u001b[39;49m\u001b[43mnum_layers\u001b[49m\u001b[43m,\u001b[49m\n\u001b[0;32m    956\u001b[0m \u001b[43m                     \u001b[49m\u001b[38;5;28;43mself\u001b[39;49m\u001b[38;5;241;43m.\u001b[39;49m\u001b[43mdropout\u001b[49m\u001b[43m,\u001b[49m\u001b[43m \u001b[49m\u001b[38;5;28;43mself\u001b[39;49m\u001b[38;5;241;43m.\u001b[39;49m\u001b[43mtraining\u001b[49m\u001b[43m,\u001b[49m\u001b[43m \u001b[49m\u001b[38;5;28;43mself\u001b[39;49m\u001b[38;5;241;43m.\u001b[39;49m\u001b[43mbidirectional\u001b[49m\u001b[43m,\u001b[49m\u001b[43m \u001b[49m\u001b[38;5;28;43mself\u001b[39;49m\u001b[38;5;241;43m.\u001b[39;49m\u001b[43mbatch_first\u001b[49m\u001b[43m)\u001b[49m\n\u001b[0;32m    957\u001b[0m \u001b[38;5;28;01melse\u001b[39;00m:\n\u001b[0;32m    958\u001b[0m     result \u001b[38;5;241m=\u001b[39m _VF\u001b[38;5;241m.\u001b[39mgru(\u001b[38;5;28minput\u001b[39m, batch_sizes, hx, \u001b[38;5;28mself\u001b[39m\u001b[38;5;241m.\u001b[39m_flat_weights, \u001b[38;5;28mself\u001b[39m\u001b[38;5;241m.\u001b[39mbias,\n\u001b[0;32m    959\u001b[0m                      \u001b[38;5;28mself\u001b[39m\u001b[38;5;241m.\u001b[39mnum_layers, \u001b[38;5;28mself\u001b[39m\u001b[38;5;241m.\u001b[39mdropout, \u001b[38;5;28mself\u001b[39m\u001b[38;5;241m.\u001b[39mtraining, \u001b[38;5;28mself\u001b[39m\u001b[38;5;241m.\u001b[39mbidirectional)\n",
      "\u001b[1;31mKeyboardInterrupt\u001b[0m: "
     ]
    }
   ],
   "source": [
    "bins_path = \"nn_bins.pickle\"\n",
    "model_path = \"nn_weights.ckpt\"\n",
    "\n",
    "\n",
    "cutted_df = pd.read_csv('datasets/sample_submission13.csv', index_col=0)\n",
    "# cutted_df = pd.read_csv(transactions_path)\n",
    "cutted_df['transaction_dttm'] = pd.to_datetime(cutted_df.transaction_dttm, format='%Y-%m-%d %H:%M:%S')\n",
    "\n",
    "target = predict('datasets/sample_submission13.csv', bins_path, model_path)\n",
    "# target = predict(transactions_path, bins_path, model_path)\n",
    "target['target_true'] = target.target.apply(lambda x: 0 if x <= threshold else 1)\n",
    "\n",
    "hero_user_train = 469439 # настоящий 0, предсказали 1\n",
    "poor_user_train = 296241 # настоящий 1, предсказали 0\n",
    "\n",
    "\n",
    "one_idx = target.index[target.target > threshold]  # индексы пользователей, которые предсказаны 1\n",
    "zero_idx = target.index[target.target <= threshold] # индексы пользователей, которые предсказаны 0\n",
    "\n",
    "users = target.user_id.values\n",
    "\n",
    "one_users = users[one_idx] # предсказали 1\n",
    "zero_users = users[zero_idx] # предсказали 0\n",
    "\n",
    "for user in tqdm(users, ncols=cutted_df.user_id.unique().shape[0],\n",
    "                 ascii=True, desc='Total'):\n",
    "    # cutted_df_copy = cutted_df.copy()\n",
    "    # cutted_df_copy = cutted_df.iloc[cutted_df.loc[cutted_df.user_id == user].index].copy() # берем только транзакции user для предикта\n",
    "    cutted_df_copy = cutted_df.loc[cutted_df.user_id == user].copy()\n",
    "    if user in one_users:\n",
    "        copy_from = poor_user_train # похожим на Героя скопируем 10 последних транзакций Неудачника\n",
    "    else:\n",
    "        copy_from = hero_user_train # А похожим на Неудачника наоборот\n",
    "\n",
    "    user_score = 0\n",
    "    user_step_to = 0\n",
    "    user_step_from = 0\n",
    "    for step_to in tqdm(range(0, 300, 10), leave=False, desc='step_to'):\n",
    "        idx_to = cutted_df_copy.index[cutted_df_copy.user_id == user][step_to:step_to+BUDGET] # айдишники транзакций юзера\n",
    "        for step_from in tqdm(range(0, 300, 10), leave=False, desc='step_from'):\n",
    "            idx_from = train_df.index[train_df.user_id == copy_from][step_from:step_from+BUDGET] # айдишники транзакций воннаби\n",
    "\n",
    "            sign_to = np.sign(cutted_df_copy.loc[idx_to, \"transaction_amt\"].values)\n",
    "            sign_from = np.sign(train_df.loc[idx_from, \"transaction_amt\"].values)\n",
    "            sign_mask = (sign_to == sign_from)\n",
    "\n",
    "            cutted_df_copy.loc[idx_to[sign_mask], \"mcc_code\"] = train_df.loc[idx_from[sign_mask], \"mcc_code\"].values\n",
    "            cutted_df_copy.loc[idx_to[sign_mask], \"transaction_amt\"] = train_df.loc[idx_from[sign_mask], \"transaction_amt\"].values\n",
    "\n",
    "            # temp_path = \"temp.csv\"\n",
    "            # cutted_df_copy.to_csv(temp_path, index=False)\n",
    "            # attacked_target = predict(temp_path, bins_path, model_path)\n",
    "\n",
    "            dataloader = create_dl(cutted_df_copy, bins_path)\n",
    "\n",
    "            attacked_target = predictor(dataloader, model)\n",
    "\n",
    "            current_user_score = check_target_attack(user, target, attacked_target)\n",
    "\n",
    "            if current_user_score >= user_score:\n",
    "                user_score = current_user_score\n",
    "                user_step_to = step_to\n",
    "                user_step_from = step_from\n",
    "\n",
    "    idx_to = cutted_df.index[cutted_df.user_id == user][user_step_to:user_step_to+BUDGET]\n",
    "    idx_from = train_df.index[train_df.user_id == copy_from][user_step_from:user_step_from+BUDGET]\n",
    "    sign_to = np.sign(cutted_df.loc[idx_to, \"transaction_amt\"].values)\n",
    "    sign_from = np.sign(train_df.loc[idx_from, \"transaction_amt\"].values)\n",
    "    sign_mask = (sign_to == sign_from)\n",
    "\n",
    "    cutted_df.loc[idx_to[sign_mask], \"mcc_code\"] = train_df.loc[idx_from[sign_mask], \"mcc_code\"].values\n",
    "    cutted_df.loc[idx_to[sign_mask], \"transaction_amt\"] = train_df.loc[idx_from[sign_mask], \"transaction_amt\"].values\n",
    "\n",
    "output_path = \"temp_last.csv\"\n",
    "cutted_df.to_csv(output_path, index=False)"
   ]
  },
  {
   "cell_type": "code",
   "execution_count": 39,
   "id": "ec191b5c",
   "metadata": {},
   "outputs": [
    {
     "data": {
      "text/plain": [
       "array([63143], dtype=int64)"
      ]
     },
     "execution_count": 39,
     "metadata": {},
     "output_type": "execute_result"
    }
   ],
   "source": [
    "cutted_df.loc[cutted_df.user_id == user].user_id.unique()"
   ]
  },
  {
   "cell_type": "code",
   "execution_count": null,
   "id": "06df63b7",
   "metadata": {},
   "outputs": [],
   "source": []
  },
  {
   "cell_type": "code",
   "execution_count": 17,
   "id": "fd3ea63b-5cea-4e3f-a5a0-d81f536fac43",
   "metadata": {},
   "outputs": [],
   "source": [
    "a = pd.read_csv('datasets/sample_submission0.csv', index_col=0)"
   ]
  },
  {
   "cell_type": "code",
   "execution_count": 18,
   "id": "09ff534f",
   "metadata": {},
   "outputs": [
    {
     "data": {
      "text/html": [
       "<div>\n",
       "<style scoped>\n",
       "    .dataframe tbody tr th:only-of-type {\n",
       "        vertical-align: middle;\n",
       "    }\n",
       "\n",
       "    .dataframe tbody tr th {\n",
       "        vertical-align: top;\n",
       "    }\n",
       "\n",
       "    .dataframe thead th {\n",
       "        text-align: right;\n",
       "    }\n",
       "</style>\n",
       "<table border=\"1\" class=\"dataframe\">\n",
       "  <thead>\n",
       "    <tr style=\"text-align: right;\">\n",
       "      <th></th>\n",
       "      <th>user_id</th>\n",
       "      <th>mcc_code</th>\n",
       "      <th>currency_rk</th>\n",
       "      <th>transaction_amt</th>\n",
       "      <th>transaction_dttm</th>\n",
       "    </tr>\n",
       "  </thead>\n",
       "  <tbody>\n",
       "    <tr>\n",
       "      <th>0</th>\n",
       "      <td>66</td>\n",
       "      <td>5812</td>\n",
       "      <td>48</td>\n",
       "      <td>-1842.949000</td>\n",
       "      <td>2021-05-17 11:30:42</td>\n",
       "    </tr>\n",
       "    <tr>\n",
       "      <th>1</th>\n",
       "      <td>66</td>\n",
       "      <td>4112</td>\n",
       "      <td>48</td>\n",
       "      <td>-283.283720</td>\n",
       "      <td>2021-05-17 12:59:02</td>\n",
       "    </tr>\n",
       "    <tr>\n",
       "      <th>2</th>\n",
       "      <td>66</td>\n",
       "      <td>5814</td>\n",
       "      <td>48</td>\n",
       "      <td>-73.820390</td>\n",
       "      <td>2021-05-17 14:04:09</td>\n",
       "    </tr>\n",
       "    <tr>\n",
       "      <th>3</th>\n",
       "      <td>66</td>\n",
       "      <td>4111</td>\n",
       "      <td>48</td>\n",
       "      <td>10.971557</td>\n",
       "      <td>2021-05-17 15:03:10</td>\n",
       "    </tr>\n",
       "    <tr>\n",
       "      <th>4</th>\n",
       "      <td>66</td>\n",
       "      <td>7991</td>\n",
       "      <td>48</td>\n",
       "      <td>-214.796420</td>\n",
       "      <td>2021-05-17 15:33:43</td>\n",
       "    </tr>\n",
       "    <tr>\n",
       "      <th>...</th>\n",
       "      <td>...</td>\n",
       "      <td>...</td>\n",
       "      <td>...</td>\n",
       "      <td>...</td>\n",
       "      <td>...</td>\n",
       "    </tr>\n",
       "    <tr>\n",
       "      <th>89995</th>\n",
       "      <td>62431</td>\n",
       "      <td>5921</td>\n",
       "      <td>48</td>\n",
       "      <td>-384.078770</td>\n",
       "      <td>2021-05-06 15:21:07</td>\n",
       "    </tr>\n",
       "    <tr>\n",
       "      <th>89996</th>\n",
       "      <td>62431</td>\n",
       "      <td>5814</td>\n",
       "      <td>48</td>\n",
       "      <td>-121.755875</td>\n",
       "      <td>2021-05-07 08:58:01</td>\n",
       "    </tr>\n",
       "    <tr>\n",
       "      <th>89997</th>\n",
       "      <td>62431</td>\n",
       "      <td>5411</td>\n",
       "      <td>48</td>\n",
       "      <td>-723.543200</td>\n",
       "      <td>2021-05-08 13:21:54</td>\n",
       "    </tr>\n",
       "    <tr>\n",
       "      <th>89998</th>\n",
       "      <td>62431</td>\n",
       "      <td>5814</td>\n",
       "      <td>48</td>\n",
       "      <td>-296.336820</td>\n",
       "      <td>2021-05-15 08:54:59</td>\n",
       "    </tr>\n",
       "    <tr>\n",
       "      <th>89999</th>\n",
       "      <td>62431</td>\n",
       "      <td>4214</td>\n",
       "      <td>48</td>\n",
       "      <td>-2182.890900</td>\n",
       "      <td>2021-05-27 10:58:40</td>\n",
       "    </tr>\n",
       "  </tbody>\n",
       "</table>\n",
       "<p>90000 rows × 5 columns</p>\n",
       "</div>"
      ],
      "text/plain": [
       "       user_id  mcc_code  currency_rk  transaction_amt     transaction_dttm\n",
       "0           66      5812           48     -1842.949000  2021-05-17 11:30:42\n",
       "1           66      4112           48      -283.283720  2021-05-17 12:59:02\n",
       "2           66      5814           48       -73.820390  2021-05-17 14:04:09\n",
       "3           66      4111           48        10.971557  2021-05-17 15:03:10\n",
       "4           66      7991           48      -214.796420  2021-05-17 15:33:43\n",
       "...        ...       ...          ...              ...                  ...\n",
       "89995    62431      5921           48      -384.078770  2021-05-06 15:21:07\n",
       "89996    62431      5814           48      -121.755875  2021-05-07 08:58:01\n",
       "89997    62431      5411           48      -723.543200  2021-05-08 13:21:54\n",
       "89998    62431      5814           48      -296.336820  2021-05-15 08:54:59\n",
       "89999    62431      4214           48     -2182.890900  2021-05-27 10:58:40\n",
       "\n",
       "[90000 rows x 5 columns]"
      ]
     },
     "execution_count": 18,
     "metadata": {},
     "output_type": "execute_result"
    }
   ],
   "source": [
    "a"
   ]
  },
  {
   "cell_type": "code",
   "execution_count": 21,
   "id": "f580525b",
   "metadata": {},
   "outputs": [],
   "source": [
    "b = pd.read_csv('datasets/sample_submission0_attacked.csv')"
   ]
  },
  {
   "cell_type": "code",
   "execution_count": 22,
   "id": "3742efe8",
   "metadata": {},
   "outputs": [
    {
     "data": {
      "text/html": [
       "<div>\n",
       "<style scoped>\n",
       "    .dataframe tbody tr th:only-of-type {\n",
       "        vertical-align: middle;\n",
       "    }\n",
       "\n",
       "    .dataframe tbody tr th {\n",
       "        vertical-align: top;\n",
       "    }\n",
       "\n",
       "    .dataframe thead th {\n",
       "        text-align: right;\n",
       "    }\n",
       "</style>\n",
       "<table border=\"1\" class=\"dataframe\">\n",
       "  <thead>\n",
       "    <tr style=\"text-align: right;\">\n",
       "      <th></th>\n",
       "      <th>user_id</th>\n",
       "      <th>mcc_code</th>\n",
       "      <th>currency_rk</th>\n",
       "      <th>transaction_amt</th>\n",
       "      <th>transaction_dttm</th>\n",
       "    </tr>\n",
       "  </thead>\n",
       "  <tbody>\n",
       "    <tr>\n",
       "      <th>0</th>\n",
       "      <td>66</td>\n",
       "      <td>5812</td>\n",
       "      <td>48</td>\n",
       "      <td>-1842.949000</td>\n",
       "      <td>2021-05-17 11:30:42</td>\n",
       "    </tr>\n",
       "    <tr>\n",
       "      <th>1</th>\n",
       "      <td>66</td>\n",
       "      <td>4112</td>\n",
       "      <td>48</td>\n",
       "      <td>-283.283720</td>\n",
       "      <td>2021-05-17 12:59:02</td>\n",
       "    </tr>\n",
       "    <tr>\n",
       "      <th>2</th>\n",
       "      <td>66</td>\n",
       "      <td>5814</td>\n",
       "      <td>48</td>\n",
       "      <td>-73.820390</td>\n",
       "      <td>2021-05-17 14:04:09</td>\n",
       "    </tr>\n",
       "    <tr>\n",
       "      <th>3</th>\n",
       "      <td>66</td>\n",
       "      <td>4111</td>\n",
       "      <td>48</td>\n",
       "      <td>10.971557</td>\n",
       "      <td>2021-05-17 15:03:10</td>\n",
       "    </tr>\n",
       "    <tr>\n",
       "      <th>4</th>\n",
       "      <td>66</td>\n",
       "      <td>7991</td>\n",
       "      <td>48</td>\n",
       "      <td>-214.796420</td>\n",
       "      <td>2021-05-17 15:33:43</td>\n",
       "    </tr>\n",
       "    <tr>\n",
       "      <th>...</th>\n",
       "      <td>...</td>\n",
       "      <td>...</td>\n",
       "      <td>...</td>\n",
       "      <td>...</td>\n",
       "      <td>...</td>\n",
       "    </tr>\n",
       "    <tr>\n",
       "      <th>89995</th>\n",
       "      <td>62431</td>\n",
       "      <td>5921</td>\n",
       "      <td>48</td>\n",
       "      <td>-105.483200</td>\n",
       "      <td>2021-05-06 15:21:07</td>\n",
       "    </tr>\n",
       "    <tr>\n",
       "      <th>89996</th>\n",
       "      <td>62431</td>\n",
       "      <td>5411</td>\n",
       "      <td>48</td>\n",
       "      <td>-127.989006</td>\n",
       "      <td>2021-05-07 08:58:01</td>\n",
       "    </tr>\n",
       "    <tr>\n",
       "      <th>89997</th>\n",
       "      <td>62431</td>\n",
       "      <td>5411</td>\n",
       "      <td>48</td>\n",
       "      <td>-124.689440</td>\n",
       "      <td>2021-05-08 13:21:54</td>\n",
       "    </tr>\n",
       "    <tr>\n",
       "      <th>89998</th>\n",
       "      <td>62431</td>\n",
       "      <td>5411</td>\n",
       "      <td>48</td>\n",
       "      <td>-55.108986</td>\n",
       "      <td>2021-05-15 08:54:59</td>\n",
       "    </tr>\n",
       "    <tr>\n",
       "      <th>89999</th>\n",
       "      <td>62431</td>\n",
       "      <td>5921</td>\n",
       "      <td>48</td>\n",
       "      <td>-123.057500</td>\n",
       "      <td>2021-05-27 10:58:40</td>\n",
       "    </tr>\n",
       "  </tbody>\n",
       "</table>\n",
       "<p>90000 rows × 5 columns</p>\n",
       "</div>"
      ],
      "text/plain": [
       "       user_id  mcc_code  currency_rk  transaction_amt     transaction_dttm\n",
       "0           66      5812           48     -1842.949000  2021-05-17 11:30:42\n",
       "1           66      4112           48      -283.283720  2021-05-17 12:59:02\n",
       "2           66      5814           48       -73.820390  2021-05-17 14:04:09\n",
       "3           66      4111           48        10.971557  2021-05-17 15:03:10\n",
       "4           66      7991           48      -214.796420  2021-05-17 15:33:43\n",
       "...        ...       ...          ...              ...                  ...\n",
       "89995    62431      5921           48      -105.483200  2021-05-06 15:21:07\n",
       "89996    62431      5411           48      -127.989006  2021-05-07 08:58:01\n",
       "89997    62431      5411           48      -124.689440  2021-05-08 13:21:54\n",
       "89998    62431      5411           48       -55.108986  2021-05-15 08:54:59\n",
       "89999    62431      5921           48      -123.057500  2021-05-27 10:58:40\n",
       "\n",
       "[90000 rows x 5 columns]"
      ]
     },
     "execution_count": 22,
     "metadata": {},
     "output_type": "execute_result"
    }
   ],
   "source": [
    "b"
   ]
  },
  {
   "cell_type": "code",
   "execution_count": 17,
   "id": "637c1a97",
   "metadata": {},
   "outputs": [],
   "source": [
    "a2 = predict('datasets/sample_submission0.csv', bins_path, model_path)\n",
    "b2 = predict('datasets/sample_submission0_attacked.csv', bins_path, model_path)"
   ]
  },
  {
   "cell_type": "code",
   "execution_count": 18,
   "id": "24f0ff22",
   "metadata": {},
   "outputs": [
    {
     "data": {
      "text/html": [
       "<div>\n",
       "<style scoped>\n",
       "    .dataframe tbody tr th:only-of-type {\n",
       "        vertical-align: middle;\n",
       "    }\n",
       "\n",
       "    .dataframe tbody tr th {\n",
       "        vertical-align: top;\n",
       "    }\n",
       "\n",
       "    .dataframe thead th {\n",
       "        text-align: right;\n",
       "    }\n",
       "</style>\n",
       "<table border=\"1\" class=\"dataframe\">\n",
       "  <thead>\n",
       "    <tr style=\"text-align: right;\">\n",
       "      <th></th>\n",
       "      <th>user_id</th>\n",
       "      <th>target</th>\n",
       "    </tr>\n",
       "  </thead>\n",
       "  <tbody>\n",
       "    <tr>\n",
       "      <th>0</th>\n",
       "      <td>66</td>\n",
       "      <td>0.041682</td>\n",
       "    </tr>\n",
       "    <tr>\n",
       "      <th>1</th>\n",
       "      <td>30619</td>\n",
       "      <td>0.016743</td>\n",
       "    </tr>\n",
       "  </tbody>\n",
       "</table>\n",
       "</div>"
      ],
      "text/plain": [
       "   user_id    target\n",
       "0       66  0.041682\n",
       "1    30619  0.016743"
      ]
     },
     "execution_count": 18,
     "metadata": {},
     "output_type": "execute_result"
    }
   ],
   "source": [
    "a2"
   ]
  },
  {
   "cell_type": "code",
   "execution_count": 19,
   "id": "a49c25b1",
   "metadata": {},
   "outputs": [
    {
     "data": {
      "text/html": [
       "<div>\n",
       "<style scoped>\n",
       "    .dataframe tbody tr th:only-of-type {\n",
       "        vertical-align: middle;\n",
       "    }\n",
       "\n",
       "    .dataframe tbody tr th {\n",
       "        vertical-align: top;\n",
       "    }\n",
       "\n",
       "    .dataframe thead th {\n",
       "        text-align: right;\n",
       "    }\n",
       "</style>\n",
       "<table border=\"1\" class=\"dataframe\">\n",
       "  <thead>\n",
       "    <tr style=\"text-align: right;\">\n",
       "      <th></th>\n",
       "      <th>user_id</th>\n",
       "      <th>target</th>\n",
       "    </tr>\n",
       "  </thead>\n",
       "  <tbody>\n",
       "    <tr>\n",
       "      <th>0</th>\n",
       "      <td>66</td>\n",
       "      <td>0.019294</td>\n",
       "    </tr>\n",
       "    <tr>\n",
       "      <th>1</th>\n",
       "      <td>30619</td>\n",
       "      <td>0.017529</td>\n",
       "    </tr>\n",
       "  </tbody>\n",
       "</table>\n",
       "</div>"
      ],
      "text/plain": [
       "   user_id    target\n",
       "0       66  0.019294\n",
       "1    30619  0.017529"
      ]
     },
     "execution_count": 19,
     "metadata": {},
     "output_type": "execute_result"
    }
   ],
   "source": [
    "b2"
   ]
  },
  {
   "cell_type": "code",
   "execution_count": 20,
   "id": "764935b2",
   "metadata": {},
   "outputs": [],
   "source": [
    "a2['true_target'] = a2.target.apply(lambda x: 0 if x <= threshold else 1)"
   ]
  },
  {
   "cell_type": "code",
   "execution_count": 21,
   "id": "239e92ff",
   "metadata": {},
   "outputs": [
    {
     "data": {
      "text/html": [
       "<div>\n",
       "<style scoped>\n",
       "    .dataframe tbody tr th:only-of-type {\n",
       "        vertical-align: middle;\n",
       "    }\n",
       "\n",
       "    .dataframe tbody tr th {\n",
       "        vertical-align: top;\n",
       "    }\n",
       "\n",
       "    .dataframe thead th {\n",
       "        text-align: right;\n",
       "    }\n",
       "</style>\n",
       "<table border=\"1\" class=\"dataframe\">\n",
       "  <thead>\n",
       "    <tr style=\"text-align: right;\">\n",
       "      <th></th>\n",
       "      <th>user_id</th>\n",
       "      <th>target</th>\n",
       "      <th>true_target</th>\n",
       "    </tr>\n",
       "  </thead>\n",
       "  <tbody>\n",
       "    <tr>\n",
       "      <th>0</th>\n",
       "      <td>66</td>\n",
       "      <td>0.041682</td>\n",
       "      <td>1</td>\n",
       "    </tr>\n",
       "    <tr>\n",
       "      <th>1</th>\n",
       "      <td>30619</td>\n",
       "      <td>0.016743</td>\n",
       "      <td>0</td>\n",
       "    </tr>\n",
       "  </tbody>\n",
       "</table>\n",
       "</div>"
      ],
      "text/plain": [
       "   user_id    target  true_target\n",
       "0       66  0.041682            1\n",
       "1    30619  0.016743            0"
      ]
     },
     "execution_count": 21,
     "metadata": {},
     "output_type": "execute_result"
    }
   ],
   "source": [
    "a2"
   ]
  },
  {
   "cell_type": "code",
   "execution_count": 22,
   "id": "a23ec21f",
   "metadata": {},
   "outputs": [
    {
     "data": {
      "text/plain": [
       "1.0"
      ]
     },
     "execution_count": 22,
     "metadata": {},
     "output_type": "execute_result"
    }
   ],
   "source": [
    "roc_auc_score(a2['true_target'], a2['target'])"
   ]
  },
  {
   "cell_type": "code",
   "execution_count": 23,
   "id": "77cccb48",
   "metadata": {},
   "outputs": [
    {
     "data": {
      "text/plain": [
       "1.0"
      ]
     },
     "execution_count": 23,
     "metadata": {},
     "output_type": "execute_result"
    }
   ],
   "source": [
    "roc_auc_score(a2['true_target'], b2['target'])"
   ]
  },
  {
   "cell_type": "markdown",
   "id": "5843c046-6710-4116-867e-669d073d5b08",
   "metadata": {},
   "source": [
    "!!! разделить на 14 (число процессов) датасетов (по 300 пользователей в каждом)"
   ]
  },
  {
   "cell_type": "code",
   "execution_count": 24,
   "id": "e01620db",
   "metadata": {},
   "outputs": [],
   "source": [
    "transactions_path = \"../sample_submission.csv\"    # путь до файла с транзакциями, которые атакуются\n",
    "t = pd.read_csv(transactions_path)"
   ]
  },
  {
   "cell_type": "code",
   "execution_count": 38,
   "id": "68fa1fc6",
   "metadata": {},
   "outputs": [
    {
     "data": {
      "text/plain": [
       "(700,)"
      ]
     },
     "execution_count": 38,
     "metadata": {},
     "output_type": "execute_result"
    }
   ],
   "source": [
    "t.user_id.unique()[::6].shape"
   ]
  },
  {
   "cell_type": "code",
   "execution_count": 54,
   "id": "26ba84dd",
   "metadata": {},
   "outputs": [
    {
     "name": "stderr",
     "output_type": "stream",
     "text": [
      "C:\\Users\\zekat\\AppData\\Local\\Temp\\ipykernel_3872\\2182086092.py:1: DeprecationWarning: elementwise comparison failed; this will raise an error in the future.\n",
      "  t.user_id.unique()[::6] == t.user_id.values\n"
     ]
    },
    {
     "data": {
      "text/plain": [
       "False"
      ]
     },
     "execution_count": 54,
     "metadata": {},
     "output_type": "execute_result"
    }
   ],
   "source": [
    "t.user_id.unique()[::6] == t.user_id.values"
   ]
  },
  {
   "cell_type": "code",
   "execution_count": 27,
   "id": "a074a845",
   "metadata": {},
   "outputs": [
    {
     "data": {
      "text/html": [
       "<div>\n",
       "<style scoped>\n",
       "    .dataframe tbody tr th:only-of-type {\n",
       "        vertical-align: middle;\n",
       "    }\n",
       "\n",
       "    .dataframe tbody tr th {\n",
       "        vertical-align: top;\n",
       "    }\n",
       "\n",
       "    .dataframe thead th {\n",
       "        text-align: right;\n",
       "    }\n",
       "</style>\n",
       "<table border=\"1\" class=\"dataframe\">\n",
       "  <thead>\n",
       "    <tr style=\"text-align: right;\">\n",
       "      <th></th>\n",
       "      <th>user_id</th>\n",
       "      <th>mcc_code</th>\n",
       "      <th>currency_rk</th>\n",
       "      <th>transaction_amt</th>\n",
       "      <th>transaction_dttm</th>\n",
       "    </tr>\n",
       "  </thead>\n",
       "  <tbody>\n",
       "    <tr>\n",
       "      <th>0</th>\n",
       "      <td>66</td>\n",
       "      <td>5812</td>\n",
       "      <td>48</td>\n",
       "      <td>-1842.949000</td>\n",
       "      <td>2021-05-17 11:30:42</td>\n",
       "    </tr>\n",
       "    <tr>\n",
       "      <th>1</th>\n",
       "      <td>66</td>\n",
       "      <td>4112</td>\n",
       "      <td>48</td>\n",
       "      <td>-283.283720</td>\n",
       "      <td>2021-05-17 12:59:02</td>\n",
       "    </tr>\n",
       "    <tr>\n",
       "      <th>2</th>\n",
       "      <td>66</td>\n",
       "      <td>5814</td>\n",
       "      <td>48</td>\n",
       "      <td>-73.820390</td>\n",
       "      <td>2021-05-17 14:04:09</td>\n",
       "    </tr>\n",
       "    <tr>\n",
       "      <th>3</th>\n",
       "      <td>66</td>\n",
       "      <td>4111</td>\n",
       "      <td>48</td>\n",
       "      <td>10.971557</td>\n",
       "      <td>2021-05-17 15:03:10</td>\n",
       "    </tr>\n",
       "    <tr>\n",
       "      <th>4</th>\n",
       "      <td>66</td>\n",
       "      <td>7991</td>\n",
       "      <td>48</td>\n",
       "      <td>-214.796420</td>\n",
       "      <td>2021-05-17 15:33:43</td>\n",
       "    </tr>\n",
       "    <tr>\n",
       "      <th>...</th>\n",
       "      <td>...</td>\n",
       "      <td>...</td>\n",
       "      <td>...</td>\n",
       "      <td>...</td>\n",
       "      <td>...</td>\n",
       "    </tr>\n",
       "    <tr>\n",
       "      <th>1215295</th>\n",
       "      <td>837766</td>\n",
       "      <td>6012</td>\n",
       "      <td>48</td>\n",
       "      <td>-1861.603500</td>\n",
       "      <td>2021-07-05 17:54:12</td>\n",
       "    </tr>\n",
       "    <tr>\n",
       "      <th>1215296</th>\n",
       "      <td>837766</td>\n",
       "      <td>9222</td>\n",
       "      <td>48</td>\n",
       "      <td>-234.367280</td>\n",
       "      <td>2021-07-05 18:39:39</td>\n",
       "    </tr>\n",
       "    <tr>\n",
       "      <th>1215297</th>\n",
       "      <td>837766</td>\n",
       "      <td>6538</td>\n",
       "      <td>48</td>\n",
       "      <td>-9210.702000</td>\n",
       "      <td>2021-07-09 07:52:28</td>\n",
       "    </tr>\n",
       "    <tr>\n",
       "      <th>1215298</th>\n",
       "      <td>837766</td>\n",
       "      <td>6538</td>\n",
       "      <td>48</td>\n",
       "      <td>-4383.066400</td>\n",
       "      <td>2021-07-13 15:15:05</td>\n",
       "    </tr>\n",
       "    <tr>\n",
       "      <th>1215299</th>\n",
       "      <td>837766</td>\n",
       "      <td>6538</td>\n",
       "      <td>48</td>\n",
       "      <td>-18183.031000</td>\n",
       "      <td>2021-07-21 09:25:57</td>\n",
       "    </tr>\n",
       "  </tbody>\n",
       "</table>\n",
       "<p>8400 rows × 5 columns</p>\n",
       "</div>"
      ],
      "text/plain": [
       "         user_id  mcc_code  currency_rk  transaction_amt     transaction_dttm\n",
       "0             66      5812           48     -1842.949000  2021-05-17 11:30:42\n",
       "1             66      4112           48      -283.283720  2021-05-17 12:59:02\n",
       "2             66      5814           48       -73.820390  2021-05-17 14:04:09\n",
       "3             66      4111           48        10.971557  2021-05-17 15:03:10\n",
       "4             66      7991           48      -214.796420  2021-05-17 15:33:43\n",
       "...          ...       ...          ...              ...                  ...\n",
       "1215295   837766      6012           48     -1861.603500  2021-07-05 17:54:12\n",
       "1215296   837766      9222           48      -234.367280  2021-07-05 18:39:39\n",
       "1215297   837766      6538           48     -9210.702000  2021-07-09 07:52:28\n",
       "1215298   837766      6538           48     -4383.066400  2021-07-13 15:15:05\n",
       "1215299   837766      6538           48    -18183.031000  2021-07-21 09:25:57\n",
       "\n",
       "[8400 rows x 5 columns]"
      ]
     },
     "execution_count": 27,
     "metadata": {},
     "output_type": "execute_result"
    }
   ],
   "source": [
    "t[t['user_id'].isin(t.user_id.unique()[::150])]"
   ]
  },
  {
   "cell_type": "code",
   "execution_count": 33,
   "id": "e3abd4ca",
   "metadata": {},
   "outputs": [
    {
     "data": {
      "text/plain": [
       "28.0"
      ]
     },
     "execution_count": 33,
     "metadata": {},
     "output_type": "execute_result"
    }
   ],
   "source": [
    "8400/300"
   ]
  },
  {
   "cell_type": "code",
   "execution_count": 32,
   "id": "ce62ac84",
   "metadata": {},
   "outputs": [
    {
     "data": {
      "text/plain": [
       "array([    66,  30619,  63143,  96931, 129633, 161463, 191514, 223360,\n",
       "       255524, 281362, 309584, 338977, 366426, 398573, 431079, 459496,\n",
       "       489397, 521490, 551521, 582641, 611615, 644130, 673731, 708158,\n",
       "       743700, 776923, 808488, 837766], dtype=int64)"
      ]
     },
     "execution_count": 32,
     "metadata": {},
     "output_type": "execute_result"
    }
   ],
   "source": [
    "t[t['user_id'].isin(t.user_id.unique()[::150])].user_id.unique()"
   ]
  },
  {
   "cell_type": "code",
   "execution_count": null,
   "id": "cb93dd02",
   "metadata": {},
   "outputs": [],
   "source": [
    "t = t[t['user_id'].isin(t.user_id.unique()[::12])]\n",
    "t.shape"
   ]
  },
  {
   "cell_type": "code",
   "execution_count": 28,
   "id": "390c3c4a-4e53-4cd1-b1a1-6f0fc2887c6d",
   "metadata": {},
   "outputs": [
    {
     "data": {
      "text/html": [
       "<div>\n",
       "<style scoped>\n",
       "    .dataframe tbody tr th:only-of-type {\n",
       "        vertical-align: middle;\n",
       "    }\n",
       "\n",
       "    .dataframe tbody tr th {\n",
       "        vertical-align: top;\n",
       "    }\n",
       "\n",
       "    .dataframe thead th {\n",
       "        text-align: right;\n",
       "    }\n",
       "</style>\n",
       "<table border=\"1\" class=\"dataframe\">\n",
       "  <thead>\n",
       "    <tr style=\"text-align: right;\">\n",
       "      <th></th>\n",
       "      <th>user_id</th>\n",
       "      <th>mcc_code</th>\n",
       "      <th>currency_rk</th>\n",
       "      <th>transaction_amt</th>\n",
       "      <th>transaction_dttm</th>\n",
       "    </tr>\n",
       "  </thead>\n",
       "  <tbody>\n",
       "    <tr>\n",
       "      <th>1259995</th>\n",
       "      <td>868873</td>\n",
       "      <td>5533</td>\n",
       "      <td>48</td>\n",
       "      <td>-458.10983</td>\n",
       "      <td>2021-06-27 09:25:53</td>\n",
       "    </tr>\n",
       "    <tr>\n",
       "      <th>1259996</th>\n",
       "      <td>868873</td>\n",
       "      <td>5411</td>\n",
       "      <td>48</td>\n",
       "      <td>-257.35254</td>\n",
       "      <td>2021-06-29 07:00:31</td>\n",
       "    </tr>\n",
       "    <tr>\n",
       "      <th>1259997</th>\n",
       "      <td>868873</td>\n",
       "      <td>5921</td>\n",
       "      <td>48</td>\n",
       "      <td>-446.21378</td>\n",
       "      <td>2021-06-30 02:26:42</td>\n",
       "    </tr>\n",
       "    <tr>\n",
       "      <th>1259998</th>\n",
       "      <td>868873</td>\n",
       "      <td>5411</td>\n",
       "      <td>48</td>\n",
       "      <td>-261.24158</td>\n",
       "      <td>2021-06-30 11:34:35</td>\n",
       "    </tr>\n",
       "    <tr>\n",
       "      <th>1259999</th>\n",
       "      <td>868873</td>\n",
       "      <td>5533</td>\n",
       "      <td>48</td>\n",
       "      <td>-169.16957</td>\n",
       "      <td>2021-07-02 07:22:38</td>\n",
       "    </tr>\n",
       "  </tbody>\n",
       "</table>\n",
       "</div>"
      ],
      "text/plain": [
       "         user_id  mcc_code  currency_rk  transaction_amt     transaction_dttm\n",
       "1259995   868873      5533           48       -458.10983  2021-06-27 09:25:53\n",
       "1259996   868873      5411           48       -257.35254  2021-06-29 07:00:31\n",
       "1259997   868873      5921           48       -446.21378  2021-06-30 02:26:42\n",
       "1259998   868873      5411           48       -261.24158  2021-06-30 11:34:35\n",
       "1259999   868873      5533           48       -169.16957  2021-07-02 07:22:38"
      ]
     },
     "execution_count": 28,
     "metadata": {},
     "output_type": "execute_result"
    }
   ],
   "source": [
    "t.tail()"
   ]
  },
  {
   "cell_type": "code",
   "execution_count": 26,
   "id": "75711591",
   "metadata": {},
   "outputs": [
    {
     "data": {
      "text/html": [
       "<div>\n",
       "<style scoped>\n",
       "    .dataframe tbody tr th:only-of-type {\n",
       "        vertical-align: middle;\n",
       "    }\n",
       "\n",
       "    .dataframe tbody tr th {\n",
       "        vertical-align: top;\n",
       "    }\n",
       "\n",
       "    .dataframe thead th {\n",
       "        text-align: right;\n",
       "    }\n",
       "</style>\n",
       "<table border=\"1\" class=\"dataframe\">\n",
       "  <thead>\n",
       "    <tr style=\"text-align: right;\">\n",
       "      <th></th>\n",
       "      <th>user_id</th>\n",
       "      <th>mcc_code</th>\n",
       "      <th>currency_rk</th>\n",
       "      <th>transaction_amt</th>\n",
       "      <th>transaction_dttm</th>\n",
       "    </tr>\n",
       "  </thead>\n",
       "  <tbody>\n",
       "    <tr>\n",
       "      <th>1170000</th>\n",
       "      <td>808488</td>\n",
       "      <td>6011</td>\n",
       "      <td>48</td>\n",
       "      <td>-12913.06300</td>\n",
       "      <td>2020-08-18 06:06:24</td>\n",
       "    </tr>\n",
       "    <tr>\n",
       "      <th>1170001</th>\n",
       "      <td>808488</td>\n",
       "      <td>5732</td>\n",
       "      <td>48</td>\n",
       "      <td>-266.99826</td>\n",
       "      <td>2020-08-18 06:50:43</td>\n",
       "    </tr>\n",
       "    <tr>\n",
       "      <th>1170002</th>\n",
       "      <td>808488</td>\n",
       "      <td>5499</td>\n",
       "      <td>48</td>\n",
       "      <td>-94.38989</td>\n",
       "      <td>2020-08-20 07:45:39</td>\n",
       "    </tr>\n",
       "    <tr>\n",
       "      <th>1170003</th>\n",
       "      <td>808488</td>\n",
       "      <td>5499</td>\n",
       "      <td>48</td>\n",
       "      <td>-99.58463</td>\n",
       "      <td>2020-08-21 09:26:51</td>\n",
       "    </tr>\n",
       "    <tr>\n",
       "      <th>1170004</th>\n",
       "      <td>808488</td>\n",
       "      <td>6011</td>\n",
       "      <td>48</td>\n",
       "      <td>-3740.74200</td>\n",
       "      <td>2020-08-24 00:48:09</td>\n",
       "    </tr>\n",
       "    <tr>\n",
       "      <th>...</th>\n",
       "      <td>...</td>\n",
       "      <td>...</td>\n",
       "      <td>...</td>\n",
       "      <td>...</td>\n",
       "      <td>...</td>\n",
       "    </tr>\n",
       "    <tr>\n",
       "      <th>1259995</th>\n",
       "      <td>868873</td>\n",
       "      <td>5533</td>\n",
       "      <td>48</td>\n",
       "      <td>-458.10983</td>\n",
       "      <td>2021-06-27 09:25:53</td>\n",
       "    </tr>\n",
       "    <tr>\n",
       "      <th>1259996</th>\n",
       "      <td>868873</td>\n",
       "      <td>5411</td>\n",
       "      <td>48</td>\n",
       "      <td>-257.35254</td>\n",
       "      <td>2021-06-29 07:00:31</td>\n",
       "    </tr>\n",
       "    <tr>\n",
       "      <th>1259997</th>\n",
       "      <td>868873</td>\n",
       "      <td>5921</td>\n",
       "      <td>48</td>\n",
       "      <td>-446.21378</td>\n",
       "      <td>2021-06-30 02:26:42</td>\n",
       "    </tr>\n",
       "    <tr>\n",
       "      <th>1259998</th>\n",
       "      <td>868873</td>\n",
       "      <td>5411</td>\n",
       "      <td>48</td>\n",
       "      <td>-261.24158</td>\n",
       "      <td>2021-06-30 11:34:35</td>\n",
       "    </tr>\n",
       "    <tr>\n",
       "      <th>1259999</th>\n",
       "      <td>868873</td>\n",
       "      <td>5533</td>\n",
       "      <td>48</td>\n",
       "      <td>-169.16957</td>\n",
       "      <td>2021-07-02 07:22:38</td>\n",
       "    </tr>\n",
       "  </tbody>\n",
       "</table>\n",
       "<p>90000 rows × 5 columns</p>\n",
       "</div>"
      ],
      "text/plain": [
       "         user_id  mcc_code  currency_rk  transaction_amt     transaction_dttm\n",
       "1170000   808488      6011           48     -12913.06300  2020-08-18 06:06:24\n",
       "1170001   808488      5732           48       -266.99826  2020-08-18 06:50:43\n",
       "1170002   808488      5499           48        -94.38989  2020-08-20 07:45:39\n",
       "1170003   808488      5499           48        -99.58463  2020-08-21 09:26:51\n",
       "1170004   808488      6011           48      -3740.74200  2020-08-24 00:48:09\n",
       "...          ...       ...          ...              ...                  ...\n",
       "1259995   868873      5533           48       -458.10983  2021-06-27 09:25:53\n",
       "1259996   868873      5411           48       -257.35254  2021-06-29 07:00:31\n",
       "1259997   868873      5921           48       -446.21378  2021-06-30 02:26:42\n",
       "1259998   868873      5411           48       -261.24158  2021-06-30 11:34:35\n",
       "1259999   868873      5533           48       -169.16957  2021-07-02 07:22:38\n",
       "\n",
       "[90000 rows x 5 columns]"
      ]
     },
     "execution_count": 26,
     "metadata": {},
     "output_type": "execute_result"
    }
   ],
   "source": [
    "t.iloc[90000*13:90000*(13+1)]"
   ]
  },
  {
   "cell_type": "code",
   "execution_count": 31,
   "id": "55c75ab5-caee-4997-9bb3-0ba218ab5152",
   "metadata": {},
   "outputs": [],
   "source": [
    "import pandas as pd\n",
    "\n",
    "transactions_path = \"../sample_submission.csv\"    # путь до файла с транзакциями, которые атакуются\n",
    "t = pd.read_csv(transactions_path)\n",
    "# t = t[t['user_id'].isin(t.user_id.unique()[::150])]\n",
    "# split = t.shape[0] // 14\n",
    "split = 90000\n",
    "for i in range(14):\n",
    "    t.iloc[split*i:split*(i+1)].to_csv(f'datasets/sample_submission{i}.csv', index=True)\n",
    "\n",
    "    # 0 90k\n",
    "    # 90k 180k\n",
    "    # 180k 270k\n",
    "    # ...\n",
    "    # 1170k 1260k"
   ]
  },
  {
   "cell_type": "code",
   "execution_count": null,
   "id": "ad5cf082-2d48-4cb6-a0a6-c4e5d47fe1aa",
   "metadata": {},
   "outputs": [],
   "source": []
  },
  {
   "cell_type": "code",
   "execution_count": 1,
   "id": "b1be5f93-384e-47d0-8678-7e3304f01744",
   "metadata": {},
   "outputs": [],
   "source": [
    "import pandas as pd"
   ]
  },
  {
   "cell_type": "code",
   "execution_count": 30,
   "id": "aa74a26b-086c-4064-84a9-38886e783b02",
   "metadata": {
    "collapsed": true,
    "jupyter": {
     "outputs_hidden": true
    },
    "tags": []
   },
   "outputs": [
    {
     "name": "stdout",
     "output_type": "stream",
     "text": [
      "[808488 808940 809017 809608 809828 809995 811473 811486 811718 811731\n",
      " 811821 811829 811832 811907 812105 812166 812263 812512 812788 813041\n",
      " 813135 813641 813690 813752 814083 814339 814425 814430 814663 814711\n",
      " 814882 816086 816124 816337 816338 816417 816736 816739 816802 816881\n",
      " 817150 817189 817275 817292 817565 817595 817669 818017 818263 818271\n",
      " 818295 818333 818537 818660 819128 819135 819328 819348 819765 819875\n",
      " 819963 820135 820443 820741 820744 820844 820959 821776 822074 822670\n",
      " 822966 822968 823128 823169 823831 823941 824050 824490 824525 824623\n",
      " 824777 824914 825376 825389 825841 825938 826217 826360 826572 826592\n",
      " 826706 826816 826822 827372 827719 827856 828003 828181 828202 828227\n",
      " 828265 828501 828768 828998 829037 829187 829240 829358 829571 829585\n",
      " 829633 829814 829944 829974 830119 830448 830512 830695 830811 831314\n",
      " 831545 831984 832160 832862 833132 833207 833225 833569 833712 833729\n",
      " 834140 834348 834431 834522 834558 834834 834963 835487 835507 836148\n",
      " 836535 836543 836646 836686 836694 836755 836997 837025 837316 837336\n",
      " 837766 837909 838403 838697 838811 839489 839689 839800 840157 840414\n",
      " 840458 840564 840727 840763 840779 840815 841088 841370 841508 841552\n",
      " 841763 842378 842432 842920 843656 843684 844084 844172 844382 844813\n",
      " 844920 845061 845149 845173 845727 845804 846208 846396 846817 846844\n",
      " 847261 847302 847569 847746 847920 847983 848321 848427 848489 848811\n",
      " 848849 849254 849398 849634 850083 850101 850239 850997 851158 851273\n",
      " 851424 851629 851916 851981 852038 852121 852291 852432 852577 852581\n",
      " 853013 853095 853148 853590 854175 854540 854677 854795 855343 855547\n",
      " 855761 856134 856311 856333 856648 856744 856751 856937 857433 857607\n",
      " 857704 857855 858023 858036 858044 858098 858266 858439 858841 858918\n",
      " 858921 859016 859119 859142 859217 859297 859411 859433 859521 859756\n",
      " 859836 860128 860155 860627 860675 860703 861177 861838 862069 862347\n",
      " 862407 862503 863076 863220 863363 863379 863404 863437 863559 863592\n",
      " 863715 864394 864894 864997 865156 865910 866012 866037 866501 866931\n",
      " 867716 867809 867922 867944 867994 868183 868407 868573 868694 868873]\n"
     ]
    },
    {
     "data": {
      "text/html": [
       "<div>\n",
       "<style scoped>\n",
       "    .dataframe tbody tr th:only-of-type {\n",
       "        vertical-align: middle;\n",
       "    }\n",
       "\n",
       "    .dataframe tbody tr th {\n",
       "        vertical-align: top;\n",
       "    }\n",
       "\n",
       "    .dataframe thead th {\n",
       "        text-align: right;\n",
       "    }\n",
       "</style>\n",
       "<table border=\"1\" class=\"dataframe\">\n",
       "  <thead>\n",
       "    <tr style=\"text-align: right;\">\n",
       "      <th></th>\n",
       "      <th>user_id</th>\n",
       "      <th>mcc_code</th>\n",
       "      <th>currency_rk</th>\n",
       "      <th>transaction_amt</th>\n",
       "      <th>transaction_dttm</th>\n",
       "    </tr>\n",
       "  </thead>\n",
       "  <tbody>\n",
       "    <tr>\n",
       "      <th>1259700</th>\n",
       "      <td>868873</td>\n",
       "      <td>5533</td>\n",
       "      <td>48</td>\n",
       "      <td>-291.47003</td>\n",
       "      <td>2020-12-29 09:04:41</td>\n",
       "    </tr>\n",
       "    <tr>\n",
       "      <th>1259701</th>\n",
       "      <td>868873</td>\n",
       "      <td>5499</td>\n",
       "      <td>48</td>\n",
       "      <td>-434.34512</td>\n",
       "      <td>2020-12-30 02:52:13</td>\n",
       "    </tr>\n",
       "    <tr>\n",
       "      <th>1259702</th>\n",
       "      <td>868873</td>\n",
       "      <td>4112</td>\n",
       "      <td>48</td>\n",
       "      <td>-989.21814</td>\n",
       "      <td>2020-12-30 03:05:39</td>\n",
       "    </tr>\n",
       "    <tr>\n",
       "      <th>1259703</th>\n",
       "      <td>868873</td>\n",
       "      <td>4112</td>\n",
       "      <td>48</td>\n",
       "      <td>-980.56130</td>\n",
       "      <td>2020-12-30 03:30:27</td>\n",
       "    </tr>\n",
       "    <tr>\n",
       "      <th>1259704</th>\n",
       "      <td>868873</td>\n",
       "      <td>4112</td>\n",
       "      <td>48</td>\n",
       "      <td>-1187.31420</td>\n",
       "      <td>2020-12-30 03:34:57</td>\n",
       "    </tr>\n",
       "    <tr>\n",
       "      <th>...</th>\n",
       "      <td>...</td>\n",
       "      <td>...</td>\n",
       "      <td>...</td>\n",
       "      <td>...</td>\n",
       "      <td>...</td>\n",
       "    </tr>\n",
       "    <tr>\n",
       "      <th>1259995</th>\n",
       "      <td>868873</td>\n",
       "      <td>5533</td>\n",
       "      <td>48</td>\n",
       "      <td>-458.10983</td>\n",
       "      <td>2021-06-27 09:25:53</td>\n",
       "    </tr>\n",
       "    <tr>\n",
       "      <th>1259996</th>\n",
       "      <td>868873</td>\n",
       "      <td>5411</td>\n",
       "      <td>48</td>\n",
       "      <td>-257.35254</td>\n",
       "      <td>2021-06-29 07:00:31</td>\n",
       "    </tr>\n",
       "    <tr>\n",
       "      <th>1259997</th>\n",
       "      <td>868873</td>\n",
       "      <td>5921</td>\n",
       "      <td>48</td>\n",
       "      <td>-446.21378</td>\n",
       "      <td>2021-06-30 02:26:42</td>\n",
       "    </tr>\n",
       "    <tr>\n",
       "      <th>1259998</th>\n",
       "      <td>868873</td>\n",
       "      <td>5411</td>\n",
       "      <td>48</td>\n",
       "      <td>-261.24158</td>\n",
       "      <td>2021-06-30 11:34:35</td>\n",
       "    </tr>\n",
       "    <tr>\n",
       "      <th>1259999</th>\n",
       "      <td>868873</td>\n",
       "      <td>5533</td>\n",
       "      <td>48</td>\n",
       "      <td>-169.16957</td>\n",
       "      <td>2021-07-02 07:22:38</td>\n",
       "    </tr>\n",
       "  </tbody>\n",
       "</table>\n",
       "<p>300 rows × 5 columns</p>\n",
       "</div>"
      ],
      "text/plain": [
       "         user_id  mcc_code  currency_rk  transaction_amt     transaction_dttm\n",
       "1259700   868873      5533           48       -291.47003  2020-12-29 09:04:41\n",
       "1259701   868873      5499           48       -434.34512  2020-12-30 02:52:13\n",
       "1259702   868873      4112           48       -989.21814  2020-12-30 03:05:39\n",
       "1259703   868873      4112           48       -980.56130  2020-12-30 03:30:27\n",
       "1259704   868873      4112           48      -1187.31420  2020-12-30 03:34:57\n",
       "...          ...       ...          ...              ...                  ...\n",
       "1259995   868873      5533           48       -458.10983  2021-06-27 09:25:53\n",
       "1259996   868873      5411           48       -257.35254  2021-06-29 07:00:31\n",
       "1259997   868873      5921           48       -446.21378  2021-06-30 02:26:42\n",
       "1259998   868873      5411           48       -261.24158  2021-06-30 11:34:35\n",
       "1259999   868873      5533           48       -169.16957  2021-07-02 07:22:38\n",
       "\n",
       "[300 rows x 5 columns]"
      ]
     },
     "execution_count": 30,
     "metadata": {},
     "output_type": "execute_result"
    }
   ],
   "source": [
    "ts = pd.read_csv('datasets/sample_submission13.csv', index_col=0)\n",
    "print(ts.user_id.unique())\n",
    "ts.loc[ts.user_id == ts.user_id.unique()[-1]]"
   ]
  },
  {
   "cell_type": "code",
   "execution_count": 20,
   "id": "2fe33e7d-db60-4ce6-a75e-7937b1a361f9",
   "metadata": {},
   "outputs": [
    {
     "data": {
      "text/plain": [
       "'datasets/sample_submission0_attacked.csv'"
      ]
     },
     "execution_count": 20,
     "metadata": {},
     "output_type": "execute_result"
    }
   ],
   "source": [
    "'datasets/sample_submission0.csv'[:-4] + '_attacked.csv'"
   ]
  },
  {
   "cell_type": "code",
   "execution_count": 17,
   "id": "1d44ed07-fdf2-45da-84c7-0096641bdd83",
   "metadata": {},
   "outputs": [],
   "source": [
    "df_attacked1 = pd.read_csv('datasets/sample_submission0_attacked.csv')\n",
    "df_attacked2 = pd.read_csv('datasets/sample_submission1_attacked.csv')\n",
    "df_attacked3 = pd.read_csv('datasets/sample_submission2_attacked.csv')\n",
    "df_attacked4 = pd.read_csv('datasets/sample_submission3_attacked.csv')"
   ]
  },
  {
   "cell_type": "code",
   "execution_count": 23,
   "id": "2cddfdc1-50a6-455e-b0a5-9ddc21014540",
   "metadata": {},
   "outputs": [],
   "source": [
    "df_attacked = pd.concat([df_attacked1, df_attacked2, df_attacked3, df_attacked4], ignore_index=True)\n",
    "attacked_path = \"brute_atack.csv\"\n",
    "df_attacked.to_csv(attacked_path, index=False)"
   ]
  },
  {
   "cell_type": "code",
   "execution_count": 20,
   "id": "36518a02-b66e-41b0-b37f-71e5b33185e9",
   "metadata": {},
   "outputs": [],
   "source": [
    "transactions_path = \"../sample_submission.csv\"    # путь до файла с транзакциями, которые атакуются\n",
    "t = pd.read_csv(transactions_path)"
   ]
  },
  {
   "cell_type": "code",
   "execution_count": 27,
   "id": "c9b29434-5553-4f7b-b6a5-03fe7ff5b3a7",
   "metadata": {},
   "outputs": [],
   "source": [
    "from model import predict # Функция, позволяет получить предсказание нейронки.\n",
    "from check_budget import check_budget # функция проверки бюджета. Проверяйте допустимость решения до сабмита\n",
    "from sklearn.metrics import roc_auc_score\n",
    "bins_path = \"nn_bins.pickle\" # путь до файла с бинами после тренировки модели (nn_bins.pickle)\n",
    "model_path = \"nn_weights.ckpt\" # путь до файла с весами нейронной сети (nn_weights.ckpt)\n",
    "quantiles_path = \"quantiles.json\" # путь до файла с квантилями для таргета (quantiles.pickle)"
   ]
  },
  {
   "cell_type": "code",
   "execution_count": 26,
   "id": "eac7367d-03e5-4434-ae8d-d0e8740cb04d",
   "metadata": {},
   "outputs": [],
   "source": [
    "train_data_path = \"../transactions_finetune.csv\" # X - train data\n",
    "train_target_path = \"../target_finetune.csv\" # y - true target\n",
    "threshold = pd.read_csv(train_target_path).target.mean() # примерный threshold трейна"
   ]
  },
  {
   "cell_type": "code",
   "execution_count": 30,
   "id": "df10ed1e-42f2-4f5e-b541-ed4eb210004b",
   "metadata": {},
   "outputs": [
    {
     "data": {
      "text/html": [
       "<div>\n",
       "<style scoped>\n",
       "    .dataframe tbody tr th:only-of-type {\n",
       "        vertical-align: middle;\n",
       "    }\n",
       "\n",
       "    .dataframe tbody tr th {\n",
       "        vertical-align: top;\n",
       "    }\n",
       "\n",
       "    .dataframe thead th {\n",
       "        text-align: right;\n",
       "    }\n",
       "</style>\n",
       "<table border=\"1\" class=\"dataframe\">\n",
       "  <thead>\n",
       "    <tr style=\"text-align: right;\">\n",
       "      <th></th>\n",
       "      <th>user_id</th>\n",
       "      <th>target</th>\n",
       "      <th>target_true</th>\n",
       "    </tr>\n",
       "  </thead>\n",
       "  <tbody>\n",
       "    <tr>\n",
       "      <th>0</th>\n",
       "      <td>66</td>\n",
       "      <td>0.030193</td>\n",
       "      <td>0</td>\n",
       "    </tr>\n",
       "    <tr>\n",
       "      <th>1</th>\n",
       "      <td>213</td>\n",
       "      <td>0.015984</td>\n",
       "      <td>0</td>\n",
       "    </tr>\n",
       "    <tr>\n",
       "      <th>2</th>\n",
       "      <td>345</td>\n",
       "      <td>0.103124</td>\n",
       "      <td>1</td>\n",
       "    </tr>\n",
       "    <tr>\n",
       "      <th>3</th>\n",
       "      <td>569</td>\n",
       "      <td>0.040291</td>\n",
       "      <td>1</td>\n",
       "    </tr>\n",
       "    <tr>\n",
       "      <th>4</th>\n",
       "      <td>573</td>\n",
       "      <td>0.029942</td>\n",
       "      <td>0</td>\n",
       "    </tr>\n",
       "    <tr>\n",
       "      <th>...</th>\n",
       "      <td>...</td>\n",
       "      <td>...</td>\n",
       "      <td>...</td>\n",
       "    </tr>\n",
       "    <tr>\n",
       "      <th>4195</th>\n",
       "      <td>868183</td>\n",
       "      <td>0.023982</td>\n",
       "      <td>0</td>\n",
       "    </tr>\n",
       "    <tr>\n",
       "      <th>4196</th>\n",
       "      <td>868407</td>\n",
       "      <td>0.044375</td>\n",
       "      <td>1</td>\n",
       "    </tr>\n",
       "    <tr>\n",
       "      <th>4197</th>\n",
       "      <td>868573</td>\n",
       "      <td>0.039456</td>\n",
       "      <td>1</td>\n",
       "    </tr>\n",
       "    <tr>\n",
       "      <th>4198</th>\n",
       "      <td>868694</td>\n",
       "      <td>0.022834</td>\n",
       "      <td>0</td>\n",
       "    </tr>\n",
       "    <tr>\n",
       "      <th>4199</th>\n",
       "      <td>868873</td>\n",
       "      <td>0.006237</td>\n",
       "      <td>0</td>\n",
       "    </tr>\n",
       "  </tbody>\n",
       "</table>\n",
       "<p>4200 rows × 3 columns</p>\n",
       "</div>"
      ],
      "text/plain": [
       "      user_id    target  target_true\n",
       "0          66  0.030193            0\n",
       "1         213  0.015984            0\n",
       "2         345  0.103124            1\n",
       "3         569  0.040291            1\n",
       "4         573  0.029942            0\n",
       "...       ...       ...          ...\n",
       "4195   868183  0.023982            0\n",
       "4196   868407  0.044375            1\n",
       "4197   868573  0.039456            1\n",
       "4198   868694  0.022834            0\n",
       "4199   868873  0.006237            0\n",
       "\n",
       "[4200 rows x 3 columns]"
      ]
     },
     "execution_count": 30,
     "metadata": {},
     "output_type": "execute_result"
    }
   ],
   "source": [
    "pred = predict('../sample_submission.csv', bins_path, model_path, random_seed=26041999)\n",
    "pred['target_true'] = pred.target.apply(lambda x: 0 if x <= threshold else 1)\n",
    "pred"
   ]
  },
  {
   "cell_type": "code",
   "execution_count": 31,
   "id": "732baf3e-c4f5-4997-afd9-ce8c6b316362",
   "metadata": {},
   "outputs": [
    {
     "data": {
      "text/html": [
       "<div>\n",
       "<style scoped>\n",
       "    .dataframe tbody tr th:only-of-type {\n",
       "        vertical-align: middle;\n",
       "    }\n",
       "\n",
       "    .dataframe tbody tr th {\n",
       "        vertical-align: top;\n",
       "    }\n",
       "\n",
       "    .dataframe thead th {\n",
       "        text-align: right;\n",
       "    }\n",
       "</style>\n",
       "<table border=\"1\" class=\"dataframe\">\n",
       "  <thead>\n",
       "    <tr style=\"text-align: right;\">\n",
       "      <th></th>\n",
       "      <th>user_id</th>\n",
       "      <th>target</th>\n",
       "    </tr>\n",
       "  </thead>\n",
       "  <tbody>\n",
       "    <tr>\n",
       "      <th>0</th>\n",
       "      <td>66</td>\n",
       "      <td>0.034895</td>\n",
       "    </tr>\n",
       "    <tr>\n",
       "      <th>1</th>\n",
       "      <td>213</td>\n",
       "      <td>0.067802</td>\n",
       "    </tr>\n",
       "    <tr>\n",
       "      <th>2</th>\n",
       "      <td>345</td>\n",
       "      <td>0.088202</td>\n",
       "    </tr>\n",
       "    <tr>\n",
       "      <th>3</th>\n",
       "      <td>569</td>\n",
       "      <td>0.081078</td>\n",
       "    </tr>\n",
       "    <tr>\n",
       "      <th>4</th>\n",
       "      <td>573</td>\n",
       "      <td>0.053403</td>\n",
       "    </tr>\n",
       "    <tr>\n",
       "      <th>...</th>\n",
       "      <td>...</td>\n",
       "      <td>...</td>\n",
       "    </tr>\n",
       "    <tr>\n",
       "      <th>4195</th>\n",
       "      <td>868183</td>\n",
       "      <td>0.029341</td>\n",
       "    </tr>\n",
       "    <tr>\n",
       "      <th>4196</th>\n",
       "      <td>868407</td>\n",
       "      <td>0.032024</td>\n",
       "    </tr>\n",
       "    <tr>\n",
       "      <th>4197</th>\n",
       "      <td>868573</td>\n",
       "      <td>0.015489</td>\n",
       "    </tr>\n",
       "    <tr>\n",
       "      <th>4198</th>\n",
       "      <td>868694</td>\n",
       "      <td>0.015818</td>\n",
       "    </tr>\n",
       "    <tr>\n",
       "      <th>4199</th>\n",
       "      <td>868873</td>\n",
       "      <td>0.009803</td>\n",
       "    </tr>\n",
       "  </tbody>\n",
       "</table>\n",
       "<p>4200 rows × 2 columns</p>\n",
       "</div>"
      ],
      "text/plain": [
       "      user_id    target\n",
       "0          66  0.034895\n",
       "1         213  0.067802\n",
       "2         345  0.088202\n",
       "3         569  0.081078\n",
       "4         573  0.053403\n",
       "...       ...       ...\n",
       "4195   868183  0.029341\n",
       "4196   868407  0.032024\n",
       "4197   868573  0.015489\n",
       "4198   868694  0.015818\n",
       "4199   868873  0.009803\n",
       "\n",
       "[4200 rows x 2 columns]"
      ]
     },
     "execution_count": 31,
     "metadata": {},
     "output_type": "execute_result"
    }
   ],
   "source": [
    "pred_attacked = predict(attacked_path, bins_path, model_path, random_seed=26041999)\n",
    "pred_attacked"
   ]
  },
  {
   "cell_type": "code",
   "execution_count": 32,
   "id": "fde1f54e-5fdd-4356-9f31-71e2df662ee1",
   "metadata": {},
   "outputs": [
    {
     "data": {
      "text/plain": [
       "1.0"
      ]
     },
     "execution_count": 32,
     "metadata": {},
     "output_type": "execute_result"
    }
   ],
   "source": [
    "roc_auc_score(pred['target_true'], pred['target'])"
   ]
  },
  {
   "cell_type": "code",
   "execution_count": 33,
   "id": "db6ece2d-dbb7-41b4-820e-d2d295e527a6",
   "metadata": {},
   "outputs": [
    {
     "data": {
      "text/plain": [
       "0.8464579775936287"
      ]
     },
     "execution_count": 33,
     "metadata": {},
     "output_type": "execute_result"
    }
   ],
   "source": [
    "roc_auc_score(pred['target_true'], pred_attacked['target'])"
   ]
  },
  {
   "cell_type": "code",
   "execution_count": 34,
   "id": "deba1922-8d51-4f16-a67d-3080b63d0657",
   "metadata": {},
   "outputs": [
    {
     "name": "stderr",
     "output_type": "stream",
     "text": [
      "100%|█████████████████████████████████████████████████████████████████████| 1260000/1260000 [00:34<00:00, 36878.17it/s]\n"
     ]
    },
    {
     "data": {
      "text/plain": [
       "True"
      ]
     },
     "execution_count": 34,
     "metadata": {},
     "output_type": "execute_result"
    }
   ],
   "source": [
    "check_budget(transactions_path, attacked_path, quantiles_path) # Не забываем проверять бюджет перед самбитом!"
   ]
  },
  {
   "cell_type": "code",
   "execution_count": 35,
   "id": "a2de4e3c-0cd4-4ea7-a44d-cef89c7efa20",
   "metadata": {},
   "outputs": [
    {
     "data": {
      "text/plain": [
       "'brute_atack.csv'"
      ]
     },
     "execution_count": 35,
     "metadata": {},
     "output_type": "execute_result"
    }
   ],
   "source": [
    "attacked_path"
   ]
  },
  {
   "cell_type": "code",
   "execution_count": 36,
   "id": "09a7524e-6b2e-4670-95a5-26a33d0fdcd2",
   "metadata": {},
   "outputs": [],
   "source": [
    "best_path = 'naive_submission2.csv'\n",
    "df_best = pd.read_csv(best_path)"
   ]
  },
  {
   "cell_type": "code",
   "execution_count": 56,
   "id": "59634ce7-db37-438d-978f-aa08e6a001a8",
   "metadata": {},
   "outputs": [],
   "source": [
    "pred_best = predict(best_path, bins_path, model_path, random_seed=26041999)"
   ]
  },
  {
   "cell_type": "code",
   "execution_count": 57,
   "id": "baea6af6-1789-4a60-9c45-cd2fb06dc761",
   "metadata": {},
   "outputs": [
    {
     "data": {
      "text/plain": [
       "0.7376394456315845"
      ]
     },
     "execution_count": 57,
     "metadata": {},
     "output_type": "execute_result"
    }
   ],
   "source": [
    "# best score\n",
    "roc_auc_score(pred['target_true'], pred_best['target'])"
   ]
  },
  {
   "cell_type": "code",
   "execution_count": null,
   "id": "799a4ba9-efec-4a09-b12b-d9878a2e856a",
   "metadata": {},
   "outputs": [],
   "source": []
  },
  {
   "cell_type": "code",
   "execution_count": null,
   "id": "0b186c4a-6eba-42da-a94c-da6001556772",
   "metadata": {},
   "outputs": [],
   "source": [
    "# айдишники в сабмите last 10\n",
    "# 829187 true_pred 1\n",
    "# 488752 true_pred 0\n",
    "# hero_user = 531067\n",
    "# poor_user = 830119"
   ]
  },
  {
   "cell_type": "code",
   "execution_count": null,
   "id": "cdb29180-2414-4446-8821-dc77b499bf78",
   "metadata": {},
   "outputs": [],
   "source": []
  },
  {
   "cell_type": "code",
   "execution_count": 71,
   "id": "3f47d211-a854-4095-9050-a7d09b962c72",
   "metadata": {},
   "outputs": [
    {
     "data": {
      "text/html": [
       "<div>\n",
       "<style scoped>\n",
       "    .dataframe tbody tr th:only-of-type {\n",
       "        vertical-align: middle;\n",
       "    }\n",
       "\n",
       "    .dataframe tbody tr th {\n",
       "        vertical-align: top;\n",
       "    }\n",
       "\n",
       "    .dataframe thead th {\n",
       "        text-align: right;\n",
       "    }\n",
       "</style>\n",
       "<table border=\"1\" class=\"dataframe\">\n",
       "  <thead>\n",
       "    <tr style=\"text-align: right;\">\n",
       "      <th></th>\n",
       "      <th>user_id</th>\n",
       "      <th>target</th>\n",
       "      <th>target_true</th>\n",
       "    </tr>\n",
       "  </thead>\n",
       "  <tbody>\n",
       "    <tr>\n",
       "      <th>2394</th>\n",
       "      <td>488752</td>\n",
       "      <td>0.001358</td>\n",
       "      <td>0</td>\n",
       "    </tr>\n",
       "  </tbody>\n",
       "</table>\n",
       "</div>"
      ],
      "text/plain": [
       "      user_id    target  target_true\n",
       "2394   488752  0.001358            0"
      ]
     },
     "execution_count": 71,
     "metadata": {},
     "output_type": "execute_result"
    }
   ],
   "source": [
    "pred.loc[pred.user_id == 488752]"
   ]
  },
  {
   "cell_type": "code",
   "execution_count": 74,
   "id": "ae52d225-7058-49fc-9a12-95c91f46d176",
   "metadata": {},
   "outputs": [
    {
     "data": {
      "text/html": [
       "<div>\n",
       "<style scoped>\n",
       "    .dataframe tbody tr th:only-of-type {\n",
       "        vertical-align: middle;\n",
       "    }\n",
       "\n",
       "    .dataframe tbody tr th {\n",
       "        vertical-align: top;\n",
       "    }\n",
       "\n",
       "    .dataframe thead th {\n",
       "        text-align: right;\n",
       "    }\n",
       "</style>\n",
       "<table border=\"1\" class=\"dataframe\">\n",
       "  <thead>\n",
       "    <tr style=\"text-align: right;\">\n",
       "      <th></th>\n",
       "      <th>user_id</th>\n",
       "      <th>target</th>\n",
       "      <th>target_true</th>\n",
       "    </tr>\n",
       "  </thead>\n",
       "  <tbody>\n",
       "    <tr>\n",
       "      <th>4014</th>\n",
       "      <td>830119</td>\n",
       "      <td>0.000427</td>\n",
       "      <td>0</td>\n",
       "    </tr>\n",
       "    <tr>\n",
       "      <th>1098</th>\n",
       "      <td>233068</td>\n",
       "      <td>0.000558</td>\n",
       "      <td>0</td>\n",
       "    </tr>\n",
       "    <tr>\n",
       "      <th>346</th>\n",
       "      <td>73615</td>\n",
       "      <td>0.000658</td>\n",
       "      <td>0</td>\n",
       "    </tr>\n",
       "    <tr>\n",
       "      <th>1317</th>\n",
       "      <td>276759</td>\n",
       "      <td>0.000672</td>\n",
       "      <td>0</td>\n",
       "    </tr>\n",
       "    <tr>\n",
       "      <th>1526</th>\n",
       "      <td>313769</td>\n",
       "      <td>0.000865</td>\n",
       "      <td>0</td>\n",
       "    </tr>\n",
       "    <tr>\n",
       "      <th>...</th>\n",
       "      <td>...</td>\n",
       "      <td>...</td>\n",
       "      <td>...</td>\n",
       "    </tr>\n",
       "    <tr>\n",
       "      <th>737</th>\n",
       "      <td>158492</td>\n",
       "      <td>0.036854</td>\n",
       "      <td>0</td>\n",
       "    </tr>\n",
       "    <tr>\n",
       "      <th>2242</th>\n",
       "      <td>458250</td>\n",
       "      <td>0.036861</td>\n",
       "      <td>0</td>\n",
       "    </tr>\n",
       "    <tr>\n",
       "      <th>4100</th>\n",
       "      <td>848849</td>\n",
       "      <td>0.036957</td>\n",
       "      <td>0</td>\n",
       "    </tr>\n",
       "    <tr>\n",
       "      <th>3082</th>\n",
       "      <td>630649</td>\n",
       "      <td>0.036973</td>\n",
       "      <td>0</td>\n",
       "    </tr>\n",
       "    <tr>\n",
       "      <th>439</th>\n",
       "      <td>94905</td>\n",
       "      <td>0.036976</td>\n",
       "      <td>0</td>\n",
       "    </tr>\n",
       "  </tbody>\n",
       "</table>\n",
       "<p>2709 rows × 3 columns</p>\n",
       "</div>"
      ],
      "text/plain": [
       "      user_id    target  target_true\n",
       "4014   830119  0.000427            0\n",
       "1098   233068  0.000558            0\n",
       "346     73615  0.000658            0\n",
       "1317   276759  0.000672            0\n",
       "1526   313769  0.000865            0\n",
       "...       ...       ...          ...\n",
       "737    158492  0.036854            0\n",
       "2242   458250  0.036861            0\n",
       "4100   848849  0.036957            0\n",
       "3082   630649  0.036973            0\n",
       "439     94905  0.036976            0\n",
       "\n",
       "[2709 rows x 3 columns]"
      ]
     },
     "execution_count": 74,
     "metadata": {},
     "output_type": "execute_result"
    }
   ],
   "source": [
    "pred.loc[pred.target_true == 0].sort_values('target')"
   ]
  },
  {
   "cell_type": "code",
   "execution_count": 62,
   "id": "d44f1d2c-a161-4e84-a407-b1b8f6897a04",
   "metadata": {},
   "outputs": [
    {
     "data": {
      "text/html": [
       "<div>\n",
       "<style scoped>\n",
       "    .dataframe tbody tr th:only-of-type {\n",
       "        vertical-align: middle;\n",
       "    }\n",
       "\n",
       "    .dataframe tbody tr th {\n",
       "        vertical-align: top;\n",
       "    }\n",
       "\n",
       "    .dataframe thead th {\n",
       "        text-align: right;\n",
       "    }\n",
       "</style>\n",
       "<table border=\"1\" class=\"dataframe\">\n",
       "  <thead>\n",
       "    <tr style=\"text-align: right;\">\n",
       "      <th></th>\n",
       "      <th>user_id</th>\n",
       "      <th>target</th>\n",
       "      <th>target_true</th>\n",
       "    </tr>\n",
       "  </thead>\n",
       "  <tbody>\n",
       "    <tr>\n",
       "      <th>4005</th>\n",
       "      <td>829187</td>\n",
       "      <td>0.231564</td>\n",
       "      <td>1</td>\n",
       "    </tr>\n",
       "  </tbody>\n",
       "</table>\n",
       "</div>"
      ],
      "text/plain": [
       "      user_id    target  target_true\n",
       "4005   829187  0.231564            1"
      ]
     },
     "execution_count": 62,
     "metadata": {},
     "output_type": "execute_result"
    }
   ],
   "source": [
    "pred.loc[pred.user_id == 829187]"
   ]
  },
  {
   "cell_type": "code",
   "execution_count": 63,
   "id": "707e99ef-3389-4bec-a938-f9fdd3f93db2",
   "metadata": {},
   "outputs": [
    {
     "data": {
      "text/html": [
       "<div>\n",
       "<style scoped>\n",
       "    .dataframe tbody tr th:only-of-type {\n",
       "        vertical-align: middle;\n",
       "    }\n",
       "\n",
       "    .dataframe tbody tr th {\n",
       "        vertical-align: top;\n",
       "    }\n",
       "\n",
       "    .dataframe thead th {\n",
       "        text-align: right;\n",
       "    }\n",
       "</style>\n",
       "<table border=\"1\" class=\"dataframe\">\n",
       "  <thead>\n",
       "    <tr style=\"text-align: right;\">\n",
       "      <th></th>\n",
       "      <th>user_id</th>\n",
       "      <th>target</th>\n",
       "      <th>target_true</th>\n",
       "    </tr>\n",
       "  </thead>\n",
       "  <tbody>\n",
       "    <tr>\n",
       "      <th>2394</th>\n",
       "      <td>488752</td>\n",
       "      <td>0.001358</td>\n",
       "      <td>0</td>\n",
       "    </tr>\n",
       "  </tbody>\n",
       "</table>\n",
       "</div>"
      ],
      "text/plain": [
       "      user_id    target  target_true\n",
       "2394   488752  0.001358            0"
      ]
     },
     "execution_count": 63,
     "metadata": {},
     "output_type": "execute_result"
    }
   ],
   "source": [
    "pred.loc[pred.user_id == 488752]"
   ]
  },
  {
   "cell_type": "code",
   "execution_count": 65,
   "id": "d25153a8-9210-442f-b121-5ac38c57f279",
   "metadata": {},
   "outputs": [
    {
     "data": {
      "text/html": [
       "<div>\n",
       "<style scoped>\n",
       "    .dataframe tbody tr th:only-of-type {\n",
       "        vertical-align: middle;\n",
       "    }\n",
       "\n",
       "    .dataframe tbody tr th {\n",
       "        vertical-align: top;\n",
       "    }\n",
       "\n",
       "    .dataframe thead th {\n",
       "        text-align: right;\n",
       "    }\n",
       "</style>\n",
       "<table border=\"1\" class=\"dataframe\">\n",
       "  <thead>\n",
       "    <tr style=\"text-align: right;\">\n",
       "      <th></th>\n",
       "      <th>user_id</th>\n",
       "      <th>target</th>\n",
       "    </tr>\n",
       "  </thead>\n",
       "  <tbody>\n",
       "    <tr>\n",
       "      <th>2394</th>\n",
       "      <td>488752</td>\n",
       "      <td>0.006837</td>\n",
       "    </tr>\n",
       "  </tbody>\n",
       "</table>\n",
       "</div>"
      ],
      "text/plain": [
       "      user_id    target\n",
       "2394   488752  0.006837"
      ]
     },
     "execution_count": 65,
     "metadata": {},
     "output_type": "execute_result"
    }
   ],
   "source": [
    "pred_best.loc[pred_best.user_id == 829187]"
   ]
  },
  {
   "cell_type": "code",
   "execution_count": 59,
   "id": "f4980b1c-7559-4475-a13e-4d28476e2616",
   "metadata": {},
   "outputs": [
    {
     "data": {
      "text/html": [
       "<div>\n",
       "<style scoped>\n",
       "    .dataframe tbody tr th:only-of-type {\n",
       "        vertical-align: middle;\n",
       "    }\n",
       "\n",
       "    .dataframe tbody tr th {\n",
       "        vertical-align: top;\n",
       "    }\n",
       "\n",
       "    .dataframe thead th {\n",
       "        text-align: right;\n",
       "    }\n",
       "</style>\n",
       "<table border=\"1\" class=\"dataframe\">\n",
       "  <thead>\n",
       "    <tr style=\"text-align: right;\">\n",
       "      <th></th>\n",
       "      <th>user_id</th>\n",
       "      <th>mcc_code</th>\n",
       "      <th>currency_rk</th>\n",
       "      <th>transaction_amt</th>\n",
       "      <th>transaction_dttm</th>\n",
       "    </tr>\n",
       "  </thead>\n",
       "  <tbody>\n",
       "    <tr>\n",
       "      <th>1201500</th>\n",
       "      <td>829187</td>\n",
       "      <td>5331</td>\n",
       "      <td>48</td>\n",
       "      <td>-206.96848</td>\n",
       "      <td>2020-11-25 12:27:10</td>\n",
       "    </tr>\n",
       "    <tr>\n",
       "      <th>1201501</th>\n",
       "      <td>829187</td>\n",
       "      <td>5331</td>\n",
       "      <td>48</td>\n",
       "      <td>-153.09885</td>\n",
       "      <td>2020-11-26 02:07:45</td>\n",
       "    </tr>\n",
       "    <tr>\n",
       "      <th>1201502</th>\n",
       "      <td>829187</td>\n",
       "      <td>5331</td>\n",
       "      <td>48</td>\n",
       "      <td>-342.14197</td>\n",
       "      <td>2020-11-26 03:57:40</td>\n",
       "    </tr>\n",
       "    <tr>\n",
       "      <th>1201503</th>\n",
       "      <td>829187</td>\n",
       "      <td>5331</td>\n",
       "      <td>48</td>\n",
       "      <td>-152.63141</td>\n",
       "      <td>2020-11-27 01:54:18</td>\n",
       "    </tr>\n",
       "    <tr>\n",
       "      <th>1201504</th>\n",
       "      <td>829187</td>\n",
       "      <td>5331</td>\n",
       "      <td>48</td>\n",
       "      <td>-181.54138</td>\n",
       "      <td>2020-11-27 06:22:04</td>\n",
       "    </tr>\n",
       "    <tr>\n",
       "      <th>...</th>\n",
       "      <td>...</td>\n",
       "      <td>...</td>\n",
       "      <td>...</td>\n",
       "      <td>...</td>\n",
       "      <td>...</td>\n",
       "    </tr>\n",
       "    <tr>\n",
       "      <th>1201795</th>\n",
       "      <td>829187</td>\n",
       "      <td>6012</td>\n",
       "      <td>48</td>\n",
       "      <td>-934.84080</td>\n",
       "      <td>2021-07-01 12:31:01</td>\n",
       "    </tr>\n",
       "    <tr>\n",
       "      <th>1201796</th>\n",
       "      <td>829187</td>\n",
       "      <td>5499</td>\n",
       "      <td>48</td>\n",
       "      <td>-194.03397</td>\n",
       "      <td>2021-07-06 09:32:50</td>\n",
       "    </tr>\n",
       "    <tr>\n",
       "      <th>1201797</th>\n",
       "      <td>829187</td>\n",
       "      <td>5331</td>\n",
       "      <td>48</td>\n",
       "      <td>-177.24716</td>\n",
       "      <td>2021-07-08 02:35:52</td>\n",
       "    </tr>\n",
       "    <tr>\n",
       "      <th>1201798</th>\n",
       "      <td>829187</td>\n",
       "      <td>5411</td>\n",
       "      <td>48</td>\n",
       "      <td>-174.05374</td>\n",
       "      <td>2021-07-12 09:07:15</td>\n",
       "    </tr>\n",
       "    <tr>\n",
       "      <th>1201799</th>\n",
       "      <td>829187</td>\n",
       "      <td>5411</td>\n",
       "      <td>48</td>\n",
       "      <td>-484.18307</td>\n",
       "      <td>2021-07-28 12:06:30</td>\n",
       "    </tr>\n",
       "  </tbody>\n",
       "</table>\n",
       "<p>300 rows × 5 columns</p>\n",
       "</div>"
      ],
      "text/plain": [
       "         user_id  mcc_code  currency_rk  transaction_amt     transaction_dttm\n",
       "1201500   829187      5331           48       -206.96848  2020-11-25 12:27:10\n",
       "1201501   829187      5331           48       -153.09885  2020-11-26 02:07:45\n",
       "1201502   829187      5331           48       -342.14197  2020-11-26 03:57:40\n",
       "1201503   829187      5331           48       -152.63141  2020-11-27 01:54:18\n",
       "1201504   829187      5331           48       -181.54138  2020-11-27 06:22:04\n",
       "...          ...       ...          ...              ...                  ...\n",
       "1201795   829187      6012           48       -934.84080  2021-07-01 12:31:01\n",
       "1201796   829187      5499           48       -194.03397  2021-07-06 09:32:50\n",
       "1201797   829187      5331           48       -177.24716  2021-07-08 02:35:52\n",
       "1201798   829187      5411           48       -174.05374  2021-07-12 09:07:15\n",
       "1201799   829187      5411           48       -484.18307  2021-07-28 12:06:30\n",
       "\n",
       "[300 rows x 5 columns]"
      ]
     },
     "execution_count": 59,
     "metadata": {},
     "output_type": "execute_result"
    }
   ],
   "source": [
    "t.loc[t.user_id == 829187]"
   ]
  },
  {
   "cell_type": "code",
   "execution_count": 60,
   "id": "44702e55-ddd8-4228-be5f-821bf12202f8",
   "metadata": {},
   "outputs": [
    {
     "data": {
      "text/html": [
       "<div>\n",
       "<style scoped>\n",
       "    .dataframe tbody tr th:only-of-type {\n",
       "        vertical-align: middle;\n",
       "    }\n",
       "\n",
       "    .dataframe tbody tr th {\n",
       "        vertical-align: top;\n",
       "    }\n",
       "\n",
       "    .dataframe thead th {\n",
       "        text-align: right;\n",
       "    }\n",
       "</style>\n",
       "<table border=\"1\" class=\"dataframe\">\n",
       "  <thead>\n",
       "    <tr style=\"text-align: right;\">\n",
       "      <th></th>\n",
       "      <th>user_id</th>\n",
       "      <th>mcc_code</th>\n",
       "      <th>currency_rk</th>\n",
       "      <th>transaction_amt</th>\n",
       "      <th>transaction_dttm</th>\n",
       "    </tr>\n",
       "  </thead>\n",
       "  <tbody>\n",
       "    <tr>\n",
       "      <th>1201500</th>\n",
       "      <td>829187</td>\n",
       "      <td>5331</td>\n",
       "      <td>48</td>\n",
       "      <td>-206.96848</td>\n",
       "      <td>2020-11-25 12:27:10</td>\n",
       "    </tr>\n",
       "    <tr>\n",
       "      <th>1201501</th>\n",
       "      <td>829187</td>\n",
       "      <td>5331</td>\n",
       "      <td>48</td>\n",
       "      <td>-153.09885</td>\n",
       "      <td>2020-11-26 02:07:45</td>\n",
       "    </tr>\n",
       "    <tr>\n",
       "      <th>1201502</th>\n",
       "      <td>829187</td>\n",
       "      <td>5331</td>\n",
       "      <td>48</td>\n",
       "      <td>-342.14197</td>\n",
       "      <td>2020-11-26 03:57:40</td>\n",
       "    </tr>\n",
       "    <tr>\n",
       "      <th>1201503</th>\n",
       "      <td>829187</td>\n",
       "      <td>5331</td>\n",
       "      <td>48</td>\n",
       "      <td>-152.63141</td>\n",
       "      <td>2020-11-27 01:54:18</td>\n",
       "    </tr>\n",
       "    <tr>\n",
       "      <th>1201504</th>\n",
       "      <td>829187</td>\n",
       "      <td>5331</td>\n",
       "      <td>48</td>\n",
       "      <td>-181.54138</td>\n",
       "      <td>2020-11-27 06:22:04</td>\n",
       "    </tr>\n",
       "    <tr>\n",
       "      <th>...</th>\n",
       "      <td>...</td>\n",
       "      <td>...</td>\n",
       "      <td>...</td>\n",
       "      <td>...</td>\n",
       "      <td>...</td>\n",
       "    </tr>\n",
       "    <tr>\n",
       "      <th>1201795</th>\n",
       "      <td>829187</td>\n",
       "      <td>6012</td>\n",
       "      <td>48</td>\n",
       "      <td>-934.84080</td>\n",
       "      <td>2021-07-01 12:31:01</td>\n",
       "    </tr>\n",
       "    <tr>\n",
       "      <th>1201796</th>\n",
       "      <td>829187</td>\n",
       "      <td>5499</td>\n",
       "      <td>48</td>\n",
       "      <td>-194.03397</td>\n",
       "      <td>2021-07-06 09:32:50</td>\n",
       "    </tr>\n",
       "    <tr>\n",
       "      <th>1201797</th>\n",
       "      <td>829187</td>\n",
       "      <td>5331</td>\n",
       "      <td>48</td>\n",
       "      <td>-177.24716</td>\n",
       "      <td>2021-07-08 02:35:52</td>\n",
       "    </tr>\n",
       "    <tr>\n",
       "      <th>1201798</th>\n",
       "      <td>829187</td>\n",
       "      <td>5411</td>\n",
       "      <td>48</td>\n",
       "      <td>-174.05374</td>\n",
       "      <td>2021-07-12 09:07:15</td>\n",
       "    </tr>\n",
       "    <tr>\n",
       "      <th>1201799</th>\n",
       "      <td>829187</td>\n",
       "      <td>5411</td>\n",
       "      <td>48</td>\n",
       "      <td>-484.18307</td>\n",
       "      <td>2021-07-28 12:06:30</td>\n",
       "    </tr>\n",
       "  </tbody>\n",
       "</table>\n",
       "<p>300 rows × 5 columns</p>\n",
       "</div>"
      ],
      "text/plain": [
       "         user_id  mcc_code  currency_rk  transaction_amt     transaction_dttm\n",
       "1201500   829187      5331           48       -206.96848  2020-11-25 12:27:10\n",
       "1201501   829187      5331           48       -153.09885  2020-11-26 02:07:45\n",
       "1201502   829187      5331           48       -342.14197  2020-11-26 03:57:40\n",
       "1201503   829187      5331           48       -152.63141  2020-11-27 01:54:18\n",
       "1201504   829187      5331           48       -181.54138  2020-11-27 06:22:04\n",
       "...          ...       ...          ...              ...                  ...\n",
       "1201795   829187      6012           48       -934.84080  2021-07-01 12:31:01\n",
       "1201796   829187      5499           48       -194.03397  2021-07-06 09:32:50\n",
       "1201797   829187      5331           48       -177.24716  2021-07-08 02:35:52\n",
       "1201798   829187      5411           48       -174.05374  2021-07-12 09:07:15\n",
       "1201799   829187      5411           48       -484.18307  2021-07-28 12:06:30\n",
       "\n",
       "[300 rows x 5 columns]"
      ]
     },
     "execution_count": 60,
     "metadata": {},
     "output_type": "execute_result"
    }
   ],
   "source": [
    "df_best.loc[df_best.user_id == 829187]"
   ]
  },
  {
   "cell_type": "code",
   "execution_count": null,
   "id": "8ae2bbad-a9b1-4cda-a0f5-d3d0706b9fd3",
   "metadata": {},
   "outputs": [],
   "source": []
  }
 ],
 "metadata": {
  "kernelspec": {
   "display_name": "Python 3 (ipykernel)",
   "language": "python",
   "name": "python3"
  },
  "language_info": {
   "codemirror_mode": {
    "name": "ipython",
    "version": 3
   },
   "file_extension": ".py",
   "mimetype": "text/x-python",
   "name": "python",
   "nbconvert_exporter": "python",
   "pygments_lexer": "ipython3",
   "version": "3.9.16"
  }
 },
 "nbformat": 4,
 "nbformat_minor": 5
}
