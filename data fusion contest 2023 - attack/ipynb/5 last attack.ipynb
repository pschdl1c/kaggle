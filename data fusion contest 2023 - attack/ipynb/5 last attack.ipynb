{
 "cells": [
  {
   "cell_type": "markdown",
   "id": "6676d3eb-6569-465a-92b8-bc1dcac0c895",
   "metadata": {},
   "source": [
    "## 5 Testing attack\n",
    "\n",
    "Брутфорс по самым топовым hero и poor пользователям (ROC-AUC Diff 0,250559 для топ 10 hero_users_top и poor_users_top и рельсой 1-15 по первым и последним 5 транзакциям - `5last_brute_2.py`)"
   ]
  },
  {
   "cell_type": "code",
   "execution_count": 1,
   "id": "05ddcc34-0dc0-41fe-bf76-d08b02accd4f",
   "metadata": {},
   "outputs": [],
   "source": [
    "import json\n",
    "import numpy as np\n",
    "import pandas as pd\n",
    "from tqdm.notebook import tqdm\n",
    "# from tqdm import tqdm\n",
    "import random\n",
    "from model import predict # Функция, позволяет получить предсказание нейронки.\n",
    "from check_budget import check_budget # функция проверки бюджета. Проверяйте допустимость решения до сабмита\n",
    "from sklearn.metrics import roc_auc_score\n",
    "import matplotlib.pyplot as plt\n",
    "\n",
    "bins_path = \"nn_bins.pickle\" # путь до файла с бинами после тренировки модели (nn_bins.pickle)\n",
    "model_path = \"nn_weights.ckpt\" # путь до файла с весами нейронной сети (nn_weights.ckpt)\n",
    "quantiles_path = \"quantiles.json\" # путь до файла с квантилями для таргета (quantiles.pickle)\n",
    "\n",
    "transactions_path = \"../sample_submission.csv\"    # путь до файла с транзакциями, которые атакуются\n",
    "\n",
    "train_data_path = \"../transactions_finetune.csv\" # X - train data\n",
    "train_target_path = \"../target_finetune.csv\" # y - true target"
   ]
  },
  {
   "cell_type": "code",
   "execution_count": 3,
   "id": "9447ff60-e99b-44b1-994c-c856408413f2",
   "metadata": {},
   "outputs": [],
   "source": [
    "seed = 26041999\n",
    "BUDGET = 10 # разрешенное количество изменений транзакций для каждого пользователя - N транзакций\n",
    "threshold = pd.read_csv(train_target_path).target.mean() # примерный threshold трейна"
   ]
  },
  {
   "cell_type": "code",
   "execution_count": 15,
   "id": "178e7146-e17e-4a3d-9e6d-53cf9a2125df",
   "metadata": {},
   "outputs": [
    {
     "data": {
      "application/vnd.jupyter.widget-view+json": {
       "model_id": "77b733fb711f4b198934528ea11e9db1",
       "version_major": 2,
       "version_minor": 0
      },
      "text/plain": [
       "  0%|          | 0/4200 [00:00<?, ?it/s]"
      ]
     },
     "metadata": {},
     "output_type": "display_data"
    }
   ],
   "source": [
    "random.seed(20230206)\n",
    "\n",
    "# threshold = pd.read_csv(\"../data/target_finetune.csv\").target.mean()  # вероятность, по которой мы считаем таргет\n",
    "hero_user = 829187\n",
    "poor_user = 488752\n",
    "\n",
    "df_transactions = pd.read_csv(\n",
    "    transactions_path,\n",
    "    parse_dates=[\"transaction_dttm\"],\n",
    "    dtype={\"user_id\": int, \"mcc_code\": int, \"currency_rk\": int, \"transaction_amt\": float},\n",
    ")\n",
    "\n",
    "bins_path = \"nn_bins.pickle\"\n",
    "model_path = \"nn_weights.ckpt\"\n",
    "target = predict(transactions_path, bins_path, model_path)\n",
    "\n",
    "\n",
    "one_idx = target.index[target.target > threshold]  # Эти пользователи похожи на Героя\n",
    "zero_idx = target.index[target.target <= threshold] # А эти на Неудачника\n",
    "\n",
    "users = target.user_id.values\n",
    "\n",
    "one_users = users[one_idx]\n",
    "zero_users = users[zero_idx]\n",
    "\n",
    "for user in tqdm(users):\n",
    "    if user in one_users:\n",
    "        copy_from = poor_user # похожим на Героя скопируем 10 последних транзакций Неудачника\n",
    "    else:\n",
    "        copy_from = hero_user # А похожим на Неудачника наоборот\n",
    "\n",
    "    idx_to = df_transactions.index[df_transactions.user_id == user][-BUDGET:]\n",
    "    idx_from = df_transactions.index[df_transactions.user_id == copy_from][-BUDGET:]\n",
    "    sign_to = np.sign(df_transactions.loc[idx_to, \"transaction_amt\"].values)\n",
    "    sign_from = np.sign(df_transactions.loc[idx_from, \"transaction_amt\"].values)\n",
    "    sign_mask = (sign_to == sign_from)\n",
    "    df_transactions.loc[idx_to[sign_mask], \"mcc_code\"] = df_transactions.loc[idx_from[sign_mask], \"mcc_code\"].values\n",
    "    df_transactions.loc[idx_to[sign_mask], \"transaction_amt\"] = df_transactions.loc[idx_from[sign_mask], \"transaction_amt\"].values\n",
    "attacked_path = 'test.csv'\n",
    "df_transactions.to_csv(attacked_path, index=False)"
   ]
  },
  {
   "cell_type": "code",
   "execution_count": 46,
   "id": "90a9276c-5034-40f0-8ccd-748b4fce6957",
   "metadata": {},
   "outputs": [
    {
     "name": "stderr",
     "output_type": "stream",
     "text": [
      "Global seed set to 26041999\n"
     ]
    },
    {
     "data": {
      "application/vnd.jupyter.widget-view+json": {
       "model_id": "56df8fd9261d44168b1c5b26511988b6",
       "version_major": 2,
       "version_minor": 0
      },
      "text/plain": [
       "  0%|          | 0/4200 [00:00<?, ?it/s]"
      ]
     },
     "metadata": {},
     "output_type": "display_data"
    }
   ],
   "source": [
    "random.seed(20230206)\n",
    "###############################################\n",
    "# testing df_train last 10\n",
    "##############################################\n",
    "# hero_user = 829187\n",
    "# poor_user = 488752\n",
    "hero_user = 391362\n",
    "poor_user = 233068\n",
    "\n",
    "# threshold = pd.read_csv(\"../data/target_finetune.csv\").target.mean()  # вероятность, по которой мы считаем таргет\n",
    "\n",
    "df_transactions = pd.read_csv(\n",
    "    transactions_path,\n",
    "    parse_dates=[\"transaction_dttm\"],\n",
    "    dtype={\"user_id\": int, \"mcc_code\": int, \"currency_rk\": int, \"transaction_amt\": float},\n",
    ")\n",
    "\n",
    "bins_path = \"nn_bins.pickle\"\n",
    "model_path = \"nn_weights.ckpt\"\n",
    "target = predict(transactions_path, bins_path, model_path)\n",
    "\n",
    "one_idx = target.index[target.target > threshold]  # Эти пользователи похожи на Героя\n",
    "zero_idx = target.index[target.target <= threshold] # А эти на Неудачника\n",
    "\n",
    "users = target.user_id.values\n",
    "\n",
    "one_users = users[one_idx] # defolt - 1\n",
    "zero_users = users[zero_idx] # norm users - 0\n",
    "\n",
    "for user in tqdm(users):\n",
    "    if user in one_users:\n",
    "        copy_from = poor_user\n",
    "    else:\n",
    "        copy_from = hero_user\n",
    "\n",
    "#     idx_to_first = df_transactions.index[df_transactions.user_id == user][:5] # айдишники последних 10 транзакций юзера\n",
    "#     idx_from_first = df_transactions.index[df_transactions.user_id == copy_from][:5] # айдишники последних 10 транзакций воннаби\n",
    "\n",
    "#     idx_to_last = df_transactions.index[df_transactions.user_id == user][-5:] # айдишники последних 10 транзакций юзера\n",
    "#     idx_from_last = df_transactions.index[df_transactions.user_id == copy_from][-5:] # айдишники последних 10 транзакций воннаби\n",
    "\n",
    "    idx_to_first = df_transactions.index[df_transactions.user_id == user][:10:2] # айдишники последних 10 транзакций юзера\n",
    "    idx_from_first = df_transactions.index[df_transactions.user_id == copy_from][:10:2] # айдишники последних 10 транзакций воннаби\n",
    "\n",
    "    idx_to_last = df_transactions.index[df_transactions.user_id == user][-10::2] # айдишники последних 10 транзакций юзера\n",
    "    idx_from_last = df_transactions.index[df_transactions.user_id == copy_from][-10::2] # айдишники последних 10 транзакций воннаби\n",
    "\n",
    "    idx_to = idx_to_first.append(idx_to_last)\n",
    "    idx_from = idx_from_first.append(idx_from_last)\n",
    "\n",
    "    sign_to = np.sign(df_transactions.loc[idx_to, \"transaction_amt\"].values)\n",
    "    sign_from = np.sign(df_transactions.loc[idx_from, \"transaction_amt\"].values)\n",
    "    sign_mask = (sign_to == sign_from)\n",
    "\n",
    "    df_transactions.loc[idx_to[sign_mask], \"mcc_code\"] = df_transactions.loc[idx_from[sign_mask], \"mcc_code\"].values\n",
    "    df_transactions.loc[idx_to[sign_mask], \"transaction_amt\"] = df_transactions.loc[idx_from[sign_mask], \"transaction_amt\"].values\n",
    "\n",
    "attacked_path = 'test.csv'\n",
    "df_transactions.to_csv(attacked_path, index=False)"
   ]
  },
  {
   "cell_type": "code",
   "execution_count": 3,
   "id": "e2a89eb1-ecfe-49e7-ae1e-a4c7447ec8f2",
   "metadata": {},
   "outputs": [
    {
     "name": "stderr",
     "output_type": "stream",
     "text": [
      "Global seed set to 26041999\n"
     ]
    }
   ],
   "source": [
    "pred = predict('../sample_submission.csv', bins_path, model_path, random_seed=26041999)\n",
    "pred['target_true'] = pred.target.apply(lambda x: 0 if x <= threshold else 1)"
   ]
  },
  {
   "cell_type": "code",
   "execution_count": 48,
   "id": "eb16710c-600f-4183-8d8f-7e4933b71c3c",
   "metadata": {
    "tags": []
   },
   "outputs": [
    {
     "name": "stderr",
     "output_type": "stream",
     "text": [
      "Global seed set to 26041999\n"
     ]
    },
    {
     "data": {
      "text/html": [
       "<div>\n",
       "<style scoped>\n",
       "    .dataframe tbody tr th:only-of-type {\n",
       "        vertical-align: middle;\n",
       "    }\n",
       "\n",
       "    .dataframe tbody tr th {\n",
       "        vertical-align: top;\n",
       "    }\n",
       "\n",
       "    .dataframe thead th {\n",
       "        text-align: right;\n",
       "    }\n",
       "</style>\n",
       "<table border=\"1\" class=\"dataframe\">\n",
       "  <thead>\n",
       "    <tr style=\"text-align: right;\">\n",
       "      <th></th>\n",
       "      <th>user_id</th>\n",
       "      <th>target</th>\n",
       "    </tr>\n",
       "  </thead>\n",
       "  <tbody>\n",
       "    <tr>\n",
       "      <th>0</th>\n",
       "      <td>66</td>\n",
       "      <td>0.067373</td>\n",
       "    </tr>\n",
       "    <tr>\n",
       "      <th>1</th>\n",
       "      <td>213</td>\n",
       "      <td>0.038757</td>\n",
       "    </tr>\n",
       "    <tr>\n",
       "      <th>2</th>\n",
       "      <td>345</td>\n",
       "      <td>0.127810</td>\n",
       "    </tr>\n",
       "    <tr>\n",
       "      <th>3</th>\n",
       "      <td>569</td>\n",
       "      <td>0.029676</td>\n",
       "    </tr>\n",
       "    <tr>\n",
       "      <th>4</th>\n",
       "      <td>573</td>\n",
       "      <td>0.036346</td>\n",
       "    </tr>\n",
       "    <tr>\n",
       "      <th>...</th>\n",
       "      <td>...</td>\n",
       "      <td>...</td>\n",
       "    </tr>\n",
       "    <tr>\n",
       "      <th>4195</th>\n",
       "      <td>868183</td>\n",
       "      <td>0.039675</td>\n",
       "    </tr>\n",
       "    <tr>\n",
       "      <th>4196</th>\n",
       "      <td>868407</td>\n",
       "      <td>0.132915</td>\n",
       "    </tr>\n",
       "    <tr>\n",
       "      <th>4197</th>\n",
       "      <td>868573</td>\n",
       "      <td>0.112722</td>\n",
       "    </tr>\n",
       "    <tr>\n",
       "      <th>4198</th>\n",
       "      <td>868694</td>\n",
       "      <td>0.035121</td>\n",
       "    </tr>\n",
       "    <tr>\n",
       "      <th>4199</th>\n",
       "      <td>868873</td>\n",
       "      <td>0.011343</td>\n",
       "    </tr>\n",
       "  </tbody>\n",
       "</table>\n",
       "<p>4200 rows × 2 columns</p>\n",
       "</div>"
      ],
      "text/plain": [
       "      user_id    target\n",
       "0          66  0.067373\n",
       "1         213  0.038757\n",
       "2         345  0.127810\n",
       "3         569  0.029676\n",
       "4         573  0.036346\n",
       "...       ...       ...\n",
       "4195   868183  0.039675\n",
       "4196   868407  0.132915\n",
       "4197   868573  0.112722\n",
       "4198   868694  0.035121\n",
       "4199   868873  0.011343\n",
       "\n",
       "[4200 rows x 2 columns]"
      ]
     },
     "execution_count": 48,
     "metadata": {},
     "output_type": "execute_result"
    }
   ],
   "source": [
    "pred_attacked = predict(attacked_path, bins_path, model_path, random_seed=26041999)\n",
    "pred_attacked"
   ]
  },
  {
   "cell_type": "code",
   "execution_count": 14,
   "id": "6fc4968a-2b63-419d-b903-ca59fc3a9a07",
   "metadata": {
    "tags": []
   },
   "outputs": [
    {
     "data": {
      "text/plain": [
       "0.777240397236187"
      ]
     },
     "execution_count": 14,
     "metadata": {},
     "output_type": "execute_result"
    }
   ],
   "source": [
    "# [:BUDGET]\n",
    "# hero_user = 829187\n",
    "# poor_user = 488752\n",
    "roc_auc_score(pred['target_true'], pred_attacked['target'])"
   ]
  },
  {
   "cell_type": "code",
   "execution_count": 18,
   "id": "aa8d6c84-3ef8-43a6-af01-60a0544d9647",
   "metadata": {
    "tags": []
   },
   "outputs": [
    {
     "data": {
      "text/plain": [
       "0.7363024145468998"
      ]
     },
     "execution_count": 18,
     "metadata": {},
     "output_type": "execute_result"
    }
   ],
   "source": [
    "# [-BUDGET:]\n",
    "# hero_user = 829187\n",
    "# poor_user = 488752\n",
    "roc_auc_score(pred['target_true'], pred_attacked['target'])"
   ]
  },
  {
   "cell_type": "code",
   "execution_count": 23,
   "id": "25bd11f5-6172-44ea-ad82-617f3a65a5ab",
   "metadata": {
    "tags": []
   },
   "outputs": [
    {
     "data": {
      "text/plain": [
       "0.6415783967861705"
      ]
     },
     "execution_count": 23,
     "metadata": {},
     "output_type": "execute_result"
    }
   ],
   "source": [
    "# [:5] [-5:]\n",
    "# hero_user = 829187\n",
    "# poor_user = 488752\n",
    "roc_auc_score(pred['target_true'], pred_attacked['target'])"
   ]
  },
  {
   "cell_type": "code",
   "execution_count": 27,
   "id": "910b9c86-e938-4a38-b89b-2d59defcf10b",
   "metadata": {
    "tags": []
   },
   "outputs": [
    {
     "data": {
      "text/plain": [
       "0.8411920609924154"
      ]
     },
     "execution_count": 27,
     "metadata": {},
     "output_type": "execute_result"
    }
   ],
   "source": [
    "# [:5] [-5:]\n",
    "# hero_user = 531067\n",
    "# poor_user = 830119\n",
    "roc_auc_score(pred['target_true'], pred_attacked['target'])"
   ]
  },
  {
   "cell_type": "code",
   "execution_count": 6,
   "id": "18e3bb7d-6c28-4394-84e7-c39d9340c634",
   "metadata": {},
   "outputs": [
    {
     "data": {
      "text/plain": [
       "0.5881111081374695"
      ]
     },
     "execution_count": 6,
     "metadata": {},
     "output_type": "execute_result"
    }
   ],
   "source": [
    "# random state [:5] [-5:]\n",
    "# hero_user = 829187\n",
    "# poor_user = 488752\n",
    "roc_auc_score(pred['target_true'], pred_attacked['target'])"
   ]
  },
  {
   "cell_type": "code",
   "execution_count": 18,
   "id": "51d9e669-614f-4a6d-b0c9-5ab6e163c49a",
   "metadata": {},
   "outputs": [
    {
     "data": {
      "text/plain": [
       "0.4689471276604181"
      ]
     },
     "execution_count": 18,
     "metadata": {},
     "output_type": "execute_result"
    }
   ],
   "source": [
    "# random state [:5] [:10:2] and [-5:] [-10::2]\n",
    "# hero_user = 829187\n",
    "# poor_user = 488752\n",
    "roc_auc_score(pred['target_true'], pred_attacked['target'])"
   ]
  },
  {
   "cell_type": "code",
   "execution_count": 49,
   "id": "099fc461-d60c-4b60-9a5f-84fb2b0685aa",
   "metadata": {},
   "outputs": [
    {
     "data": {
      "text/plain": [
       "0.8689179116313002"
      ]
     },
     "execution_count": 49,
     "metadata": {},
     "output_type": "execute_result"
    }
   ],
   "source": [
    "# random state ...\n",
    "# hero_user = 829187\n",
    "# poor_user = 488752\n",
    "roc_auc_score(pred['target_true'], pred_attacked['target'])"
   ]
  },
  {
   "cell_type": "code",
   "execution_count": 7,
   "id": "04ae7805-c55f-4016-ab55-a3d532f72c1b",
   "metadata": {},
   "outputs": [
    {
     "name": "stderr",
     "output_type": "stream",
     "text": [
      "Global seed set to 26041999\n"
     ]
    }
   ],
   "source": [
    "pred_attacked = predict('last_brute.csv', bins_path, model_path, random_seed=26041999)"
   ]
  },
  {
   "cell_type": "code",
   "execution_count": 8,
   "id": "46a955d8-ef16-4d4e-8839-202212b6a7ab",
   "metadata": {},
   "outputs": [
    {
     "data": {
      "text/plain": [
       "0.2777801319107432"
      ]
     },
     "execution_count": 8,
     "metadata": {},
     "output_type": "execute_result"
    }
   ],
   "source": [
    "# 5last_brute.py\n",
    "roc_auc_score(pred['target_true'], pred_attacked['target'])"
   ]
  },
  {
   "cell_type": "code",
   "execution_count": 6,
   "id": "e2209233-46ff-4451-92f1-261f1adebaad",
   "metadata": {},
   "outputs": [
    {
     "name": "stderr",
     "output_type": "stream",
     "text": [
      "100%|█████████████████████████████████████████████████████████████████████| 1260000/1260000 [00:34<00:00, 36971.69it/s]\n"
     ]
    },
    {
     "data": {
      "text/plain": [
       "True"
      ]
     },
     "execution_count": 6,
     "metadata": {},
     "output_type": "execute_result"
    }
   ],
   "source": [
    "check_budget(transactions_path, 'last_brute.csv', quantiles_path)"
   ]
  },
  {
   "cell_type": "markdown",
   "id": "0fd4f642-4a14-4521-b201-80724953837c",
   "metadata": {},
   "source": [
    "#### USERS BRUTE"
   ]
  },
  {
   "cell_type": "code",
   "execution_count": 38,
   "id": "61965f1c-c864-4d4d-b37a-819b609ac94a",
   "metadata": {},
   "outputs": [
    {
     "name": "stderr",
     "output_type": "stream",
     "text": [
      "Global seed set to 26041999\n"
     ]
    }
   ],
   "source": [
    "pred = predict('../sample_submission.csv', bins_path, model_path, random_seed=26041999)\n",
    "pred['target_true'] = pred.target.apply(lambda x: 0 if x <= threshold else 1)"
   ]
  },
  {
   "cell_type": "code",
   "execution_count": null,
   "id": "f710740c-712b-4d8d-8072-55c42873b764",
   "metadata": {},
   "outputs": [],
   "source": [
    "# hero_user = 391362\n",
    "# poor_user = 233068"
   ]
  },
  {
   "cell_type": "code",
   "execution_count": 75,
   "id": "31e65f41-b6f7-4d12-ab46-06393e3eaeee",
   "metadata": {},
   "outputs": [],
   "source": [
    "hero_users_top = pred.loc[(pred.target_true == 1)].sort_values('target')[-100:].user_id.values\n",
    "poor_users_top = pred.loc[(pred.target_true == 0)].sort_values('target')[:100].user_id.values"
   ]
  },
  {
   "cell_type": "code",
   "execution_count": 77,
   "id": "080e7c62-e50b-4c8f-93e5-d6ba2829696c",
   "metadata": {},
   "outputs": [
    {
     "name": "stderr",
     "output_type": "stream",
     "text": [
      "Global seed set to 26041999\n"
     ]
    }
   ],
   "source": [
    "import pytorch_lightning as pl\n",
    "import torch\n",
    "import pickle\n",
    "from model import process_for_nn, TransactionsDataset, get_dataloader, device, TransactionsRnn\n",
    "\n",
    "pl.seed_everything(seed)\n",
    "model = TransactionsRnn()\n",
    "model.load_state_dict(torch.load(model_path))\n",
    "model.to(device)\n",
    "model.eval()\n",
    "with open(bins_path, \"rb\") as f:\n",
    "    bins = pickle.load(f)\n",
    "# features = bins.pop(\"features\")\n",
    "\n",
    "\n",
    "def create_dl(df, bins_path):\n",
    "    df_transactions = df.dropna().assign(\n",
    "            hour=lambda x: x.transaction_dttm.dt.hour,\n",
    "            day=lambda x: x.transaction_dttm.dt.dayofweek,\n",
    "            month=lambda x: x.transaction_dttm.dt.month,\n",
    "            number_day=lambda x: x.transaction_dttm.dt.day,\n",
    "        )\n",
    "\n",
    "    with open(bins_path, \"rb\") as f:\n",
    "        bins = pickle.load(f)\n",
    "    features = bins.pop(\"features\")\n",
    "    # features = bins[\"features\"]  ########################## мб можно оптимизировать\n",
    "    df = process_for_nn(df_transactions, features, bins)\n",
    "    dataset = TransactionsDataset(df)\n",
    "    dataloader = get_dataloader(dataset, device, is_validation=True)\n",
    "    return dataloader\n",
    "\n",
    "\n",
    "def predictor(dataloader, model):\n",
    "    preds = []\n",
    "    users = []\n",
    "    for data, target in dataloader:\n",
    "        y_pred = model(data)\n",
    "        preds.append(y_pred.detach().cpu().numpy())\n",
    "        users.append(target.detach().cpu().numpy())\n",
    "    preds = np.concatenate(preds)\n",
    "    users = np.concatenate(users)\n",
    "    return pd.DataFrame({\"user_id\": users, \"target\": preds[:, 1]})\n",
    "\n",
    "\n",
    "def check_target_attack(user, target, attacked_target):\n",
    "    if target.target_true.loc[target.user_id == user].values[0]:\n",
    "        return target.target.loc[target.user_id == user].values[0] - attacked_target.target.loc[attacked_target.user_id == user].values[0]\n",
    "    else:\n",
    "        return attacked_target.target.loc[attacked_target.user_id == user].values[0] - target.target.loc[target.user_id == user].values[0]"
   ]
  },
  {
   "cell_type": "code",
   "execution_count": 82,
   "id": "688233bc-73c1-4f4d-931e-b6e281bd6d2e",
   "metadata": {},
   "outputs": [
    {
     "name": "stderr",
     "output_type": "stream",
     "text": [
      "Global seed set to 26041999\n"
     ]
    },
    {
     "data": {
      "application/vnd.jupyter.widget-view+json": {
       "model_id": "7aa7f6554e4e403b82deb308fa1e1c2e",
       "version_major": 2,
       "version_minor": 0
      },
      "text/plain": [
       "Total:   0%|          | 0/30 [00:00<?, ?it/s]"
      ]
     },
     "metadata": {},
     "output_type": "display_data"
    },
    {
     "data": {
      "application/vnd.jupyter.widget-view+json": {
       "model_id": "",
       "version_major": 2,
       "version_minor": 0
      },
      "text/plain": [
       "hero_users_top:   0%|          | 0/100 [00:00<?, ?it/s]"
      ]
     },
     "metadata": {},
     "output_type": "display_data"
    },
    {
     "data": {
      "application/vnd.jupyter.widget-view+json": {
       "model_id": "",
       "version_major": 2,
       "version_minor": 0
      },
      "text/plain": [
       "hero_users_top:   0%|          | 0/100 [00:00<?, ?it/s]"
      ]
     },
     "metadata": {},
     "output_type": "display_data"
    },
    {
     "data": {
      "application/vnd.jupyter.widget-view+json": {
       "model_id": "",
       "version_major": 2,
       "version_minor": 0
      },
      "text/plain": [
       "poor_users_top:   0%|          | 0/100 [00:00<?, ?it/s]"
      ]
     },
     "metadata": {},
     "output_type": "display_data"
    },
    {
     "data": {
      "application/vnd.jupyter.widget-view+json": {
       "model_id": "",
       "version_major": 2,
       "version_minor": 0
      },
      "text/plain": [
       "poor_users_top:   0%|          | 0/100 [00:00<?, ?it/s]"
      ]
     },
     "metadata": {},
     "output_type": "display_data"
    },
    {
     "data": {
      "application/vnd.jupyter.widget-view+json": {
       "model_id": "",
       "version_major": 2,
       "version_minor": 0
      },
      "text/plain": [
       "hero_users_top:   0%|          | 0/100 [00:00<?, ?it/s]"
      ]
     },
     "metadata": {},
     "output_type": "display_data"
    },
    {
     "data": {
      "application/vnd.jupyter.widget-view+json": {
       "model_id": "",
       "version_major": 2,
       "version_minor": 0
      },
      "text/plain": [
       "hero_users_top:   0%|          | 0/100 [00:00<?, ?it/s]"
      ]
     },
     "metadata": {},
     "output_type": "display_data"
    },
    {
     "data": {
      "application/vnd.jupyter.widget-view+json": {
       "model_id": "",
       "version_major": 2,
       "version_minor": 0
      },
      "text/plain": [
       "hero_users_top:   0%|          | 0/100 [00:00<?, ?it/s]"
      ]
     },
     "metadata": {},
     "output_type": "display_data"
    },
    {
     "data": {
      "application/vnd.jupyter.widget-view+json": {
       "model_id": "",
       "version_major": 2,
       "version_minor": 0
      },
      "text/plain": [
       "poor_users_top:   0%|          | 0/100 [00:00<?, ?it/s]"
      ]
     },
     "metadata": {},
     "output_type": "display_data"
    },
    {
     "data": {
      "application/vnd.jupyter.widget-view+json": {
       "model_id": "",
       "version_major": 2,
       "version_minor": 0
      },
      "text/plain": [
       "hero_users_top:   0%|          | 0/100 [00:00<?, ?it/s]"
      ]
     },
     "metadata": {},
     "output_type": "display_data"
    },
    {
     "data": {
      "application/vnd.jupyter.widget-view+json": {
       "model_id": "",
       "version_major": 2,
       "version_minor": 0
      },
      "text/plain": [
       "hero_users_top:   0%|          | 0/100 [00:00<?, ?it/s]"
      ]
     },
     "metadata": {},
     "output_type": "display_data"
    },
    {
     "data": {
      "application/vnd.jupyter.widget-view+json": {
       "model_id": "",
       "version_major": 2,
       "version_minor": 0
      },
      "text/plain": [
       "hero_users_top:   0%|          | 0/100 [00:00<?, ?it/s]"
      ]
     },
     "metadata": {},
     "output_type": "display_data"
    },
    {
     "data": {
      "application/vnd.jupyter.widget-view+json": {
       "model_id": "",
       "version_major": 2,
       "version_minor": 0
      },
      "text/plain": [
       "hero_users_top:   0%|          | 0/100 [00:00<?, ?it/s]"
      ]
     },
     "metadata": {},
     "output_type": "display_data"
    },
    {
     "data": {
      "application/vnd.jupyter.widget-view+json": {
       "model_id": "",
       "version_major": 2,
       "version_minor": 0
      },
      "text/plain": [
       "poor_users_top:   0%|          | 0/100 [00:00<?, ?it/s]"
      ]
     },
     "metadata": {},
     "output_type": "display_data"
    },
    {
     "data": {
      "application/vnd.jupyter.widget-view+json": {
       "model_id": "",
       "version_major": 2,
       "version_minor": 0
      },
      "text/plain": [
       "hero_users_top:   0%|          | 0/100 [00:00<?, ?it/s]"
      ]
     },
     "metadata": {},
     "output_type": "display_data"
    },
    {
     "data": {
      "application/vnd.jupyter.widget-view+json": {
       "model_id": "",
       "version_major": 2,
       "version_minor": 0
      },
      "text/plain": [
       "hero_users_top:   0%|          | 0/100 [00:00<?, ?it/s]"
      ]
     },
     "metadata": {},
     "output_type": "display_data"
    },
    {
     "data": {
      "application/vnd.jupyter.widget-view+json": {
       "model_id": "",
       "version_major": 2,
       "version_minor": 0
      },
      "text/plain": [
       "poor_users_top:   0%|          | 0/100 [00:00<?, ?it/s]"
      ]
     },
     "metadata": {},
     "output_type": "display_data"
    },
    {
     "data": {
      "application/vnd.jupyter.widget-view+json": {
       "model_id": "",
       "version_major": 2,
       "version_minor": 0
      },
      "text/plain": [
       "hero_users_top:   0%|          | 0/100 [00:00<?, ?it/s]"
      ]
     },
     "metadata": {},
     "output_type": "display_data"
    },
    {
     "data": {
      "application/vnd.jupyter.widget-view+json": {
       "model_id": "",
       "version_major": 2,
       "version_minor": 0
      },
      "text/plain": [
       "poor_users_top:   0%|          | 0/100 [00:00<?, ?it/s]"
      ]
     },
     "metadata": {},
     "output_type": "display_data"
    },
    {
     "data": {
      "application/vnd.jupyter.widget-view+json": {
       "model_id": "",
       "version_major": 2,
       "version_minor": 0
      },
      "text/plain": [
       "poor_users_top:   0%|          | 0/100 [00:00<?, ?it/s]"
      ]
     },
     "metadata": {},
     "output_type": "display_data"
    },
    {
     "data": {
      "application/vnd.jupyter.widget-view+json": {
       "model_id": "",
       "version_major": 2,
       "version_minor": 0
      },
      "text/plain": [
       "poor_users_top:   0%|          | 0/100 [00:00<?, ?it/s]"
      ]
     },
     "metadata": {},
     "output_type": "display_data"
    },
    {
     "data": {
      "application/vnd.jupyter.widget-view+json": {
       "model_id": "",
       "version_major": 2,
       "version_minor": 0
      },
      "text/plain": [
       "hero_users_top:   0%|          | 0/100 [00:00<?, ?it/s]"
      ]
     },
     "metadata": {},
     "output_type": "display_data"
    },
    {
     "data": {
      "application/vnd.jupyter.widget-view+json": {
       "model_id": "",
       "version_major": 2,
       "version_minor": 0
      },
      "text/plain": [
       "hero_users_top:   0%|          | 0/100 [00:00<?, ?it/s]"
      ]
     },
     "metadata": {},
     "output_type": "display_data"
    },
    {
     "data": {
      "application/vnd.jupyter.widget-view+json": {
       "model_id": "",
       "version_major": 2,
       "version_minor": 0
      },
      "text/plain": [
       "poor_users_top:   0%|          | 0/100 [00:00<?, ?it/s]"
      ]
     },
     "metadata": {},
     "output_type": "display_data"
    },
    {
     "data": {
      "application/vnd.jupyter.widget-view+json": {
       "model_id": "",
       "version_major": 2,
       "version_minor": 0
      },
      "text/plain": [
       "poor_users_top:   0%|          | 0/100 [00:00<?, ?it/s]"
      ]
     },
     "metadata": {},
     "output_type": "display_data"
    },
    {
     "data": {
      "application/vnd.jupyter.widget-view+json": {
       "model_id": "",
       "version_major": 2,
       "version_minor": 0
      },
      "text/plain": [
       "hero_users_top:   0%|          | 0/100 [00:00<?, ?it/s]"
      ]
     },
     "metadata": {},
     "output_type": "display_data"
    },
    {
     "data": {
      "application/vnd.jupyter.widget-view+json": {
       "model_id": "",
       "version_major": 2,
       "version_minor": 0
      },
      "text/plain": [
       "hero_users_top:   0%|          | 0/100 [00:00<?, ?it/s]"
      ]
     },
     "metadata": {},
     "output_type": "display_data"
    },
    {
     "data": {
      "application/vnd.jupyter.widget-view+json": {
       "model_id": "",
       "version_major": 2,
       "version_minor": 0
      },
      "text/plain": [
       "poor_users_top:   0%|          | 0/100 [00:00<?, ?it/s]"
      ]
     },
     "metadata": {},
     "output_type": "display_data"
    },
    {
     "data": {
      "application/vnd.jupyter.widget-view+json": {
       "model_id": "",
       "version_major": 2,
       "version_minor": 0
      },
      "text/plain": [
       "hero_users_top:   0%|          | 0/100 [00:00<?, ?it/s]"
      ]
     },
     "metadata": {},
     "output_type": "display_data"
    },
    {
     "data": {
      "application/vnd.jupyter.widget-view+json": {
       "model_id": "",
       "version_major": 2,
       "version_minor": 0
      },
      "text/plain": [
       "hero_users_top:   0%|          | 0/100 [00:00<?, ?it/s]"
      ]
     },
     "metadata": {},
     "output_type": "display_data"
    },
    {
     "data": {
      "application/vnd.jupyter.widget-view+json": {
       "model_id": "",
       "version_major": 2,
       "version_minor": 0
      },
      "text/plain": [
       "hero_users_top:   0%|          | 0/100 [00:00<?, ?it/s]"
      ]
     },
     "metadata": {},
     "output_type": "display_data"
    }
   ],
   "source": [
    "random.seed(20230206)\n",
    "\n",
    "df_transactions = pd.read_csv(\n",
    "    transactions_path,\n",
    "    parse_dates=[\"transaction_dttm\"],\n",
    "    dtype={\"user_id\": int, \"mcc_code\": int, \"currency_rk\": int, \"transaction_amt\": float},\n",
    ")\n",
    "\n",
    "df_transactions_attacked = df_transactions.copy()\n",
    "\n",
    "bins_path = \"nn_bins.pickle\"\n",
    "model_path = \"nn_weights.ckpt\"\n",
    "target = predict(transactions_path, bins_path, model_path)\n",
    "target['target_true'] = target.target.apply(lambda x: 0 if x <= threshold else 1)\n",
    "\n",
    "one_idx = target.index[target.target > threshold]  # Эти пользователи похожи на Героя\n",
    "zero_idx = target.index[target.target <= threshold] # А эти на Неудачника\n",
    "\n",
    "users = target.user_id.values\n",
    "\n",
    "one_users = users[one_idx] # defolt - 1\n",
    "zero_users = users[zero_idx] # norm users - 0\n",
    "\n",
    "for user in tqdm(users[:30], desc='Total'):\n",
    "    df_transactions_user = df_transactions.loc[df_transactions.user_id == user].copy()\n",
    "    user_score = 0\n",
    "    best_copy_from = 829187\n",
    "    if user in one_users:\n",
    "        for copy_from in tqdm(poor_users_top, leave=False, desc='poor_users_top'):\n",
    "            idx_to_first = df_transactions_user.index[df_transactions_user.user_id == user][:5] # айдишники последних 10 транзакций юзера\n",
    "            idx_from_first = df_transactions.index[df_transactions.user_id == copy_from][:10:2] # айдишники последних 10 транзакций воннаби\n",
    "\n",
    "            idx_to_last = df_transactions_user.index[df_transactions_user.user_id == user][-5:] # айдишники последних 10 транзакций юзера\n",
    "            idx_from_last = df_transactions.index[df_transactions.user_id == copy_from][-10::2] # айдишники последних 10 транзакций воннаби\n",
    "\n",
    "            idx_to = idx_to_first.append(idx_to_last)\n",
    "            idx_from = idx_from_first.append(idx_from_last)\n",
    "\n",
    "            sign_to = np.sign(df_transactions.loc[idx_to, \"transaction_amt\"].values)\n",
    "            sign_from = np.sign(df_transactions.loc[idx_from, \"transaction_amt\"].values)\n",
    "            sign_mask = (sign_to == sign_from)\n",
    "\n",
    "            df_transactions_user.loc[idx_to[sign_mask], \"mcc_code\"] = df_transactions.loc[idx_from[sign_mask], \"mcc_code\"].values\n",
    "            df_transactions_user.loc[idx_to[sign_mask], \"transaction_amt\"] = df_transactions.loc[idx_from[sign_mask], \"transaction_amt\"].values\n",
    "\n",
    "            dataloader = create_dl(df_transactions_user, bins_path)\n",
    "\n",
    "            attacked_target = predictor(dataloader, model)\n",
    "\n",
    "            current_user_score = check_target_attack(user, target, attacked_target)\n",
    "\n",
    "            if current_user_score >= user_score:\n",
    "                user_score = current_user_score\n",
    "                best_copy_from = copy_from\n",
    "\n",
    "    else:\n",
    "        for copy_from in tqdm(hero_users_top, leave=False, desc='hero_users_top'):\n",
    "            idx_to_first = df_transactions_user.index[df_transactions_user.user_id == user][:5] # айдишники последних 10 транзакций юзера\n",
    "            idx_from_first = df_transactions.index[df_transactions.user_id == copy_from][:10:2] # айдишники последних 10 транзакций воннаби\n",
    "\n",
    "            idx_to_last = df_transactions_user.index[df_transactions_user.user_id == user][-5:] # айдишники последних 10 транзакций юзера\n",
    "            idx_from_last = df_transactions.index[df_transactions.user_id == copy_from][-10::2] # айдишники последних 10 транзакций воннаби\n",
    "\n",
    "            idx_to = idx_to_first.append(idx_to_last)\n",
    "            idx_from = idx_from_first.append(idx_from_last)\n",
    "\n",
    "            sign_to = np.sign(df_transactions_user.loc[idx_to, \"transaction_amt\"].values)\n",
    "            sign_from = np.sign(df_transactions.loc[idx_from, \"transaction_amt\"].values)\n",
    "            sign_mask = (sign_to == sign_from)\n",
    "\n",
    "            df_transactions_user.loc[idx_to[sign_mask], \"mcc_code\"] = df_transactions.loc[idx_from[sign_mask], \"mcc_code\"].values\n",
    "            df_transactions_user.loc[idx_to[sign_mask], \"transaction_amt\"] = df_transactions.loc[idx_from[sign_mask], \"transaction_amt\"].values\n",
    "\n",
    "            dataloader = create_dl(df_transactions_user, bins_path)\n",
    "\n",
    "            attacked_target = predictor(dataloader, model)\n",
    "\n",
    "            current_user_score = check_target_attack(user, target, attacked_target)\n",
    "\n",
    "            if current_user_score >= user_score:\n",
    "                user_score = current_user_score\n",
    "                best_copy_from = copy_from\n",
    "\n",
    "    idx_to_first = df_transactions.index[df_transactions.user_id == user][:5] # айдишники последних 10 транзакций юзера\n",
    "    idx_from_first = df_transactions.index[df_transactions.user_id == best_copy_from][:10:2] # айдишники последних 10 транзакций воннаби\n",
    "\n",
    "    idx_to_last = df_transactions.index[df_transactions.user_id == user][-5:] # айдишники последних 10 транзакций юзера\n",
    "    idx_from_last = df_transactions.index[df_transactions.user_id == best_copy_from][-10::2] # айдишники последних 10 транзакций воннаби\n",
    "\n",
    "    idx_to = idx_to_first.append(idx_to_last)\n",
    "    idx_from = idx_from_first.append(idx_from_last)\n",
    "\n",
    "    sign_to = np.sign(df_transactions.loc[idx_to, \"transaction_amt\"].values)\n",
    "    sign_from = np.sign(df_transactions.loc[idx_from, \"transaction_amt\"].values)\n",
    "    sign_mask = (sign_to == sign_from)\n",
    "\n",
    "    df_transactions_attacked.loc[idx_to[sign_mask], \"mcc_code\"] = df_transactions.loc[idx_from[sign_mask], \"mcc_code\"].values\n",
    "    df_transactions_attacked.loc[idx_to[sign_mask], \"transaction_amt\"] = df_transactions.loc[idx_from[sign_mask], \"transaction_amt\"].values\n",
    "\n",
    "\n",
    "attacked_path = 'last_brute_check.csv'\n",
    "df_transactions_attacked.to_csv(attacked_path, index=False)"
   ]
  },
  {
   "cell_type": "code",
   "execution_count": 62,
   "id": "a5836e4f-912a-4c45-9cb9-7b78567fc6ba",
   "metadata": {},
   "outputs": [
    {
     "name": "stderr",
     "output_type": "stream",
     "text": [
      "Global seed set to 26041999\n",
      "Global seed set to 26041999\n",
      "Global seed set to 26041999\n"
     ]
    },
    {
     "data": {
      "application/vnd.jupyter.widget-view+json": {
       "model_id": "72c3fa68ae3a4f9cbe34c1bb89180568",
       "version_major": 2,
       "version_minor": 0
      },
      "text/plain": [
       "Total:   0%|          | 0/10 [00:00<?, ?it/s]"
      ]
     },
     "metadata": {},
     "output_type": "display_data"
    },
    {
     "data": {
      "application/vnd.jupyter.widget-view+json": {
       "model_id": "",
       "version_major": 2,
       "version_minor": 0
      },
      "text/plain": [
       "hero_users_top:   0%|          | 0/80 [00:00<?, ?it/s]"
      ]
     },
     "metadata": {},
     "output_type": "display_data"
    },
    {
     "data": {
      "application/vnd.jupyter.widget-view+json": {
       "model_id": "",
       "version_major": 2,
       "version_minor": 0
      },
      "text/plain": [
       "hero_users_top:   0%|          | 0/80 [00:00<?, ?it/s]"
      ]
     },
     "metadata": {},
     "output_type": "display_data"
    },
    {
     "data": {
      "application/vnd.jupyter.widget-view+json": {
       "model_id": "",
       "version_major": 2,
       "version_minor": 0
      },
      "text/plain": [
       "poor_users_top:   0%|          | 0/80 [00:00<?, ?it/s]"
      ]
     },
     "metadata": {},
     "output_type": "display_data"
    },
    {
     "data": {
      "application/vnd.jupyter.widget-view+json": {
       "model_id": "",
       "version_major": 2,
       "version_minor": 0
      },
      "text/plain": [
       "poor_users_top:   0%|          | 0/80 [00:00<?, ?it/s]"
      ]
     },
     "metadata": {},
     "output_type": "display_data"
    },
    {
     "data": {
      "application/vnd.jupyter.widget-view+json": {
       "model_id": "",
       "version_major": 2,
       "version_minor": 0
      },
      "text/plain": [
       "hero_users_top:   0%|          | 0/80 [00:00<?, ?it/s]"
      ]
     },
     "metadata": {},
     "output_type": "display_data"
    },
    {
     "data": {
      "application/vnd.jupyter.widget-view+json": {
       "model_id": "",
       "version_major": 2,
       "version_minor": 0
      },
      "text/plain": [
       "hero_users_top:   0%|          | 0/80 [00:00<?, ?it/s]"
      ]
     },
     "metadata": {},
     "output_type": "display_data"
    },
    {
     "data": {
      "application/vnd.jupyter.widget-view+json": {
       "model_id": "",
       "version_major": 2,
       "version_minor": 0
      },
      "text/plain": [
       "hero_users_top:   0%|          | 0/80 [00:00<?, ?it/s]"
      ]
     },
     "metadata": {},
     "output_type": "display_data"
    },
    {
     "data": {
      "application/vnd.jupyter.widget-view+json": {
       "model_id": "",
       "version_major": 2,
       "version_minor": 0
      },
      "text/plain": [
       "poor_users_top:   0%|          | 0/80 [00:00<?, ?it/s]"
      ]
     },
     "metadata": {},
     "output_type": "display_data"
    },
    {
     "data": {
      "application/vnd.jupyter.widget-view+json": {
       "model_id": "",
       "version_major": 2,
       "version_minor": 0
      },
      "text/plain": [
       "hero_users_top:   0%|          | 0/80 [00:00<?, ?it/s]"
      ]
     },
     "metadata": {},
     "output_type": "display_data"
    },
    {
     "data": {
      "application/vnd.jupyter.widget-view+json": {
       "model_id": "",
       "version_major": 2,
       "version_minor": 0
      },
      "text/plain": [
       "hero_users_top:   0%|          | 0/80 [00:00<?, ?it/s]"
      ]
     },
     "metadata": {},
     "output_type": "display_data"
    }
   ],
   "source": [
    "import numpy as np\n",
    "import pandas as pd\n",
    "from tqdm.notebook import tqdm\n",
    "import random\n",
    "from model import predict # Функция, позволяет получить предсказание нейронки.\n",
    "\n",
    "import pytorch_lightning as pl\n",
    "import torch\n",
    "import pickle\n",
    "from model import process_for_nn, TransactionsDataset, get_dataloader, device, TransactionsRnn\n",
    "\n",
    "bins_path = \"nn_bins.pickle\" # путь до файла с бинами после тренировки модели (nn_bins.pickle)\n",
    "model_path = \"nn_weights.ckpt\" # путь до файла с весами нейронной сети (nn_weights.ckpt)\n",
    "quantiles_path = \"quantiles.json\" # путь до файла с квантилями для таргета (quantiles.pickle)\n",
    "\n",
    "transactions_path = \"../sample_submission.csv\"    # путь до файла с транзакциями, которые атакуются\n",
    "\n",
    "train_data_path = \"../transactions_finetune.csv\" # X - train data\n",
    "train_target_path = \"../target_finetune.csv\" # y - true target\n",
    "\n",
    "threshold = pd.read_csv(train_target_path).target.mean() # примерный threshold трейна\n",
    "\n",
    "\n",
    "def create_dl(df, bins_path):\n",
    "    df_transactions = df.dropna().assign(\n",
    "            hour=lambda x: x.transaction_dttm.dt.hour,\n",
    "            day=lambda x: x.transaction_dttm.dt.dayofweek,\n",
    "            month=lambda x: x.transaction_dttm.dt.month,\n",
    "            number_day=lambda x: x.transaction_dttm.dt.day,\n",
    "        )\n",
    "\n",
    "    with open(bins_path, \"rb\") as f:\n",
    "        bins = pickle.load(f)\n",
    "    features = bins.pop(\"features\")\n",
    "    # features = bins[\"features\"]  ########################## мб можно оптимизировать\n",
    "    df = process_for_nn(df_transactions, features, bins)\n",
    "    dataset = TransactionsDataset(df)\n",
    "    dataloader = get_dataloader(dataset, device, is_validation=True)\n",
    "    return dataloader\n",
    "\n",
    "\n",
    "def predictor(dataloader, model):\n",
    "    preds = []\n",
    "    users = []\n",
    "    for data, target in dataloader:\n",
    "        y_pred = model(data)\n",
    "        preds.append(y_pred.detach().cpu().numpy())\n",
    "        users.append(target.detach().cpu().numpy())\n",
    "    preds = np.concatenate(preds)\n",
    "    users = np.concatenate(users)\n",
    "    return pd.DataFrame({\"user_id\": users, \"target\": preds[:, 1]})\n",
    "\n",
    "\n",
    "def check_target_attack(user, target, attacked_target):\n",
    "    if target.target_true.loc[target.user_id == user].values[0]:\n",
    "        return target.target.loc[target.user_id == user].values[0] - attacked_target.target.loc[attacked_target.user_id == user].values[0]\n",
    "    else:\n",
    "        return attacked_target.target.loc[attacked_target.user_id == user].values[0] - target.target.loc[target.user_id == user].values[0]\n",
    "\n",
    "pred = predict('../sample_submission.csv', bins_path, model_path, random_seed=26041999)\n",
    "pred['target_true'] = pred.target.apply(lambda x: 0 if x <= threshold else 1)\n",
    "\n",
    "hero_users_top = pred.loc[(pred.target_true == 1)].sort_values('target')[-80:].user_id.values\n",
    "poor_users_top = pred.loc[(pred.target_true == 0)].sort_values('target')[:80].user_id.values\n",
    "\n",
    "pl.seed_everything(26041999)\n",
    "model = TransactionsRnn()\n",
    "model.load_state_dict(torch.load(model_path))\n",
    "model.to(device)\n",
    "model.eval()\n",
    "with open(bins_path, \"rb\") as f:\n",
    "    bins = pickle.load(f)\n",
    "\n",
    "random.seed(20230206)\n",
    "###############################################\n",
    "\n",
    "\n",
    "df_transactions = pd.read_csv(\n",
    "    transactions_path,\n",
    "    parse_dates=[\"transaction_dttm\"],\n",
    "    dtype={\"user_id\": int, \"mcc_code\": int, \"currency_rk\": int, \"transaction_amt\": float},\n",
    ")\n",
    "\n",
    "df_transactions_attacked = df_transactions.copy()\n",
    "\n",
    "bins_path = \"nn_bins.pickle\"\n",
    "model_path = \"nn_weights.ckpt\"\n",
    "target = predict(transactions_path, bins_path, model_path)\n",
    "target['target_true'] = target.target.apply(lambda x: 0 if x <= threshold else 1)\n",
    "\n",
    "one_idx = target.index[target.target > threshold]  # Эти пользователи похожи на Героя\n",
    "zero_idx = target.index[target.target <= threshold] # А эти на Неудачника\n",
    "\n",
    "users = target.user_id.values\n",
    "\n",
    "one_users = users[one_idx] # defolt - 1\n",
    "zero_users = users[zero_idx] # norm users - 0\n",
    "\n",
    "for user in tqdm(users[:10], desc='Total'):\n",
    "    df_transactions_user = df_transactions.loc[df_transactions.user_id == user].copy()\n",
    "    user_score = 0\n",
    "    best_copy_from = 829187\n",
    "    best_i = 1\n",
    "    if user in one_users:\n",
    "        for copy_from in tqdm(poor_users_top, leave=False, desc='poor_users_top'):\n",
    "            for i in range(1, 13):\n",
    "                idx_to_first = df_transactions_user.index[df_transactions_user.user_id == user][:5] # айдишники первых 5 транзакций юзера\n",
    "                idx_from_first = df_transactions.index[df_transactions.user_id == copy_from][i:5+i] # айдишники первых 5 транзакций воннаби\n",
    "\n",
    "                idx_to_last = df_transactions_user.index[df_transactions_user.user_id == user][-5:] # айдишники последних 5 транзакций юзера\n",
    "                idx_from_last = df_transactions.index[df_transactions.user_id == copy_from][-5-i:-i] # айдишники последних 5 транзакций воннаби\n",
    "\n",
    "                idx_to = idx_to_first.append(idx_to_last)\n",
    "                idx_from = idx_from_first.append(idx_from_last)\n",
    "\n",
    "                sign_to = np.sign(df_transactions.loc[idx_to, \"transaction_amt\"].values)\n",
    "                sign_from = np.sign(df_transactions.loc[idx_from, \"transaction_amt\"].values)\n",
    "                sign_mask = (sign_to == sign_from)\n",
    "\n",
    "                df_transactions_user.loc[idx_to[sign_mask], \"mcc_code\"] = df_transactions.loc[idx_from[sign_mask], \"mcc_code\"].values\n",
    "                df_transactions_user.loc[idx_to[sign_mask], \"transaction_amt\"] = df_transactions.loc[idx_from[sign_mask], \"transaction_amt\"].values\n",
    "\n",
    "                dataloader = create_dl(df_transactions_user, bins_path)\n",
    "\n",
    "                attacked_target = predictor(dataloader, model)\n",
    "\n",
    "                current_user_score = check_target_attack(user, target, attacked_target)\n",
    "\n",
    "                if current_user_score >= user_score:\n",
    "                    user_score = current_user_score\n",
    "                    best_copy_from = copy_from\n",
    "                    best_i = i\n",
    "\n",
    "    else:\n",
    "        for copy_from in tqdm(hero_users_top, leave=False, desc='hero_users_top'):\n",
    "            for i in range(1, 13):\n",
    "                idx_to_first = df_transactions_user.index[df_transactions_user.user_id == user][:5] # айдишники первых 5 транзакций юзера\n",
    "                idx_from_first = df_transactions.index[df_transactions.user_id == copy_from][i:5+i] # айдишники первых 5 транзакций воннаби\n",
    "\n",
    "                idx_to_last = df_transactions_user.index[df_transactions_user.user_id == user][-5:] # айдишники последних 5 транзакций юзера\n",
    "                idx_from_last = df_transactions.index[df_transactions.user_id == copy_from][-5-i:-i] # айдишники последних 5 транзакций воннаби\n",
    "\n",
    "                idx_to = idx_to_first.append(idx_to_last)\n",
    "                idx_from = idx_from_first.append(idx_from_last)\n",
    "\n",
    "                sign_to = np.sign(df_transactions.loc[idx_to, \"transaction_amt\"].values)\n",
    "                sign_from = np.sign(df_transactions.loc[idx_from, \"transaction_amt\"].values)\n",
    "                sign_mask = (sign_to == sign_from)\n",
    "\n",
    "                df_transactions_user.loc[idx_to[sign_mask], \"mcc_code\"] = df_transactions.loc[idx_from[sign_mask], \"mcc_code\"].values\n",
    "                df_transactions_user.loc[idx_to[sign_mask], \"transaction_amt\"] = df_transactions.loc[idx_from[sign_mask], \"transaction_amt\"].values\n",
    "\n",
    "                dataloader = create_dl(df_transactions_user, bins_path)\n",
    "\n",
    "                attacked_target = predictor(dataloader, model)\n",
    "\n",
    "                current_user_score = check_target_attack(user, target, attacked_target)\n",
    "\n",
    "                if current_user_score >= user_score:\n",
    "                    user_score = current_user_score\n",
    "                    best_copy_from = copy_from\n",
    "                    best_i = i\n",
    "\n",
    "    idx_to_first = df_transactions.index[df_transactions.user_id == user][:5]\n",
    "    idx_from_first = df_transactions.index[df_transactions.user_id == best_copy_from][best_i:5+best_i]\n",
    "\n",
    "    idx_to_last = df_transactions.index[df_transactions.user_id == user][-5:]\n",
    "    idx_from_last = df_transactions.index[df_transactions.user_id == best_copy_from][-5-best_i:-best_i]\n",
    "\n",
    "    idx_to = idx_to_first.append(idx_to_last)\n",
    "    idx_from = idx_from_first.append(idx_from_last)\n",
    "\n",
    "    sign_to = np.sign(df_transactions.loc[idx_to, \"transaction_amt\"].values)\n",
    "    sign_from = np.sign(df_transactions.loc[idx_from, \"transaction_amt\"].values)\n",
    "    sign_mask = (sign_to == sign_from)\n",
    "\n",
    "    df_transactions_attacked.loc[idx_to[sign_mask], \"mcc_code\"] = df_transactions.loc[idx_from[sign_mask], \"mcc_code\"].values\n",
    "    df_transactions_attacked.loc[idx_to[sign_mask], \"transaction_amt\"] = df_transactions.loc[idx_from[sign_mask], \"transaction_amt\"].values\n",
    "\n",
    "\n",
    "attacked_path = 'last_brute_split_1_test.csv'\n",
    "df_transactions_attacked.to_csv(attacked_path, index=False)"
   ]
  },
  {
   "cell_type": "code",
   "execution_count": 63,
   "id": "ffd3d2f8-f7f5-43ed-ae98-2a95bfbb6cbc",
   "metadata": {},
   "outputs": [
    {
     "data": {
      "text/plain": [
       "0.1428571428571429"
      ]
     },
     "execution_count": 63,
     "metadata": {},
     "output_type": "execute_result"
    }
   ],
   "source": [
    "roc_auc_score(pred[:10]['target_true'], pred_attacked[:10]['target'])"
   ]
  },
  {
   "cell_type": "code",
   "execution_count": 64,
   "id": "9c178d24-5a42-4661-8d9a-ea3571ad69d2",
   "metadata": {},
   "outputs": [
    {
     "name": "stderr",
     "output_type": "stream",
     "text": [
      "Global seed set to 26041999\n"
     ]
    }
   ],
   "source": [
    "pred_attacked2 = predict('last_brute_split_1_test.csv', bins_path, model_path, random_seed=26041999)"
   ]
  },
  {
   "cell_type": "code",
   "execution_count": 65,
   "id": "69b7bcaa-7f6e-422b-8a78-602a92aaf9d3",
   "metadata": {},
   "outputs": [
    {
     "data": {
      "text/plain": [
       "0.09523809523809526"
      ]
     },
     "execution_count": 65,
     "metadata": {},
     "output_type": "execute_result"
    }
   ],
   "source": [
    "roc_auc_score(pred[:10]['target_true'], pred_attacked2[:10]['target'])"
   ]
  },
  {
   "cell_type": "code",
   "execution_count": 67,
   "id": "cabbcacc-b471-4ff9-8b42-3ce9406d2e82",
   "metadata": {
    "tags": []
   },
   "outputs": [
    {
     "name": "stderr",
     "output_type": "stream",
     "text": [
      "Global seed set to 26041999\n",
      "Global seed set to 26041999\n",
      "Global seed set to 26041999\n"
     ]
    },
    {
     "data": {
      "application/vnd.jupyter.widget-view+json": {
       "model_id": "df29609cacff437dbcab026e0465b6a3",
       "version_major": 2,
       "version_minor": 0
      },
      "text/plain": [
       "Total:   0%|          | 0/10 [00:00<?, ?it/s]"
      ]
     },
     "metadata": {},
     "output_type": "display_data"
    },
    {
     "data": {
      "application/vnd.jupyter.widget-view+json": {
       "model_id": "",
       "version_major": 2,
       "version_minor": 0
      },
      "text/plain": [
       "hero_users_top:   0%|          | 0/20 [00:00<?, ?it/s]"
      ]
     },
     "metadata": {},
     "output_type": "display_data"
    },
    {
     "data": {
      "application/vnd.jupyter.widget-view+json": {
       "model_id": "",
       "version_major": 2,
       "version_minor": 0
      },
      "text/plain": [
       "hero_users_top:   0%|          | 0/20 [00:00<?, ?it/s]"
      ]
     },
     "metadata": {},
     "output_type": "display_data"
    },
    {
     "data": {
      "application/vnd.jupyter.widget-view+json": {
       "model_id": "",
       "version_major": 2,
       "version_minor": 0
      },
      "text/plain": [
       "poor_users_top:   0%|          | 0/20 [00:00<?, ?it/s]"
      ]
     },
     "metadata": {},
     "output_type": "display_data"
    },
    {
     "data": {
      "application/vnd.jupyter.widget-view+json": {
       "model_id": "",
       "version_major": 2,
       "version_minor": 0
      },
      "text/plain": [
       "poor_users_top:   0%|          | 0/20 [00:00<?, ?it/s]"
      ]
     },
     "metadata": {},
     "output_type": "display_data"
    },
    {
     "data": {
      "application/vnd.jupyter.widget-view+json": {
       "model_id": "",
       "version_major": 2,
       "version_minor": 0
      },
      "text/plain": [
       "hero_users_top:   0%|          | 0/20 [00:00<?, ?it/s]"
      ]
     },
     "metadata": {},
     "output_type": "display_data"
    },
    {
     "data": {
      "application/vnd.jupyter.widget-view+json": {
       "model_id": "",
       "version_major": 2,
       "version_minor": 0
      },
      "text/plain": [
       "hero_users_top:   0%|          | 0/20 [00:00<?, ?it/s]"
      ]
     },
     "metadata": {},
     "output_type": "display_data"
    },
    {
     "data": {
      "application/vnd.jupyter.widget-view+json": {
       "model_id": "",
       "version_major": 2,
       "version_minor": 0
      },
      "text/plain": [
       "hero_users_top:   0%|          | 0/20 [00:00<?, ?it/s]"
      ]
     },
     "metadata": {},
     "output_type": "display_data"
    },
    {
     "data": {
      "application/vnd.jupyter.widget-view+json": {
       "model_id": "",
       "version_major": 2,
       "version_minor": 0
      },
      "text/plain": [
       "poor_users_top:   0%|          | 0/20 [00:00<?, ?it/s]"
      ]
     },
     "metadata": {},
     "output_type": "display_data"
    },
    {
     "data": {
      "application/vnd.jupyter.widget-view+json": {
       "model_id": "",
       "version_major": 2,
       "version_minor": 0
      },
      "text/plain": [
       "hero_users_top:   0%|          | 0/20 [00:00<?, ?it/s]"
      ]
     },
     "metadata": {},
     "output_type": "display_data"
    },
    {
     "data": {
      "application/vnd.jupyter.widget-view+json": {
       "model_id": "",
       "version_major": 2,
       "version_minor": 0
      },
      "text/plain": [
       "hero_users_top:   0%|          | 0/20 [00:00<?, ?it/s]"
      ]
     },
     "metadata": {},
     "output_type": "display_data"
    }
   ],
   "source": [
    "import numpy as np\n",
    "import pandas as pd\n",
    "from tqdm.notebook import tqdm\n",
    "import random\n",
    "from model import predict # Функция, позволяет получить предсказание нейронки.\n",
    "\n",
    "import pytorch_lightning as pl\n",
    "import torch\n",
    "import pickle\n",
    "from model import process_for_nn, TransactionsDataset, get_dataloader, device, TransactionsRnn\n",
    "\n",
    "bins_path = \"nn_bins.pickle\" # путь до файла с бинами после тренировки модели (nn_bins.pickle)\n",
    "model_path = \"nn_weights.ckpt\" # путь до файла с весами нейронной сети (nn_weights.ckpt)\n",
    "quantiles_path = \"quantiles.json\" # путь до файла с квантилями для таргета (quantiles.pickle)\n",
    "\n",
    "transactions_path = \"../sample_submission.csv\"    # путь до файла с транзакциями, которые атакуются\n",
    "\n",
    "train_data_path = \"../transactions_finetune.csv\" # X - train data\n",
    "train_target_path = \"../target_finetune.csv\" # y - true target\n",
    "\n",
    "threshold = pd.read_csv(train_target_path).target.mean() # примерный threshold трейна\n",
    "\n",
    "\n",
    "def create_dl(df, bins_path):\n",
    "    df_transactions = df.dropna().assign(\n",
    "            hour=lambda x: x.transaction_dttm.dt.hour,\n",
    "            day=lambda x: x.transaction_dttm.dt.dayofweek,\n",
    "            month=lambda x: x.transaction_dttm.dt.month,\n",
    "            number_day=lambda x: x.transaction_dttm.dt.day,\n",
    "        )\n",
    "\n",
    "    with open(bins_path, \"rb\") as f:\n",
    "        bins = pickle.load(f)\n",
    "    features = bins.pop(\"features\")\n",
    "    # features = bins[\"features\"]  ########################## мб можно оптимизировать\n",
    "    df = process_for_nn(df_transactions, features, bins)\n",
    "    dataset = TransactionsDataset(df)\n",
    "    dataloader = get_dataloader(dataset, device, is_validation=True)\n",
    "    return dataloader\n",
    "\n",
    "\n",
    "def predictor(dataloader, model):\n",
    "    preds = []\n",
    "    users = []\n",
    "    for data, target in dataloader:\n",
    "        y_pred = model(data)\n",
    "        preds.append(y_pred.detach().cpu().numpy())\n",
    "        users.append(target.detach().cpu().numpy())\n",
    "    preds = np.concatenate(preds)\n",
    "    users = np.concatenate(users)\n",
    "    return pd.DataFrame({\"user_id\": users, \"target\": preds[:, 1]})\n",
    "\n",
    "\n",
    "def check_target_attack(user, target, attacked_target):\n",
    "    if target.target_true.loc[target.user_id == user].values[0]:\n",
    "        return target.target.loc[target.user_id == user].values[0] - attacked_target.target.loc[attacked_target.user_id == user].values[0]\n",
    "    else:\n",
    "        return attacked_target.target.loc[attacked_target.user_id == user].values[0] - target.target.loc[target.user_id == user].values[0]\n",
    "\n",
    "pred = predict('../sample_submission.csv', bins_path, model_path, random_seed=26041999)\n",
    "pred['target_true'] = pred.target.apply(lambda x: 0 if x <= threshold else 1)\n",
    "\n",
    "hero_users_top = pred.loc[(pred.target_true == 1)].sort_values('target')[-20:].user_id.values\n",
    "poor_users_top = pred.loc[(pred.target_true == 0)].sort_values('target')[:20].user_id.values\n",
    "\n",
    "pl.seed_everything(26041999)\n",
    "model = TransactionsRnn()\n",
    "model.load_state_dict(torch.load(model_path))\n",
    "model.to(device)\n",
    "model.eval()\n",
    "with open(bins_path, \"rb\") as f:\n",
    "    bins = pickle.load(f)\n",
    "\n",
    "random.seed(20230206)\n",
    "###############################################\n",
    "# testing df_train last 10\n",
    "##############################################\n",
    "\n",
    "# threshold = pd.read_csv(\"../data/target_finetune.csv\").target.mean()  # вероятность, по которой мы считаем таргет\n",
    "\n",
    "df_transactions = pd.read_csv(\n",
    "    transactions_path,\n",
    "    parse_dates=[\"transaction_dttm\"],\n",
    "    dtype={\"user_id\": int, \"mcc_code\": int, \"currency_rk\": int, \"transaction_amt\": float},\n",
    ")\n",
    "\n",
    "df_transactions_attacked = df_transactions.copy()\n",
    "\n",
    "bins_path = \"nn_bins.pickle\"\n",
    "model_path = \"nn_weights.ckpt\"\n",
    "target = predict(transactions_path, bins_path, model_path)\n",
    "target['target_true'] = target.target.apply(lambda x: 0 if x <= threshold else 1)\n",
    "\n",
    "one_idx = target.index[target.target > threshold]  # Эти пользователи похожи на Героя\n",
    "zero_idx = target.index[target.target <= threshold] # А эти на Неудачника\n",
    "\n",
    "users = target.user_id.values\n",
    "\n",
    "one_users = users[one_idx] # defolt - 1\n",
    "zero_users = users[zero_idx] # norm users - 0\n",
    "\n",
    "for user in tqdm(users[:10], desc='Total'):\n",
    "    df_transactions_user = df_transactions.loc[df_transactions.user_id == user].copy()\n",
    "    user_score = 0\n",
    "    best_copy_from = 829187\n",
    "    best_i = 1\n",
    "    if user in one_users:\n",
    "        for copy_from in tqdm(poor_users_top, leave=False, desc='poor_users_top'):\n",
    "            for i in range(1, 20):\n",
    "                idx_to_first = df_transactions_user.index[df_transactions_user.user_id == user][:5] # айдишники первых 5 транзакций юзера\n",
    "                idx_from_first = df_transactions.index[df_transactions.user_id == copy_from][:5*i:i] # айдишники первых 5 транзакций воннаби\n",
    "\n",
    "                idx_to_last = df_transactions_user.index[df_transactions_user.user_id == user][-5:] # айдишники последних 5 транзакций юзера\n",
    "                idx_from_last = df_transactions.index[df_transactions.user_id == copy_from][-5*i::i] # айдишники последних 5 транзакций воннаби\n",
    "\n",
    "                idx_to = idx_to_first.append(idx_to_last)\n",
    "                idx_from = idx_from_first.append(idx_from_last)\n",
    "\n",
    "                sign_to = np.sign(df_transactions.loc[idx_to, \"transaction_amt\"].values)\n",
    "                sign_from = np.sign(df_transactions.loc[idx_from, \"transaction_amt\"].values)\n",
    "                sign_mask = (sign_to == sign_from)\n",
    "\n",
    "                df_transactions_user.loc[idx_to[sign_mask], \"mcc_code\"] = df_transactions.loc[idx_from[sign_mask], \"mcc_code\"].values\n",
    "                df_transactions_user.loc[idx_to[sign_mask], \"transaction_amt\"] = df_transactions.loc[idx_from[sign_mask], \"transaction_amt\"].values\n",
    "\n",
    "                dataloader = create_dl(df_transactions_user, bins_path)\n",
    "\n",
    "                attacked_target = predictor(dataloader, model)\n",
    "\n",
    "                current_user_score = check_target_attack(user, target, attacked_target)\n",
    "\n",
    "                if current_user_score >= user_score:\n",
    "                    user_score = current_user_score\n",
    "                    best_copy_from = copy_from\n",
    "                    best_i = i\n",
    "\n",
    "    else:\n",
    "        for copy_from in tqdm(hero_users_top, leave=False, desc='hero_users_top'):\n",
    "            for i in range(1, 20):\n",
    "                idx_to_first = df_transactions_user.index[df_transactions_user.user_id == user][:5] # айдишники первых 5 транзакций юзера\n",
    "                idx_from_first = df_transactions.index[df_transactions.user_id == copy_from][:5*i:i] # айдишники первых 5 транзакций воннаби\n",
    "\n",
    "                idx_to_last = df_transactions_user.index[df_transactions_user.user_id == user][-5:] # айдишники последних 5 транзакций юзера\n",
    "                idx_from_last = df_transactions.index[df_transactions.user_id == copy_from][-5*i::i] # айдишники последних 5 транзакций воннаби\n",
    "\n",
    "                idx_to = idx_to_first.append(idx_to_last)\n",
    "                idx_from = idx_from_first.append(idx_from_last)\n",
    "\n",
    "                sign_to = np.sign(df_transactions.loc[idx_to, \"transaction_amt\"].values)\n",
    "                sign_from = np.sign(df_transactions.loc[idx_from, \"transaction_amt\"].values)\n",
    "                sign_mask = (sign_to == sign_from)\n",
    "\n",
    "                df_transactions_user.loc[idx_to[sign_mask], \"mcc_code\"] = df_transactions.loc[idx_from[sign_mask], \"mcc_code\"].values\n",
    "                df_transactions_user.loc[idx_to[sign_mask], \"transaction_amt\"] = df_transactions.loc[idx_from[sign_mask], \"transaction_amt\"].values\n",
    "\n",
    "                dataloader = create_dl(df_transactions_user, bins_path)\n",
    "\n",
    "                attacked_target = predictor(dataloader, model)\n",
    "\n",
    "                current_user_score = check_target_attack(user, target, attacked_target)\n",
    "\n",
    "                if current_user_score >= user_score:\n",
    "                    user_score = current_user_score\n",
    "                    best_copy_from = copy_from\n",
    "                    best_i = i\n",
    "\n",
    "    idx_to_first = df_transactions.index[df_transactions.user_id == user][:5]\n",
    "    idx_from_first = df_transactions.index[df_transactions.user_id == best_copy_from][:5*best_i:best_i]\n",
    "\n",
    "    idx_to_last = df_transactions.index[df_transactions.user_id == user][-5:]\n",
    "    idx_from_last = df_transactions.index[df_transactions.user_id == best_copy_from][-5*best_i::best_i]\n",
    "\n",
    "    idx_to = idx_to_first.append(idx_to_last)\n",
    "    idx_from = idx_from_first.append(idx_from_last)\n",
    "\n",
    "    sign_to = np.sign(df_transactions.loc[idx_to, \"transaction_amt\"].values)\n",
    "    sign_from = np.sign(df_transactions.loc[idx_from, \"transaction_amt\"].values)\n",
    "    sign_mask = (sign_to == sign_from)\n",
    "\n",
    "    df_transactions_attacked.loc[idx_to[sign_mask], \"mcc_code\"] = df_transactions.loc[idx_from[sign_mask], \"mcc_code\"].values\n",
    "    df_transactions_attacked.loc[idx_to[sign_mask], \"transaction_amt\"] = df_transactions.loc[idx_from[sign_mask], \"transaction_amt\"].values\n",
    "\n",
    "\n",
    "attacked_path = 'last_brute_split_2_test.csv'\n",
    "df_transactions_attacked.to_csv(attacked_path, index=False)"
   ]
  },
  {
   "cell_type": "code",
   "execution_count": 68,
   "id": "9a3b4d76-cf77-4c6a-8fd2-99798a2fa53e",
   "metadata": {},
   "outputs": [
    {
     "name": "stderr",
     "output_type": "stream",
     "text": [
      "Global seed set to 26041999\n"
     ]
    }
   ],
   "source": [
    "pred_attacked3 = predict('last_brute_split_2_test.csv', bins_path, model_path, random_seed=26041999)"
   ]
  },
  {
   "cell_type": "code",
   "execution_count": 47,
   "id": "e3e3dde1-6bb0-46b2-a3ba-c0a890ca8a23",
   "metadata": {},
   "outputs": [
    {
     "data": {
      "text/plain": [
       "0.1428571428571429"
      ]
     },
     "execution_count": 47,
     "metadata": {},
     "output_type": "execute_result"
    }
   ],
   "source": [
    "roc_auc_score(pred[:10]['target_true'], pred_attacked[:10]['target'])"
   ]
  },
  {
   "cell_type": "code",
   "execution_count": 48,
   "id": "fad9fa3e-8a6f-44bf-9911-cec0a2df560b",
   "metadata": {},
   "outputs": [
    {
     "data": {
      "text/plain": [
       "0.14285714285714285"
      ]
     },
     "execution_count": 48,
     "metadata": {},
     "output_type": "execute_result"
    }
   ],
   "source": [
    "roc_auc_score(pred[:10]['target_true'], pred_attacked3[:10]['target'])"
   ]
  },
  {
   "cell_type": "code",
   "execution_count": 56,
   "id": "9aeb6a34-d288-450f-a638-166d1ffbf3f9",
   "metadata": {},
   "outputs": [
    {
     "data": {
      "text/plain": [
       "0.04761904761904763"
      ]
     },
     "execution_count": 56,
     "metadata": {},
     "output_type": "execute_result"
    }
   ],
   "source": [
    "roc_auc_score(pred[:10]['target_true'], pred_attacked3[:10]['target'])"
   ]
  },
  {
   "cell_type": "code",
   "execution_count": 61,
   "id": "4e6c75aa-4827-40c7-a12d-4dfde6b79994",
   "metadata": {},
   "outputs": [
    {
     "data": {
      "text/plain": [
       "0.09523809523809523"
      ]
     },
     "execution_count": 61,
     "metadata": {},
     "output_type": "execute_result"
    }
   ],
   "source": [
    "# :80 range 15\n",
    "roc_auc_score(pred[:10]['target_true'], pred_attacked3[:10]['target'])"
   ]
  },
  {
   "cell_type": "code",
   "execution_count": 69,
   "id": "4e063868-4443-4fda-883b-6fa59cabe9f4",
   "metadata": {},
   "outputs": [
    {
     "data": {
      "text/plain": [
       "0.04761904761904763"
      ]
     },
     "execution_count": 69,
     "metadata": {},
     "output_type": "execute_result"
    }
   ],
   "source": [
    "roc_auc_score(pred[:10]['target_true'], pred_attacked3[:10]['target'])"
   ]
  },
  {
   "cell_type": "code",
   "execution_count": 53,
   "id": "30e01b4e-666a-4211-891b-2beeb3661233",
   "metadata": {},
   "outputs": [
    {
     "data": {
      "text/html": [
       "<div>\n",
       "<style scoped>\n",
       "    .dataframe tbody tr th:only-of-type {\n",
       "        vertical-align: middle;\n",
       "    }\n",
       "\n",
       "    .dataframe tbody tr th {\n",
       "        vertical-align: top;\n",
       "    }\n",
       "\n",
       "    .dataframe thead th {\n",
       "        text-align: right;\n",
       "    }\n",
       "</style>\n",
       "<table border=\"1\" class=\"dataframe\">\n",
       "  <thead>\n",
       "    <tr style=\"text-align: right;\">\n",
       "      <th></th>\n",
       "      <th>user_id</th>\n",
       "      <th>target</th>\n",
       "    </tr>\n",
       "  </thead>\n",
       "  <tbody>\n",
       "    <tr>\n",
       "      <th>0</th>\n",
       "      <td>66</td>\n",
       "      <td>0.124032</td>\n",
       "    </tr>\n",
       "    <tr>\n",
       "      <th>1</th>\n",
       "      <td>213</td>\n",
       "      <td>0.075672</td>\n",
       "    </tr>\n",
       "    <tr>\n",
       "      <th>2</th>\n",
       "      <td>345</td>\n",
       "      <td>0.066365</td>\n",
       "    </tr>\n",
       "    <tr>\n",
       "      <th>3</th>\n",
       "      <td>569</td>\n",
       "      <td>0.017604</td>\n",
       "    </tr>\n",
       "    <tr>\n",
       "      <th>4</th>\n",
       "      <td>573</td>\n",
       "      <td>0.067958</td>\n",
       "    </tr>\n",
       "    <tr>\n",
       "      <th>5</th>\n",
       "      <td>824</td>\n",
       "      <td>0.011650</td>\n",
       "    </tr>\n",
       "    <tr>\n",
       "      <th>6</th>\n",
       "      <td>1840</td>\n",
       "      <td>0.099187</td>\n",
       "    </tr>\n",
       "    <tr>\n",
       "      <th>7</th>\n",
       "      <td>1949</td>\n",
       "      <td>0.019046</td>\n",
       "    </tr>\n",
       "    <tr>\n",
       "      <th>8</th>\n",
       "      <td>2135</td>\n",
       "      <td>0.087735</td>\n",
       "    </tr>\n",
       "    <tr>\n",
       "      <th>9</th>\n",
       "      <td>2204</td>\n",
       "      <td>0.123523</td>\n",
       "    </tr>\n",
       "  </tbody>\n",
       "</table>\n",
       "</div>"
      ],
      "text/plain": [
       "   user_id    target\n",
       "0       66  0.124032\n",
       "1      213  0.075672\n",
       "2      345  0.066365\n",
       "3      569  0.017604\n",
       "4      573  0.067958\n",
       "5      824  0.011650\n",
       "6     1840  0.099187\n",
       "7     1949  0.019046\n",
       "8     2135  0.087735\n",
       "9     2204  0.123523"
      ]
     },
     "execution_count": 53,
     "metadata": {},
     "output_type": "execute_result"
    }
   ],
   "source": [
    "pred_attacked[:10]"
   ]
  },
  {
   "cell_type": "code",
   "execution_count": 58,
   "id": "d13e690a-5e78-4bbb-b8a2-f96e30175b2d",
   "metadata": {},
   "outputs": [
    {
     "data": {
      "text/html": [
       "<div>\n",
       "<style scoped>\n",
       "    .dataframe tbody tr th:only-of-type {\n",
       "        vertical-align: middle;\n",
       "    }\n",
       "\n",
       "    .dataframe tbody tr th {\n",
       "        vertical-align: top;\n",
       "    }\n",
       "\n",
       "    .dataframe thead th {\n",
       "        text-align: right;\n",
       "    }\n",
       "</style>\n",
       "<table border=\"1\" class=\"dataframe\">\n",
       "  <thead>\n",
       "    <tr style=\"text-align: right;\">\n",
       "      <th></th>\n",
       "      <th>user_id</th>\n",
       "      <th>target</th>\n",
       "    </tr>\n",
       "  </thead>\n",
       "  <tbody>\n",
       "    <tr>\n",
       "      <th>0</th>\n",
       "      <td>66</td>\n",
       "      <td>0.118982</td>\n",
       "    </tr>\n",
       "    <tr>\n",
       "      <th>1</th>\n",
       "      <td>213</td>\n",
       "      <td>0.156076</td>\n",
       "    </tr>\n",
       "    <tr>\n",
       "      <th>2</th>\n",
       "      <td>345</td>\n",
       "      <td>0.057281</td>\n",
       "    </tr>\n",
       "    <tr>\n",
       "      <th>3</th>\n",
       "      <td>569</td>\n",
       "      <td>0.023313</td>\n",
       "    </tr>\n",
       "    <tr>\n",
       "      <th>4</th>\n",
       "      <td>573</td>\n",
       "      <td>0.072538</td>\n",
       "    </tr>\n",
       "    <tr>\n",
       "      <th>5</th>\n",
       "      <td>824</td>\n",
       "      <td>0.025457</td>\n",
       "    </tr>\n",
       "    <tr>\n",
       "      <th>6</th>\n",
       "      <td>1840</td>\n",
       "      <td>0.107366</td>\n",
       "    </tr>\n",
       "    <tr>\n",
       "      <th>7</th>\n",
       "      <td>1949</td>\n",
       "      <td>0.019383</td>\n",
       "    </tr>\n",
       "    <tr>\n",
       "      <th>8</th>\n",
       "      <td>2135</td>\n",
       "      <td>0.095316</td>\n",
       "    </tr>\n",
       "    <tr>\n",
       "      <th>9</th>\n",
       "      <td>2204</td>\n",
       "      <td>0.099436</td>\n",
       "    </tr>\n",
       "  </tbody>\n",
       "</table>\n",
       "</div>"
      ],
      "text/plain": [
       "   user_id    target\n",
       "0       66  0.118982\n",
       "1      213  0.156076\n",
       "2      345  0.057281\n",
       "3      569  0.023313\n",
       "4      573  0.072538\n",
       "5      824  0.025457\n",
       "6     1840  0.107366\n",
       "7     1949  0.019383\n",
       "8     2135  0.095316\n",
       "9     2204  0.099436"
      ]
     },
     "execution_count": 58,
     "metadata": {},
     "output_type": "execute_result"
    }
   ],
   "source": [
    "pred_attacked3[:10]"
   ]
  },
  {
   "cell_type": "code",
   "execution_count": 4,
   "id": "f6a80e21-9f78-4e90-9cb0-742bfff79e76",
   "metadata": {},
   "outputs": [
    {
     "name": "stderr",
     "output_type": "stream",
     "text": [
      "Global seed set to 26041999\n"
     ]
    }
   ],
   "source": [
    "pred = predict('../sample_submission.csv', bins_path, model_path, random_seed=26041999)\n",
    "pred['target_true'] = pred.target.apply(lambda x: 0 if x <= threshold else 1)"
   ]
  },
  {
   "cell_type": "code",
   "execution_count": 5,
   "id": "1627140a-8b15-49c2-ad90-5b6f27835375",
   "metadata": {},
   "outputs": [
    {
     "name": "stderr",
     "output_type": "stream",
     "text": [
      "Global seed set to 26041999\n",
      "Global seed set to 26041999\n"
     ]
    }
   ],
   "source": [
    "pred_attacked2 = predict('last_brute_split_2.csv', bins_path, model_path, random_seed=26041999)\n",
    "pred_attacked3 = predict('last_brute_split_1.csv', bins_path, model_path, random_seed=26041999)"
   ]
  },
  {
   "cell_type": "code",
   "execution_count": 9,
   "id": "a723a207-da79-4feb-b31b-a9489b7628a1",
   "metadata": {},
   "outputs": [
    {
     "data": {
      "text/plain": [
       "0.2218653852253624"
      ]
     },
     "execution_count": 9,
     "metadata": {},
     "output_type": "execute_result"
    }
   ],
   "source": [
    "roc_auc_score(pred['target_true'], pred_attacked2['target'])"
   ]
  },
  {
   "cell_type": "code",
   "execution_count": null,
   "id": "c3a8da2c-9667-42f3-87c0-d79398ac89e4",
   "metadata": {},
   "outputs": [],
   "source": []
  }
 ],
 "metadata": {
  "kernelspec": {
   "display_name": "Python 3 (ipykernel)",
   "language": "python",
   "name": "python3"
  },
  "language_info": {
   "codemirror_mode": {
    "name": "ipython",
    "version": 3
   },
   "file_extension": ".py",
   "mimetype": "text/x-python",
   "name": "python",
   "nbconvert_exporter": "python",
   "pygments_lexer": "ipython3",
   "version": "3.9.16"
  }
 },
 "nbformat": 4,
 "nbformat_minor": 5
}
