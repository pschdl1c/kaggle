{
 "cells": [
  {
   "cell_type": "code",
   "execution_count": 1,
   "metadata": {},
   "outputs": [],
   "source": [
    "import copy\n",
    "import random\n",
    "import traceback\n",
    "import itertools\n",
    "import collections\n",
    "\n",
    "\n",
    "import numpy as np\n",
    "import pandas as pd\n",
    "\n",
    "import torch\n",
    "from torch import nn\n",
    "from torch.nn import functional as F\n",
    "from torch.utils.data import TensorDataset, DataLoader\n",
    "\n",
    "from sklearn.model_selection import train_test_split\n",
    "from sklearn.metrics import classification_report, f1_score\n",
    "\n",
    "from tqdm.autonotebook import tqdm"
   ]
  },
  {
   "cell_type": "code",
   "execution_count": 2,
   "metadata": {},
   "outputs": [],
   "source": [
    "def init_random_seed(value=0):\n",
    "    random.seed(value)\n",
    "    np.random.seed(value)\n",
    "    torch.manual_seed(value)\n",
    "    torch.cuda.manual_seed(value)\n",
    "    torch.backends.cudnn.deterministic = True\n",
    "\n",
    "\n",
    "init_random_seed()"
   ]
  },
  {
   "cell_type": "markdown",
   "metadata": {},
   "source": [
    "Загрузка основных данных."
   ]
  },
  {
   "cell_type": "code",
   "execution_count": 3,
   "metadata": {},
   "outputs": [
    {
     "data": {
      "text/html": [
       "<div>\n",
       "<style scoped>\n",
       "    .dataframe tbody tr th:only-of-type {\n",
       "        vertical-align: middle;\n",
       "    }\n",
       "\n",
       "    .dataframe tbody tr th {\n",
       "        vertical-align: top;\n",
       "    }\n",
       "\n",
       "    .dataframe thead th {\n",
       "        text-align: right;\n",
       "    }\n",
       "</style>\n",
       "<table border=\"1\" class=\"dataframe\">\n",
       "  <thead>\n",
       "    <tr style=\"text-align: right;\">\n",
       "      <th></th>\n",
       "      <th>password</th>\n",
       "      <th>strength</th>\n",
       "    </tr>\n",
       "  </thead>\n",
       "  <tbody>\n",
       "    <tr>\n",
       "      <th>0</th>\n",
       "      <td>yrtzuab476</td>\n",
       "      <td>1</td>\n",
       "    </tr>\n",
       "    <tr>\n",
       "      <th>1</th>\n",
       "      <td>yEdnN9jc1NgzkkBP</td>\n",
       "      <td>2</td>\n",
       "    </tr>\n",
       "    <tr>\n",
       "      <th>2</th>\n",
       "      <td>sarita99</td>\n",
       "      <td>1</td>\n",
       "    </tr>\n",
       "    <tr>\n",
       "      <th>3</th>\n",
       "      <td>Suramerica2015</td>\n",
       "      <td>2</td>\n",
       "    </tr>\n",
       "    <tr>\n",
       "      <th>4</th>\n",
       "      <td>PPRbMvDIxMQ19TMo</td>\n",
       "      <td>2</td>\n",
       "    </tr>\n",
       "  </tbody>\n",
       "</table>\n",
       "</div>"
      ],
      "text/plain": [
       "           password  strength\n",
       "0        yrtzuab476         1\n",
       "1  yEdnN9jc1NgzkkBP         2\n",
       "2          sarita99         1\n",
       "3    Suramerica2015         2\n",
       "4  PPRbMvDIxMQ19TMo         2"
      ]
     },
     "execution_count": 3,
     "metadata": {},
     "output_type": "execute_result"
    }
   ],
   "source": [
    "train_data_path = '../data/raw/passwords.csv'\n",
    "train_data = pd.read_csv(train_data_path)\n",
    "train_data.head()"
   ]
  },
  {
   "cell_type": "markdown",
   "metadata": {},
   "source": [
    "Загрузка дополнительного набора данных, который будет использоваться в качестве тестового набора данных. При обучении модели эти данные не используются."
   ]
  },
  {
   "cell_type": "code",
   "execution_count": 4,
   "metadata": {},
   "outputs": [],
   "source": [
    "all_data_path = '../data/external/data.csv'\n",
    "pass_data = pd.read_csv(all_data_path, sep='\\t')\n",
    "d = {'password': pass_data['password,strength'].str[:-2].values,\n",
    "     'strength': pass_data['password,strength'].str[-1].values.astype(int)}\n",
    "pass_data = pd.DataFrame(data=d)"
   ]
  },
  {
   "cell_type": "code",
   "execution_count": 5,
   "metadata": {},
   "outputs": [],
   "source": [
    "assert (pass_data.isna().sum().values == 0).all()\n",
    "assert (train_data.isna().sum().values == 0).all()"
   ]
  },
  {
   "cell_type": "markdown",
   "metadata": {},
   "source": [
    "### 1. Quick EDA"
   ]
  },
  {
   "cell_type": "code",
   "execution_count": 6,
   "metadata": {},
   "outputs": [],
   "source": [
    "def entropy(password):\n",
    "    _, cnt = np.unique(np.array(list(password)), return_counts=True)\n",
    "    p = cnt / np.sum(cnt)\n",
    "    H = -np.sum(p * np.log2(p))\n",
    "    return H"
   ]
  },
  {
   "cell_type": "code",
   "execution_count": 7,
   "metadata": {},
   "outputs": [],
   "source": [
    "train_data['entropy'] = train_data['password'].apply(entropy)"
   ]
  },
  {
   "cell_type": "code",
   "execution_count": 8,
   "metadata": {},
   "outputs": [
    {
     "data": {
      "text/html": [
       "<div>\n",
       "<style scoped>\n",
       "    .dataframe tbody tr th:only-of-type {\n",
       "        vertical-align: middle;\n",
       "    }\n",
       "\n",
       "    .dataframe tbody tr th {\n",
       "        vertical-align: top;\n",
       "    }\n",
       "\n",
       "    .dataframe thead th {\n",
       "        text-align: right;\n",
       "    }\n",
       "</style>\n",
       "<table border=\"1\" class=\"dataframe\">\n",
       "  <thead>\n",
       "    <tr style=\"text-align: right;\">\n",
       "      <th></th>\n",
       "      <th>count</th>\n",
       "      <th>mean</th>\n",
       "      <th>std</th>\n",
       "      <th>min</th>\n",
       "      <th>25%</th>\n",
       "      <th>50%</th>\n",
       "      <th>75%</th>\n",
       "      <th>max</th>\n",
       "    </tr>\n",
       "    <tr>\n",
       "      <th>strength</th>\n",
       "      <th></th>\n",
       "      <th></th>\n",
       "      <th></th>\n",
       "      <th></th>\n",
       "      <th></th>\n",
       "      <th></th>\n",
       "      <th></th>\n",
       "      <th></th>\n",
       "    </tr>\n",
       "  </thead>\n",
       "  <tbody>\n",
       "    <tr>\n",
       "      <th>0</th>\n",
       "      <td>13428.0</td>\n",
       "      <td>2.456393</td>\n",
       "      <td>0.357660</td>\n",
       "      <td>-0.000000</td>\n",
       "      <td>2.251629</td>\n",
       "      <td>2.521641</td>\n",
       "      <td>2.807355</td>\n",
       "      <td>2.807355</td>\n",
       "    </tr>\n",
       "    <tr>\n",
       "      <th>1</th>\n",
       "      <td>74278.0</td>\n",
       "      <td>2.944374</td>\n",
       "      <td>0.317679</td>\n",
       "      <td>0.773228</td>\n",
       "      <td>2.750000</td>\n",
       "      <td>2.947703</td>\n",
       "      <td>3.169925</td>\n",
       "      <td>3.700440</td>\n",
       "    </tr>\n",
       "    <tr>\n",
       "      <th>2</th>\n",
       "      <td>12294.0</td>\n",
       "      <td>3.699346</td>\n",
       "      <td>0.216719</td>\n",
       "      <td>2.378783</td>\n",
       "      <td>3.577820</td>\n",
       "      <td>3.750000</td>\n",
       "      <td>3.875000</td>\n",
       "      <td>4.897300</td>\n",
       "    </tr>\n",
       "  </tbody>\n",
       "</table>\n",
       "</div>"
      ],
      "text/plain": [
       "            count      mean       std       min       25%       50%       75%  \\\n",
       "strength                                                                        \n",
       "0         13428.0  2.456393  0.357660 -0.000000  2.251629  2.521641  2.807355   \n",
       "1         74278.0  2.944374  0.317679  0.773228  2.750000  2.947703  3.169925   \n",
       "2         12294.0  3.699346  0.216719  2.378783  3.577820  3.750000  3.875000   \n",
       "\n",
       "               max  \n",
       "strength            \n",
       "0         2.807355  \n",
       "1         3.700440  \n",
       "2         4.897300  "
      ]
     },
     "execution_count": 8,
     "metadata": {},
     "output_type": "execute_result"
    }
   ],
   "source": [
    "train_data.groupby('strength')['entropy'].describe()"
   ]
  },
  {
   "cell_type": "code",
   "execution_count": 9,
   "metadata": {},
   "outputs": [
    {
     "data": {
      "text/html": [
       "<div>\n",
       "<style scoped>\n",
       "    .dataframe tbody tr th:only-of-type {\n",
       "        vertical-align: middle;\n",
       "    }\n",
       "\n",
       "    .dataframe tbody tr th {\n",
       "        vertical-align: top;\n",
       "    }\n",
       "\n",
       "    .dataframe thead th {\n",
       "        text-align: right;\n",
       "    }\n",
       "</style>\n",
       "<table border=\"1\" class=\"dataframe\">\n",
       "  <thead>\n",
       "    <tr style=\"text-align: right;\">\n",
       "      <th></th>\n",
       "      <th>password</th>\n",
       "      <th>strength</th>\n",
       "      <th>entropy</th>\n",
       "    </tr>\n",
       "  </thead>\n",
       "  <tbody>\n",
       "    <tr>\n",
       "      <th>12708</th>\n",
       "      <td>M</td>\n",
       "      <td>0</td>\n",
       "      <td>-0.0</td>\n",
       "    </tr>\n",
       "    <tr>\n",
       "      <th>46706</th>\n",
       "      <td>1</td>\n",
       "      <td>0</td>\n",
       "      <td>-0.0</td>\n",
       "    </tr>\n",
       "    <tr>\n",
       "      <th>52515</th>\n",
       "      <td>000000</td>\n",
       "      <td>0</td>\n",
       "      <td>-0.0</td>\n",
       "    </tr>\n",
       "    <tr>\n",
       "      <th>67897</th>\n",
       "      <td>______</td>\n",
       "      <td>0</td>\n",
       "      <td>-0.0</td>\n",
       "    </tr>\n",
       "    <tr>\n",
       "      <th>73253</th>\n",
       "      <td>9</td>\n",
       "      <td>0</td>\n",
       "      <td>-0.0</td>\n",
       "    </tr>\n",
       "    <tr>\n",
       "      <th>85724</th>\n",
       "      <td>@@@@@@@</td>\n",
       "      <td>0</td>\n",
       "      <td>-0.0</td>\n",
       "    </tr>\n",
       "  </tbody>\n",
       "</table>\n",
       "</div>"
      ],
      "text/plain": [
       "      password  strength  entropy\n",
       "12708        M         0     -0.0\n",
       "46706        1         0     -0.0\n",
       "52515   000000         0     -0.0\n",
       "67897   ______         0     -0.0\n",
       "73253        9         0     -0.0\n",
       "85724  @@@@@@@         0     -0.0"
      ]
     },
     "execution_count": 9,
     "metadata": {},
     "output_type": "execute_result"
    }
   ],
   "source": [
    "train_data.loc[train_data.entropy == 0]"
   ]
  },
  {
   "cell_type": "code",
   "execution_count": 10,
   "metadata": {},
   "outputs": [
    {
     "data": {
      "text/plain": [
       "array([[<Axes: title={'center': 'strength'}>,\n",
       "        <Axes: title={'center': 'entropy'}>]], dtype=object)"
      ]
     },
     "execution_count": 10,
     "metadata": {},
     "output_type": "execute_result"
    },
    {
     "data": {
      "image/png": "[encoded data removed]",
      "text/plain": [
       "<Figure size 1000x400 with 2 Axes>"
      ]
     },
     "metadata": {},
     "output_type": "display_data"
    }
   ],
   "source": [
    "train_data.hist(figsize=(10, 4))"
   ]
  },
  {
   "cell_type": "markdown",
   "metadata": {},
   "source": [
    "### 2. Feature engineering, tokenization of passwords, creating a dataset"
   ]
  },
  {
   "cell_type": "markdown",
   "metadata": {},
   "source": [
    "Модель основана на NLP подходе. В качестве признаков будут использоваться значения энтропии (_H_) для каждого пароля, информация о длине строки пароля, а также токенизированный текст самого пароля.\n",
    "\n",
    "Определение [энтропии](https://ru.wikipedia.org/wiki/%D0%98%D0%BD%D1%84%D0%BE%D1%80%D0%BC%D0%B0%D1%86%D0%B8%D0%BE%D0%BD%D0%BD%D0%B0%D1%8F_%D1%8D%D0%BD%D1%82%D1%80%D0%BE%D0%BF%D0%B8%D1%8F) с помощью собственной информации:\n",
    "$$H = -\\sum_{i=0}^{N}p_{i}*log_2(p_i)$$"
   ]
  },
  {
   "cell_type": "code",
   "execution_count": 11,
   "metadata": {},
   "outputs": [],
   "source": [
    "train_data['len'] = train_data['password'].apply(len)\n",
    "train_data['entropy'] = train_data['password'].apply(entropy)"
   ]
  },
  {
   "cell_type": "markdown",
   "metadata": {},
   "source": [
    "Для кодирования пароля будет использоваться расширенный словарь, сформированный из символов тестовых данных. Помимо этого, словарь расширяется символами кириллицы и двумя функциональными символами:\n",
    "\n",
    "`'pad: 0'` - используется в качестве заполнителя для NLP составляющей модели,  \n",
    "`'unk_char: 1'` - используется для кодирования неизвестных символов."
   ]
  },
  {
   "cell_type": "code",
   "execution_count": 12,
   "metadata": {},
   "outputs": [],
   "source": [
    "MAX_TOKEN_LEN = 256\n",
    "\n",
    "cyrillic_symb = 'АаБбВвГгДдЕеЁёЖжЗзИиЙйКкЛлМмНнОоПпСсТтУуФфХхЦцЧчШшЩщЪъЫыЬьЭэЮюЯя'\n",
    "str_pass_data = itertools.chain.from_iterable(np.append(pass_data[\"password\"], cyrillic_symb))\n",
    "sorted_char_counts = dict(collections.Counter(str_pass_data).most_common())\n",
    "sorted_char_counts = dict([('pad', 0), ('unk_char', 1)] + list(sorted_char_counts.items()))\n",
    "char2id_dict = {char: i for i, (char, _) in enumerate(sorted_char_counts.items())}"
   ]
  },
  {
   "cell_type": "code",
   "execution_count": 13,
   "metadata": {},
   "outputs": [
    {
     "name": "stdout",
     "output_type": "stream",
     "text": [
      "Размер словаря: 267 символов\n"
     ]
    }
   ],
   "source": [
    "print(f'Размер словаря: {len(char2id_dict)} символов')"
   ]
  },
  {
   "cell_type": "markdown",
   "metadata": {},
   "source": [
    "Каждый пароль разбивается на отдельные символы, которые кодируются при помощи словаря. Далее токенизированный пароль дополняется одним нулем слева и двумя нулями справа для обозначения начала-конца слова. Пароли, длина которых меньше максимально разрешенной (`MAX_TOKEN_LEN`), дополняются нулями справа. Для паролей, которые превосходят максимально разрешенную длину (`MAX_TOKEN_LEN`), производится срез, после чего они аналогично дополняются нулями.\n",
    "\n",
    "После токенизации к каждому паролю добавляются значения его энтропии и длины (в порядке `entropy-len-tokenized_pass`). Это необходимо для внесения дополнительной информации о структуре пароля. Необходимость использования двух дополнительных признаков (`entropy-len`) обусловлена ограниченностью модели в возможности увидеть очень длинный пароль целиком, т.к. такой пароль будет обрезан. Можно сказать, что потеря информации компенсируется данными о длине и энтропии пароля."
   ]
  },
  {
   "cell_type": "code",
   "execution_count": 14,
   "metadata": {},
   "outputs": [],
   "source": [
    "def character_tokenizer(txt):\n",
    "    return list(txt)\n",
    "\n",
    "\n",
    "def tokenize_corpus(texts, tokenizer=character_tokenizer):\n",
    "    return [tokenizer(text) for text in texts]\n",
    "\n",
    "\n",
    "def char2id_pad(password, char2id_dict, max_token_len):\n",
    "    vectorized = []\n",
    "    for char in password:\n",
    "        vectorized_char = char2id_dict.get(char, 1)\n",
    "        vectorized.append(vectorized_char)\n",
    "    if len(vectorized) <= max_token_len:\n",
    "        return np.pad(vectorized, (1, max_token_len-len(vectorized)+2))\n",
    "    else:\n",
    "        return np.pad(vectorized[:max_token_len], (1, 2))"
   ]
  },
  {
   "cell_type": "code",
   "execution_count": 15,
   "metadata": {},
   "outputs": [],
   "source": [
    "train_char_tokenized = tokenize_corpus(train_data['password'].values, tokenizer=character_tokenizer)\n",
    "train_inputs = [char2id_pad(password, char2id_dict, MAX_TOKEN_LEN) for password in train_char_tokenized]\n",
    "train_inputs = np.concatenate((train_data['entropy'].values.reshape(-1, 1),\n",
    "                               train_data['len'].values.reshape(-1, 1),\n",
    "                               train_inputs), axis=1)\n",
    "train_labels = train_data['strength'].values\n",
    "\n",
    "train_inputs = torch.tensor(train_inputs, dtype=torch.float32)\n",
    "train_labels = torch.tensor(train_labels, dtype=torch.long)"
   ]
  },
  {
   "cell_type": "code",
   "execution_count": 16,
   "metadata": {},
   "outputs": [
    {
     "name": "stdout",
     "output_type": "stream",
     "text": [
      "Каждый пароль интерпретирован 261 признаком\n"
     ]
    }
   ],
   "source": [
    "print(f'Каждый пароль интерпретирован {train_inputs.shape[1]} признаком')"
   ]
  },
  {
   "cell_type": "markdown",
   "metadata": {},
   "source": [
    "Набор предоставляемых данных разбивается на обучающий и валидационный для отслеживания метрик оценивания качества модели."
   ]
  },
  {
   "cell_type": "code",
   "execution_count": 17,
   "metadata": {},
   "outputs": [],
   "source": [
    "X_train, X_valid, y_train, y_valid = train_test_split(train_inputs, train_labels, test_size=0.33)\n",
    "train_dataset = TensorDataset(X_train, y_train)\n",
    "valid_dataset = TensorDataset(X_valid, y_valid)"
   ]
  },
  {
   "cell_type": "markdown",
   "metadata": {},
   "source": [
    "### 3. Model training"
   ]
  },
  {
   "cell_type": "markdown",
   "metadata": {},
   "source": [
    "Модель (`POSLikeModel`) представляет собой классификатор, который состоит из двух частей.\n",
    "\n",
    "Первая часть - (`main_head`) представляет собой анализатор структуры пароля. Признаки, представляющие собой токенизированный текст пароля, передаются в сверточный модуль (`backbone`), который заимствует идею skip connection в ResNet. Идея skip connection в данном случае используется не только для решения проблемы исчезающего градиента, но и позволяет учитывать локальный контекст в токене. Сверточный модуль рассматривает все возможные n-граммы символов, т.к. skip connection пробрасывает информацию о n-грамме в глубь сети (например, если использовать `kernal_size=3` и `layers_n=3`, то первый блок учитывает 3-граммы, второй блок - 5-граммы, а третий блок 7-граммы, при этом информация о 3-граммах не теряется и пробрасывается до последнего слоя).\n",
    "\n",
    "Вторая часть - (`second_head`) извлекает дополнительную информацию для локального контекста из значений энтропии и длины символов пароля. Как указывалось ранее, такая информация расширяет ограниченный функционал модели. Можно сказать, что потерянная информация о символах пароля, которые сеть не увидела, извлекается из данных об энтропии и длине этого пароля. \n",
    "\n",
    "В конце результат двух блоков (`main_head, second_head`) конкатенируются и передаются в линейный слой - классификатор."
   ]
  },
  {
   "cell_type": "code",
   "execution_count": 20,
   "metadata": {},
   "outputs": [],
   "source": [
    "class SkipConnectionConv1d(nn.Module):\n",
    "    def __init__(self, features_num, layers_n=1, kernel_size=3, conv_layer=nn.Conv1d, dropout=0.0):\n",
    "        super().__init__()\n",
    "        layers = []\n",
    "        for _ in range(layers_n):\n",
    "            layers.append(nn.Sequential(\n",
    "                conv_layer(features_num, features_num, kernel_size, padding=kernel_size//2),\n",
    "                nn.Dropout(dropout),\n",
    "                nn.LeakyReLU()))\n",
    "        self.layers = nn.ModuleList(layers)\n",
    "    \n",
    "    def forward(self, x):\n",
    "        for layer in self.layers:\n",
    "            x = x + layer(x)\n",
    "        return x\n",
    "\n",
    "\n",
    "class POSLikeModel(nn.Module):\n",
    "    def __init__(self, vocab_size, target_num, embedding_size=32, **kwargs):\n",
    "        super().__init__()\n",
    "        self.char_embeddings = nn.Embedding(vocab_size, embedding_size, padding_idx=0)  # (142, 32)\n",
    "        self.backbone = SkipConnectionConv1d(embedding_size, **kwargs)\n",
    "        self.global_pooling = nn.AdaptiveMaxPool1d(1)\n",
    "        self.main_head = nn.Sequential(nn.Linear(embedding_size, 3), nn.LeakyReLU())\n",
    "        self.second_head = nn.Sequential(nn.Linear(2, 3), nn.LeakyReLU())\n",
    "        self.out = nn.Linear(6, target_num)\n",
    "        self.labels_num = target_num\n",
    "    \n",
    "    def forward(self, data):\n",
    "        \"\"\"data.shape - [BatchSize, Entropy+Len+MaxTokenLen+3]\"\"\"\n",
    "        tokens = data[:, 2:].type(torch.long)\n",
    "        H = data[:, :2]\n",
    "        \n",
    "        # используем эмбеддинг слой, для получения вектора каждого символа\n",
    "        char_embeddings = self.char_embeddings(tokens)\n",
    "        char_embeddings = char_embeddings.permute(0, 2, 1)\n",
    "\n",
    "        # передаем вектора в сверточный модуль, чтобы учесть локальный контекст\n",
    "        features = self.backbone(char_embeddings)\n",
    "        \n",
    "        # агрегируем признаки символов\n",
    "        global_features = self.global_pooling(features).squeeze(-1)\n",
    "        \n",
    "        # получаем информацию о структуре пароля из первого dense слоя\n",
    "        main_out = self.main_head(global_features)\n",
    "\n",
    "        # получаем дополнительную информацию о структуре пароля из второго dense слоя\n",
    "        second_out = self.second_head(H)\n",
    "\n",
    "        # конкатенируемся и классифицируемся\n",
    "        result = torch.cat((main_out, second_out), 1)\n",
    "        logits = self.out(result)\n",
    "\n",
    "\n",
    "        return logits"
   ]
  },
  {
   "cell_type": "markdown",
   "metadata": {},
   "source": [
    "Так как задача представляет собой многоклассовую классификацию с неравномерным распределением, то в качестве метрики для оценивания результата выбрана [F1 мера или F1 score](https://scikit-learn.org/stable/modules/generated/sklearn.metrics.f1_score.html) - среднее гармоническое точности (precision) и полноты (recall). Эта метрика учитывает ошибки первого и второго рода. \n",
    "\n",
    "$$F1=2*\\frac{PRE*REC}{PRE+REC}$$\n",
    "$$PRE=\\frac{TP}{TP+FP}$$\n",
    "$$REC=\\frac{TP}{P}=\\frac{TP}{FN+TP} $$\n",
    "\n",
    "Функция потерь (loss function) - кросс-энтропия.  \n",
    "Также представлена возможность использовать планировщик скорости обучения сети."
   ]
  },
  {
   "cell_type": "code",
   "execution_count": 22,
   "metadata": {},
   "outputs": [],
   "source": [
    "def train_eval_loop(model, train_dataset, val_dataset, criterion,\n",
    "                    lr=1e-4, epoch_n=10, batch_size=64,\n",
    "                    device=None, early_stopping_patience=10, l2_reg_alpha=0,\n",
    "                    optimizer_ctor=None, lr_scheduler_ctor=None,\n",
    "                    shuffle_train=True, dataloader_workers_n=0):\n",
    "    if device is None:\n",
    "        device = 'cuda' if torch.cuda.is_available() else 'cpu'\n",
    "    device = torch.device(device)\n",
    "    model.to(device)\n",
    "\n",
    "    if optimizer_ctor is None:\n",
    "        optimizer = torch.optim.Adam(model.parameters(), lr=lr, weight_decay=l2_reg_alpha)\n",
    "    else:\n",
    "        optimizer = optimizer_ctor(model.parameters(), lr=lr)\n",
    "\n",
    "    if lr_scheduler_ctor is not None:\n",
    "        lr_scheduler = lr_scheduler_ctor(optimizer)\n",
    "    else:\n",
    "        lr_scheduler = None\n",
    "\n",
    "    train_dataloader = DataLoader(train_dataset, batch_size=batch_size, shuffle=shuffle_train,\n",
    "                                  num_workers=dataloader_workers_n)\n",
    "    val_dataloader = DataLoader(val_dataset, batch_size=batch_size, shuffle=False,\n",
    "                                num_workers=dataloader_workers_n)\n",
    "\n",
    "    best_val_loss = float('inf')\n",
    "    best_epoch_i = 0\n",
    "    best_model = copy.deepcopy(model)\n",
    "\n",
    "    for epoch_i in (pbar := tqdm(range(epoch_n))):\n",
    "        try:\n",
    "            model.train()\n",
    "            mean_train_loss = 0\n",
    "            train_batches_n = 0\n",
    "            for batch_x, batch_y in train_dataloader:\n",
    "                batch_x = batch_x.to(device)\n",
    "                batch_y = batch_y.to(device)\n",
    "\n",
    "                pred = model(batch_x)\n",
    "                loss = criterion(pred, batch_y)\n",
    "\n",
    "                model.zero_grad()\n",
    "                loss.backward()\n",
    "\n",
    "                optimizer.step()\n",
    "\n",
    "                mean_train_loss += float(loss)\n",
    "                train_batches_n += 1\n",
    "\n",
    "            mean_train_loss /= train_batches_n\n",
    "            print(f'\\nEpoch: {epoch_i}, mean train loss: {mean_train_loss}')\n",
    "\n",
    "            model.eval()\n",
    "            mean_val_loss = 0\n",
    "            mean_f1_score = 0\n",
    "            val_batches_n = 0\n",
    "\n",
    "            with torch.no_grad():\n",
    "                for batch_x, batch_y in val_dataloader:\n",
    "                    batch_x = batch_x.to(device)\n",
    "                    batch_y = batch_y.to(device)\n",
    "\n",
    "                    pred = model(batch_x)\n",
    "                    loss = criterion(pred, batch_y)\n",
    "\n",
    "                    mean_val_loss += float(loss)\n",
    "                    val_batches_n += 1\n",
    "                    mean_f1_score += f1_score(batch_y.detach().cpu().numpy(),\n",
    "                                              pred.argmax(1).detach().cpu().numpy(),\n",
    "                                              average='macro')\n",
    "\n",
    "            mean_f1_score /= val_batches_n\n",
    "            mean_val_loss /= val_batches_n\n",
    "            print(f'Epoch: {epoch_i}, mean val loss: {mean_val_loss}')\n",
    "\n",
    "            if mean_val_loss < best_val_loss:\n",
    "                best_epoch_i = epoch_i\n",
    "                best_val_loss = mean_val_loss\n",
    "                best_model = copy.deepcopy(model)\n",
    "                print('The new best model')\n",
    "            elif epoch_i - best_epoch_i > early_stopping_patience:\n",
    "                print(f'Early stopping')\n",
    "                break\n",
    "\n",
    "            if lr_scheduler is not None:\n",
    "                lr_scheduler.step(mean_val_loss)\n",
    "                \n",
    "            pbar.set_description(f'Epoch: {epoch_i}')\n",
    "            pbar.set_postfix_str(f'Val F1 score: {mean_f1_score: .3f}, Val Loss: {mean_val_loss: .3f}')\n",
    "        except KeyboardInterrupt:\n",
    "            print('[Stopped]')\n",
    "            break\n",
    "        except Exception as ex:\n",
    "            print(f'Train exception: {ex}\\n{traceback.format_exc()}')\n",
    "            break\n",
    "\n",
    "    return best_val_loss, best_model"
   ]
  },
  {
   "cell_type": "code",
   "execution_count": 29,
   "metadata": {},
   "outputs": [
    {
     "name": "stdout",
     "output_type": "stream",
     "text": [
      "Количество параметров 11769\n"
     ]
    },
    {
     "data": {
      "application/vnd.jupyter.widget-view+json": {
       "model_id": "e2f70fc44f7f4cfd92b9c1e28ccbad75",
       "version_major": 2,
       "version_minor": 0
      },
      "text/plain": [
       "  0%|          | 0/10 [00:00<?, ?it/s]"
      ]
     },
     "metadata": {},
     "output_type": "display_data"
    },
    {
     "name": "stdout",
     "output_type": "stream",
     "text": [
      "\n",
      "Epoch: 0, mean train loss: 0.2418685429440429\n",
      "Epoch: 0, mean val loss: 0.07225222543401774\n",
      "The new best model\n",
      "\n",
      "Epoch: 1, mean train loss: 0.03664268394951053\n",
      "Epoch: 1, mean val loss: 0.0193878256233252\n",
      "The new best model\n",
      "\n",
      "Epoch: 2, mean train loss: 0.017240029574644176\n",
      "Epoch: 2, mean val loss: 0.015846238322981578\n",
      "The new best model\n",
      "\n",
      "Epoch: 3, mean train loss: 0.011663673649962441\n",
      "Epoch: 3, mean val loss: 0.01213314857291117\n",
      "The new best model\n",
      "\n",
      "Epoch: 4, mean train loss: 0.009313776443789468\n",
      "Epoch: 4, mean val loss: 0.011736424421847252\n",
      "The new best model\n",
      "\n",
      "Epoch: 5, mean train loss: 0.00704024061214519\n",
      "Epoch: 5, mean val loss: 0.02102604645231238\n",
      "\n",
      "Epoch: 6, mean train loss: 0.006799664055708113\n",
      "Epoch: 6, mean val loss: 0.00915046837168268\n",
      "The new best model\n",
      "\n",
      "Epoch: 7, mean train loss: 0.006694913936180125\n",
      "Epoch: 7, mean val loss: 0.007662669633802135\n",
      "The new best model\n",
      "\n",
      "Epoch: 8, mean train loss: 0.005728594370851203\n",
      "Epoch: 8, mean val loss: 0.00404479752382905\n",
      "The new best model\n",
      "\n",
      "Epoch: 9, mean train loss: 0.005612974473932959\n",
      "Epoch: 9, mean val loss: 0.003848491349129805\n",
      "The new best model\n"
     ]
    }
   ],
   "source": [
    "scheduler = lambda optim: torch.optim.lr_scheduler.ReduceLROnPlateau(optim, patience=2,\n",
    "                                                                     factor=0.5,\n",
    "                                                                     verbose=True)\n",
    "\n",
    "model = POSLikeModel(vocab_size=len(sorted_char_counts), target_num=3,\n",
    "                     embedding_size=24, layers_n=3, kernel_size=3, dropout=0.0)\n",
    "print('Количество параметров', sum(np.product(t.shape) for t in model.parameters()))\n",
    "\n",
    "(best_val_loss, best_model) = train_eval_loop(model,\n",
    "                                              train_dataset,\n",
    "                                              valid_dataset,\n",
    "                                              F.cross_entropy,\n",
    "                                              lr=3e-3,\n",
    "                                              epoch_n=10,\n",
    "                                              batch_size=32,\n",
    "                                              device='cuda',\n",
    "                                              early_stopping_patience=5,\n",
    "                                              lr_scheduler_ctor=scheduler)"
   ]
  },
  {
   "cell_type": "code",
   "execution_count": 30,
   "metadata": {},
   "outputs": [
    {
     "data": {
      "text/plain": [
       "0.003848491349129805"
      ]
     },
     "execution_count": 30,
     "metadata": {},
     "output_type": "execute_result"
    }
   ],
   "source": [
    "best_val_loss"
   ]
  },
  {
   "cell_type": "markdown",
   "metadata": {},
   "source": [
    "### 4. Model evaluation"
   ]
  },
  {
   "cell_type": "markdown",
   "metadata": {},
   "source": [
    "Модель отлично предсказывает тренировочный, валидационный и тестовый датасет."
   ]
  },
  {
   "cell_type": "code",
   "execution_count": 31,
   "metadata": {},
   "outputs": [],
   "source": [
    "def predict_with_model(model, dataset, device=None, batch_size=32, num_workers=0):\n",
    "    if device is None:\n",
    "        device = 'cuda' if torch.cuda.is_available() else 'cpu'\n",
    "    results_by_batch = []\n",
    "\n",
    "    device = torch.device(device)\n",
    "    model.to(device)\n",
    "    model.eval()\n",
    "\n",
    "    dataloader = DataLoader(dataset, batch_size=batch_size, shuffle=False, num_workers=num_workers)\n",
    "    with torch.no_grad():\n",
    "        for batch_x, _ in tqdm(dataloader, total=len(dataset)/batch_size):\n",
    "            batch_x = batch_x.to(device)\n",
    "            batch_pred = model(batch_x)\n",
    "            results_by_batch.append(batch_pred.detach().cpu().numpy())\n",
    "        return np.concatenate(results_by_batch, 0)"
   ]
  },
  {
   "cell_type": "code",
   "execution_count": 32,
   "metadata": {},
   "outputs": [
    {
     "data": {
      "application/vnd.jupyter.widget-view+json": {
       "model_id": "d9d5424b743c4de8bbe2ae02776a220b",
       "version_major": 2,
       "version_minor": 0
      },
      "text/plain": [
       "  0%|          | 0/2093.75 [00:00<?, ?it/s]"
      ]
     },
     "metadata": {},
     "output_type": "display_data"
    },
    {
     "name": "stdout",
     "output_type": "stream",
     "text": [
      "Среднее значение функции потерь на обучении 0.0016209165332838893\n",
      "              precision    recall  f1-score   support\n",
      "\n",
      "           0       1.00      1.00      1.00      8979\n",
      "           1       1.00      1.00      1.00     49760\n",
      "           2       1.00      1.00      1.00      8261\n",
      "\n",
      "    accuracy                           1.00     67000\n",
      "   macro avg       1.00      1.00      1.00     67000\n",
      "weighted avg       1.00      1.00      1.00     67000\n",
      "\n",
      "\n"
     ]
    },
    {
     "data": {
      "application/vnd.jupyter.widget-view+json": {
       "model_id": "9c2fb300e02a43f085bdd4653f41cb83",
       "version_major": 2,
       "version_minor": 0
      },
      "text/plain": [
       "  0%|          | 0/1031.25 [00:00<?, ?it/s]"
      ]
     },
     "metadata": {},
     "output_type": "display_data"
    },
    {
     "name": "stdout",
     "output_type": "stream",
     "text": [
      "Среднее значение функции потерь на валидации 0.003838973818346858\n",
      "              precision    recall  f1-score   support\n",
      "\n",
      "           0       1.00      1.00      1.00      4449\n",
      "           1       1.00      1.00      1.00     24518\n",
      "           2       1.00      1.00      1.00      4033\n",
      "\n",
      "    accuracy                           1.00     33000\n",
      "   macro avg       1.00      1.00      1.00     33000\n",
      "weighted avg       1.00      1.00      1.00     33000\n",
      "\n"
     ]
    }
   ],
   "source": [
    "train_pred = predict_with_model(best_model, train_dataset)\n",
    "train_loss = F.cross_entropy(torch.tensor(train_pred),\n",
    "                             y_train)\n",
    "print('Среднее значение функции потерь на обучении', float(train_loss))\n",
    "print(classification_report(y_train, train_pred.argmax(1)))\n",
    "print()\n",
    "\n",
    "valid_pred = predict_with_model(best_model, valid_dataset)\n",
    "valid_loss = F.cross_entropy(torch.tensor(valid_pred),\n",
    "                             y_valid)\n",
    "print('Среднее значение функции потерь на валидации', float(valid_loss))\n",
    "print(classification_report(y_valid, valid_pred.argmax(1)))"
   ]
  },
  {
   "cell_type": "markdown",
   "metadata": {},
   "source": [
    "Для проверки новых паролей реализована функция для обработки данных."
   ]
  },
  {
   "cell_type": "code",
   "execution_count": 38,
   "metadata": {},
   "outputs": [],
   "source": [
    "def create_input_dataset(data, max_token_len=256, tokenizer=character_tokenizer, ttsplit=False):\n",
    "    data['len'] = data['password'].apply(len)\n",
    "    data['entropy'] = data['password'].apply(entropy)\n",
    "\n",
    "    char_tokenized = tokenize_corpus(data['password'].values, tokenizer)\n",
    "    inputs = [char2id_pad(password, char2id_dict, max_token_len) for password in char_tokenized]\n",
    "    inputs = np.concatenate((data['entropy'].values.reshape(-1, 1),\n",
    "                             data['len'].values.reshape(-1, 1),\n",
    "                             inputs), axis=1)\n",
    "    labels = data['strength'].values.astype(int)\n",
    "    inputs = torch.tensor(inputs, dtype=torch.float32)\n",
    "    labels = torch.tensor(labels, dtype=torch.long)\n",
    "    if ttsplit:\n",
    "        X_train, X_valid, y_train, y_valid = train_test_split(inputs, labels, test_size=0.33)\n",
    "        train_dataset = TensorDataset(X_train, y_train)\n",
    "        valid_dataset = TensorDataset(X_valid, y_valid)\n",
    "        return train_dataset, valid_dataset\n",
    "    else:\n",
    "        test_dataset = TensorDataset(inputs, labels)\n",
    "        return test_dataset, labels"
   ]
  },
  {
   "cell_type": "code",
   "execution_count": 39,
   "metadata": {},
   "outputs": [],
   "source": [
    "test_dataset, test_labels = create_input_dataset(pass_data, max_token_len=MAX_TOKEN_LEN,\n",
    "                                                 tokenizer=character_tokenizer, ttsplit=False)"
   ]
  },
  {
   "cell_type": "code",
   "execution_count": 40,
   "metadata": {},
   "outputs": [
    {
     "data": {
      "application/vnd.jupyter.widget-view+json": {
       "model_id": "9ddc1387914743518feadd80eb1e64a8",
       "version_major": 2,
       "version_minor": 0
      },
      "text/plain": [
       "  0%|          | 0/20933.71875 [00:00<?, ?it/s]"
      ]
     },
     "metadata": {},
     "output_type": "display_data"
    },
    {
     "name": "stdout",
     "output_type": "stream",
     "text": [
      "Среднее значение функции потерь на тесте 0.0035367398522794247\n",
      "              precision    recall  f1-score   support\n",
      "\n",
      "           0       1.00      1.00      1.00     89702\n",
      "           1       1.00      1.00      1.00    496801\n",
      "           2       1.00      1.00      1.00     83376\n",
      "\n",
      "    accuracy                           1.00    669879\n",
      "   macro avg       1.00      1.00      1.00    669879\n",
      "weighted avg       1.00      1.00      1.00    669879\n",
      "\n",
      "\n"
     ]
    }
   ],
   "source": [
    "test_pred = predict_with_model(best_model, test_dataset)\n",
    "test_loss = F.cross_entropy(torch.tensor(test_pred),\n",
    "                            test_labels)\n",
    "print('Среднее значение функции потерь на тесте', float(test_loss))\n",
    "print(classification_report(test_labels, test_pred.argmax(1)))\n",
    "print()"
   ]
  },
  {
   "cell_type": "markdown",
   "metadata": {},
   "source": [
    "Можно заметить, что несмотря на небольшое количество параметров, модель отлично справляется и на новых данных."
   ]
  },
  {
   "cell_type": "code",
   "execution_count": 42,
   "metadata": {},
   "outputs": [],
   "source": [
    "passwords = np.array([('ac7d', 0),\n",
    "                      ('абоба', 0),\n",
    "                      ('HelloMy@favOr14092', 2),\n",
    "                      ('Пушкин№КоЛотушк1н', 2)])\n",
    "check_data = pd.DataFrame(passwords, columns=['password', 'strength'])\n",
    "\n",
    "check_dataset, check_labels = create_input_dataset(check_data, max_token_len=MAX_TOKEN_LEN, tokenizer=character_tokenizer, ttsplit=False)"
   ]
  },
  {
   "cell_type": "code",
   "execution_count": 43,
   "metadata": {},
   "outputs": [
    {
     "data": {
      "application/vnd.jupyter.widget-view+json": {
       "model_id": "acab11f838b84f89a8e0766ece9af8da",
       "version_major": 2,
       "version_minor": 0
      },
      "text/plain": [
       "  0%|          | 0/0.125 [00:00<?, ?it/s]"
      ]
     },
     "metadata": {},
     "output_type": "display_data"
    }
   ],
   "source": [
    "check_pred = predict_with_model(best_model, check_dataset)"
   ]
  },
  {
   "cell_type": "code",
   "execution_count": 44,
   "metadata": {},
   "outputs": [
    {
     "data": {
      "text/plain": [
       "array([0, 0, 2, 2], dtype=int64)"
      ]
     },
     "execution_count": 44,
     "metadata": {},
     "output_type": "execute_result"
    }
   ],
   "source": [
    "check_pred.argmax(1)"
   ]
  }
 ],
 "metadata": {
  "kernelspec": {
   "display_name": "tf_gpu",
   "language": "python",
   "name": "python3"
  },
  "language_info": {
   "codemirror_mode": {
    "name": "ipython",
    "version": 3
   },
   "file_extension": ".py",
   "mimetype": "text/x-python",
   "name": "python",
   "nbconvert_exporter": "python",
   "pygments_lexer": "ipython3",
   "version": "3.9.16"
  },
  "orig_nbformat": 4
 },
 "nbformat": 4,
 "nbformat_minor": 2
}
