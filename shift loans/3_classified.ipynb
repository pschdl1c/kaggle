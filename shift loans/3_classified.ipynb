{
 "cells": [
  {
   "cell_type": "code",
   "execution_count": 29,
   "metadata": {},
   "outputs": [],
   "source": [
    "import numpy as np\n",
    "import pandas as pd\n",
    "import seaborn\n",
    "import matplotlib.pyplot as plt\n",
    "import random"
   ]
  },
  {
   "cell_type": "code",
   "execution_count": 30,
   "metadata": {},
   "outputs": [],
   "source": [
    "with open('data/X_train.npy', 'rb') as f:\n",
    "    X_train = np.load(f)"
   ]
  },
  {
   "cell_type": "code",
   "execution_count": 31,
   "metadata": {},
   "outputs": [],
   "source": [
    "path_y_train = 'data/y_train.csv'\n",
    "\n",
    "y_train = pd.read_csv(path_y_train, index_col=0)"
   ]
  },
  {
   "cell_type": "code",
   "execution_count": 47,
   "metadata": {},
   "outputs": [],
   "source": [
    "import torch\n",
    "\n",
    "\n",
    "class SimpleNet(torch.nn.Module):\n",
    "    def __init__(self, ):\n",
    "        super(SimpleNet, self).__init__()\n",
    "        \n",
    "        self.fc1 = torch.nn.Linear(118, 118)\n",
    "        self.activ1 = torch.nn.ReLU()\n",
    "        self.fc2 = torch.nn.Linear(118, 56)\n",
    "        self.activ2 = torch.nn.ReLU()\n",
    "        self.fc3 = torch.nn.Linear(56, 24)\n",
    "        self.activ3 = torch.nn.ReLU()\n",
    "        self.fc4 = torch.nn.Linear(24, 2)\n",
    "        \n",
    "    def forward(self, x):\n",
    "        x = self.fc1(x)\n",
    "        x = self.activ1(x)\n",
    "        x = self.fc2(x)\n",
    "        x = self.activ2(x)\n",
    "        x = self.fc3(x)\n",
    "        x = self.activ3(x)\n",
    "        x = self.fc4(x)\n",
    "        return x\n",
    "    \n",
    "s_net = SimpleNet()"
   ]
  },
  {
   "cell_type": "code",
   "execution_count": 48,
   "metadata": {},
   "outputs": [],
   "source": [
    "from sklearn.model_selection import train_test_split\n",
    "from torch.utils.data import TensorDataset\n",
    "\n",
    "\n",
    "X_train_preprocess2, X_valid_preprocess2, y_train_preprocess2, y_valid_preprocess2 =\\\n",
    "      train_test_split(X_train, y_train.values, test_size=0.33, random_state=100)\n",
    "\n",
    "train_dataset = TensorDataset(torch.Tensor(X_train_preprocess2), torch.tensor(y_train_preprocess2.flatten()))\n",
    "valid_dataset = TensorDataset(torch.Tensor(X_valid_preprocess2), torch.tensor(y_valid_preprocess2.flatten()))\n",
    "\n",
    "train_dataloader = torch.utils.data.DataLoader(\n",
    "    train_dataset, batch_size=128, shuffle=True, num_workers=0, drop_last=True)\n",
    "val_dataloader = torch.utils.data.DataLoader(\n",
    "    valid_dataset, batch_size=128, shuffle=False, num_workers=0, drop_last=False)"
   ]
  },
  {
   "cell_type": "code",
   "execution_count": 34,
   "metadata": {},
   "outputs": [],
   "source": [
    "from tqdm.notebook import tqdm\n",
    "\n",
    "\n",
    "def train_model(model, loss, optimizer, scheduler, num_epochs, device):\n",
    "\n",
    "    val_loss_history = []\n",
    "    val_accuracy_history = []\n",
    "    train_loss_history = []\n",
    "    train_accuracy_history = []\n",
    "\n",
    "    for epoch in (pbar := tqdm(range(num_epochs))):\n",
    "        # каждая эпоха имеет этап обучения и проверки\n",
    "        for phase in ['train', 'val']:\n",
    "            if phase == 'train':\n",
    "                dataloader = train_dataloader\n",
    "                \n",
    "                model.train()  # переводим модель в train mode\n",
    "            else:\n",
    "                dataloader = val_dataloader\n",
    "                model.eval()   # переводим модель в evaluate mode\n",
    "\n",
    "            running_loss = 0.\n",
    "            running_acc = 0.\n",
    "\n",
    "            # итерируемся по данным\n",
    "            for inputs, labels in dataloader:\n",
    "                inputs = inputs.to(device)  # переводим инпуты на device\n",
    "                labels = labels.type(torch.LongTensor).to(device)  # переводим метки на device\n",
    "\n",
    "                optimizer.zero_grad()   # обнуляем градиент, чтобы он не накапливался\n",
    "\n",
    "                # forward and backward\n",
    "                # set_grad_enabled не сохраняет подсчет градиентов для фазы валидации\n",
    "                # set_grad_enabled выполняет то же самое, что и torch.no_grad()\n",
    "                # set_grad_enabled удобнее использовать, чтобы не повторять код для forward\n",
    "                with torch.set_grad_enabled(phase == 'train'):\n",
    "                    preds = model(inputs)\n",
    "                    # print(preds)\n",
    "                    loss_value = loss(preds, labels)\n",
    "                    preds_class = preds.argmax(dim=1)\n",
    "\n",
    "                    # backward + optimize only if in training phase\n",
    "                    if phase == 'train':\n",
    "                        loss_value.backward()   # считаем градиент \n",
    "                        optimizer.step()    # считаем шаг градиентного спуска\n",
    "                        \n",
    "\n",
    "                # накапливаем метрики для каждого батча\n",
    "                running_loss += loss_value.item()   # item переводит на cpu\n",
    "                running_acc += (preds_class == labels.data).float().mean().item()   # item переводит на cpu\n",
    "\n",
    "            # считаем средние метрики для одной эпохи\n",
    "            epoch_loss = running_loss / len(dataloader)\n",
    "            epoch_acc = running_acc / len(dataloader)\n",
    "\n",
    "            if phase == 'val':\n",
    "                val_loss_history.append(epoch_loss)\n",
    "                val_accuracy_history.append(epoch_acc)\n",
    "            else:\n",
    "                train_loss_history.append(epoch_loss)\n",
    "                train_accuracy_history.append(epoch_acc)\n",
    "                scheduler.step()    # говорим планировщику что прошла 1 эпоха\n",
    "\n",
    "            pbar.set_description(f'Epoch: {epoch}')\n",
    "            pbar.set_postfix_str(f'Accuracy: {epoch_acc: .3f}, \\\n",
    "                                 Loss: {epoch_loss: .3f}, GPU_Mem_alloc: {torch.cuda.memory_allocated()/1000000: .3f} MB, \\\n",
    "                                 GPU_Mem_cashed: {torch.cuda.memory_reserved()/1000000: .3f} MB')\n",
    "\n",
    "    return val_accuracy_history, val_loss_history, train_accuracy_history, train_loss_history, model\n",
    "\n",
    "accuracies = {}\n",
    "losses = {}"
   ]
  },
  {
   "cell_type": "code",
   "execution_count": 49,
   "metadata": {},
   "outputs": [
    {
     "data": {
      "application/vnd.jupyter.widget-view+json": {
       "model_id": "e4611f3da9404c1c8d02e5125082508a",
       "version_major": 2,
       "version_minor": 0
      },
      "text/plain": [
       "  0%|          | 0/10 [00:00<?, ?it/s]"
      ]
     },
     "metadata": {},
     "output_type": "display_data"
    }
   ],
   "source": [
    "from sklearn.utils.class_weight import compute_class_weight\n",
    "\n",
    "device = 'cuda'\n",
    "# class_weights = compute_class_weight(class_weight=\"balanced\",\n",
    "#                                      classes=np.unique(y_train),\n",
    "#                                      y=y_train.values.flatten())\n",
    "# class_weights = torch.tensor(class_weights,dtype=torch.float).to(device)\n",
    "class_weights =  torch.tensor([0.6, 3],dtype=torch.float).to(device)\n",
    "\n",
    "loss = torch.nn.CrossEntropyLoss(weight=class_weights, reduction='mean')\n",
    "optimizer = torch.optim.Adam(s_net.parameters(), amsgrad=True, lr=1.0e-3)\n",
    "scheduler = torch.optim.lr_scheduler.StepLR(optimizer, step_size=7, gamma=0.1)\n",
    "model = s_net.to(device)\n",
    "\n",
    "\n",
    "accuracies['val_s'], losses['val_s'], accuracies['train_s'], losses['train_s'], net = \\\n",
    "    train_model(model, loss, optimizer, scheduler, num_epochs=10, device=device)"
   ]
  },
  {
   "cell_type": "code",
   "execution_count": 41,
   "metadata": {},
   "outputs": [
    {
     "data": {
      "text/plain": [
       "tensor([0.6196, 2.5903], device='cuda:0')"
      ]
     },
     "execution_count": 41,
     "metadata": {},
     "output_type": "execute_result"
    }
   ],
   "source": [
    "class_weights"
   ]
  },
  {
   "cell_type": "code",
   "execution_count": 36,
   "metadata": {},
   "outputs": [
    {
     "data": {
      "text/plain": [
       "<matplotlib.legend.Legend at 0x21618b7e9a0>"
      ]
     },
     "execution_count": 36,
     "metadata": {},
     "output_type": "execute_result"
    },
    {
     "data": {
      "image/png": "[encoded data removed]",
      "text/plain": [
       "<Figure size 640x480 with 1 Axes>"
      ]
     },
     "metadata": {},
     "output_type": "display_data"
    }
   ],
   "source": [
    "plt.plot(accuracies['val_s'], label='val')\n",
    "plt.plot(accuracies['train_s'], label='train')\n",
    "plt.title('accuracy')\n",
    "plt.legend()"
   ]
  },
  {
   "cell_type": "code",
   "execution_count": 37,
   "metadata": {},
   "outputs": [
    {
     "data": {
      "text/plain": [
       "<matplotlib.legend.Legend at 0x21683e5f280>"
      ]
     },
     "execution_count": 37,
     "metadata": {},
     "output_type": "execute_result"
    },
    {
     "data": {
      "image/png": "[encoded data removed]",
      "text/plain": [
       "<Figure size 640x480 with 1 Axes>"
      ]
     },
     "metadata": {},
     "output_type": "display_data"
    }
   ],
   "source": [
    "plt.plot(losses['val_s'], label='val')\n",
    "plt.plot(losses['train_s'], label='train')\n",
    "plt.title('loss')\n",
    "plt.legend()"
   ]
  },
  {
   "cell_type": "code",
   "execution_count": 38,
   "metadata": {},
   "outputs": [],
   "source": [
    "from sklearn.metrics import roc_auc_score\n",
    "\n",
    "\n",
    "def gini(auc_score):\n",
    "    return 2 * auc_score - 1"
   ]
  },
  {
   "cell_type": "code",
   "execution_count": 39,
   "metadata": {},
   "outputs": [
    {
     "data": {
      "application/vnd.jupyter.widget-view+json": {
       "model_id": "f304e08caa534a558ac522b9d6dd13c0",
       "version_major": 2,
       "version_minor": 0
      },
      "text/plain": [
       "  0%|          | 0/97 [00:00<?, ?it/s]"
      ]
     },
     "metadata": {},
     "output_type": "display_data"
    }
   ],
   "source": [
    "net.eval()\n",
    "\n",
    "test_predictions = []\n",
    "for inputs, labels in tqdm(val_dataloader):\n",
    "    inputs = inputs.to(device)\n",
    "    labels = labels.to(device)\n",
    "    with torch.set_grad_enabled(False):\n",
    "        preds = net(inputs)\n",
    "    test_predictions.append(\n",
    "        torch.nn.functional.softmax(preds, dim=1)[:,1].data.cpu().numpy())\n",
    "    \n",
    "test_predictions = np.concatenate(test_predictions)\n",
    "pred = test_predictions\n",
    "pred[pred >= 0.5] = 1\n",
    "pred[pred < 0.5] = 0"
   ]
  },
  {
   "cell_type": "code",
   "execution_count": 40,
   "metadata": {},
   "outputs": [
    {
     "data": {
      "text/plain": [
       "0.32083138528600097"
      ]
     },
     "execution_count": 40,
     "metadata": {},
     "output_type": "execute_result"
    }
   ],
   "source": [
    "gini(roc_auc_score(y_valid_preprocess2.flatten(), pred))"
   ]
  },
  {
   "cell_type": "code",
   "execution_count": 13,
   "metadata": {},
   "outputs": [
    {
     "name": "stdout",
     "output_type": "stream",
     "text": [
      "              precision    recall  f1-score   support\n",
      "\n",
      "           0       0.81      1.00      0.89    319467\n",
      "           1       0.07      0.00      0.00     76488\n",
      "\n",
      "    accuracy                           0.81    395955\n",
      "   macro avg       0.44      0.50      0.45    395955\n",
      "weighted avg       0.66      0.81      0.72    395955\n",
      "\n"
     ]
    }
   ],
   "source": [
    "from sklearn.metrics import classification_report\n",
    "from sklearn.metrics import (accuracy_score , f1_score , precision_score , recall_score)\n",
    "\n",
    "\n",
    "print(classification_report(y_valid_preprocess2.flatten() , pred))"
   ]
  },
  {
   "cell_type": "code",
   "execution_count": 86,
   "metadata": {},
   "outputs": [
    {
     "name": "stdout",
     "output_type": "stream",
     "text": [
      "Accuracy: 0.6609033854857244\n",
      "Precision: 0.3186073525256648\n",
      "Recall: 0.6634112540529233\n",
      "F1-score: 0.43047596425072004\n"
     ]
    }
   ],
   "source": [
    "print(\"Accuracy:\", accuracy_score(y_valid_preprocess2.flatten() , pred))\n",
    "print(\"Precision:\", precision_score(y_valid_preprocess2.flatten(), pred))\n",
    "print(\"Recall:\", recall_score(y_valid_preprocess2.flatten(), pred))\n",
    "print(\"F1-score:\", f1_score(y_valid_preprocess2.flatten(), pred))"
   ]
  }
 ],
 "metadata": {
  "kernelspec": {
   "display_name": "tf_gpu",
   "language": "python",
   "name": "python3"
  },
  "language_info": {
   "codemirror_mode": {
    "name": "ipython",
    "version": 3
   },
   "file_extension": ".py",
   "mimetype": "text/x-python",
   "name": "python",
   "nbconvert_exporter": "python",
   "pygments_lexer": "ipython3",
   "version": "3.9.16"
  },
  "orig_nbformat": 4
 },
 "nbformat": 4,
 "nbformat_minor": 2
}
