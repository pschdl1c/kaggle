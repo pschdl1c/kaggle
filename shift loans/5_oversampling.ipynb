{
 "cells": [
  {
   "cell_type": "code",
   "execution_count": 1,
   "metadata": {},
   "outputs": [],
   "source": [
    "import numpy as np\n",
    "import pandas as pd\n",
    "import seaborn\n",
    "import matplotlib.pyplot as plt\n",
    "import random\n",
    "from sklearn.model_selection import KFold"
   ]
  },
  {
   "cell_type": "code",
   "execution_count": 2,
   "metadata": {},
   "outputs": [],
   "source": [
    "with open('data/X_train.npy', 'rb') as f:\n",
    "    X_train = np.load(f)"
   ]
  },
  {
   "cell_type": "code",
   "execution_count": 3,
   "metadata": {},
   "outputs": [],
   "source": [
    "path_y_train = 'data/y_train.csv'\n",
    "\n",
    "y_train = pd.read_csv(path_y_train, index_col=0)\n",
    "y_train = y_train.values.flatten()"
   ]
  },
  {
   "cell_type": "code",
   "execution_count": 4,
   "metadata": {},
   "outputs": [],
   "source": [
    "from sklearn.metrics import roc_auc_score\n",
    "\n",
    "\n",
    "def gini(auc_score):\n",
    "    return 2 * auc_score - 1"
   ]
  },
  {
   "cell_type": "code",
   "execution_count": 5,
   "metadata": {},
   "outputs": [
    {
     "data": {
      "text/plain": [
       "array([0.80697097, 0.19302903])"
      ]
     },
     "execution_count": 5,
     "metadata": {},
     "output_type": "execute_result"
    }
   ],
   "source": [
    "np.unique(y_train, return_counts=True)[1]/y_train.shape[0]"
   ]
  },
  {
   "cell_type": "code",
   "execution_count": 6,
   "metadata": {},
   "outputs": [],
   "source": [
    "# from imblearn.over_sampling import SMOTE\n",
    "\n",
    "# sm = SMOTE(random_state=42)\n",
    "# X_res, y_res = sm.fit_resample(X_train, y_train)"
   ]
  },
  {
   "cell_type": "code",
   "execution_count": 7,
   "metadata": {},
   "outputs": [],
   "source": [
    "# from imblearn.over_sampling import ADASYN\n",
    "\n",
    "# sm = ADASYN(random_state=0, n_neighbors=)\n",
    "# X_res, y_res = sm.fit_resample(X_train, y_train)"
   ]
  },
  {
   "cell_type": "code",
   "execution_count": 8,
   "metadata": {},
   "outputs": [],
   "source": [
    "# np.unique(y_res, return_counts=True)[1]/y_train.shape[0]"
   ]
  },
  {
   "cell_type": "code",
   "execution_count": 9,
   "metadata": {},
   "outputs": [],
   "source": [
    "from sklearn.model_selection import train_test_split\n",
    "\n",
    "\n",
    "X_train_preprocess2, X_valid_preprocess2, y_train_preprocess2, y_valid_preprocess2 =\\\n",
    "      train_test_split(X_train, y_train, test_size=0.33, random_state=100)"
   ]
  },
  {
   "cell_type": "code",
   "execution_count": 10,
   "metadata": {},
   "outputs": [],
   "source": [
    "from sklearn.utils.class_weight import compute_class_weight\n",
    "\n",
    "\n",
    "class_weights = compute_class_weight(class_weight=\"balanced\",\n",
    "                                     classes=np.unique(y_train),\n",
    "                                     y=y_train)"
   ]
  },
  {
   "cell_type": "code",
   "execution_count": 27,
   "metadata": {},
   "outputs": [
    {
     "name": "stdout",
     "output_type": "stream",
     "text": [
      "Learning rate set to 0.030266\n",
      "0:\ttest: 0.3872493\tbest: 0.3872493 (0)\ttotal: 73.8ms\tremaining: 2m 27s\n"
     ]
    },
    {
     "name": "stderr",
     "output_type": "stream",
     "text": [
      "Default metric period is 5 because NormalizedGini is/are not implemented for GPU\n",
      "Metric NormalizedGini is not implemented on GPU. Will use CPU for metric computation, this could significantly affect learning time\n"
     ]
    },
    {
     "name": "stdout",
     "output_type": "stream",
     "text": [
      "200:\ttest: 0.4415529\tbest: 0.4415529 (200)\ttotal: 14.6s\tremaining: 2m 10s\n",
      "400:\ttest: 0.4481012\tbest: 0.4481012 (400)\ttotal: 29s\tremaining: 1m 55s\n",
      "600:\ttest: 0.4506274\tbest: 0.4506274 (600)\ttotal: 43.5s\tremaining: 1m 41s\n",
      "800:\ttest: 0.4520328\tbest: 0.4520328 (800)\ttotal: 58s\tremaining: 1m 26s\n",
      "1000:\ttest: 0.4531253\tbest: 0.4531253 (1000)\ttotal: 1m 12s\tremaining: 1m 12s\n",
      "1200:\ttest: 0.4539907\tbest: 0.4539907 (1200)\ttotal: 1m 26s\tremaining: 57.7s\n",
      "1400:\ttest: 0.4546377\tbest: 0.4546377 (1400)\ttotal: 1m 41s\tremaining: 43.3s\n",
      "1600:\ttest: 0.4551463\tbest: 0.4551463 (1600)\ttotal: 1m 55s\tremaining: 28.8s\n",
      "1800:\ttest: 0.4556126\tbest: 0.4556126 (1800)\ttotal: 2m 10s\tremaining: 14.4s\n",
      "1999:\ttest: 0.4560196\tbest: 0.4560196 (1999)\ttotal: 2m 24s\tremaining: 0us\n",
      "bestTest = 0.4560195984\n",
      "bestIteration = 1999\n"
     ]
    },
    {
     "data": {
      "text/plain": [
       "<catboost.core.CatBoostClassifier at 0x1c8d6da9b50>"
      ]
     },
     "execution_count": 27,
     "metadata": {},
     "output_type": "execute_result"
    }
   ],
   "source": [
    "from catboost import CatBoostClassifier\n",
    "\n",
    "\n",
    "params = {'iterations': 2000,\n",
    "          # 'learning_rate': 0.015,\n",
    "          'depth': 15,\n",
    "          # 'l2_leaf_reg': 0.01313,\n",
    "          'loss_function': 'Logloss',\n",
    "          'eval_metric': 'NormalizedGini', # 'AUC'\n",
    "          'score_function': 'L2', # 'Cosine', 'L2', 'NewtonCosine', 'NewtonL2'\n",
    "          'bagging_temperature': 3,\n",
    "          # 'scale_pos_weight': class_weights[1],\n",
    "          'class_weights': class_weights,\n",
    "          # 'auto_class_weights': 'Balanced', # 'SqrtBalanced'\n",
    "          'grow_policy': 'Lossguide',   # 'Depthwise', 'Lossguide', 'SymmetricTree'\n",
    "          'bootstrap_type': 'Bayesian', # 'Bernoulli', 'Bayesian'\n",
    "          'early_stopping_rounds': 200,\n",
    "        #   'cat_features': cat_features,\n",
    "          'task_type': 'GPU',\n",
    "          'border_count': 254,  # 254\n",
    "          'verbose': 200,\n",
    "          'random_seed': 0,\n",
    "        #   'ignored_features': ignored_features\n",
    "         }\n",
    "\n",
    "# params ={'depth': 7,\n",
    "#  'l2_leaf_reg': 0.011294834927782476,\n",
    "#   'bagging_temperature': 9.297813770415363,\n",
    "#    'auto_class_weights': 'Balanced',\n",
    "# # 'scale_pos_weight': 5,\n",
    "#     'grow_policy': 'Lossguide',\n",
    "#      'min_data_in_leaf': 10,\n",
    "#       'max_leaves': 41,\n",
    "#       'verbose': 200,\n",
    "#       'task_type': 'GPU',\n",
    "#       'border_count': 254,\n",
    "#       'eval_metric': 'NormalizedGini',}\n",
    "\n",
    "\n",
    "# cbc = CatBoostClassifier(**params)\n",
    "# kf = KFold(n_splits=5, shuffle=True)\n",
    "# gini_test = []\n",
    "# for train_index, test_index in kf.split(X_res):\n",
    "#     x_train_fold, x_test_fold = X_res[train_index], X_res[test_index]\n",
    "#     y_train_fold, y_test_fold = y_res[train_index], y_res[test_index]\n",
    "\n",
    "#     cbc.fit(x_train_fold, y_train_fold,\n",
    "#             eval_set=(x_test_fold, y_test_fold))\n",
    "\n",
    "#     # pred_proba = cbc.predict_proba(x_test_fold)[:,1]\n",
    "#     pred = cbc.predict(x_test_fold)\n",
    "#     gini_test.append(gini(roc_auc_score(y_test_fold, pred)))\n",
    "\n",
    "cbc = CatBoostClassifier(**params)\n",
    "cbc.fit(X_train_preprocess2, y_train_preprocess2,\n",
    "        eval_set=(X_valid_preprocess2, y_valid_preprocess2))\n",
    "# 0.7109\n",
    "# 0.867"
   ]
  },
  {
   "cell_type": "code",
   "execution_count": 28,
   "metadata": {},
   "outputs": [
    {
     "data": {
      "text/plain": [
       "0.33099534197869684"
      ]
     },
     "execution_count": 28,
     "metadata": {},
     "output_type": "execute_result"
    }
   ],
   "source": [
    "pred = cbc.predict(X_valid_preprocess2)\n",
    "gini(roc_auc_score(y_valid_preprocess2.flatten(), pred))\n",
    "# 0.583524 best"
   ]
  },
  {
   "cell_type": "code",
   "execution_count": 17,
   "metadata": {},
   "outputs": [
    {
     "data": {
      "text/plain": [
       "0.4316006575874296"
      ]
     },
     "execution_count": 17,
     "metadata": {},
     "output_type": "execute_result"
    }
   ],
   "source": [
    "pred = cbc.predict(X_train)\n",
    "gini(roc_auc_score(y_train.flatten(), pred))\n",
    "# 0.38896 - 0.257\n",
    "# 0.43278 best"
   ]
  },
  {
   "cell_type": "code",
   "execution_count": 79,
   "metadata": {},
   "outputs": [
    {
     "data": {
      "text/plain": [
       "0.2947985"
      ]
     },
     "execution_count": 79,
     "metadata": {},
     "output_type": "execute_result"
    }
   ],
   "source": [
    "0.4267585 - 0.13195999999999997"
   ]
  },
  {
   "cell_type": "code",
   "execution_count": 22,
   "metadata": {},
   "outputs": [
    {
     "name": "stderr",
     "output_type": "stream",
     "text": [
      "Default metric period is 5 because NormalizedGini is/are not implemented for GPU\n",
      "Metric NormalizedGini is not implemented on GPU. Will use CPU for metric computation, this could significantly affect learning time\n"
     ]
    },
    {
     "name": "stdout",
     "output_type": "stream",
     "text": [
      "0:\ttotal: 50.3ms\tremaining: 1m 36s\n",
      "200:\ttotal: 6.25s\tremaining: 53.4s\n",
      "400:\ttotal: 12.1s\tremaining: 46s\n",
      "600:\ttotal: 17.7s\tremaining: 38.9s\n",
      "800:\ttotal: 23.4s\tremaining: 32.6s\n",
      "1000:\ttotal: 29s\tremaining: 26.6s\n",
      "1200:\ttotal: 34.6s\tremaining: 20.7s\n",
      "1400:\ttotal: 40.4s\tremaining: 14.9s\n",
      "1600:\ttotal: 46s\tremaining: 9.13s\n",
      "1800:\ttotal: 51.7s\tremaining: 3.39s\n",
      "1918:\ttotal: 55.1s\tremaining: 0us\n"
     ]
    },
    {
     "data": {
      "text/plain": [
       "<catboost.core.CatBoostClassifier at 0x185c48692e0>"
      ]
     },
     "execution_count": 22,
     "metadata": {},
     "output_type": "execute_result"
    }
   ],
   "source": [
    "params = {'iterations': 1919,\n",
    "          # 'learning_rate': 0.015,\n",
    "          'depth': 7,\n",
    "          'l2_leaf_reg': 0.01313,\n",
    "          'loss_function': 'Logloss',\n",
    "          'eval_metric': 'NormalizedGini', # 'AUC'\n",
    "          'score_function': 'L2', # 'Cosine', 'L2', 'NewtonCosine', 'NewtonL2'\n",
    "          # 'bagging_temperature': 3,\n",
    "          # 'scale_pos_weight': class_weights[1],\n",
    "          'class_weights': class_weights,\n",
    "          # 'auto_class_weights': 'Balanced', # 'SqrtBalanced'\n",
    "          'grow_policy': 'SymmetricTree',   # 'Depthwise', 'Lossguide', 'SymmetricTree'\n",
    "          'bootstrap_type': 'Bernoulli', # 'Bernoulli', 'Bayesian'\n",
    "          'early_stopping_rounds': 200,\n",
    "        #   'cat_features': cat_features,\n",
    "          'task_type': 'GPU',\n",
    "          'border_count': 254,  # 254\n",
    "          'verbose': 200,\n",
    "          'random_seed': 0,\n",
    "        #   'ignored_features': ignored_features\n",
    "         }\n",
    "\n",
    "cbc = CatBoostClassifier(**params)\n",
    "cbc.fit(X_train, y_train)"
   ]
  },
  {
   "cell_type": "code",
   "execution_count": 23,
   "metadata": {},
   "outputs": [
    {
     "data": {
      "text/plain": [
       "0.36184410704182945"
      ]
     },
     "execution_count": 23,
     "metadata": {},
     "output_type": "execute_result"
    }
   ],
   "source": [
    "pred = cbc.predict(X_train)\n",
    "gini(roc_auc_score(y_train.flatten(), pred))\n"
   ]
  },
  {
   "cell_type": "code",
   "execution_count": 14,
   "metadata": {},
   "outputs": [
    {
     "name": "stdout",
     "output_type": "stream",
     "text": [
      "              precision    recall  f1-score   support\n",
      "\n",
      "           0       0.90      0.66      0.76    968253\n",
      "           1       0.33      0.70      0.44    231608\n",
      "\n",
      "    accuracy                           0.66   1199861\n",
      "   macro avg       0.61      0.68      0.60   1199861\n",
      "weighted avg       0.79      0.66      0.70   1199861\n",
      "\n"
     ]
    }
   ],
   "source": [
    "from sklearn.metrics import classification_report\n",
    "from sklearn.metrics import (accuracy_score , f1_score , precision_score , recall_score)\n",
    "\n",
    "\n",
    "print(classification_report(y_train.flatten() , pred))"
   ]
  },
  {
   "cell_type": "code",
   "execution_count": 75,
   "metadata": {},
   "outputs": [
    {
     "name": "stdout",
     "output_type": "stream",
     "text": [
      "              precision    recall  f1-score   support\n",
      "\n",
      "           0       0.92      0.68      0.78    968253\n",
      "           1       0.36      0.74      0.48    231608\n",
      "\n",
      "    accuracy                           0.69   1199861\n",
      "   macro avg       0.64      0.71      0.63   1199861\n",
      "weighted avg       0.81      0.69      0.72   1199861\n",
      "\n"
     ]
    }
   ],
   "source": [
    "from sklearn.metrics import classification_report\n",
    "from sklearn.metrics import (accuracy_score , f1_score , precision_score , recall_score)\n",
    "\n",
    "\n",
    "print(classification_report(y_train.flatten() , pred))"
   ]
  },
  {
   "cell_type": "code",
   "execution_count": 19,
   "metadata": {},
   "outputs": [],
   "source": [
    "with open('data/X_test.npy', 'rb') as f:\n",
    "    X_test = np.load(f)"
   ]
  },
  {
   "cell_type": "code",
   "execution_count": 20,
   "metadata": {},
   "outputs": [],
   "source": [
    "test_pred = cbc.predict(X_test)"
   ]
  },
  {
   "cell_type": "code",
   "execution_count": 21,
   "metadata": {},
   "outputs": [],
   "source": [
    "submit = pd.read_csv('data/answer.csv')\n",
    "submit['loan_status'] = test_pred"
   ]
  },
  {
   "cell_type": "code",
   "execution_count": 22,
   "metadata": {},
   "outputs": [
    {
     "data": {
      "text/plain": [
       "0    0.614733\n",
       "1    0.385267\n",
       "Name: loan_status, dtype: float64"
      ]
     },
     "execution_count": 22,
     "metadata": {},
     "output_type": "execute_result"
    }
   ],
   "source": [
    "submit.loan_status.value_counts()/submit.loan_status.shape[0]"
   ]
  },
  {
   "cell_type": "code",
   "execution_count": 23,
   "metadata": {},
   "outputs": [],
   "source": [
    "submit.to_csv('answer.csv')"
   ]
  },
  {
   "cell_type": "code",
   "execution_count": 24,
   "metadata": {},
   "outputs": [],
   "source": [
    "import zipfile\n",
    "      \n",
    "jungle_zip = zipfile.ZipFile('answer.zip', 'w')\n",
    "jungle_zip.write('answer.csv', compress_type=zipfile.ZIP_DEFLATED)\n",
    "jungle_zip.close()"
   ]
  }
 ],
 "metadata": {
  "kernelspec": {
   "display_name": "tf_gpu",
   "language": "python",
   "name": "python3"
  },
  "language_info": {
   "codemirror_mode": {
    "name": "ipython",
    "version": 3
   },
   "file_extension": ".py",
   "mimetype": "text/x-python",
   "name": "python",
   "nbconvert_exporter": "python",
   "pygments_lexer": "ipython3",
   "version": "3.9.16"
  },
  "orig_nbformat": 4
 },
 "nbformat": 4,
 "nbformat_minor": 2
}
