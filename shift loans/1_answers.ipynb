{
 "cells": [
  {
   "cell_type": "code",
   "execution_count": 1,
   "metadata": {},
   "outputs": [],
   "source": [
    "import numpy as np\n",
    "import pandas as pd\n",
    "import seaborn\n",
    "import matplotlib.pyplot as plt"
   ]
  },
  {
   "cell_type": "code",
   "execution_count": 2,
   "metadata": {},
   "outputs": [
    {
     "data": {
      "text/html": [
       "<div>\n",
       "<style scoped>\n",
       "    .dataframe tbody tr th:only-of-type {\n",
       "        vertical-align: middle;\n",
       "    }\n",
       "\n",
       "    .dataframe tbody tr th {\n",
       "        vertical-align: top;\n",
       "    }\n",
       "\n",
       "    .dataframe thead th {\n",
       "        text-align: right;\n",
       "    }\n",
       "</style>\n",
       "<table border=\"1\" class=\"dataframe\">\n",
       "  <thead>\n",
       "    <tr style=\"text-align: right;\">\n",
       "      <th></th>\n",
       "      <th>acc_now_delinq</th>\n",
       "      <th>addr_state</th>\n",
       "      <th>annual_inc</th>\n",
       "      <th>chargeoff_within_12_mths</th>\n",
       "      <th>collections_12_mths_ex_med</th>\n",
       "      <th>delinq_2yrs</th>\n",
       "      <th>dti</th>\n",
       "      <th>earliest_cr_line</th>\n",
       "      <th>emp_length</th>\n",
       "      <th>fico_range_high</th>\n",
       "      <th>...</th>\n",
       "      <th>pub_rec</th>\n",
       "      <th>pub_rec_bankruptcies</th>\n",
       "      <th>purpose</th>\n",
       "      <th>revol_util</th>\n",
       "      <th>tax_liens</th>\n",
       "      <th>term</th>\n",
       "      <th>title</th>\n",
       "      <th>total_acc</th>\n",
       "      <th>verification_status</th>\n",
       "      <th>zip_code</th>\n",
       "    </tr>\n",
       "    <tr>\n",
       "      <th>index</th>\n",
       "      <th></th>\n",
       "      <th></th>\n",
       "      <th></th>\n",
       "      <th></th>\n",
       "      <th></th>\n",
       "      <th></th>\n",
       "      <th></th>\n",
       "      <th></th>\n",
       "      <th></th>\n",
       "      <th></th>\n",
       "      <th></th>\n",
       "      <th></th>\n",
       "      <th></th>\n",
       "      <th></th>\n",
       "      <th></th>\n",
       "      <th></th>\n",
       "      <th></th>\n",
       "      <th></th>\n",
       "      <th></th>\n",
       "      <th></th>\n",
       "      <th></th>\n",
       "    </tr>\n",
       "  </thead>\n",
       "  <tbody>\n",
       "    <tr>\n",
       "      <th>0</th>\n",
       "      <td>0.0</td>\n",
       "      <td>UT</td>\n",
       "      <td>80000.0</td>\n",
       "      <td>0.0</td>\n",
       "      <td>0.0</td>\n",
       "      <td>0.0</td>\n",
       "      <td>30.49</td>\n",
       "      <td>Oct-1996</td>\n",
       "      <td>4 years</td>\n",
       "      <td>689.0</td>\n",
       "      <td>...</td>\n",
       "      <td>1.0</td>\n",
       "      <td>1.0</td>\n",
       "      <td>credit_card</td>\n",
       "      <td>56.1%</td>\n",
       "      <td>0.0</td>\n",
       "      <td>36 months</td>\n",
       "      <td>Credit card refinancing</td>\n",
       "      <td>26.0</td>\n",
       "      <td>Source Verified</td>\n",
       "      <td>847xx</td>\n",
       "    </tr>\n",
       "    <tr>\n",
       "      <th>1</th>\n",
       "      <td>0.0</td>\n",
       "      <td>CA</td>\n",
       "      <td>82000.0</td>\n",
       "      <td>0.0</td>\n",
       "      <td>0.0</td>\n",
       "      <td>0.0</td>\n",
       "      <td>7.00</td>\n",
       "      <td>Mar-1993</td>\n",
       "      <td>10+ years</td>\n",
       "      <td>689.0</td>\n",
       "      <td>...</td>\n",
       "      <td>1.0</td>\n",
       "      <td>1.0</td>\n",
       "      <td>credit_card</td>\n",
       "      <td>88.3%</td>\n",
       "      <td>0.0</td>\n",
       "      <td>36 months</td>\n",
       "      <td>Credit card refinancing</td>\n",
       "      <td>11.0</td>\n",
       "      <td>Not Verified</td>\n",
       "      <td>900xx</td>\n",
       "    </tr>\n",
       "    <tr>\n",
       "      <th>2</th>\n",
       "      <td>0.0</td>\n",
       "      <td>NV</td>\n",
       "      <td>46080.0</td>\n",
       "      <td>0.0</td>\n",
       "      <td>0.0</td>\n",
       "      <td>1.0</td>\n",
       "      <td>17.32</td>\n",
       "      <td>Nov-2000</td>\n",
       "      <td>3 years</td>\n",
       "      <td>674.0</td>\n",
       "      <td>...</td>\n",
       "      <td>0.0</td>\n",
       "      <td>0.0</td>\n",
       "      <td>credit_card</td>\n",
       "      <td>18.1%</td>\n",
       "      <td>0.0</td>\n",
       "      <td>36 months</td>\n",
       "      <td>Credit card refinancing</td>\n",
       "      <td>31.0</td>\n",
       "      <td>Source Verified</td>\n",
       "      <td>895xx</td>\n",
       "    </tr>\n",
       "    <tr>\n",
       "      <th>3</th>\n",
       "      <td>0.0</td>\n",
       "      <td>AZ</td>\n",
       "      <td>30000.0</td>\n",
       "      <td>0.0</td>\n",
       "      <td>0.0</td>\n",
       "      <td>0.0</td>\n",
       "      <td>7.80</td>\n",
       "      <td>Jan-2010</td>\n",
       "      <td>&lt; 1 year</td>\n",
       "      <td>694.0</td>\n",
       "      <td>...</td>\n",
       "      <td>0.0</td>\n",
       "      <td>0.0</td>\n",
       "      <td>car</td>\n",
       "      <td>33.4%</td>\n",
       "      <td>0.0</td>\n",
       "      <td>36 months</td>\n",
       "      <td>Car financing</td>\n",
       "      <td>24.0</td>\n",
       "      <td>Source Verified</td>\n",
       "      <td>853xx</td>\n",
       "    </tr>\n",
       "    <tr>\n",
       "      <th>4</th>\n",
       "      <td>0.0</td>\n",
       "      <td>OH</td>\n",
       "      <td>70000.0</td>\n",
       "      <td>0.0</td>\n",
       "      <td>0.0</td>\n",
       "      <td>0.0</td>\n",
       "      <td>13.36</td>\n",
       "      <td>Jan-2002</td>\n",
       "      <td>&lt; 1 year</td>\n",
       "      <td>674.0</td>\n",
       "      <td>...</td>\n",
       "      <td>0.0</td>\n",
       "      <td>0.0</td>\n",
       "      <td>other</td>\n",
       "      <td>88.6%</td>\n",
       "      <td>0.0</td>\n",
       "      <td>60 months</td>\n",
       "      <td>Other</td>\n",
       "      <td>16.0</td>\n",
       "      <td>Not Verified</td>\n",
       "      <td>453xx</td>\n",
       "    </tr>\n",
       "    <tr>\n",
       "      <th>...</th>\n",
       "      <td>...</td>\n",
       "      <td>...</td>\n",
       "      <td>...</td>\n",
       "      <td>...</td>\n",
       "      <td>...</td>\n",
       "      <td>...</td>\n",
       "      <td>...</td>\n",
       "      <td>...</td>\n",
       "      <td>...</td>\n",
       "      <td>...</td>\n",
       "      <td>...</td>\n",
       "      <td>...</td>\n",
       "      <td>...</td>\n",
       "      <td>...</td>\n",
       "      <td>...</td>\n",
       "      <td>...</td>\n",
       "      <td>...</td>\n",
       "      <td>...</td>\n",
       "      <td>...</td>\n",
       "      <td>...</td>\n",
       "      <td>...</td>\n",
       "    </tr>\n",
       "    <tr>\n",
       "      <th>1199856</th>\n",
       "      <td>0.0</td>\n",
       "      <td>IL</td>\n",
       "      <td>41000.0</td>\n",
       "      <td>0.0</td>\n",
       "      <td>0.0</td>\n",
       "      <td>0.0</td>\n",
       "      <td>22.97</td>\n",
       "      <td>Feb-2002</td>\n",
       "      <td>4 years</td>\n",
       "      <td>684.0</td>\n",
       "      <td>...</td>\n",
       "      <td>0.0</td>\n",
       "      <td>0.0</td>\n",
       "      <td>debt_consolidation</td>\n",
       "      <td>82.1%</td>\n",
       "      <td>0.0</td>\n",
       "      <td>36 months</td>\n",
       "      <td>debt consolidation</td>\n",
       "      <td>8.0</td>\n",
       "      <td>Source Verified</td>\n",
       "      <td>604xx</td>\n",
       "    </tr>\n",
       "    <tr>\n",
       "      <th>1199857</th>\n",
       "      <td>0.0</td>\n",
       "      <td>NY</td>\n",
       "      <td>95000.0</td>\n",
       "      <td>0.0</td>\n",
       "      <td>0.0</td>\n",
       "      <td>0.0</td>\n",
       "      <td>25.63</td>\n",
       "      <td>Jan-2002</td>\n",
       "      <td>3 years</td>\n",
       "      <td>709.0</td>\n",
       "      <td>...</td>\n",
       "      <td>0.0</td>\n",
       "      <td>0.0</td>\n",
       "      <td>credit_card</td>\n",
       "      <td>82.3%</td>\n",
       "      <td>0.0</td>\n",
       "      <td>36 months</td>\n",
       "      <td>Credit cards financing</td>\n",
       "      <td>29.0</td>\n",
       "      <td>Verified</td>\n",
       "      <td>106xx</td>\n",
       "    </tr>\n",
       "    <tr>\n",
       "      <th>1199858</th>\n",
       "      <td>0.0</td>\n",
       "      <td>MA</td>\n",
       "      <td>61000.0</td>\n",
       "      <td>0.0</td>\n",
       "      <td>0.0</td>\n",
       "      <td>0.0</td>\n",
       "      <td>15.58</td>\n",
       "      <td>Nov-2002</td>\n",
       "      <td>8 years</td>\n",
       "      <td>774.0</td>\n",
       "      <td>...</td>\n",
       "      <td>0.0</td>\n",
       "      <td>0.0</td>\n",
       "      <td>home_improvement</td>\n",
       "      <td>6%</td>\n",
       "      <td>0.0</td>\n",
       "      <td>60 months</td>\n",
       "      <td>Home improvement</td>\n",
       "      <td>26.0</td>\n",
       "      <td>Source Verified</td>\n",
       "      <td>021xx</td>\n",
       "    </tr>\n",
       "    <tr>\n",
       "      <th>1199859</th>\n",
       "      <td>0.0</td>\n",
       "      <td>OH</td>\n",
       "      <td>35000.0</td>\n",
       "      <td>0.0</td>\n",
       "      <td>0.0</td>\n",
       "      <td>0.0</td>\n",
       "      <td>24.07</td>\n",
       "      <td>Nov-1991</td>\n",
       "      <td>5 years</td>\n",
       "      <td>719.0</td>\n",
       "      <td>...</td>\n",
       "      <td>0.0</td>\n",
       "      <td>0.0</td>\n",
       "      <td>debt_consolidation</td>\n",
       "      <td>76.2%</td>\n",
       "      <td>0.0</td>\n",
       "      <td>60 months</td>\n",
       "      <td>Debt</td>\n",
       "      <td>52.0</td>\n",
       "      <td>Verified</td>\n",
       "      <td>454xx</td>\n",
       "    </tr>\n",
       "    <tr>\n",
       "      <th>1199860</th>\n",
       "      <td>0.0</td>\n",
       "      <td>TX</td>\n",
       "      <td>70000.0</td>\n",
       "      <td>0.0</td>\n",
       "      <td>0.0</td>\n",
       "      <td>0.0</td>\n",
       "      <td>15.05</td>\n",
       "      <td>Sep-2007</td>\n",
       "      <td>2 years</td>\n",
       "      <td>684.0</td>\n",
       "      <td>...</td>\n",
       "      <td>1.0</td>\n",
       "      <td>0.0</td>\n",
       "      <td>home_improvement</td>\n",
       "      <td>37.3%</td>\n",
       "      <td>0.0</td>\n",
       "      <td>36 months</td>\n",
       "      <td>Home improvement</td>\n",
       "      <td>12.0</td>\n",
       "      <td>Not Verified</td>\n",
       "      <td>770xx</td>\n",
       "    </tr>\n",
       "  </tbody>\n",
       "</table>\n",
       "<p>1199861 rows × 44 columns</p>\n",
       "</div>"
      ],
      "text/plain": [
       "         acc_now_delinq addr_state  annual_inc  chargeoff_within_12_mths  \\\n",
       "index                                                                      \n",
       "0                   0.0         UT     80000.0                       0.0   \n",
       "1                   0.0         CA     82000.0                       0.0   \n",
       "2                   0.0         NV     46080.0                       0.0   \n",
       "3                   0.0         AZ     30000.0                       0.0   \n",
       "4                   0.0         OH     70000.0                       0.0   \n",
       "...                 ...        ...         ...                       ...   \n",
       "1199856             0.0         IL     41000.0                       0.0   \n",
       "1199857             0.0         NY     95000.0                       0.0   \n",
       "1199858             0.0         MA     61000.0                       0.0   \n",
       "1199859             0.0         OH     35000.0                       0.0   \n",
       "1199860             0.0         TX     70000.0                       0.0   \n",
       "\n",
       "         collections_12_mths_ex_med  delinq_2yrs    dti earliest_cr_line  \\\n",
       "index                                                                      \n",
       "0                               0.0          0.0  30.49         Oct-1996   \n",
       "1                               0.0          0.0   7.00         Mar-1993   \n",
       "2                               0.0          1.0  17.32         Nov-2000   \n",
       "3                               0.0          0.0   7.80         Jan-2010   \n",
       "4                               0.0          0.0  13.36         Jan-2002   \n",
       "...                             ...          ...    ...              ...   \n",
       "1199856                         0.0          0.0  22.97         Feb-2002   \n",
       "1199857                         0.0          0.0  25.63         Jan-2002   \n",
       "1199858                         0.0          0.0  15.58         Nov-2002   \n",
       "1199859                         0.0          0.0  24.07         Nov-1991   \n",
       "1199860                         0.0          0.0  15.05         Sep-2007   \n",
       "\n",
       "        emp_length  fico_range_high  ...  pub_rec  pub_rec_bankruptcies  \\\n",
       "index                                ...                                  \n",
       "0          4 years            689.0  ...      1.0                   1.0   \n",
       "1        10+ years            689.0  ...      1.0                   1.0   \n",
       "2          3 years            674.0  ...      0.0                   0.0   \n",
       "3         < 1 year            694.0  ...      0.0                   0.0   \n",
       "4         < 1 year            674.0  ...      0.0                   0.0   \n",
       "...            ...              ...  ...      ...                   ...   \n",
       "1199856    4 years            684.0  ...      0.0                   0.0   \n",
       "1199857    3 years            709.0  ...      0.0                   0.0   \n",
       "1199858    8 years            774.0  ...      0.0                   0.0   \n",
       "1199859    5 years            719.0  ...      0.0                   0.0   \n",
       "1199860    2 years            684.0  ...      1.0                   0.0   \n",
       "\n",
       "                    purpose  revol_util  tax_liens        term  \\\n",
       "index                                                            \n",
       "0               credit_card       56.1%        0.0   36 months   \n",
       "1               credit_card       88.3%        0.0   36 months   \n",
       "2               credit_card       18.1%        0.0   36 months   \n",
       "3                       car       33.4%        0.0   36 months   \n",
       "4                     other       88.6%        0.0   60 months   \n",
       "...                     ...         ...        ...         ...   \n",
       "1199856  debt_consolidation       82.1%        0.0   36 months   \n",
       "1199857         credit_card       82.3%        0.0   36 months   \n",
       "1199858    home_improvement          6%        0.0   60 months   \n",
       "1199859  debt_consolidation       76.2%        0.0   60 months   \n",
       "1199860    home_improvement       37.3%        0.0   36 months   \n",
       "\n",
       "                           title  total_acc  verification_status  zip_code  \n",
       "index                                                                       \n",
       "0        Credit card refinancing       26.0      Source Verified     847xx  \n",
       "1        Credit card refinancing       11.0         Not Verified     900xx  \n",
       "2        Credit card refinancing       31.0      Source Verified     895xx  \n",
       "3                  Car financing       24.0      Source Verified     853xx  \n",
       "4                          Other       16.0         Not Verified     453xx  \n",
       "...                          ...        ...                  ...       ...  \n",
       "1199856       debt consolidation        8.0      Source Verified     604xx  \n",
       "1199857   Credit cards financing       29.0             Verified     106xx  \n",
       "1199858         Home improvement       26.0      Source Verified     021xx  \n",
       "1199859                     Debt       52.0             Verified     454xx  \n",
       "1199860         Home improvement       12.0         Not Verified     770xx  \n",
       "\n",
       "[1199861 rows x 44 columns]"
      ]
     },
     "execution_count": 2,
     "metadata": {},
     "output_type": "execute_result"
    }
   ],
   "source": [
    "path_x_train = 'data/X_train.csv'\n",
    "\n",
    "X_train = pd.read_csv(path_x_train, index_col=0)\n",
    "X_train"
   ]
  },
  {
   "cell_type": "code",
   "execution_count": 3,
   "metadata": {},
   "outputs": [
    {
     "data": {
      "text/html": [
       "<div>\n",
       "<style scoped>\n",
       "    .dataframe tbody tr th:only-of-type {\n",
       "        vertical-align: middle;\n",
       "    }\n",
       "\n",
       "    .dataframe tbody tr th {\n",
       "        vertical-align: top;\n",
       "    }\n",
       "\n",
       "    .dataframe thead th {\n",
       "        text-align: right;\n",
       "    }\n",
       "</style>\n",
       "<table border=\"1\" class=\"dataframe\">\n",
       "  <thead>\n",
       "    <tr style=\"text-align: right;\">\n",
       "      <th></th>\n",
       "      <th>loan_status</th>\n",
       "    </tr>\n",
       "    <tr>\n",
       "      <th>index</th>\n",
       "      <th></th>\n",
       "    </tr>\n",
       "  </thead>\n",
       "  <tbody>\n",
       "    <tr>\n",
       "      <th>0</th>\n",
       "      <td>1</td>\n",
       "    </tr>\n",
       "    <tr>\n",
       "      <th>1</th>\n",
       "      <td>0</td>\n",
       "    </tr>\n",
       "    <tr>\n",
       "      <th>2</th>\n",
       "      <td>1</td>\n",
       "    </tr>\n",
       "    <tr>\n",
       "      <th>3</th>\n",
       "      <td>0</td>\n",
       "    </tr>\n",
       "    <tr>\n",
       "      <th>4</th>\n",
       "      <td>0</td>\n",
       "    </tr>\n",
       "    <tr>\n",
       "      <th>...</th>\n",
       "      <td>...</td>\n",
       "    </tr>\n",
       "    <tr>\n",
       "      <th>1199856</th>\n",
       "      <td>0</td>\n",
       "    </tr>\n",
       "    <tr>\n",
       "      <th>1199857</th>\n",
       "      <td>0</td>\n",
       "    </tr>\n",
       "    <tr>\n",
       "      <th>1199858</th>\n",
       "      <td>0</td>\n",
       "    </tr>\n",
       "    <tr>\n",
       "      <th>1199859</th>\n",
       "      <td>0</td>\n",
       "    </tr>\n",
       "    <tr>\n",
       "      <th>1199860</th>\n",
       "      <td>1</td>\n",
       "    </tr>\n",
       "  </tbody>\n",
       "</table>\n",
       "<p>1199861 rows × 1 columns</p>\n",
       "</div>"
      ],
      "text/plain": [
       "         loan_status\n",
       "index               \n",
       "0                  1\n",
       "1                  0\n",
       "2                  1\n",
       "3                  0\n",
       "4                  0\n",
       "...              ...\n",
       "1199856            0\n",
       "1199857            0\n",
       "1199858            0\n",
       "1199859            0\n",
       "1199860            1\n",
       "\n",
       "[1199861 rows x 1 columns]"
      ]
     },
     "execution_count": 3,
     "metadata": {},
     "output_type": "execute_result"
    }
   ],
   "source": [
    "path_y_train = 'data/y_train.csv'\n",
    "\n",
    "y_train = pd.read_csv(path_y_train, index_col=0)\n",
    "y_train"
   ]
  },
  {
   "cell_type": "code",
   "execution_count": 4,
   "metadata": {},
   "outputs": [
    {
     "data": {
      "text/html": [
       "<div>\n",
       "<style scoped>\n",
       "    .dataframe tbody tr th:only-of-type {\n",
       "        vertical-align: middle;\n",
       "    }\n",
       "\n",
       "    .dataframe tbody tr th {\n",
       "        vertical-align: top;\n",
       "    }\n",
       "\n",
       "    .dataframe thead th {\n",
       "        text-align: right;\n",
       "    }\n",
       "</style>\n",
       "<table border=\"1\" class=\"dataframe\">\n",
       "  <thead>\n",
       "    <tr style=\"text-align: right;\">\n",
       "      <th></th>\n",
       "      <th>acc_now_delinq</th>\n",
       "      <th>addr_state</th>\n",
       "      <th>annual_inc</th>\n",
       "      <th>chargeoff_within_12_mths</th>\n",
       "      <th>collections_12_mths_ex_med</th>\n",
       "      <th>delinq_2yrs</th>\n",
       "      <th>dti</th>\n",
       "      <th>earliest_cr_line</th>\n",
       "      <th>emp_length</th>\n",
       "      <th>fico_range_high</th>\n",
       "      <th>...</th>\n",
       "      <th>pub_rec_bankruptcies</th>\n",
       "      <th>purpose</th>\n",
       "      <th>revol_util</th>\n",
       "      <th>tax_liens</th>\n",
       "      <th>term</th>\n",
       "      <th>title</th>\n",
       "      <th>total_acc</th>\n",
       "      <th>verification_status</th>\n",
       "      <th>zip_code</th>\n",
       "      <th>loan_status</th>\n",
       "    </tr>\n",
       "    <tr>\n",
       "      <th>index</th>\n",
       "      <th></th>\n",
       "      <th></th>\n",
       "      <th></th>\n",
       "      <th></th>\n",
       "      <th></th>\n",
       "      <th></th>\n",
       "      <th></th>\n",
       "      <th></th>\n",
       "      <th></th>\n",
       "      <th></th>\n",
       "      <th></th>\n",
       "      <th></th>\n",
       "      <th></th>\n",
       "      <th></th>\n",
       "      <th></th>\n",
       "      <th></th>\n",
       "      <th></th>\n",
       "      <th></th>\n",
       "      <th></th>\n",
       "      <th></th>\n",
       "      <th></th>\n",
       "    </tr>\n",
       "  </thead>\n",
       "  <tbody>\n",
       "    <tr>\n",
       "      <th>0</th>\n",
       "      <td>0.0</td>\n",
       "      <td>UT</td>\n",
       "      <td>80000.0</td>\n",
       "      <td>0.0</td>\n",
       "      <td>0.0</td>\n",
       "      <td>0.0</td>\n",
       "      <td>30.49</td>\n",
       "      <td>Oct-1996</td>\n",
       "      <td>4 years</td>\n",
       "      <td>689.0</td>\n",
       "      <td>...</td>\n",
       "      <td>1.0</td>\n",
       "      <td>credit_card</td>\n",
       "      <td>56.1%</td>\n",
       "      <td>0.0</td>\n",
       "      <td>36 months</td>\n",
       "      <td>Credit card refinancing</td>\n",
       "      <td>26.0</td>\n",
       "      <td>Source Verified</td>\n",
       "      <td>847xx</td>\n",
       "      <td>1</td>\n",
       "    </tr>\n",
       "    <tr>\n",
       "      <th>1</th>\n",
       "      <td>0.0</td>\n",
       "      <td>CA</td>\n",
       "      <td>82000.0</td>\n",
       "      <td>0.0</td>\n",
       "      <td>0.0</td>\n",
       "      <td>0.0</td>\n",
       "      <td>7.00</td>\n",
       "      <td>Mar-1993</td>\n",
       "      <td>10+ years</td>\n",
       "      <td>689.0</td>\n",
       "      <td>...</td>\n",
       "      <td>1.0</td>\n",
       "      <td>credit_card</td>\n",
       "      <td>88.3%</td>\n",
       "      <td>0.0</td>\n",
       "      <td>36 months</td>\n",
       "      <td>Credit card refinancing</td>\n",
       "      <td>11.0</td>\n",
       "      <td>Not Verified</td>\n",
       "      <td>900xx</td>\n",
       "      <td>0</td>\n",
       "    </tr>\n",
       "    <tr>\n",
       "      <th>2</th>\n",
       "      <td>0.0</td>\n",
       "      <td>NV</td>\n",
       "      <td>46080.0</td>\n",
       "      <td>0.0</td>\n",
       "      <td>0.0</td>\n",
       "      <td>1.0</td>\n",
       "      <td>17.32</td>\n",
       "      <td>Nov-2000</td>\n",
       "      <td>3 years</td>\n",
       "      <td>674.0</td>\n",
       "      <td>...</td>\n",
       "      <td>0.0</td>\n",
       "      <td>credit_card</td>\n",
       "      <td>18.1%</td>\n",
       "      <td>0.0</td>\n",
       "      <td>36 months</td>\n",
       "      <td>Credit card refinancing</td>\n",
       "      <td>31.0</td>\n",
       "      <td>Source Verified</td>\n",
       "      <td>895xx</td>\n",
       "      <td>1</td>\n",
       "    </tr>\n",
       "    <tr>\n",
       "      <th>3</th>\n",
       "      <td>0.0</td>\n",
       "      <td>AZ</td>\n",
       "      <td>30000.0</td>\n",
       "      <td>0.0</td>\n",
       "      <td>0.0</td>\n",
       "      <td>0.0</td>\n",
       "      <td>7.80</td>\n",
       "      <td>Jan-2010</td>\n",
       "      <td>&lt; 1 year</td>\n",
       "      <td>694.0</td>\n",
       "      <td>...</td>\n",
       "      <td>0.0</td>\n",
       "      <td>car</td>\n",
       "      <td>33.4%</td>\n",
       "      <td>0.0</td>\n",
       "      <td>36 months</td>\n",
       "      <td>Car financing</td>\n",
       "      <td>24.0</td>\n",
       "      <td>Source Verified</td>\n",
       "      <td>853xx</td>\n",
       "      <td>0</td>\n",
       "    </tr>\n",
       "    <tr>\n",
       "      <th>4</th>\n",
       "      <td>0.0</td>\n",
       "      <td>OH</td>\n",
       "      <td>70000.0</td>\n",
       "      <td>0.0</td>\n",
       "      <td>0.0</td>\n",
       "      <td>0.0</td>\n",
       "      <td>13.36</td>\n",
       "      <td>Jan-2002</td>\n",
       "      <td>&lt; 1 year</td>\n",
       "      <td>674.0</td>\n",
       "      <td>...</td>\n",
       "      <td>0.0</td>\n",
       "      <td>other</td>\n",
       "      <td>88.6%</td>\n",
       "      <td>0.0</td>\n",
       "      <td>60 months</td>\n",
       "      <td>Other</td>\n",
       "      <td>16.0</td>\n",
       "      <td>Not Verified</td>\n",
       "      <td>453xx</td>\n",
       "      <td>0</td>\n",
       "    </tr>\n",
       "    <tr>\n",
       "      <th>...</th>\n",
       "      <td>...</td>\n",
       "      <td>...</td>\n",
       "      <td>...</td>\n",
       "      <td>...</td>\n",
       "      <td>...</td>\n",
       "      <td>...</td>\n",
       "      <td>...</td>\n",
       "      <td>...</td>\n",
       "      <td>...</td>\n",
       "      <td>...</td>\n",
       "      <td>...</td>\n",
       "      <td>...</td>\n",
       "      <td>...</td>\n",
       "      <td>...</td>\n",
       "      <td>...</td>\n",
       "      <td>...</td>\n",
       "      <td>...</td>\n",
       "      <td>...</td>\n",
       "      <td>...</td>\n",
       "      <td>...</td>\n",
       "      <td>...</td>\n",
       "    </tr>\n",
       "    <tr>\n",
       "      <th>1199856</th>\n",
       "      <td>0.0</td>\n",
       "      <td>IL</td>\n",
       "      <td>41000.0</td>\n",
       "      <td>0.0</td>\n",
       "      <td>0.0</td>\n",
       "      <td>0.0</td>\n",
       "      <td>22.97</td>\n",
       "      <td>Feb-2002</td>\n",
       "      <td>4 years</td>\n",
       "      <td>684.0</td>\n",
       "      <td>...</td>\n",
       "      <td>0.0</td>\n",
       "      <td>debt_consolidation</td>\n",
       "      <td>82.1%</td>\n",
       "      <td>0.0</td>\n",
       "      <td>36 months</td>\n",
       "      <td>debt consolidation</td>\n",
       "      <td>8.0</td>\n",
       "      <td>Source Verified</td>\n",
       "      <td>604xx</td>\n",
       "      <td>0</td>\n",
       "    </tr>\n",
       "    <tr>\n",
       "      <th>1199857</th>\n",
       "      <td>0.0</td>\n",
       "      <td>NY</td>\n",
       "      <td>95000.0</td>\n",
       "      <td>0.0</td>\n",
       "      <td>0.0</td>\n",
       "      <td>0.0</td>\n",
       "      <td>25.63</td>\n",
       "      <td>Jan-2002</td>\n",
       "      <td>3 years</td>\n",
       "      <td>709.0</td>\n",
       "      <td>...</td>\n",
       "      <td>0.0</td>\n",
       "      <td>credit_card</td>\n",
       "      <td>82.3%</td>\n",
       "      <td>0.0</td>\n",
       "      <td>36 months</td>\n",
       "      <td>Credit cards financing</td>\n",
       "      <td>29.0</td>\n",
       "      <td>Verified</td>\n",
       "      <td>106xx</td>\n",
       "      <td>0</td>\n",
       "    </tr>\n",
       "    <tr>\n",
       "      <th>1199858</th>\n",
       "      <td>0.0</td>\n",
       "      <td>MA</td>\n",
       "      <td>61000.0</td>\n",
       "      <td>0.0</td>\n",
       "      <td>0.0</td>\n",
       "      <td>0.0</td>\n",
       "      <td>15.58</td>\n",
       "      <td>Nov-2002</td>\n",
       "      <td>8 years</td>\n",
       "      <td>774.0</td>\n",
       "      <td>...</td>\n",
       "      <td>0.0</td>\n",
       "      <td>home_improvement</td>\n",
       "      <td>6%</td>\n",
       "      <td>0.0</td>\n",
       "      <td>60 months</td>\n",
       "      <td>Home improvement</td>\n",
       "      <td>26.0</td>\n",
       "      <td>Source Verified</td>\n",
       "      <td>021xx</td>\n",
       "      <td>0</td>\n",
       "    </tr>\n",
       "    <tr>\n",
       "      <th>1199859</th>\n",
       "      <td>0.0</td>\n",
       "      <td>OH</td>\n",
       "      <td>35000.0</td>\n",
       "      <td>0.0</td>\n",
       "      <td>0.0</td>\n",
       "      <td>0.0</td>\n",
       "      <td>24.07</td>\n",
       "      <td>Nov-1991</td>\n",
       "      <td>5 years</td>\n",
       "      <td>719.0</td>\n",
       "      <td>...</td>\n",
       "      <td>0.0</td>\n",
       "      <td>debt_consolidation</td>\n",
       "      <td>76.2%</td>\n",
       "      <td>0.0</td>\n",
       "      <td>60 months</td>\n",
       "      <td>Debt</td>\n",
       "      <td>52.0</td>\n",
       "      <td>Verified</td>\n",
       "      <td>454xx</td>\n",
       "      <td>0</td>\n",
       "    </tr>\n",
       "    <tr>\n",
       "      <th>1199860</th>\n",
       "      <td>0.0</td>\n",
       "      <td>TX</td>\n",
       "      <td>70000.0</td>\n",
       "      <td>0.0</td>\n",
       "      <td>0.0</td>\n",
       "      <td>0.0</td>\n",
       "      <td>15.05</td>\n",
       "      <td>Sep-2007</td>\n",
       "      <td>2 years</td>\n",
       "      <td>684.0</td>\n",
       "      <td>...</td>\n",
       "      <td>0.0</td>\n",
       "      <td>home_improvement</td>\n",
       "      <td>37.3%</td>\n",
       "      <td>0.0</td>\n",
       "      <td>36 months</td>\n",
       "      <td>Home improvement</td>\n",
       "      <td>12.0</td>\n",
       "      <td>Not Verified</td>\n",
       "      <td>770xx</td>\n",
       "      <td>1</td>\n",
       "    </tr>\n",
       "  </tbody>\n",
       "</table>\n",
       "<p>1199861 rows × 45 columns</p>\n",
       "</div>"
      ],
      "text/plain": [
       "         acc_now_delinq addr_state  annual_inc  chargeoff_within_12_mths  \\\n",
       "index                                                                      \n",
       "0                   0.0         UT     80000.0                       0.0   \n",
       "1                   0.0         CA     82000.0                       0.0   \n",
       "2                   0.0         NV     46080.0                       0.0   \n",
       "3                   0.0         AZ     30000.0                       0.0   \n",
       "4                   0.0         OH     70000.0                       0.0   \n",
       "...                 ...        ...         ...                       ...   \n",
       "1199856             0.0         IL     41000.0                       0.0   \n",
       "1199857             0.0         NY     95000.0                       0.0   \n",
       "1199858             0.0         MA     61000.0                       0.0   \n",
       "1199859             0.0         OH     35000.0                       0.0   \n",
       "1199860             0.0         TX     70000.0                       0.0   \n",
       "\n",
       "         collections_12_mths_ex_med  delinq_2yrs    dti earliest_cr_line  \\\n",
       "index                                                                      \n",
       "0                               0.0          0.0  30.49         Oct-1996   \n",
       "1                               0.0          0.0   7.00         Mar-1993   \n",
       "2                               0.0          1.0  17.32         Nov-2000   \n",
       "3                               0.0          0.0   7.80         Jan-2010   \n",
       "4                               0.0          0.0  13.36         Jan-2002   \n",
       "...                             ...          ...    ...              ...   \n",
       "1199856                         0.0          0.0  22.97         Feb-2002   \n",
       "1199857                         0.0          0.0  25.63         Jan-2002   \n",
       "1199858                         0.0          0.0  15.58         Nov-2002   \n",
       "1199859                         0.0          0.0  24.07         Nov-1991   \n",
       "1199860                         0.0          0.0  15.05         Sep-2007   \n",
       "\n",
       "        emp_length  fico_range_high  ...  pub_rec_bankruptcies  \\\n",
       "index                                ...                         \n",
       "0          4 years            689.0  ...                   1.0   \n",
       "1        10+ years            689.0  ...                   1.0   \n",
       "2          3 years            674.0  ...                   0.0   \n",
       "3         < 1 year            694.0  ...                   0.0   \n",
       "4         < 1 year            674.0  ...                   0.0   \n",
       "...            ...              ...  ...                   ...   \n",
       "1199856    4 years            684.0  ...                   0.0   \n",
       "1199857    3 years            709.0  ...                   0.0   \n",
       "1199858    8 years            774.0  ...                   0.0   \n",
       "1199859    5 years            719.0  ...                   0.0   \n",
       "1199860    2 years            684.0  ...                   0.0   \n",
       "\n",
       "                    purpose revol_util  tax_liens        term  \\\n",
       "index                                                           \n",
       "0               credit_card      56.1%        0.0   36 months   \n",
       "1               credit_card      88.3%        0.0   36 months   \n",
       "2               credit_card      18.1%        0.0   36 months   \n",
       "3                       car      33.4%        0.0   36 months   \n",
       "4                     other      88.6%        0.0   60 months   \n",
       "...                     ...        ...        ...         ...   \n",
       "1199856  debt_consolidation      82.1%        0.0   36 months   \n",
       "1199857         credit_card      82.3%        0.0   36 months   \n",
       "1199858    home_improvement         6%        0.0   60 months   \n",
       "1199859  debt_consolidation      76.2%        0.0   60 months   \n",
       "1199860    home_improvement      37.3%        0.0   36 months   \n",
       "\n",
       "                           title total_acc  verification_status  zip_code  \\\n",
       "index                                                                       \n",
       "0        Credit card refinancing      26.0      Source Verified     847xx   \n",
       "1        Credit card refinancing      11.0         Not Verified     900xx   \n",
       "2        Credit card refinancing      31.0      Source Verified     895xx   \n",
       "3                  Car financing      24.0      Source Verified     853xx   \n",
       "4                          Other      16.0         Not Verified     453xx   \n",
       "...                          ...       ...                  ...       ...   \n",
       "1199856       debt consolidation       8.0      Source Verified     604xx   \n",
       "1199857   Credit cards financing      29.0             Verified     106xx   \n",
       "1199858         Home improvement      26.0      Source Verified     021xx   \n",
       "1199859                     Debt      52.0             Verified     454xx   \n",
       "1199860         Home improvement      12.0         Not Verified     770xx   \n",
       "\n",
       "         loan_status  \n",
       "index                 \n",
       "0                  1  \n",
       "1                  0  \n",
       "2                  1  \n",
       "3                  0  \n",
       "4                  0  \n",
       "...              ...  \n",
       "1199856            0  \n",
       "1199857            0  \n",
       "1199858            0  \n",
       "1199859            0  \n",
       "1199860            1  \n",
       "\n",
       "[1199861 rows x 45 columns]"
      ]
     },
     "execution_count": 4,
     "metadata": {},
     "output_type": "execute_result"
    }
   ],
   "source": [
    "X_train = X_train.merge(y_train, left_index=True, right_index=True)\n",
    "X_train"
   ]
  },
  {
   "cell_type": "code",
   "execution_count": 5,
   "metadata": {},
   "outputs": [
    {
     "data": {
      "text/html": [
       "<div>\n",
       "<style scoped>\n",
       "    .dataframe tbody tr th:only-of-type {\n",
       "        vertical-align: middle;\n",
       "    }\n",
       "\n",
       "    .dataframe tbody tr th {\n",
       "        vertical-align: top;\n",
       "    }\n",
       "\n",
       "    .dataframe thead th {\n",
       "        text-align: right;\n",
       "    }\n",
       "</style>\n",
       "<table border=\"1\" class=\"dataframe\">\n",
       "  <thead>\n",
       "    <tr style=\"text-align: right;\">\n",
       "      <th></th>\n",
       "      <th>acc_now_delinq</th>\n",
       "      <th>addr_state</th>\n",
       "      <th>annual_inc</th>\n",
       "      <th>chargeoff_within_12_mths</th>\n",
       "      <th>collections_12_mths_ex_med</th>\n",
       "      <th>delinq_2yrs</th>\n",
       "      <th>dti</th>\n",
       "      <th>earliest_cr_line</th>\n",
       "      <th>emp_length</th>\n",
       "      <th>fico_range_high</th>\n",
       "      <th>...</th>\n",
       "      <th>pub_rec</th>\n",
       "      <th>pub_rec_bankruptcies</th>\n",
       "      <th>purpose</th>\n",
       "      <th>revol_util</th>\n",
       "      <th>tax_liens</th>\n",
       "      <th>term</th>\n",
       "      <th>title</th>\n",
       "      <th>total_acc</th>\n",
       "      <th>verification_status</th>\n",
       "      <th>zip_code</th>\n",
       "    </tr>\n",
       "    <tr>\n",
       "      <th>index</th>\n",
       "      <th></th>\n",
       "      <th></th>\n",
       "      <th></th>\n",
       "      <th></th>\n",
       "      <th></th>\n",
       "      <th></th>\n",
       "      <th></th>\n",
       "      <th></th>\n",
       "      <th></th>\n",
       "      <th></th>\n",
       "      <th></th>\n",
       "      <th></th>\n",
       "      <th></th>\n",
       "      <th></th>\n",
       "      <th></th>\n",
       "      <th></th>\n",
       "      <th></th>\n",
       "      <th></th>\n",
       "      <th></th>\n",
       "      <th></th>\n",
       "      <th></th>\n",
       "    </tr>\n",
       "  </thead>\n",
       "  <tbody>\n",
       "    <tr>\n",
       "      <th>0</th>\n",
       "      <td>0.0</td>\n",
       "      <td>GA</td>\n",
       "      <td>46209.0</td>\n",
       "      <td>0.0</td>\n",
       "      <td>0.0</td>\n",
       "      <td>0.0</td>\n",
       "      <td>34.98</td>\n",
       "      <td>Apr-2009</td>\n",
       "      <td>8 years</td>\n",
       "      <td>669.0</td>\n",
       "      <td>...</td>\n",
       "      <td>0.0</td>\n",
       "      <td>0.0</td>\n",
       "      <td>debt_consolidation</td>\n",
       "      <td>61.7%</td>\n",
       "      <td>0.0</td>\n",
       "      <td>60 months</td>\n",
       "      <td>Debt consolidation</td>\n",
       "      <td>20.0</td>\n",
       "      <td>Verified</td>\n",
       "      <td>302xx</td>\n",
       "    </tr>\n",
       "    <tr>\n",
       "      <th>1</th>\n",
       "      <td>0.0</td>\n",
       "      <td>PA</td>\n",
       "      <td>43500.0</td>\n",
       "      <td>0.0</td>\n",
       "      <td>0.0</td>\n",
       "      <td>0.0</td>\n",
       "      <td>20.25</td>\n",
       "      <td>Jun-1982</td>\n",
       "      <td>5 years</td>\n",
       "      <td>704.0</td>\n",
       "      <td>...</td>\n",
       "      <td>0.0</td>\n",
       "      <td>0.0</td>\n",
       "      <td>debt_consolidation</td>\n",
       "      <td>58.6%</td>\n",
       "      <td>0.0</td>\n",
       "      <td>60 months</td>\n",
       "      <td>POFF</td>\n",
       "      <td>32.0</td>\n",
       "      <td>Not Verified</td>\n",
       "      <td>151xx</td>\n",
       "    </tr>\n",
       "    <tr>\n",
       "      <th>2</th>\n",
       "      <td>0.0</td>\n",
       "      <td>OH</td>\n",
       "      <td>72000.0</td>\n",
       "      <td>0.0</td>\n",
       "      <td>0.0</td>\n",
       "      <td>0.0</td>\n",
       "      <td>15.98</td>\n",
       "      <td>Nov-1997</td>\n",
       "      <td>3 years</td>\n",
       "      <td>699.0</td>\n",
       "      <td>...</td>\n",
       "      <td>0.0</td>\n",
       "      <td>0.0</td>\n",
       "      <td>credit_card</td>\n",
       "      <td>46.2%</td>\n",
       "      <td>0.0</td>\n",
       "      <td>36 months</td>\n",
       "      <td>credit crd</td>\n",
       "      <td>36.0</td>\n",
       "      <td>Verified</td>\n",
       "      <td>440xx</td>\n",
       "    </tr>\n",
       "    <tr>\n",
       "      <th>3</th>\n",
       "      <td>0.0</td>\n",
       "      <td>LA</td>\n",
       "      <td>120000.0</td>\n",
       "      <td>0.0</td>\n",
       "      <td>0.0</td>\n",
       "      <td>0.0</td>\n",
       "      <td>24.93</td>\n",
       "      <td>Jul-2001</td>\n",
       "      <td>10+ years</td>\n",
       "      <td>784.0</td>\n",
       "      <td>...</td>\n",
       "      <td>0.0</td>\n",
       "      <td>0.0</td>\n",
       "      <td>other</td>\n",
       "      <td>3.7%</td>\n",
       "      <td>0.0</td>\n",
       "      <td>36 months</td>\n",
       "      <td>Other</td>\n",
       "      <td>31.0</td>\n",
       "      <td>Not Verified</td>\n",
       "      <td>710xx</td>\n",
       "    </tr>\n",
       "    <tr>\n",
       "      <th>4</th>\n",
       "      <td>0.0</td>\n",
       "      <td>IN</td>\n",
       "      <td>55000.0</td>\n",
       "      <td>0.0</td>\n",
       "      <td>0.0</td>\n",
       "      <td>1.0</td>\n",
       "      <td>23.22</td>\n",
       "      <td>Sep-1990</td>\n",
       "      <td>10+ years</td>\n",
       "      <td>689.0</td>\n",
       "      <td>...</td>\n",
       "      <td>0.0</td>\n",
       "      <td>0.0</td>\n",
       "      <td>credit_card</td>\n",
       "      <td>68.1%</td>\n",
       "      <td>0.0</td>\n",
       "      <td>36 months</td>\n",
       "      <td>Credit card refinancing</td>\n",
       "      <td>28.0</td>\n",
       "      <td>Not Verified</td>\n",
       "      <td>465xx</td>\n",
       "    </tr>\n",
       "    <tr>\n",
       "      <th>...</th>\n",
       "      <td>...</td>\n",
       "      <td>...</td>\n",
       "      <td>...</td>\n",
       "      <td>...</td>\n",
       "      <td>...</td>\n",
       "      <td>...</td>\n",
       "      <td>...</td>\n",
       "      <td>...</td>\n",
       "      <td>...</td>\n",
       "      <td>...</td>\n",
       "      <td>...</td>\n",
       "      <td>...</td>\n",
       "      <td>...</td>\n",
       "      <td>...</td>\n",
       "      <td>...</td>\n",
       "      <td>...</td>\n",
       "      <td>...</td>\n",
       "      <td>...</td>\n",
       "      <td>...</td>\n",
       "      <td>...</td>\n",
       "      <td>...</td>\n",
       "    </tr>\n",
       "    <tr>\n",
       "      <th>590972</th>\n",
       "      <td>0.0</td>\n",
       "      <td>CA</td>\n",
       "      <td>39000.0</td>\n",
       "      <td>0.0</td>\n",
       "      <td>0.0</td>\n",
       "      <td>1.0</td>\n",
       "      <td>26.77</td>\n",
       "      <td>Oct-2007</td>\n",
       "      <td>3 years</td>\n",
       "      <td>694.0</td>\n",
       "      <td>...</td>\n",
       "      <td>0.0</td>\n",
       "      <td>0.0</td>\n",
       "      <td>credit_card</td>\n",
       "      <td>68.7%</td>\n",
       "      <td>0.0</td>\n",
       "      <td>36 months</td>\n",
       "      <td>Credit card refinancing</td>\n",
       "      <td>20.0</td>\n",
       "      <td>Source Verified</td>\n",
       "      <td>916xx</td>\n",
       "    </tr>\n",
       "    <tr>\n",
       "      <th>590973</th>\n",
       "      <td>0.0</td>\n",
       "      <td>IL</td>\n",
       "      <td>80000.0</td>\n",
       "      <td>0.0</td>\n",
       "      <td>0.0</td>\n",
       "      <td>1.0</td>\n",
       "      <td>22.54</td>\n",
       "      <td>Nov-1991</td>\n",
       "      <td>10+ years</td>\n",
       "      <td>674.0</td>\n",
       "      <td>...</td>\n",
       "      <td>0.0</td>\n",
       "      <td>0.0</td>\n",
       "      <td>debt_consolidation</td>\n",
       "      <td>54.5%</td>\n",
       "      <td>0.0</td>\n",
       "      <td>36 months</td>\n",
       "      <td>Debt consolidation</td>\n",
       "      <td>37.0</td>\n",
       "      <td>Verified</td>\n",
       "      <td>601xx</td>\n",
       "    </tr>\n",
       "    <tr>\n",
       "      <th>590974</th>\n",
       "      <td>0.0</td>\n",
       "      <td>OH</td>\n",
       "      <td>42000.0</td>\n",
       "      <td>0.0</td>\n",
       "      <td>0.0</td>\n",
       "      <td>0.0</td>\n",
       "      <td>21.60</td>\n",
       "      <td>Feb-1976</td>\n",
       "      <td>10+ years</td>\n",
       "      <td>709.0</td>\n",
       "      <td>...</td>\n",
       "      <td>0.0</td>\n",
       "      <td>0.0</td>\n",
       "      <td>debt_consolidation</td>\n",
       "      <td>67.7%</td>\n",
       "      <td>0.0</td>\n",
       "      <td>60 months</td>\n",
       "      <td>Debt consolidation</td>\n",
       "      <td>22.0</td>\n",
       "      <td>Source Verified</td>\n",
       "      <td>431xx</td>\n",
       "    </tr>\n",
       "    <tr>\n",
       "      <th>590975</th>\n",
       "      <td>0.0</td>\n",
       "      <td>NJ</td>\n",
       "      <td>90000.0</td>\n",
       "      <td>0.0</td>\n",
       "      <td>0.0</td>\n",
       "      <td>0.0</td>\n",
       "      <td>19.59</td>\n",
       "      <td>Feb-2003</td>\n",
       "      <td>2 years</td>\n",
       "      <td>729.0</td>\n",
       "      <td>...</td>\n",
       "      <td>0.0</td>\n",
       "      <td>0.0</td>\n",
       "      <td>debt_consolidation</td>\n",
       "      <td>29.8%</td>\n",
       "      <td>0.0</td>\n",
       "      <td>36 months</td>\n",
       "      <td>Debt consolidation</td>\n",
       "      <td>37.0</td>\n",
       "      <td>Not Verified</td>\n",
       "      <td>088xx</td>\n",
       "    </tr>\n",
       "    <tr>\n",
       "      <th>590976</th>\n",
       "      <td>0.0</td>\n",
       "      <td>NJ</td>\n",
       "      <td>70000.0</td>\n",
       "      <td>0.0</td>\n",
       "      <td>0.0</td>\n",
       "      <td>0.0</td>\n",
       "      <td>15.14</td>\n",
       "      <td>Sep-2004</td>\n",
       "      <td>4 years</td>\n",
       "      <td>679.0</td>\n",
       "      <td>...</td>\n",
       "      <td>0.0</td>\n",
       "      <td>0.0</td>\n",
       "      <td>debt_consolidation</td>\n",
       "      <td>79.7%</td>\n",
       "      <td>0.0</td>\n",
       "      <td>60 months</td>\n",
       "      <td>Debt consolidation</td>\n",
       "      <td>40.0</td>\n",
       "      <td>Source Verified</td>\n",
       "      <td>070xx</td>\n",
       "    </tr>\n",
       "  </tbody>\n",
       "</table>\n",
       "<p>590977 rows × 44 columns</p>\n",
       "</div>"
      ],
      "text/plain": [
       "        acc_now_delinq addr_state  annual_inc  chargeoff_within_12_mths  \\\n",
       "index                                                                     \n",
       "0                  0.0         GA     46209.0                       0.0   \n",
       "1                  0.0         PA     43500.0                       0.0   \n",
       "2                  0.0         OH     72000.0                       0.0   \n",
       "3                  0.0         LA    120000.0                       0.0   \n",
       "4                  0.0         IN     55000.0                       0.0   \n",
       "...                ...        ...         ...                       ...   \n",
       "590972             0.0         CA     39000.0                       0.0   \n",
       "590973             0.0         IL     80000.0                       0.0   \n",
       "590974             0.0         OH     42000.0                       0.0   \n",
       "590975             0.0         NJ     90000.0                       0.0   \n",
       "590976             0.0         NJ     70000.0                       0.0   \n",
       "\n",
       "        collections_12_mths_ex_med  delinq_2yrs    dti earliest_cr_line  \\\n",
       "index                                                                     \n",
       "0                              0.0          0.0  34.98         Apr-2009   \n",
       "1                              0.0          0.0  20.25         Jun-1982   \n",
       "2                              0.0          0.0  15.98         Nov-1997   \n",
       "3                              0.0          0.0  24.93         Jul-2001   \n",
       "4                              0.0          1.0  23.22         Sep-1990   \n",
       "...                            ...          ...    ...              ...   \n",
       "590972                         0.0          1.0  26.77         Oct-2007   \n",
       "590973                         0.0          1.0  22.54         Nov-1991   \n",
       "590974                         0.0          0.0  21.60         Feb-1976   \n",
       "590975                         0.0          0.0  19.59         Feb-2003   \n",
       "590976                         0.0          0.0  15.14         Sep-2004   \n",
       "\n",
       "       emp_length  fico_range_high  ...  pub_rec  pub_rec_bankruptcies  \\\n",
       "index                               ...                                  \n",
       "0         8 years            669.0  ...      0.0                   0.0   \n",
       "1         5 years            704.0  ...      0.0                   0.0   \n",
       "2         3 years            699.0  ...      0.0                   0.0   \n",
       "3       10+ years            784.0  ...      0.0                   0.0   \n",
       "4       10+ years            689.0  ...      0.0                   0.0   \n",
       "...           ...              ...  ...      ...                   ...   \n",
       "590972    3 years            694.0  ...      0.0                   0.0   \n",
       "590973  10+ years            674.0  ...      0.0                   0.0   \n",
       "590974  10+ years            709.0  ...      0.0                   0.0   \n",
       "590975    2 years            729.0  ...      0.0                   0.0   \n",
       "590976    4 years            679.0  ...      0.0                   0.0   \n",
       "\n",
       "                   purpose  revol_util  tax_liens        term  \\\n",
       "index                                                           \n",
       "0       debt_consolidation       61.7%        0.0   60 months   \n",
       "1       debt_consolidation       58.6%        0.0   60 months   \n",
       "2              credit_card       46.2%        0.0   36 months   \n",
       "3                    other        3.7%        0.0   36 months   \n",
       "4              credit_card       68.1%        0.0   36 months   \n",
       "...                    ...         ...        ...         ...   \n",
       "590972         credit_card       68.7%        0.0   36 months   \n",
       "590973  debt_consolidation       54.5%        0.0   36 months   \n",
       "590974  debt_consolidation       67.7%        0.0   60 months   \n",
       "590975  debt_consolidation       29.8%        0.0   36 months   \n",
       "590976  debt_consolidation       79.7%        0.0   60 months   \n",
       "\n",
       "                          title  total_acc  verification_status  zip_code  \n",
       "index                                                                      \n",
       "0            Debt consolidation       20.0             Verified     302xx  \n",
       "1                          POFF       32.0         Not Verified     151xx  \n",
       "2                    credit crd       36.0             Verified     440xx  \n",
       "3                         Other       31.0         Not Verified     710xx  \n",
       "4       Credit card refinancing       28.0         Not Verified     465xx  \n",
       "...                         ...        ...                  ...       ...  \n",
       "590972  Credit card refinancing       20.0      Source Verified     916xx  \n",
       "590973       Debt consolidation       37.0             Verified     601xx  \n",
       "590974       Debt consolidation       22.0      Source Verified     431xx  \n",
       "590975       Debt consolidation       37.0         Not Verified     088xx  \n",
       "590976       Debt consolidation       40.0      Source Verified     070xx  \n",
       "\n",
       "[590977 rows x 44 columns]"
      ]
     },
     "execution_count": 5,
     "metadata": {},
     "output_type": "execute_result"
    }
   ],
   "source": [
    "path_x_test = 'data/X_test.csv'\n",
    "\n",
    "X_test = pd.read_csv(path_x_test, index_col=0)\n",
    "X_test"
   ]
  },
  {
   "cell_type": "markdown",
   "metadata": {},
   "source": [
    "(1) Каков процент дефолтных (\"плохих\") займов для ZIP кодов штата Коннектикут в проверочной выборке (X_train.csv)? (17.5)"
   ]
  },
  {
   "cell_type": "code",
   "execution_count": 6,
   "metadata": {},
   "outputs": [
    {
     "data": {
      "text/plain": [
       "0    0.824776\n",
       "1    0.175224\n",
       "Name: loan_status, dtype: float64"
      ]
     },
     "execution_count": 6,
     "metadata": {},
     "output_type": "execute_result"
    }
   ],
   "source": [
    "X_train[X_train['addr_state'] == 'CT'].loan_status.value_counts()/X_train[X_train['addr_state'] == 'CT'].shape[0]"
   ]
  },
  {
   "cell_type": "markdown",
   "metadata": {},
   "source": [
    "(2) Выберите правильные утверждения:\n",
    "\n",
    "1. В тестовой выборке в 3 раза больше займов, выданных на 3 года, чем на 5 лет (+)\n",
    "2. Медианная процентная ставка в трейне (X_train.csv) 16.29% (-)\n",
    "3. Последний займ выдан в августе 2020 года (-)\n",
    "4. Дефолт для 10% самых богатых выше, чем у остальных (-)"
   ]
  },
  {
   "cell_type": "code",
   "execution_count": 7,
   "metadata": {},
   "outputs": [
    {
     "data": {
      "text/plain": [
       "3.0467898326440057"
      ]
     },
     "execution_count": 7,
     "metadata": {},
     "output_type": "execute_result"
    }
   ],
   "source": [
    "# 1 - True\n",
    "X_test['term'].value_counts().values[0]/X_test['term'].value_counts().values[1]"
   ]
  },
  {
   "cell_type": "code",
   "execution_count": 8,
   "metadata": {},
   "outputs": [
    {
     "data": {
      "text/plain": [
       "12.69"
      ]
     },
     "execution_count": 8,
     "metadata": {},
     "output_type": "execute_result"
    }
   ],
   "source": [
    "# 2 - False (12.69%)\n",
    "def str_to_float(x):\n",
    "    return float(x[:-1])\n",
    "\n",
    "X_train['int_rate'].map(lambda x: str_to_float(x)).median()"
   ]
  },
  {
   "cell_type": "code",
   "execution_count": 9,
   "metadata": {},
   "outputs": [
    {
     "data": {
      "text/plain": [
       "index\n",
       "708570     Apr-2008\n",
       "1171323    Apr-2008\n",
       "1009172    Apr-2008\n",
       "851349     Apr-2008\n",
       "490435     Apr-2008\n",
       "             ...   \n",
       "833241     Sep-2020\n",
       "1092872    Sep-2020\n",
       "1000908    Sep-2020\n",
       "1052979    Sep-2020\n",
       "438938     Sep-2020\n",
       "Name: issue_d, Length: 1199861, dtype: object"
      ]
     },
     "execution_count": 9,
     "metadata": {},
     "output_type": "execute_result"
    }
   ],
   "source": [
    "# 3 - False (Sep-2020)\n",
    "X_train['issue_d'].sort_values()"
   ]
  },
  {
   "cell_type": "code",
   "execution_count": 10,
   "metadata": {},
   "outputs": [
    {
     "name": "stdout",
     "output_type": "stream",
     "text": [
      "23161\n"
     ]
    },
    {
     "data": {
      "text/plain": [
       "False"
      ]
     },
     "execution_count": 10,
     "metadata": {},
     "output_type": "execute_result"
    }
   ],
   "source": [
    "# 4 - False\n",
    "most_rich = round(X_train.loc[X_train.loan_status == 1].sort_values(by='annual_inc', ascending=False).funded_amnt.values.shape[0]/100*10)\n",
    "print(most_rich)\n",
    "X_train.loc[X_train.loan_status == 1].sort_values(by='annual_inc', ascending=False).funded_amnt.values[:most_rich+1].sum() >\\\n",
    "    X_train.loc[X_train.loan_status == 1].sort_values(by='annual_inc', ascending=False).funded_amnt.values[most_rich+1:].sum()"
   ]
  },
  {
   "cell_type": "markdown",
   "metadata": {},
   "source": [
    "(3) Для дефолтных займов в train, в сравнении с недефолтными, отметьте правильные ответы (используйте t-тест, если необходимо):\n",
    "\n",
    "1. Доля проблемных счетов (т.е. acc_now_delinq>0) примерно одна и та же (для дефолтных и недефолтных займов) (+)\n",
    "2. Нижний порог от бюро кредитных историй (fico_range_low) не существенно отличается для плохих и хороших (-)\n",
    "3. Плохие и хорошие не отличаются по разнице между средней запрошенной и одобренной суммой (+)\n",
    "4. Доли пропущенных значений в mths_since_recent_bc_dlq для плохих и хороших отличаются значимо (+)  \n",
    "Здесь такого числа нет"
   ]
  },
  {
   "cell_type": "code",
   "execution_count": 11,
   "metadata": {},
   "outputs": [
    {
     "name": "stdout",
     "output_type": "stream",
     "text": [
      "Доля проблемных счетов для дефолта и не дефолта:\n",
      "0.00449034575662326\n",
      "0.004298463314856758\n"
     ]
    }
   ],
   "source": [
    "# 1 - True\n",
    "print('Доля проблемных счетов для дефолта и не дефолта:')\n",
    "print(X_train.loc[(X_train.loan_status == 1) & (X_train.acc_now_delinq > 0)].shape[0]/X_train.loc[X_train.loan_status == 1].shape[0])\n",
    "print(X_train.loc[(X_train.loan_status == 0) & (X_train.acc_now_delinq > 0)].shape[0]/X_train.loc[X_train.loan_status == 0].shape[0])"
   ]
  },
  {
   "cell_type": "code",
   "execution_count": 12,
   "metadata": {},
   "outputs": [
    {
     "name": "stdout",
     "output_type": "stream",
     "text": [
      "0.10345321745562129 0.08724002502216226\n"
     ]
    },
    {
     "data": {
      "text/plain": [
       "Ttest_indResult(statistic=0.6253091710754032, pvalue=0.5317956017207788)"
      ]
     },
     "execution_count": 12,
     "metadata": {},
     "output_type": "execute_result"
    }
   ],
   "source": [
    "# 1\n",
    "import scipy.stats as stats\n",
    "\n",
    "group1 = X_train.loc[(X_train.loan_status == 1) & (X_train.acc_now_delinq > 0)].acc_now_delinq.values\n",
    "group2 = X_train.loc[(X_train.loan_status == 0) & (X_train.acc_now_delinq > 0)].acc_now_delinq.values\n",
    "print(np.var(group1), np.var(group2))\n",
    "\n",
    "# equal_var если True, выполните стандартный независимый t-критерий с двумя выборками, \n",
    "# который предполагает равные дисперсии генеральной совокупности. Если False, \n",
    "# выполните t-критерий Уэлча , который не предполагает равных дисперсий генеральной совокупности.\n",
    "# мы можем предположить, что совокупности имеют равные дисперсии, если отношение большей выборочной \n",
    "# дисперсии к меньшей выборочной дисперсии составляет менее 4:1.\n",
    "\n",
    "stats.ttest_ind(a=group1, b=group2, equal_var=True)\n",
    "# p-значение больше уровня значимости, это не означает, что нулевая гипотеза верна. \n",
    "# Это просто означает, что нет достаточных доказательств для ее отклонения."
   ]
  },
  {
   "cell_type": "code",
   "execution_count": 13,
   "metadata": {},
   "outputs": [
    {
     "name": "stdout",
     "output_type": "stream",
     "text": [
      "Средний нижний порог кредитных историй для дефола и не дефолта:\n",
      "689.0526881627578\n",
      "699.1490189031173\n"
     ]
    }
   ],
   "source": [
    "# 2 - False\n",
    "print('Средний нижний порог кредитных историй для дефола и не дефолта:')\n",
    "print(X_train.loc[X_train.loan_status == 1].fico_range_low.values.mean())\n",
    "print(X_train.loc[X_train.loan_status == 0].fico_range_low.values.mean())"
   ]
  },
  {
   "cell_type": "code",
   "execution_count": 14,
   "metadata": {},
   "outputs": [
    {
     "name": "stdout",
     "output_type": "stream",
     "text": [
      "713.4402958721195 1105.7463249383238\n"
     ]
    },
    {
     "data": {
      "text/plain": [
       "Ttest_indResult(statistic=-136.00226457025826, pvalue=0.0)"
      ]
     },
     "execution_count": 14,
     "metadata": {},
     "output_type": "execute_result"
    }
   ],
   "source": [
    "# 2\n",
    "import scipy.stats as stats\n",
    "\n",
    "group1 = X_train.loc[X_train.loan_status == 1].fico_range_low.values\n",
    "group2 = X_train.loc[X_train.loan_status == 0].fico_range_low.values\n",
    "print(np.var(group1), np.var(group2))\n",
    "\n",
    "# equal_var если True, выполните стандартный независимый t-критерий с двумя выборками, \n",
    "# который предполагает равные дисперсии генеральной совокупности. Если False, \n",
    "# выполните t-критерий Уэлча , который не предполагает равных дисперсий генеральной совокупности.\n",
    "# мы можем предположить, что совокупности имеют равные дисперсии, если отношение большей выборочной \n",
    "# дисперсии к меньшей выборочной дисперсии составляет менее 4:1.\n",
    "\n",
    "stats.ttest_ind(a=group1, b=group2, equal_var=True)\n",
    "# Важно отметить, что p-значение равное 0 не означает, что разница между средними значениями двух \n",
    "# выборок абсолютно точно равна 0. Вместо этого, это означает, что разница между средними значениями \n",
    "# двух выборок настолько мала, что она статистически не может быть объяснена случайностью."
   ]
  },
  {
   "cell_type": "code",
   "execution_count": 15,
   "metadata": {},
   "outputs": [],
   "source": [
    "# P-значение t-теста равно 0. Это означает, что вероятность получить такую ​​разницу между \n",
    "# средними значениями двух выборок при условии, что средние значения выборок равны, равна 0. \n",
    "# Это очень маловероятное событие, поэтому мы можем отклонить нулевую гипотезу и заключить, что средние значения двух выборок различны.\n",
    "\n",
    "# T-значение равно -136.00226457025826. Это очень большое значение t-критерия, что указывает на то, что разница между средними значениями \n",
    "# двух выборок очень велика.\n",
    "\n",
    "# Таким образом, мы можем заключить, что средние значения двух выборок различны."
   ]
  },
  {
   "cell_type": "code",
   "execution_count": 16,
   "metadata": {},
   "outputs": [
    {
     "name": "stdout",
     "output_type": "stream",
     "text": [
      "Среднее для разницы между запрошенной и одобренной суммой кредита для дефола и не дефолта:\n",
      "6.230678560326068\n",
      "6.2507939557119885\n"
     ]
    }
   ],
   "source": [
    "# 3 - True\n",
    "# funded_amnt - выданная сумма кредита\n",
    "# loan_amnt - указанная сумма\n",
    "\n",
    "print('Среднее для разницы между запрошенной и одобренной суммой кредита для дефола и не дефолта:')\n",
    "print((X_train.loc[X_train.loan_status == 1].loan_amnt.values - X_train.loc[X_train.loan_status == 1].funded_amnt.values).mean())\n",
    "print((X_train.loc[X_train.loan_status == 0].loan_amnt.values - X_train.loc[X_train.loan_status == 0].funded_amnt.values).mean())\n"
   ]
  },
  {
   "cell_type": "code",
   "execution_count": 17,
   "metadata": {},
   "outputs": [
    {
     "name": "stdout",
     "output_type": "stream",
     "text": [
      "48909.798187180735 48891.63964088122\n"
     ]
    },
    {
     "data": {
      "text/plain": [
       "Ttest_indResult(statistic=-0.039327929116049265, pvalue=0.9686289461648347)"
      ]
     },
     "execution_count": 17,
     "metadata": {},
     "output_type": "execute_result"
    }
   ],
   "source": [
    "# 3\n",
    "import scipy.stats as stats\n",
    "\n",
    "group1 = X_train.loc[X_train.loan_status == 1].loan_amnt.values - X_train.loc[X_train.loan_status == 1].funded_amnt.values\n",
    "group2 = X_train.loc[X_train.loan_status == 0].loan_amnt.values - X_train.loc[X_train.loan_status == 0].funded_amnt.values\n",
    "print(np.var(group1), np.var(group2))\n",
    "\n",
    "# equal_var если True, выполните стандартный независимый t-критерий с двумя выборками, \n",
    "# который предполагает равные дисперсии генеральной совокупности. Если False, \n",
    "# выполните t-критерий Уэлча , который не предполагает равных дисперсий генеральной совокупности.\n",
    "# мы можем предположить, что совокупности имеют равные дисперсии, если отношение большей выборочной \n",
    "# дисперсии к меньшей выборочной дисперсии составляет менее 4:1.\n",
    "\n",
    "stats.ttest_ind(a=group1, b=group2, equal_var=True)\n",
    "# p-значение больше уровня значимости, это не означает, что нулевая гипотеза верна. \n",
    "# Это просто означает, что нет достаточных доказательств для ее отклонения."
   ]
  },
  {
   "cell_type": "code",
   "execution_count": 18,
   "metadata": {},
   "outputs": [
    {
     "name": "stdout",
     "output_type": "stream",
     "text": [
      "Доля пропущенных значений в mths_since_recent_bc_dlq для дефолта и не дефолта:\n",
      "0.7547234983247556\n",
      "0.7667376191966356\n"
     ]
    }
   ],
   "source": [
    "# 4 - True\n",
    "print('Доля пропущенных значений в mths_since_recent_bc_dlq для дефолта и не дефолта:')\n",
    "print(X_train.loc[X_train.loan_status == 1].mths_since_recent_bc_dlq.isna().sum()/X_train.loc[X_train.loan_status == 1].mths_since_recent_bc_dlq.shape[0])\n",
    "print(X_train.loc[X_train.loan_status == 0].mths_since_recent_bc_dlq.isna().sum()/X_train.loc[X_train.loan_status == 0].mths_since_recent_bc_dlq.shape[0])"
   ]
  },
  {
   "cell_type": "code",
   "execution_count": 19,
   "metadata": {},
   "outputs": [
    {
     "name": "stdout",
     "output_type": "stream",
     "text": [
      "412.5381167406278 398.10536926107164\n"
     ]
    },
    {
     "data": {
      "text/plain": [
       "Ttest_indResult(statistic=9.15481827196457, pvalue=5.453101484939187e-20)"
      ]
     },
     "execution_count": 19,
     "metadata": {},
     "output_type": "execute_result"
    }
   ],
   "source": [
    "# 4\n",
    "import scipy.stats as stats\n",
    "\n",
    "group1 = X_train.loc[X_train.loan_status == 1].mths_since_recent_bc_dlq.fillna(0).values\n",
    "group2 = X_train.loc[X_train.loan_status == 0].mths_since_recent_bc_dlq.fillna(0).values\n",
    "print(np.var(group1), np.var(group2))\n",
    "\n",
    "# equal_var если True, выполните стандартный независимый t-критерий с двумя выборками, \n",
    "# который предполагает равные дисперсии генеральной совокупности. Если False, \n",
    "# выполните t-критерий Уэлча , который не предполагает равных дисперсий генеральной совокупности.\n",
    "# мы можем предположить, что совокупности имеют равные дисперсии, если отношение большей выборочной \n",
    "# дисперсии к меньшей выборочной дисперсии составляет менее 4:1.\n",
    "\n",
    "stats.ttest_ind(a=group1, b=group2, equal_var=True)\n",
    "# Если значение p-критерия меньше уровня значимости, то мы можем отклонить нулевую гипотезу о том, \n",
    "# что средние значения двух выборок равны. В этом случае мы можем заключить, что средние значения двух выборок различны."
   ]
  },
  {
   "cell_type": "markdown",
   "metadata": {},
   "source": [
    "(4) Отметьте правильные утверждения:\n",
    "\n",
    "1. Нужно проводить верификацию дохода (см. значения verification_status), т.к. это влияет на вероятность дефолта (-)\n",
    "2. Тем, у кого провели верификацию дохода, доход больше (+)\n",
    "3. Тем, у кого провели верификацию дохода, дефолт меньше (-)\n",
    "4. Верификация дохода и (loan_amnt - funded_amnt) имеют значительную (>0.5) положительную корреляцию (-)"
   ]
  },
  {
   "cell_type": "code",
   "execution_count": 20,
   "metadata": {},
   "outputs": [
    {
     "data": {
      "text/plain": [
       "Source Verified    478709\n",
       "Not Verified       377133\n",
       "Verified           344019\n",
       "Name: verification_status, dtype: int64"
      ]
     },
     "execution_count": 20,
     "metadata": {},
     "output_type": "execute_result"
    }
   ],
   "source": [
    "# 1 - False\n",
    "X_train.verification_status.value_counts()"
   ]
  },
  {
   "cell_type": "code",
   "execution_count": 21,
   "metadata": {},
   "outputs": [
    {
     "data": {
      "text/plain": [
       "Not Verified       0.149061\n",
       "Source Verified    0.200172\n",
       "Verified           0.231290\n",
       "Name: verification_status, dtype: float64"
      ]
     },
     "execution_count": 21,
     "metadata": {},
     "output_type": "execute_result"
    }
   ],
   "source": [
    "# 1\n",
    "X_train.loc[X_train.loan_status == 1].verification_status.value_counts() / X_train.verification_status.value_counts()"
   ]
  },
  {
   "cell_type": "code",
   "execution_count": 22,
   "metadata": {},
   "outputs": [
    {
     "data": {
      "text/plain": [
       "Source Verified    0.799828\n",
       "Not Verified       0.850939\n",
       "Verified           0.768710\n",
       "Name: verification_status, dtype: float64"
      ]
     },
     "execution_count": 22,
     "metadata": {},
     "output_type": "execute_result"
    }
   ],
   "source": [
    "# 1\n",
    "X_train.loc[X_train.loan_status == 0].verification_status.value_counts() / X_train.verification_status.value_counts()"
   ]
  },
  {
   "cell_type": "code",
   "execution_count": 23,
   "metadata": {},
   "outputs": [
    {
     "name": "stderr",
     "output_type": "stream",
     "text": [
      "C:\\Users\\zekat\\AppData\\Local\\Temp\\ipykernel_6844\\205170394.py:1: FutureWarning: The default value of numeric_only in DataFrameGroupBy.mean is deprecated. In a future version, numeric_only will default to False. Either specify numeric_only or select only columns which should be valid for the function.\n",
      "  X_train.groupby('verification_status').mean().loan_status\n"
     ]
    },
    {
     "data": {
      "text/plain": [
       "verification_status\n",
       "Not Verified       0.149061\n",
       "Source Verified    0.200172\n",
       "Verified           0.231290\n",
       "Name: loan_status, dtype: float64"
      ]
     },
     "execution_count": 23,
     "metadata": {},
     "output_type": "execute_result"
    }
   ],
   "source": [
    "X_train.groupby('verification_status').mean().loan_status"
   ]
  },
  {
   "cell_type": "code",
   "execution_count": 24,
   "metadata": {},
   "outputs": [
    {
     "data": {
      "text/html": [
       "<div>\n",
       "<style scoped>\n",
       "    .dataframe tbody tr th:only-of-type {\n",
       "        vertical-align: middle;\n",
       "    }\n",
       "\n",
       "    .dataframe tbody tr th {\n",
       "        vertical-align: top;\n",
       "    }\n",
       "\n",
       "    .dataframe thead th {\n",
       "        text-align: right;\n",
       "    }\n",
       "</style>\n",
       "<table border=\"1\" class=\"dataframe\">\n",
       "  <thead>\n",
       "    <tr style=\"text-align: right;\">\n",
       "      <th></th>\n",
       "      <th>verification_status</th>\n",
       "      <th>D</th>\n",
       "    </tr>\n",
       "  </thead>\n",
       "  <tbody>\n",
       "    <tr>\n",
       "      <th>verification_status</th>\n",
       "      <td>1.000000</td>\n",
       "      <td>0.075424</td>\n",
       "    </tr>\n",
       "    <tr>\n",
       "      <th>D</th>\n",
       "      <td>0.075424</td>\n",
       "      <td>1.000000</td>\n",
       "    </tr>\n",
       "  </tbody>\n",
       "</table>\n",
       "</div>"
      ],
      "text/plain": [
       "                     verification_status         D\n",
       "verification_status             1.000000  0.075424\n",
       "D                               0.075424  1.000000"
      ]
     },
     "execution_count": 24,
     "metadata": {},
     "output_type": "execute_result"
    }
   ],
   "source": [
    "df = pd.DataFrame(X_train.verification_status)\n",
    "df.insert(1, \"D\", X_train.loan_status)\n",
    "df['verification_status'].replace(['Source Verified', 'Not Verified', 'Verified'],\n",
    "                        [1, 0, 1], inplace=True)\n",
    "df.corr()"
   ]
  },
  {
   "cell_type": "code",
   "execution_count": 25,
   "metadata": {},
   "outputs": [
    {
     "name": "stderr",
     "output_type": "stream",
     "text": [
      "C:\\Users\\zekat\\AppData\\Local\\Temp\\ipykernel_6844\\1315311723.py:2: FutureWarning: The default value of numeric_only in DataFrameGroupBy.mean is deprecated. In a future version, numeric_only will default to False. Either specify numeric_only or select only columns which should be valid for the function.\n",
      "  X_train.groupby('verification_status').mean().annual_inc\n"
     ]
    },
    {
     "data": {
      "text/plain": [
       "verification_status\n",
       "Not Verified       72173.865036\n",
       "Source Verified    82255.571688\n",
       "Verified           78850.669848\n",
       "Name: annual_inc, dtype: float64"
      ]
     },
     "execution_count": 25,
     "metadata": {},
     "output_type": "execute_result"
    }
   ],
   "source": [
    "# 2 - True\n",
    "X_train.groupby('verification_status').mean().annual_inc"
   ]
  },
  {
   "cell_type": "code",
   "execution_count": 26,
   "metadata": {},
   "outputs": [
    {
     "name": "stdout",
     "output_type": "stream",
     "text": [
      "Доход для тех кому провели верификацию и нет:\n",
      "66502611057.66998\n",
      "27219146242.649998\n"
     ]
    }
   ],
   "source": [
    "# 2\n",
    "print('Доход для тех кому провели верификацию и нет:')\n",
    "print(X_train.loc[(X_train.verification_status == 'Verified') | (X_train.verification_status == 'Source Verified')].annual_inc.values.sum())\n",
    "print(X_train.loc[X_train.verification_status == 'Not Verified'].annual_inc.values.sum())"
   ]
  },
  {
   "cell_type": "code",
   "execution_count": 27,
   "metadata": {},
   "outputs": [
    {
     "name": "stdout",
     "output_type": "stream",
     "text": [
      "2040796454.2149248 26154951720.32328\n"
     ]
    },
    {
     "data": {
      "text/plain": [
       "Ttest_indResult(statistic=-32.30388698404677, pvalue=7.742265392842914e-229)"
      ]
     },
     "execution_count": 27,
     "metadata": {},
     "output_type": "execute_result"
    }
   ],
   "source": [
    "# 2\n",
    "import scipy.stats as stats\n",
    "\n",
    "group1 = X_train.loc[X_train.verification_status == 'Not Verified'].annual_inc.values\n",
    "group2 = X_train.loc[(X_train.verification_status == 'Verified') | (X_train.verification_status == 'Source Verified')].annual_inc.values\n",
    "print(np.var(group1), np.var(group2))\n",
    "\n",
    "# equal_var если True, выполните стандартный независимый t-критерий с двумя выборками, \n",
    "# который предполагает равные дисперсии генеральной совокупности. Если False, \n",
    "# выполните t-критерий Уэлча , который не предполагает равных дисперсий генеральной совокупности.\n",
    "# мы можем предположить, что совокупности имеют равные дисперсии, если отношение большей выборочной \n",
    "# дисперсии к меньшей выборочной дисперсии составляет менее 4:1.\n",
    "\n",
    "stats.ttest_ind(a=group1, b=group2, equal_var=True)\n",
    "# Если значение p-критерия меньше уровня значимости, то мы можем отклонить нулевую гипотезу о том, \n",
    "# что средние значения двух выборок равны. В этом случае мы можем заключить, что средние значения двух выборок различны."
   ]
  },
  {
   "cell_type": "code",
   "execution_count": 28,
   "metadata": {},
   "outputs": [
    {
     "name": "stdout",
     "output_type": "stream",
     "text": [
      "Дефолт для тех кому провели верификацию и нет:\n",
      "175392\n",
      "56216\n"
     ]
    }
   ],
   "source": [
    "# 3 - False\n",
    "print('Дефолт для тех кому провели верификацию и нет:')\n",
    "print(X_train.loc[(X_train.verification_status == 'Verified') | (X_train.verification_status == 'Source Verified')].loan_status.values.sum())\n",
    "print(X_train.loc[X_train.verification_status == 'Not Verified'].loan_status.values.sum())"
   ]
  },
  {
   "cell_type": "code",
   "execution_count": 29,
   "metadata": {},
   "outputs": [],
   "source": [
    "# 4 - False\n",
    "df = pd.DataFrame(X_train.verification_status)\n",
    "df.insert(1, \"D\", (X_train.loan_amnt - X_train.funded_amnt))"
   ]
  },
  {
   "cell_type": "code",
   "execution_count": 30,
   "metadata": {},
   "outputs": [
    {
     "data": {
      "text/html": [
       "<div>\n",
       "<style scoped>\n",
       "    .dataframe tbody tr th:only-of-type {\n",
       "        vertical-align: middle;\n",
       "    }\n",
       "\n",
       "    .dataframe tbody tr th {\n",
       "        vertical-align: top;\n",
       "    }\n",
       "\n",
       "    .dataframe thead th {\n",
       "        text-align: right;\n",
       "    }\n",
       "</style>\n",
       "<table border=\"1\" class=\"dataframe\">\n",
       "  <thead>\n",
       "    <tr style=\"text-align: right;\">\n",
       "      <th></th>\n",
       "      <th>verification_status</th>\n",
       "      <th>D</th>\n",
       "    </tr>\n",
       "    <tr>\n",
       "      <th>index</th>\n",
       "      <th></th>\n",
       "      <th></th>\n",
       "    </tr>\n",
       "  </thead>\n",
       "  <tbody>\n",
       "    <tr>\n",
       "      <th>0</th>\n",
       "      <td>Source Verified</td>\n",
       "      <td>0.0</td>\n",
       "    </tr>\n",
       "    <tr>\n",
       "      <th>1</th>\n",
       "      <td>Not Verified</td>\n",
       "      <td>0.0</td>\n",
       "    </tr>\n",
       "    <tr>\n",
       "      <th>2</th>\n",
       "      <td>Source Verified</td>\n",
       "      <td>0.0</td>\n",
       "    </tr>\n",
       "    <tr>\n",
       "      <th>3</th>\n",
       "      <td>Source Verified</td>\n",
       "      <td>0.0</td>\n",
       "    </tr>\n",
       "    <tr>\n",
       "      <th>4</th>\n",
       "      <td>Not Verified</td>\n",
       "      <td>0.0</td>\n",
       "    </tr>\n",
       "    <tr>\n",
       "      <th>...</th>\n",
       "      <td>...</td>\n",
       "      <td>...</td>\n",
       "    </tr>\n",
       "    <tr>\n",
       "      <th>1199856</th>\n",
       "      <td>Source Verified</td>\n",
       "      <td>0.0</td>\n",
       "    </tr>\n",
       "    <tr>\n",
       "      <th>1199857</th>\n",
       "      <td>Verified</td>\n",
       "      <td>0.0</td>\n",
       "    </tr>\n",
       "    <tr>\n",
       "      <th>1199858</th>\n",
       "      <td>Source Verified</td>\n",
       "      <td>0.0</td>\n",
       "    </tr>\n",
       "    <tr>\n",
       "      <th>1199859</th>\n",
       "      <td>Verified</td>\n",
       "      <td>0.0</td>\n",
       "    </tr>\n",
       "    <tr>\n",
       "      <th>1199860</th>\n",
       "      <td>Not Verified</td>\n",
       "      <td>0.0</td>\n",
       "    </tr>\n",
       "  </tbody>\n",
       "</table>\n",
       "<p>1199861 rows × 2 columns</p>\n",
       "</div>"
      ],
      "text/plain": [
       "        verification_status    D\n",
       "index                           \n",
       "0           Source Verified  0.0\n",
       "1              Not Verified  0.0\n",
       "2           Source Verified  0.0\n",
       "3           Source Verified  0.0\n",
       "4              Not Verified  0.0\n",
       "...                     ...  ...\n",
       "1199856     Source Verified  0.0\n",
       "1199857            Verified  0.0\n",
       "1199858     Source Verified  0.0\n",
       "1199859            Verified  0.0\n",
       "1199860        Not Verified  0.0\n",
       "\n",
       "[1199861 rows x 2 columns]"
      ]
     },
     "execution_count": 30,
     "metadata": {},
     "output_type": "execute_result"
    }
   ],
   "source": [
    "df"
   ]
  },
  {
   "cell_type": "code",
   "execution_count": 31,
   "metadata": {},
   "outputs": [],
   "source": [
    "df['verification_status'].replace(['Source Verified', 'Not Verified', 'Verified'],\n",
    "                        [1, 0, 1], inplace=True)"
   ]
  },
  {
   "cell_type": "code",
   "execution_count": 32,
   "metadata": {},
   "outputs": [
    {
     "data": {
      "text/html": [
       "<div>\n",
       "<style scoped>\n",
       "    .dataframe tbody tr th:only-of-type {\n",
       "        vertical-align: middle;\n",
       "    }\n",
       "\n",
       "    .dataframe tbody tr th {\n",
       "        vertical-align: top;\n",
       "    }\n",
       "\n",
       "    .dataframe thead th {\n",
       "        text-align: right;\n",
       "    }\n",
       "</style>\n",
       "<table border=\"1\" class=\"dataframe\">\n",
       "  <thead>\n",
       "    <tr style=\"text-align: right;\">\n",
       "      <th></th>\n",
       "      <th>verification_status</th>\n",
       "      <th>D</th>\n",
       "    </tr>\n",
       "  </thead>\n",
       "  <tbody>\n",
       "    <tr>\n",
       "      <th>verification_status</th>\n",
       "      <td>1.000000</td>\n",
       "      <td>0.006995</td>\n",
       "    </tr>\n",
       "    <tr>\n",
       "      <th>D</th>\n",
       "      <td>0.006995</td>\n",
       "      <td>1.000000</td>\n",
       "    </tr>\n",
       "  </tbody>\n",
       "</table>\n",
       "</div>"
      ],
      "text/plain": [
       "                     verification_status         D\n",
       "verification_status             1.000000  0.006995\n",
       "D                               0.006995  1.000000"
      ]
     },
     "execution_count": 32,
     "metadata": {},
     "output_type": "execute_result"
    }
   ],
   "source": [
    "# 4\n",
    "df.corr()"
   ]
  },
  {
   "cell_type": "markdown",
   "metadata": {},
   "source": [
    "5) На сколько уменьшится доля дефолта, если выдавать только тем, у кого есть хоть одна ипотека (mort_acc > 0) и приемлемое отношение долгов к доходу (dti < 0.3). Какие ответы правильные?\n",
    "\n",
    "    1. 0.049 (+)\n",
    "    2. 0.5% (-)\n",
    "    3. 5% (-)\n",
    "    4. 25% (+)"
   ]
  },
  {
   "cell_type": "code",
   "execution_count": 33,
   "metadata": {},
   "outputs": [
    {
     "data": {
      "text/plain": [
       "0.04908963192276841"
      ]
     },
     "execution_count": 33,
     "metadata": {},
     "output_type": "execute_result"
    }
   ],
   "source": [
    "X_train.loan_status.mean()-X_train[(X_train['mort_acc'] > 0) & (X_train['dti'] < 0.3)].loan_status.mean()"
   ]
  },
  {
   "cell_type": "code",
   "execution_count": 34,
   "metadata": {},
   "outputs": [
    {
     "data": {
      "text/plain": [
       "25.431217768162078"
      ]
     },
     "execution_count": 34,
     "metadata": {},
     "output_type": "execute_result"
    }
   ],
   "source": [
    "0.04908963192276841 / X_train.loan_status.mean() * 100"
   ]
  },
  {
   "cell_type": "markdown",
   "metadata": {},
   "source": [
    "(6) Для дальнейших вопросов нужно разбить обучающую выборку на две, чтобы на одной учиться, а на другой проверять качество. Используйте X_train2, X_test2, y_train2, y_test2 = train_test_split(X_train, y_train, test_size=0.33, random_state=100).\n",
    "\n",
    "Используя sklearn и  one hot encoding  преобразование категориальных признаков, где количество категорий меньше 15, постройте дерево решений с дефолтными параметрами (если необходимо, заполните пропуски числом -999) на X_train2.\n",
    "\n",
    "Правильные утверждения:\n",
    "\n",
    "1. Первый признак в дереве меняется, когда устанавливаешь max_depth=2 (-)\n",
    "2. Второй признак = funded_amnt в дереве с max_depth=2 (-)\n",
    "3. Дерево с неограниченным max_depth и random_state=0 дает качество на y_test2 0.28 Gini  (-)\n",
    "4. Дерево с ограниченным max_depth = 10 и random_state=0 дает качество на y_train2 0.285 Gini  (-)"
   ]
  },
  {
   "cell_type": "code",
   "execution_count": 1,
   "metadata": {},
   "outputs": [],
   "source": [
    "import numpy as np\n",
    "import pandas as pd\n",
    "import seaborn\n",
    "import matplotlib.pyplot as plt"
   ]
  },
  {
   "cell_type": "code",
   "execution_count": 2,
   "metadata": {},
   "outputs": [],
   "source": [
    "path_x_train = 'data/X_train.csv'\n",
    "path_y_train = 'data/y_train.csv'\n",
    "\n",
    "X_train = pd.read_csv(path_x_train, index_col=0)\n",
    "y_train = pd.read_csv(path_y_train, index_col=0)"
   ]
  },
  {
   "cell_type": "code",
   "execution_count": 3,
   "metadata": {},
   "outputs": [],
   "source": [
    "def gini(auc_score):\n",
    "    return 2 * auc_score - 1"
   ]
  },
  {
   "cell_type": "code",
   "execution_count": 4,
   "metadata": {},
   "outputs": [],
   "source": [
    "from sklearn.metrics import auc, roc_auc_score\n",
    "from sklearn.model_selection import train_test_split\n",
    "from sklearn.preprocessing import OneHotEncoder\n",
    "from sklearn.tree import DecisionTreeClassifier\n",
    "import scipy\n",
    "\n",
    "\n",
    "# X_train = X_train.fillna(-999)\n",
    "# X_train2, X_test2, y_train2, y_test2 = train_test_split(X_train, y_train, test_size=0.33, random_state=100)\n",
    "# enc = OneHotEncoder(handle_unknown='ignore')\n",
    "\n",
    "# ohe_matr = enc.fit_transform(X_train2.select_dtypes('object').astype('str').values)\n",
    "# X_train2 = X_train2.drop(X_train2.select_dtypes('object').columns, axis=1)\n",
    "# X_train2 = scipy.sparse.csr_matrix(X_train2)\n",
    "# X_train2 = scipy.sparse.hstack([X_train2, ohe_matr])\n",
    "\n",
    "# ohe_matr = enc.transform(X_test2.select_dtypes('object').astype('str').values)\n",
    "# X_test2 = X_test2.drop(X_test2.select_dtypes('object').columns, axis=1)\n",
    "# X_test2 = scipy.sparse.csr_matrix(X_test2)\n",
    "# X_test2 = scipy.sparse.hstack([X_test2, ohe_matr])\n",
    "\n",
    "X_train = X_train.fillna(-999)\n",
    "X_train2, X_test2, y_train2, y_test2 = train_test_split(X_train, y_train, test_size=0.33, random_state=100)\n",
    "enc = OneHotEncoder(handle_unknown='ignore')\n",
    "\n",
    "X_train2 = X_train2[X_train2.columns[(X_train2.nunique() < 15).values]] # выбераем фичи где меньше 15 категорий\n",
    "X_train2 = enc.fit_transform(X_train2.astype('str').values)\n",
    "\n",
    "X_test2 = X_test2[X_test2.columns[(X_test2.nunique() < 15).values]] # выбераем фичи где меньше 15 категорий\n",
    "X_test2 = enc.transform(X_test2.astype('str').values)"
   ]
  },
  {
   "cell_type": "code",
   "execution_count": 5,
   "metadata": {},
   "outputs": [],
   "source": [
    "# ohe_matr = enc.fit_transform(X_train2[X_train2.select_dtypes('object').astype('str').columns[(X_train2.select_dtypes('object').astype('str').nunique() < 15).values]].astype('str').values)\n",
    "# X_train2 = X_train2.drop(X_train2.select_dtypes('object').columns, axis=1)\n",
    "# X_train2 = scipy.sparse.csr_matrix(X_train2)\n",
    "# X_train2 = scipy.sparse.hstack([X_train2, ohe_matr])\n",
    "\n",
    "# ohe_matr = enc.transform(X_test2[X_test2.select_dtypes('object').astype('str').columns[(X_test2.select_dtypes('object').astype('str').nunique() < 15).values]].astype('str').values)\n",
    "# X_test2 = X_test2.drop(X_test2.select_dtypes('object').columns, axis=1)\n",
    "# X_test2 = scipy.sparse.csr_matrix(X_test2)\n",
    "# X_test2 = scipy.sparse.hstack([X_test2, ohe_matr])"
   ]
  },
  {
   "cell_type": "code",
   "execution_count": 7,
   "metadata": {},
   "outputs": [
    {
     "data": {
      "text/plain": [
       "<803906x90 sparse matrix of type '<class 'numpy.float64'>'\n",
       "\twith 8842966 stored elements in Compressed Sparse Row format>"
      ]
     },
     "execution_count": 7,
     "metadata": {},
     "output_type": "execute_result"
    }
   ],
   "source": [
    "X_train2"
   ]
  },
  {
   "cell_type": "code",
   "execution_count": 8,
   "metadata": {},
   "outputs": [],
   "source": [
    "# 1 - False\n",
    "clf = DecisionTreeClassifier(max_depth=2)\n",
    "clf = clf.fit(X_train2, y_train2.values)"
   ]
  },
  {
   "cell_type": "code",
   "execution_count": 9,
   "metadata": {},
   "outputs": [
    {
     "data": {
      "image/png": "[encoded data removed]",
      "text/plain": [
       "<Figure size 640x480 with 1 Axes>"
      ]
     },
     "metadata": {},
     "output_type": "display_data"
    }
   ],
   "source": [
    "from sklearn import tree \n",
    "tree.plot_tree(clf)\n",
    "plt.title('max_depth=2')\n",
    "plt.show()"
   ]
  },
  {
   "cell_type": "code",
   "execution_count": 10,
   "metadata": {},
   "outputs": [
    {
     "data": {
      "text/plain": [
       "array([0.        , 0.        , 0.        , 0.        , 0.        ,\n",
       "       0.        , 0.        , 0.        , 0.        , 0.        ,\n",
       "       0.        , 0.        , 0.        , 0.        , 0.        ,\n",
       "       0.        , 0.        , 0.        , 0.        , 0.        ,\n",
       "       0.        , 0.        , 0.        , 0.        , 0.        ,\n",
       "       0.        , 0.        , 0.        , 0.        , 0.        ,\n",
       "       0.        , 0.        , 0.        , 0.        , 0.        ,\n",
       "       0.        , 0.        , 0.        , 0.        , 0.        ,\n",
       "       0.        , 0.        , 0.        , 0.09930094, 0.        ,\n",
       "       0.        , 0.        , 0.11764664, 0.        , 0.        ,\n",
       "       0.        , 0.        , 0.        , 0.        , 0.        ,\n",
       "       0.        , 0.        , 0.        , 0.        , 0.        ,\n",
       "       0.        , 0.        , 0.        , 0.        , 0.        ,\n",
       "       0.        , 0.        , 0.        , 0.        , 0.        ,\n",
       "       0.        , 0.        , 0.        , 0.        , 0.        ,\n",
       "       0.        , 0.        , 0.        , 0.        , 0.        ,\n",
       "       0.        , 0.        , 0.        , 0.        , 0.        ,\n",
       "       0.        , 0.78305241, 0.        , 0.        , 0.        ])"
      ]
     },
     "execution_count": 10,
     "metadata": {},
     "output_type": "execute_result"
    }
   ],
   "source": [
    "clf.feature_importances_"
   ]
  },
  {
   "cell_type": "code",
   "execution_count": 11,
   "metadata": {},
   "outputs": [],
   "source": [
    "clf = DecisionTreeClassifier(max_depth=7)\n",
    "clf = clf.fit(X_train2, y_train2.values)"
   ]
  },
  {
   "cell_type": "code",
   "execution_count": 12,
   "metadata": {},
   "outputs": [
    {
     "data": {
      "image/png": "[encoded data removed]",
      "text/plain": [
       "<Figure size 640x480 with 1 Axes>"
      ]
     },
     "metadata": {},
     "output_type": "display_data"
    }
   ],
   "source": [
    "from sklearn import tree \n",
    "tree.plot_tree(clf, max_depth=1)\n",
    "plt.title('max_depth=7')\n",
    "plt.show()"
   ]
  },
  {
   "cell_type": "code",
   "execution_count": 13,
   "metadata": {},
   "outputs": [
    {
     "data": {
      "text/plain": [
       "(1562,)"
      ]
     },
     "execution_count": 13,
     "metadata": {},
     "output_type": "execute_result"
    }
   ],
   "source": [
    "# 2 - False\n",
    "X_train.funded_amnt.unique().shape"
   ]
  },
  {
   "cell_type": "code",
   "execution_count": 11,
   "metadata": {},
   "outputs": [
    {
     "data": {
      "text/plain": [
       "Index(['acc_now_delinq', 'addr_state', 'annual_inc',\n",
       "       'chargeoff_within_12_mths', 'collections_12_mths_ex_med', 'delinq_2yrs',\n",
       "       'dti', 'earliest_cr_line', 'emp_length', 'fico_range_high',\n",
       "       'fico_range_low', 'funded_amnt', 'home_ownership', 'inq_last_12m',\n",
       "       'installment', 'int_rate', 'issue_d', 'loan_amnt', 'mort_acc',\n",
       "       'mths_since_last_delinq', 'mths_since_recent_bc_dlq',\n",
       "       'mths_since_recent_inq', 'num_accts_ever_120_pd', 'num_actv_bc_tl',\n",
       "       'num_rev_accts', 'num_sats', 'num_tl_120dpd_2m', 'num_tl_30dpd',\n",
       "       'num_tl_90g_dpd_24m', 'num_tl_op_past_12m', 'open_acc', 'open_il_24m',\n",
       "       'open_rv_24m', 'percent_bc_gt_75', 'pub_rec', 'pub_rec_bankruptcies',\n",
       "       'purpose', 'revol_util', 'tax_liens', 'term', 'title', 'total_acc',\n",
       "       'verification_status', 'zip_code'],\n",
       "      dtype='object')"
      ]
     },
     "execution_count": 11,
     "metadata": {},
     "output_type": "execute_result"
    }
   ],
   "source": [
    "X_train.columns"
   ]
  },
  {
   "cell_type": "code",
   "execution_count": 25,
   "metadata": {},
   "outputs": [
    {
     "data": {
      "text/plain": [
       "array([0.        , 0.04385801, 0.        , ..., 0.        , 0.        ,\n",
       "       0.        ])"
      ]
     },
     "execution_count": 25,
     "metadata": {},
     "output_type": "execute_result"
    }
   ],
   "source": [
    "clf.feature_importances_"
   ]
  },
  {
   "cell_type": "code",
   "execution_count": 25,
   "metadata": {},
   "outputs": [],
   "source": [
    "# 3 - False\n",
    "clf = DecisionTreeClassifier(random_state=0)\n",
    "clf = clf.fit(X_train2, y_train2.values)"
   ]
  },
  {
   "cell_type": "code",
   "execution_count": 26,
   "metadata": {},
   "outputs": [],
   "source": [
    "pred = clf.predict(X_test2)"
   ]
  },
  {
   "cell_type": "code",
   "execution_count": 27,
   "metadata": {},
   "outputs": [
    {
     "data": {
      "text/plain": [
       "0.012908273390598968"
      ]
     },
     "execution_count": 27,
     "metadata": {},
     "output_type": "execute_result"
    }
   ],
   "source": [
    "gini(roc_auc_score(y_test2.values.flatten(), pred))"
   ]
  },
  {
   "cell_type": "code",
   "execution_count": 28,
   "metadata": {},
   "outputs": [
    {
     "data": {
      "text/plain": [
       "0.2716239757850456"
      ]
     },
     "execution_count": 28,
     "metadata": {},
     "output_type": "execute_result"
    }
   ],
   "source": [
    "clf.tree_.impurity.sum()/clf.tree_.impurity.shape[0]"
   ]
  },
  {
   "cell_type": "code",
   "execution_count": 18,
   "metadata": {},
   "outputs": [],
   "source": [
    "# 4 - False\n",
    "clf = DecisionTreeClassifier(max_depth=10, random_state=0)\n",
    "clf = clf.fit(X_train2, y_train2.values)"
   ]
  },
  {
   "cell_type": "code",
   "execution_count": 19,
   "metadata": {},
   "outputs": [],
   "source": [
    "pred = clf.predict(X_train2)"
   ]
  },
  {
   "cell_type": "code",
   "execution_count": 20,
   "metadata": {},
   "outputs": [
    {
     "data": {
      "text/plain": [
       "0.01269874028953022"
      ]
     },
     "execution_count": 20,
     "metadata": {},
     "output_type": "execute_result"
    }
   ],
   "source": [
    "gini(roc_auc_score(y_train2.values.flatten(), pred))"
   ]
  },
  {
   "cell_type": "code",
   "execution_count": 21,
   "metadata": {},
   "outputs": [
    {
     "data": {
      "text/plain": [
       "0.3101374973691256"
      ]
     },
     "execution_count": 21,
     "metadata": {},
     "output_type": "execute_result"
    }
   ],
   "source": [
    "clf.tree_.impurity.sum()/clf.tree_.impurity.shape[0]"
   ]
  },
  {
   "cell_type": "markdown",
   "metadata": {},
   "source": [
    "(7) Постройте случайный лес из sklearn на признаках, подготовленных для дерева (X_train2). Как меру качества используйте Gini (и y_test2). \n",
    "\n",
    "Выберите правильные ответы:\n",
    "\n",
    "1. Дерево с дефолтным max_depth и random_state=0 дает качество лучше, чем лес c random_state=10, на 0.002 (-)\n",
    "2. Лес из трех деревьев лучше леса на дефолтных значениях (+)\n",
    "3. Лес на max_depth=10 и остальных дефолтных значениях ничего не предсказывает (-)\n",
    "4. Лес на max_depth=10 и min_samples_leaf=100 работает лучше всего (-)"
   ]
  },
  {
   "cell_type": "code",
   "execution_count": 5,
   "metadata": {},
   "outputs": [],
   "source": [
    "# 1 - False\n",
    "from sklearn.ensemble import RandomForestClassifier\n",
    "\n",
    "clf = RandomForestClassifier(random_state=10, n_jobs=-1)\n",
    "clf = clf.fit(X_train2, y_train2.values.ravel())"
   ]
  },
  {
   "cell_type": "code",
   "execution_count": 7,
   "metadata": {},
   "outputs": [
    {
     "data": {
      "text/plain": [
       "0.01405308523233506"
      ]
     },
     "execution_count": 7,
     "metadata": {},
     "output_type": "execute_result"
    }
   ],
   "source": [
    "pred = clf.predict(X_test2)\n",
    "gini(roc_auc_score(y_test2.values.flatten(), pred))"
   ]
  },
  {
   "cell_type": "code",
   "execution_count": 9,
   "metadata": {},
   "outputs": [],
   "source": [
    "# 2 - True\n",
    "\n",
    "clf = RandomForestClassifier(n_estimators=3, random_state=10, n_jobs=-1)\n",
    "clf = clf.fit(X_train2, y_train2.values.ravel())"
   ]
  },
  {
   "cell_type": "code",
   "execution_count": 10,
   "metadata": {},
   "outputs": [
    {
     "data": {
      "text/plain": [
       "0.014784050795564996"
      ]
     },
     "execution_count": 10,
     "metadata": {},
     "output_type": "execute_result"
    }
   ],
   "source": [
    "pred = clf.predict(X_test2)\n",
    "gini(roc_auc_score(y_test2.values.flatten(), pred))"
   ]
  },
  {
   "cell_type": "code",
   "execution_count": 11,
   "metadata": {},
   "outputs": [],
   "source": [
    "# 3 - False\n",
    "\n",
    "clf = RandomForestClassifier(max_depth=10, random_state=10, n_jobs=-1)\n",
    "clf = clf.fit(X_train2, y_train2.values.ravel())"
   ]
  },
  {
   "cell_type": "code",
   "execution_count": 12,
   "metadata": {},
   "outputs": [
    {
     "data": {
      "text/plain": [
       "5.5979089912616686e-05"
      ]
     },
     "execution_count": 12,
     "metadata": {},
     "output_type": "execute_result"
    }
   ],
   "source": [
    "pred = clf.predict(X_test2)\n",
    "gini(roc_auc_score(y_test2.values.flatten(), pred))"
   ]
  },
  {
   "cell_type": "code",
   "execution_count": 21,
   "metadata": {},
   "outputs": [
    {
     "data": {
      "text/plain": [
       "'0.0000559791'"
      ]
     },
     "execution_count": 21,
     "metadata": {},
     "output_type": "execute_result"
    }
   ],
   "source": [
    "'{:.10f}'.format(5.5979089912616686e-05)"
   ]
  },
  {
   "cell_type": "code",
   "execution_count": 28,
   "metadata": {},
   "outputs": [],
   "source": [
    "# 3 - False\n",
    "\n",
    "clf = RandomForestClassifier(max_depth=10, min_samples_leaf=100, random_state=10, n_jobs=-1)\n",
    "clf = clf.fit(X_train2, y_train2.values.ravel())"
   ]
  },
  {
   "cell_type": "code",
   "execution_count": 29,
   "metadata": {},
   "outputs": [
    {
     "data": {
      "text/plain": [
       "0.0"
      ]
     },
     "execution_count": 29,
     "metadata": {},
     "output_type": "execute_result"
    }
   ],
   "source": [
    "pred = clf.predict(X_test2)\n",
    "gini(roc_auc_score(y_test2.values.flatten(), pred))"
   ]
  },
  {
   "cell_type": "code",
   "execution_count": 31,
   "metadata": {},
   "outputs": [
    {
     "data": {
      "text/plain": [
       "0.8068265333181801"
      ]
     },
     "execution_count": 31,
     "metadata": {},
     "output_type": "execute_result"
    }
   ],
   "source": [
    "(y_test2.values.flatten() == pred).sum()/pred.shape[0]"
   ]
  },
  {
   "cell_type": "markdown",
   "metadata": {},
   "source": [
    "(8) Какой признак сделать из emp_length и другого категориального признака с 15 или менее категориями, чтобы доля дефолта была наибольшая?\n",
    "Считайте, что мы принимаем решение минимум на 100 наблюдениях.\n",
    "\n",
    "1. if emp_length=='8 years' & home_ownership=='RENT'\n",
    "2. if emp_length=='4 years' & purpose=='small_business'\n",
    "3. if emp_length=='1 year' & term=='60 months' (+)\n",
    "4. if emp_length=='3 years' & verification_status=='Verified'"
   ]
  },
  {
   "cell_type": "code",
   "execution_count": 38,
   "metadata": {},
   "outputs": [
    {
     "data": {
      "text/plain": [
       "Index(['acc_now_delinq', 'chargeoff_within_12_mths',\n",
       "       'collections_12_mths_ex_med', 'emp_length', 'home_ownership',\n",
       "       'num_tl_120dpd_2m', 'num_tl_30dpd', 'pub_rec_bankruptcies', 'purpose',\n",
       "       'term', 'verification_status'],\n",
       "      dtype='object')"
      ]
     },
     "execution_count": 38,
     "metadata": {},
     "output_type": "execute_result"
    }
   ],
   "source": [
    "# 1 -\n",
    "X_train.columns[(X_train.nunique() < 15).values]"
   ]
  },
  {
   "cell_type": "code",
   "execution_count": 50,
   "metadata": {},
   "outputs": [
    {
     "data": {
      "text/plain": [
       "Int64Index([     17,      18,      23,      55,     105,     260,     269,\n",
       "                358,     413,     537,\n",
       "            ...\n",
       "            1199078, 1199306, 1199361, 1199387, 1199422, 1199635, 1199655,\n",
       "            1199700, 1199766, 1199818],\n",
       "           dtype='int64', name='index', length=19422)"
      ]
     },
     "execution_count": 50,
     "metadata": {},
     "output_type": "execute_result"
    }
   ],
   "source": [
    "idx = X_train.loc[(X_train.emp_length == '8 years') & (X_train.home_ownership == 'RENT')].index\n",
    "idx"
   ]
  },
  {
   "cell_type": "code",
   "execution_count": 51,
   "metadata": {},
   "outputs": [
    {
     "data": {
      "text/plain": [
       "0    0.770672\n",
       "1    0.229328\n",
       "Name: loan_status, dtype: float64"
      ]
     },
     "execution_count": 51,
     "metadata": {},
     "output_type": "execute_result"
    }
   ],
   "source": [
    "y_train.iloc[idx, :].loan_status.value_counts()/idx.shape[0]"
   ]
  },
  {
   "cell_type": "code",
   "execution_count": 52,
   "metadata": {},
   "outputs": [
    {
     "data": {
      "text/plain": [
       "Int64Index([   2235,    3180,    4329,    7247,    7536,    9858,   10560,\n",
       "              15342,   15471,   16290,\n",
       "            ...\n",
       "            1187284, 1188238, 1188506, 1189359, 1191845, 1192103, 1194446,\n",
       "            1195669, 1197084, 1197386],\n",
       "           dtype='int64', name='index', length=966)"
      ]
     },
     "execution_count": 52,
     "metadata": {},
     "output_type": "execute_result"
    }
   ],
   "source": [
    "# 2 - \n",
    "idx = X_train.loc[(X_train.emp_length == '4 years') & (X_train.purpose == 'small_business')].index\n",
    "idx"
   ]
  },
  {
   "cell_type": "code",
   "execution_count": 53,
   "metadata": {},
   "outputs": [
    {
     "data": {
      "text/plain": [
       "0    0.687371\n",
       "1    0.312629\n",
       "Name: loan_status, dtype: float64"
      ]
     },
     "execution_count": 53,
     "metadata": {},
     "output_type": "execute_result"
    }
   ],
   "source": [
    "y_train.iloc[idx, :].loan_status.value_counts()/idx.shape[0]"
   ]
  },
  {
   "cell_type": "code",
   "execution_count": 59,
   "metadata": {},
   "outputs": [
    {
     "data": {
      "text/plain": [
       "Int64Index([     32,      63,      87,     170,     209,     237,     248,\n",
       "                370,     447,     448,\n",
       "            ...\n",
       "            1199146, 1199182, 1199197, 1199200, 1199239, 1199260, 1199300,\n",
       "            1199330, 1199405, 1199464],\n",
       "           dtype='int64', name='index', length=17843)"
      ]
     },
     "execution_count": 59,
     "metadata": {},
     "output_type": "execute_result"
    }
   ],
   "source": [
    "# 3 - True\n",
    "idx = X_train.loc[(X_train.emp_length == '1 year') & (X_train.term == ' 60 months')].index\n",
    "idx"
   ]
  },
  {
   "cell_type": "code",
   "execution_count": 60,
   "metadata": {},
   "outputs": [
    {
     "data": {
      "text/plain": [
       "0    0.664911\n",
       "1    0.335089\n",
       "Name: loan_status, dtype: float64"
      ]
     },
     "execution_count": 60,
     "metadata": {},
     "output_type": "execute_result"
    }
   ],
   "source": [
    "y_train.iloc[idx, :].loan_status.value_counts()/idx.shape[0]"
   ]
  },
  {
   "cell_type": "code",
   "execution_count": 61,
   "metadata": {},
   "outputs": [
    {
     "data": {
      "text/plain": [
       "Int64Index([     76,     121,     198,     282,     288,     316,     354,\n",
       "                419,     449,     519,\n",
       "            ...\n",
       "            1199548, 1199562, 1199571, 1199636, 1199659, 1199662, 1199678,\n",
       "            1199720, 1199787, 1199857],\n",
       "           dtype='int64', name='index', length=24691)"
      ]
     },
     "execution_count": 61,
     "metadata": {},
     "output_type": "execute_result"
    }
   ],
   "source": [
    "# 4 -\n",
    "idx = X_train.loc[(X_train.emp_length == '3 years') & (X_train.verification_status == 'Verified')].index\n",
    "idx"
   ]
  },
  {
   "cell_type": "code",
   "execution_count": 62,
   "metadata": {},
   "outputs": [
    {
     "data": {
      "text/plain": [
       "0    0.764935\n",
       "1    0.235065\n",
       "Name: loan_status, dtype: float64"
      ]
     },
     "execution_count": 62,
     "metadata": {},
     "output_type": "execute_result"
    }
   ],
   "source": [
    "y_train.iloc[idx, :].loan_status.value_counts()/idx.shape[0]"
   ]
  },
  {
   "cell_type": "markdown",
   "metadata": {},
   "source": [
    "(9) В дальнейших вопросах будем использовать первоначальный X_train, y_train. Разделим их на обучающую и тестовую выборки: X_train2, X_test2, y_train2, y_test2 = train_test_split(X_train, y_train, test_size=0.33, random_state=100). \n",
    "\n",
    "Выберите правильные ответы:\n",
    "\n",
    "1. catboost c iterations=80 и остальными дефолтными параметрами, работает хуже леса, но лучше деревьев, если сравнивать модели из предыдущих вопросов (-)\n",
    "2. catboost c iterations=80 и остальными дефолтными параметрами лучше lightgbm с дефолтными параметрами (+)\n",
    "3. xgboost с параметрами n_estimators=250, learning_rate=0.10, colsample_bytree=0.70, max_depth=3 лучше lightgbm с дефолтными параметрами (-)\n",
    "4. xgboost с параметрами n_estimators=250, learning_rate=0.10, colsample_bytree=0.70, max_depth=3 лучше catboost c iterations=80 и остальными дефолтными параметрами (-)"
   ]
  },
  {
   "cell_type": "code",
   "execution_count": 1,
   "metadata": {},
   "outputs": [],
   "source": [
    "import numpy as np\n",
    "import pandas as pd\n",
    "import seaborn\n",
    "import matplotlib.pyplot as plt\n",
    "from sklearn.metrics import auc, roc_auc_score\n",
    "from sklearn.model_selection import train_test_split\n",
    "\n",
    "\n",
    "path_x_train = 'data/X_train.csv'\n",
    "path_y_train = 'data/y_train.csv'\n",
    "\n",
    "X_train = pd.read_csv(path_x_train, index_col=0)\n",
    "y_train = pd.read_csv(path_y_train, index_col=0)\n",
    "\n",
    "def gini(auc_score):\n",
    "    return 2 * auc_score - 1"
   ]
  },
  {
   "cell_type": "code",
   "execution_count": 2,
   "metadata": {},
   "outputs": [],
   "source": [
    "X_train = X_train.fillna(-999)\n",
    "X_train2, X_test2, y_train2, y_test2 = train_test_split(X_train, y_train, test_size=0.33, random_state=100)"
   ]
  },
  {
   "cell_type": "code",
   "execution_count": 3,
   "metadata": {},
   "outputs": [
    {
     "data": {
      "text/plain": [
       "[1, 7, 8, 12, 15, 16, 36, 37, 39, 40, 42, 43]"
      ]
     },
     "execution_count": 3,
     "metadata": {},
     "output_type": "execute_result"
    }
   ],
   "source": [
    "cat_features = [i for i, col in enumerate(X_train2.columns) if X_train2[col].dtype == object]\n",
    "cat_features"
   ]
  },
  {
   "cell_type": "code",
   "execution_count": 4,
   "metadata": {},
   "outputs": [
    {
     "name": "stdout",
     "output_type": "stream",
     "text": [
      "Learning rate set to 0.5\n",
      "0:\tlearn: 0.5045642\ttotal: 437ms\tremaining: 34.5s\n",
      "1:\tlearn: 0.4632179\ttotal: 658ms\tremaining: 25.6s\n",
      "2:\tlearn: 0.4526638\ttotal: 912ms\tremaining: 23.4s\n",
      "3:\tlearn: 0.4487105\ttotal: 1.13s\tremaining: 21.4s\n",
      "4:\tlearn: 0.4466997\ttotal: 1.34s\tremaining: 20.2s\n",
      "5:\tlearn: 0.4458017\ttotal: 1.58s\tremaining: 19.5s\n",
      "6:\tlearn: 0.4450687\ttotal: 1.82s\tremaining: 19s\n",
      "7:\tlearn: 0.4443383\ttotal: 2.05s\tremaining: 18.5s\n",
      "8:\tlearn: 0.4437529\ttotal: 2.25s\tremaining: 17.8s\n",
      "9:\tlearn: 0.4433403\ttotal: 2.48s\tremaining: 17.4s\n",
      "10:\tlearn: 0.4430456\ttotal: 2.71s\tremaining: 17s\n",
      "11:\tlearn: 0.4427595\ttotal: 2.95s\tremaining: 16.7s\n",
      "12:\tlearn: 0.4424007\ttotal: 3.18s\tremaining: 16.4s\n",
      "13:\tlearn: 0.4421734\ttotal: 3.39s\tremaining: 16s\n",
      "14:\tlearn: 0.4420099\ttotal: 3.62s\tremaining: 15.7s\n",
      "15:\tlearn: 0.4419269\ttotal: 3.83s\tremaining: 15.3s\n",
      "16:\tlearn: 0.4417805\ttotal: 4.05s\tremaining: 15s\n",
      "17:\tlearn: 0.4416056\ttotal: 4.25s\tremaining: 14.6s\n",
      "18:\tlearn: 0.4413649\ttotal: 4.45s\tremaining: 14.3s\n",
      "19:\tlearn: 0.4411565\ttotal: 4.66s\tremaining: 14s\n",
      "20:\tlearn: 0.4410094\ttotal: 4.89s\tremaining: 13.7s\n",
      "21:\tlearn: 0.4408246\ttotal: 5.11s\tremaining: 13.5s\n",
      "22:\tlearn: 0.4406292\ttotal: 5.35s\tremaining: 13.3s\n",
      "23:\tlearn: 0.4405173\ttotal: 5.57s\tremaining: 13s\n",
      "24:\tlearn: 0.4403822\ttotal: 5.77s\tremaining: 12.7s\n",
      "25:\tlearn: 0.4402503\ttotal: 5.99s\tremaining: 12.4s\n",
      "26:\tlearn: 0.4401525\ttotal: 6.21s\tremaining: 12.2s\n",
      "27:\tlearn: 0.4400362\ttotal: 6.43s\tremaining: 11.9s\n",
      "28:\tlearn: 0.4399200\ttotal: 6.67s\tremaining: 11.7s\n",
      "29:\tlearn: 0.4398213\ttotal: 6.9s\tremaining: 11.5s\n",
      "30:\tlearn: 0.4396527\ttotal: 7.12s\tremaining: 11.3s\n",
      "31:\tlearn: 0.4395586\ttotal: 7.36s\tremaining: 11s\n",
      "32:\tlearn: 0.4394398\ttotal: 7.59s\tremaining: 10.8s\n",
      "33:\tlearn: 0.4393260\ttotal: 7.83s\tremaining: 10.6s\n",
      "34:\tlearn: 0.4391904\ttotal: 8.06s\tremaining: 10.4s\n",
      "35:\tlearn: 0.4390549\ttotal: 8.29s\tremaining: 10.1s\n",
      "36:\tlearn: 0.4389340\ttotal: 8.49s\tremaining: 9.87s\n",
      "37:\tlearn: 0.4388485\ttotal: 8.71s\tremaining: 9.62s\n",
      "38:\tlearn: 0.4387411\ttotal: 8.96s\tremaining: 9.41s\n",
      "39:\tlearn: 0.4386277\ttotal: 9.2s\tremaining: 9.2s\n",
      "40:\tlearn: 0.4385314\ttotal: 9.44s\tremaining: 8.98s\n",
      "41:\tlearn: 0.4384501\ttotal: 9.67s\tremaining: 8.75s\n",
      "42:\tlearn: 0.4383643\ttotal: 9.9s\tremaining: 8.52s\n",
      "43:\tlearn: 0.4382566\ttotal: 10.1s\tremaining: 8.29s\n",
      "44:\tlearn: 0.4381372\ttotal: 10.4s\tremaining: 8.06s\n",
      "45:\tlearn: 0.4380300\ttotal: 10.6s\tremaining: 7.84s\n",
      "46:\tlearn: 0.4379429\ttotal: 10.8s\tremaining: 7.62s\n",
      "47:\tlearn: 0.4378187\ttotal: 11.1s\tremaining: 7.37s\n",
      "48:\tlearn: 0.4377549\ttotal: 11.3s\tremaining: 7.14s\n",
      "49:\tlearn: 0.4376680\ttotal: 11.5s\tremaining: 6.91s\n",
      "50:\tlearn: 0.4376084\ttotal: 11.7s\tremaining: 6.67s\n",
      "51:\tlearn: 0.4375096\ttotal: 11.9s\tremaining: 6.42s\n",
      "52:\tlearn: 0.4374520\ttotal: 12.1s\tremaining: 6.18s\n",
      "53:\tlearn: 0.4373532\ttotal: 12.3s\tremaining: 5.94s\n",
      "54:\tlearn: 0.4372590\ttotal: 12.6s\tremaining: 5.72s\n",
      "55:\tlearn: 0.4371546\ttotal: 12.8s\tremaining: 5.49s\n",
      "56:\tlearn: 0.4371144\ttotal: 13s\tremaining: 5.26s\n",
      "57:\tlearn: 0.4370584\ttotal: 13.2s\tremaining: 5.02s\n",
      "58:\tlearn: 0.4369513\ttotal: 13.5s\tremaining: 4.8s\n",
      "59:\tlearn: 0.4369120\ttotal: 13.7s\tremaining: 4.57s\n",
      "60:\tlearn: 0.4368028\ttotal: 13.9s\tremaining: 4.34s\n",
      "61:\tlearn: 0.4367183\ttotal: 14.2s\tremaining: 4.11s\n",
      "62:\tlearn: 0.4366524\ttotal: 14.4s\tremaining: 3.89s\n",
      "63:\tlearn: 0.4365840\ttotal: 14.6s\tremaining: 3.66s\n",
      "64:\tlearn: 0.4365476\ttotal: 14.9s\tremaining: 3.43s\n",
      "65:\tlearn: 0.4364922\ttotal: 15.1s\tremaining: 3.2s\n",
      "66:\tlearn: 0.4364465\ttotal: 15.3s\tremaining: 2.97s\n",
      "67:\tlearn: 0.4363461\ttotal: 15.5s\tremaining: 2.74s\n",
      "68:\tlearn: 0.4362914\ttotal: 15.8s\tremaining: 2.51s\n",
      "69:\tlearn: 0.4362376\ttotal: 16s\tremaining: 2.28s\n",
      "70:\tlearn: 0.4361782\ttotal: 16.2s\tremaining: 2.05s\n",
      "71:\tlearn: 0.4361244\ttotal: 16.4s\tremaining: 1.83s\n",
      "72:\tlearn: 0.4360780\ttotal: 16.7s\tremaining: 1.6s\n",
      "73:\tlearn: 0.4360202\ttotal: 16.9s\tremaining: 1.37s\n",
      "74:\tlearn: 0.4359488\ttotal: 17.1s\tremaining: 1.14s\n",
      "75:\tlearn: 0.4359114\ttotal: 17.4s\tremaining: 915ms\n",
      "76:\tlearn: 0.4358486\ttotal: 17.6s\tremaining: 686ms\n",
      "77:\tlearn: 0.4357602\ttotal: 17.8s\tremaining: 457ms\n",
      "78:\tlearn: 0.4357134\ttotal: 18s\tremaining: 228ms\n",
      "79:\tlearn: 0.4356681\ttotal: 18.3s\tremaining: 0us\n"
     ]
    },
    {
     "data": {
      "text/plain": [
       "<catboost.core.CatBoostClassifier at 0x1536cf77ac0>"
      ]
     },
     "execution_count": 4,
     "metadata": {},
     "output_type": "execute_result"
    }
   ],
   "source": [
    "# 1 - False\n",
    "from catboost import CatBoostClassifier\n",
    "\n",
    "cbc_1 = CatBoostClassifier(iterations=80, cat_features=cat_features)\n",
    "cbc_1.fit(X_train2, y_train2)"
   ]
  },
  {
   "cell_type": "code",
   "execution_count": 5,
   "metadata": {},
   "outputs": [
    {
     "data": {
      "text/plain": [
       "0.0672382677140102"
      ]
     },
     "execution_count": 5,
     "metadata": {},
     "output_type": "execute_result"
    }
   ],
   "source": [
    "pred = cbc_1.predict(X_test2)\n",
    "gini(roc_auc_score(y_test2.values.flatten(), pred))"
   ]
  },
  {
   "cell_type": "code",
   "execution_count": 6,
   "metadata": {},
   "outputs": [
    {
     "data": {
      "text/plain": [
       "0.8106123170562312"
      ]
     },
     "execution_count": 6,
     "metadata": {},
     "output_type": "execute_result"
    }
   ],
   "source": [
    "(y_test2.values.flatten() == pred).sum()/pred.shape[0]"
   ]
  },
  {
   "cell_type": "code",
   "execution_count": 7,
   "metadata": {},
   "outputs": [
    {
     "name": "stdout",
     "output_type": "stream",
     "text": [
      "[LightGBM] [Warning] Categorical features with more bins than the configured maximum bin number found.\n",
      "[LightGBM] [Warning] For categorical features, max_bin and max_bin_by_feature may be ignored with a large number of categories.\n",
      "[LightGBM] [Info] Number of positive: 155120, number of negative: 648786\n",
      "[LightGBM] [Warning] Auto-choosing row-wise multi-threading, the overhead of testing was 0.030777 seconds.\n",
      "You can set `force_row_wise=true` to remove the overhead.\n",
      "And if memory is not enough, you can set `force_col_wise=true`.\n",
      "[LightGBM] [Info] Total Bins 5905\n",
      "[LightGBM] [Info] Number of data points in the train set: 803906, number of used features: 44\n",
      "[LightGBM] [Info] [binary:BoostFromScore]: pavg=0.192958 -> initscore=-1.430904\n",
      "[LightGBM] [Info] Start training from score -1.430904\n"
     ]
    },
    {
     "data": {
      "text/html": [
       "<style>#sk-container-id-1 {color: black;background-color: white;}#sk-container-id-1 pre{padding: 0;}#sk-container-id-1 div.sk-toggleable {background-color: white;}#sk-container-id-1 label.sk-toggleable__label {cursor: pointer;display: block;width: 100%;margin-bottom: 0;padding: 0.3em;box-sizing: border-box;text-align: center;}#sk-container-id-1 label.sk-toggleable__label-arrow:before {content: \"▸\";float: left;margin-right: 0.25em;color: #696969;}#sk-container-id-1 label.sk-toggleable__label-arrow:hover:before {color: black;}#sk-container-id-1 div.sk-estimator:hover label.sk-toggleable__label-arrow:before {color: black;}#sk-container-id-1 div.sk-toggleable__content {max-height: 0;max-width: 0;overflow: hidden;text-align: left;background-color: #f0f8ff;}#sk-container-id-1 div.sk-toggleable__content pre {margin: 0.2em;color: black;border-radius: 0.25em;background-color: #f0f8ff;}#sk-container-id-1 input.sk-toggleable__control:checked~div.sk-toggleable__content {max-height: 200px;max-width: 100%;overflow: auto;}#sk-container-id-1 input.sk-toggleable__control:checked~label.sk-toggleable__label-arrow:before {content: \"▾\";}#sk-container-id-1 div.sk-estimator input.sk-toggleable__control:checked~label.sk-toggleable__label {background-color: #d4ebff;}#sk-container-id-1 div.sk-label input.sk-toggleable__control:checked~label.sk-toggleable__label {background-color: #d4ebff;}#sk-container-id-1 input.sk-hidden--visually {border: 0;clip: rect(1px 1px 1px 1px);clip: rect(1px, 1px, 1px, 1px);height: 1px;margin: -1px;overflow: hidden;padding: 0;position: absolute;width: 1px;}#sk-container-id-1 div.sk-estimator {font-family: monospace;background-color: #f0f8ff;border: 1px dotted black;border-radius: 0.25em;box-sizing: border-box;margin-bottom: 0.5em;}#sk-container-id-1 div.sk-estimator:hover {background-color: #d4ebff;}#sk-container-id-1 div.sk-parallel-item::after {content: \"\";width: 100%;border-bottom: 1px solid gray;flex-grow: 1;}#sk-container-id-1 div.sk-label:hover label.sk-toggleable__label {background-color: #d4ebff;}#sk-container-id-1 div.sk-serial::before {content: \"\";position: absolute;border-left: 1px solid gray;box-sizing: border-box;top: 0;bottom: 0;left: 50%;z-index: 0;}#sk-container-id-1 div.sk-serial {display: flex;flex-direction: column;align-items: center;background-color: white;padding-right: 0.2em;padding-left: 0.2em;position: relative;}#sk-container-id-1 div.sk-item {position: relative;z-index: 1;}#sk-container-id-1 div.sk-parallel {display: flex;align-items: stretch;justify-content: center;background-color: white;position: relative;}#sk-container-id-1 div.sk-item::before, #sk-container-id-1 div.sk-parallel-item::before {content: \"\";position: absolute;border-left: 1px solid gray;box-sizing: border-box;top: 0;bottom: 0;left: 50%;z-index: -1;}#sk-container-id-1 div.sk-parallel-item {display: flex;flex-direction: column;z-index: 1;position: relative;background-color: white;}#sk-container-id-1 div.sk-parallel-item:first-child::after {align-self: flex-end;width: 50%;}#sk-container-id-1 div.sk-parallel-item:last-child::after {align-self: flex-start;width: 50%;}#sk-container-id-1 div.sk-parallel-item:only-child::after {width: 0;}#sk-container-id-1 div.sk-dashed-wrapped {border: 1px dashed gray;margin: 0 0.4em 0.5em 0.4em;box-sizing: border-box;padding-bottom: 0.4em;background-color: white;}#sk-container-id-1 div.sk-label label {font-family: monospace;font-weight: bold;display: inline-block;line-height: 1.2em;}#sk-container-id-1 div.sk-label-container {text-align: center;}#sk-container-id-1 div.sk-container {/* jupyter's `normalize.less` sets `[hidden] { display: none; }` but bootstrap.min.css set `[hidden] { display: none !important; }` so we also need the `!important` here to be able to override the default hidden behavior on the sphinx rendered scikit-learn.org. See: https://github.com/scikit-learn/scikit-learn/issues/21755 */display: inline-block !important;position: relative;}#sk-container-id-1 div.sk-text-repr-fallback {display: none;}</style><div id=\"sk-container-id-1\" class=\"sk-top-container\"><div class=\"sk-text-repr-fallback\"><pre>LGBMClassifier()</pre><b>In a Jupyter environment, please rerun this cell to show the HTML representation or trust the notebook. <br />On GitHub, the HTML representation is unable to render, please try loading this page with nbviewer.org.</b></div><div class=\"sk-container\" hidden><div class=\"sk-item\"><div class=\"sk-estimator sk-toggleable\"><input class=\"sk-toggleable__control sk-hidden--visually\" id=\"sk-estimator-id-1\" type=\"checkbox\" checked><label for=\"sk-estimator-id-1\" class=\"sk-toggleable__label sk-toggleable__label-arrow\">LGBMClassifier</label><div class=\"sk-toggleable__content\"><pre>LGBMClassifier()</pre></div></div></div></div></div>"
      ],
      "text/plain": [
       "LGBMClassifier()"
      ]
     },
     "execution_count": 7,
     "metadata": {},
     "output_type": "execute_result"
    }
   ],
   "source": [
    "# 2 - True\n",
    "import lightgbm as lgb\n",
    "\n",
    "for c in X_train.select_dtypes('object').columns:\n",
    "    X_train2[c] = X_train2[c].astype('category')\n",
    "    X_test2[c] = X_test2[c].astype('category')\n",
    "\n",
    "lgbc_1 = lgb.LGBMClassifier()\n",
    "lgbc_1.fit(X_train2, y_train2.values.flatten(), categorical_feature=cat_features)"
   ]
  },
  {
   "cell_type": "code",
   "execution_count": 8,
   "metadata": {},
   "outputs": [
    {
     "data": {
      "text/plain": [
       "0.05620431490705147"
      ]
     },
     "execution_count": 8,
     "metadata": {},
     "output_type": "execute_result"
    }
   ],
   "source": [
    "pred = lgbc_1.predict(X_test2)\n",
    "gini(roc_auc_score(y_test2.values.flatten(), pred))"
   ]
  },
  {
   "cell_type": "code",
   "execution_count": 9,
   "metadata": {},
   "outputs": [
    {
     "data": {
      "text/plain": [
       "0.8095642181561036"
      ]
     },
     "execution_count": 9,
     "metadata": {},
     "output_type": "execute_result"
    }
   ],
   "source": [
    "(y_test2.values.flatten() == pred).sum()/pred.shape[0]"
   ]
  },
  {
   "cell_type": "code",
   "execution_count": 10,
   "metadata": {},
   "outputs": [
    {
     "data": {
      "text/html": [
       "<style>#sk-container-id-2 {color: black;background-color: white;}#sk-container-id-2 pre{padding: 0;}#sk-container-id-2 div.sk-toggleable {background-color: white;}#sk-container-id-2 label.sk-toggleable__label {cursor: pointer;display: block;width: 100%;margin-bottom: 0;padding: 0.3em;box-sizing: border-box;text-align: center;}#sk-container-id-2 label.sk-toggleable__label-arrow:before {content: \"▸\";float: left;margin-right: 0.25em;color: #696969;}#sk-container-id-2 label.sk-toggleable__label-arrow:hover:before {color: black;}#sk-container-id-2 div.sk-estimator:hover label.sk-toggleable__label-arrow:before {color: black;}#sk-container-id-2 div.sk-toggleable__content {max-height: 0;max-width: 0;overflow: hidden;text-align: left;background-color: #f0f8ff;}#sk-container-id-2 div.sk-toggleable__content pre {margin: 0.2em;color: black;border-radius: 0.25em;background-color: #f0f8ff;}#sk-container-id-2 input.sk-toggleable__control:checked~div.sk-toggleable__content {max-height: 200px;max-width: 100%;overflow: auto;}#sk-container-id-2 input.sk-toggleable__control:checked~label.sk-toggleable__label-arrow:before {content: \"▾\";}#sk-container-id-2 div.sk-estimator input.sk-toggleable__control:checked~label.sk-toggleable__label {background-color: #d4ebff;}#sk-container-id-2 div.sk-label input.sk-toggleable__control:checked~label.sk-toggleable__label {background-color: #d4ebff;}#sk-container-id-2 input.sk-hidden--visually {border: 0;clip: rect(1px 1px 1px 1px);clip: rect(1px, 1px, 1px, 1px);height: 1px;margin: -1px;overflow: hidden;padding: 0;position: absolute;width: 1px;}#sk-container-id-2 div.sk-estimator {font-family: monospace;background-color: #f0f8ff;border: 1px dotted black;border-radius: 0.25em;box-sizing: border-box;margin-bottom: 0.5em;}#sk-container-id-2 div.sk-estimator:hover {background-color: #d4ebff;}#sk-container-id-2 div.sk-parallel-item::after {content: \"\";width: 100%;border-bottom: 1px solid gray;flex-grow: 1;}#sk-container-id-2 div.sk-label:hover label.sk-toggleable__label {background-color: #d4ebff;}#sk-container-id-2 div.sk-serial::before {content: \"\";position: absolute;border-left: 1px solid gray;box-sizing: border-box;top: 0;bottom: 0;left: 50%;z-index: 0;}#sk-container-id-2 div.sk-serial {display: flex;flex-direction: column;align-items: center;background-color: white;padding-right: 0.2em;padding-left: 0.2em;position: relative;}#sk-container-id-2 div.sk-item {position: relative;z-index: 1;}#sk-container-id-2 div.sk-parallel {display: flex;align-items: stretch;justify-content: center;background-color: white;position: relative;}#sk-container-id-2 div.sk-item::before, #sk-container-id-2 div.sk-parallel-item::before {content: \"\";position: absolute;border-left: 1px solid gray;box-sizing: border-box;top: 0;bottom: 0;left: 50%;z-index: -1;}#sk-container-id-2 div.sk-parallel-item {display: flex;flex-direction: column;z-index: 1;position: relative;background-color: white;}#sk-container-id-2 div.sk-parallel-item:first-child::after {align-self: flex-end;width: 50%;}#sk-container-id-2 div.sk-parallel-item:last-child::after {align-self: flex-start;width: 50%;}#sk-container-id-2 div.sk-parallel-item:only-child::after {width: 0;}#sk-container-id-2 div.sk-dashed-wrapped {border: 1px dashed gray;margin: 0 0.4em 0.5em 0.4em;box-sizing: border-box;padding-bottom: 0.4em;background-color: white;}#sk-container-id-2 div.sk-label label {font-family: monospace;font-weight: bold;display: inline-block;line-height: 1.2em;}#sk-container-id-2 div.sk-label-container {text-align: center;}#sk-container-id-2 div.sk-container {/* jupyter's `normalize.less` sets `[hidden] { display: none; }` but bootstrap.min.css set `[hidden] { display: none !important; }` so we also need the `!important` here to be able to override the default hidden behavior on the sphinx rendered scikit-learn.org. See: https://github.com/scikit-learn/scikit-learn/issues/21755 */display: inline-block !important;position: relative;}#sk-container-id-2 div.sk-text-repr-fallback {display: none;}</style><div id=\"sk-container-id-2\" class=\"sk-top-container\"><div class=\"sk-text-repr-fallback\"><pre>XGBClassifier(base_score=None, booster=None, callbacks=None,\n",
       "              colsample_bylevel=None, colsample_bynode=None,\n",
       "              colsample_bytree=0.7, early_stopping_rounds=None,\n",
       "              enable_categorical=True, eval_metric=None, feature_types=None,\n",
       "              gamma=None, gpu_id=None, grow_policy=None, importance_type=None,\n",
       "              interaction_constraints=None, learning_rate=0.1, max_bin=None,\n",
       "              max_cat_threshold=None, max_cat_to_onehot=None,\n",
       "              max_delta_step=None, max_depth=3, max_leaves=None,\n",
       "              min_child_weight=None, missing=nan, monotone_constraints=None,\n",
       "              n_estimators=250, n_jobs=None, num_parallel_tree=None,\n",
       "              predictor=None, random_state=None, ...)</pre><b>In a Jupyter environment, please rerun this cell to show the HTML representation or trust the notebook. <br />On GitHub, the HTML representation is unable to render, please try loading this page with nbviewer.org.</b></div><div class=\"sk-container\" hidden><div class=\"sk-item\"><div class=\"sk-estimator sk-toggleable\"><input class=\"sk-toggleable__control sk-hidden--visually\" id=\"sk-estimator-id-2\" type=\"checkbox\" checked><label for=\"sk-estimator-id-2\" class=\"sk-toggleable__label sk-toggleable__label-arrow\">XGBClassifier</label><div class=\"sk-toggleable__content\"><pre>XGBClassifier(base_score=None, booster=None, callbacks=None,\n",
       "              colsample_bylevel=None, colsample_bynode=None,\n",
       "              colsample_bytree=0.7, early_stopping_rounds=None,\n",
       "              enable_categorical=True, eval_metric=None, feature_types=None,\n",
       "              gamma=None, gpu_id=None, grow_policy=None, importance_type=None,\n",
       "              interaction_constraints=None, learning_rate=0.1, max_bin=None,\n",
       "              max_cat_threshold=None, max_cat_to_onehot=None,\n",
       "              max_delta_step=None, max_depth=3, max_leaves=None,\n",
       "              min_child_weight=None, missing=nan, monotone_constraints=None,\n",
       "              n_estimators=250, n_jobs=None, num_parallel_tree=None,\n",
       "              predictor=None, random_state=None, ...)</pre></div></div></div></div></div>"
      ],
      "text/plain": [
       "XGBClassifier(base_score=None, booster=None, callbacks=None,\n",
       "              colsample_bylevel=None, colsample_bynode=None,\n",
       "              colsample_bytree=0.7, early_stopping_rounds=None,\n",
       "              enable_categorical=True, eval_metric=None, feature_types=None,\n",
       "              gamma=None, gpu_id=None, grow_policy=None, importance_type=None,\n",
       "              interaction_constraints=None, learning_rate=0.1, max_bin=None,\n",
       "              max_cat_threshold=None, max_cat_to_onehot=None,\n",
       "              max_delta_step=None, max_depth=3, max_leaves=None,\n",
       "              min_child_weight=None, missing=nan, monotone_constraints=None,\n",
       "              n_estimators=250, n_jobs=None, num_parallel_tree=None,\n",
       "              predictor=None, random_state=None, ...)"
      ]
     },
     "execution_count": 10,
     "metadata": {},
     "output_type": "execute_result"
    }
   ],
   "source": [
    "# 3 - False\n",
    "import xgboost as xgb\n",
    "from xgboost import XGBClassifier\n",
    "\n",
    "\n",
    "xgb = XGBClassifier(n_estimators=250, learning_rate=0.10, colsample_bytree=0.70, max_depth=3, tree_method=\"gpu_hist\", enable_categorical=True)\n",
    "\n",
    "xgb.fit(X_train2, y_train2)"
   ]
  },
  {
   "cell_type": "code",
   "execution_count": 12,
   "metadata": {},
   "outputs": [
    {
     "data": {
      "text/plain": [
       "0.03813097665736742"
      ]
     },
     "execution_count": 12,
     "metadata": {},
     "output_type": "execute_result"
    }
   ],
   "source": [
    "pred = xgb.predict(X_test2)\n",
    "gini(roc_auc_score(y_test2.values.flatten(), pred))"
   ]
  },
  {
   "cell_type": "code",
   "execution_count": 16,
   "metadata": {},
   "outputs": [
    {
     "data": {
      "text/plain": [
       "0.8080514199845942"
      ]
     },
     "execution_count": 16,
     "metadata": {},
     "output_type": "execute_result"
    }
   ],
   "source": [
    "(y_test2.values.flatten() == pred).sum()/pred.shape[0]"
   ]
  },
  {
   "cell_type": "markdown",
   "metadata": {},
   "source": [
    "(10) Используя данные для catboost из предыдущего вопроса, сравните модель, обученную с дефолтными параметрами и iterations=80 на всех данных, и модели, которые обучались на данных конкретного года.\n",
    "\n",
    "Нужно ли строить отдельную модель catboost для каждого года? Отметьте правильный ответ.\n",
    "\n",
    "1. Да, т.к. для конкретного года всегда более точные предсказания\n",
    "2. Нет, т.к. модель, построенная на всех данных всегда бьет модель построенную только на части\n",
    "3. Нет, т.к. модель для конкретного года всегда предсказвает конкретный год хуже общей модели\n",
    "4. Зависит, т.к. некоторые года особенные и надо это учитывать при выборе модели. В наших данных таких годов примерно 1 из 5. (+)"
   ]
  },
  {
   "cell_type": "code",
   "execution_count": 4,
   "metadata": {},
   "outputs": [],
   "source": [
    "year_X_train2 = X_train2.copy()\n",
    "year_X_train2['year'] = [year[-4:] for year in X_train2.earliest_cr_line.values]\n",
    "year_X_train2['year'] = year_X_train2['year'].astype('category')\n",
    "\n",
    "year_X_test2 = X_test2.copy()\n",
    "year_X_test2['year'] = [year[-4:] for year in X_test2.earliest_cr_line.values]\n",
    "year_X_test2['year'] = year_X_test2['year'].astype('category')"
   ]
  },
  {
   "cell_type": "code",
   "execution_count": 5,
   "metadata": {},
   "outputs": [
    {
     "data": {
      "text/plain": [
       "['2011', '1999', '2001', '1997', '2004', ..., '1934', '1954', '1944', '2017', '1933']\n",
       "Length: 74\n",
       "Categories (74, object): ['1933', '1934', '1941', '1944', ..., '2014', '2015', '2016', '2017']"
      ]
     },
     "execution_count": 5,
     "metadata": {},
     "output_type": "execute_result"
    }
   ],
   "source": [
    "year_X_train2.year.unique()"
   ]
  },
  {
   "cell_type": "code",
   "execution_count": 6,
   "metadata": {},
   "outputs": [
    {
     "data": {
      "text/plain": [
       "['2000', '1997', '1994', '2001', '1999', ..., '1957', '1951', '1952', '1945', '1953']\n",
       "Length: 68\n",
       "Categories (68, object): ['1945', '1950', '1951', '1952', ..., '2013', '2014', '2015', '2016']"
      ]
     },
     "execution_count": 6,
     "metadata": {},
     "output_type": "execute_result"
    }
   ],
   "source": [
    "year_X_test2.year.unique()"
   ]
  },
  {
   "cell_type": "code",
   "execution_count": 7,
   "metadata": {},
   "outputs": [
    {
     "name": "stdout",
     "output_type": "stream",
     "text": [
      "1945\n"
     ]
    }
   ],
   "source": [
    "for i in year_X_test2.year.unique():\n",
    "    if i in year_X_train2.year.unique():\n",
    "        pass\n",
    "    else:\n",
    "        print(i)"
   ]
  },
  {
   "cell_type": "code",
   "execution_count": null,
   "metadata": {},
   "outputs": [],
   "source": [
    "from catboost import CatBoostClassifier\n",
    "\n",
    "history_gini = {}\n",
    "\n",
    "for y in year_X_train2.year.unique():\n",
    "    # train\n",
    "    X_train2_year = X_train2.loc[year_X_train2.year == y]\n",
    "    y_train2_year = y_train2.loc[year_X_train2.year == y]\n",
    "    if y_train2_year.shape[0] > 1:\n",
    "\n",
    "        cbc_x = CatBoostClassifier(iterations=80, cat_features=cat_features, allow_const_label=True)\n",
    "        cbc_x.fit(X_train2_year, y_train2_year)\n",
    "        \n",
    "        if y in year_X_test2.year.unique():\n",
    "            # eval\n",
    "            X_test2_year = X_test2.loc[year_X_test2.year == y]\n",
    "            y_test2_year = y_test2.loc[year_X_test2.year == y]\n",
    "\n",
    "            pred = cbc_x.predict(X_test2_year)\n",
    "\n",
    "            gini_score = gini(roc_auc_score(y_test2_year.values.flatten(), pred))\n",
    "            history_gini[y] = gini_score\n",
    "        else:\n",
    "            continue\n",
    "    else:\n",
    "        continue"
   ]
  },
  {
   "cell_type": "code",
   "execution_count": 12,
   "metadata": {},
   "outputs": [
    {
     "name": "stdout",
     "output_type": "stream",
     "text": [
      "gini all yeaers:  0.0672382677140102\n"
     ]
    }
   ],
   "source": [
    "print('gini all yeaers: ', 0.0672382677140102)"
   ]
  },
  {
   "cell_type": "code",
   "execution_count": 30,
   "metadata": {},
   "outputs": [
    {
     "data": {
      "text/plain": [
       "dict_items([('2011', 0.11431056520406879), ('1999', 0.06421184934336055), ('2001', 0.07357860578458197), ('1997', 0.055624849300280665), ('2004', 0.06506633749689472), ('1989', 0.07164152118448275), ('1996', 0.07254932662966795), ('2000', 0.05730760233775034), ('1987', 0.03905401867054126), ('2013', 0.09410409795887298), ('1992', 0.05153873559725808), ('1995', 0.05155438744494423), ('2002', 0.07831104467110883), ('2006', 0.08129984060402551), ('2007', 0.07588450602503727), ('2009', 0.09018660281714252), ('1998', 0.0663315710726664), ('1994', 0.06978064008563889), ('2005', 0.08076463508042453), ('1986', 0.05133802858475378), ('2003', 0.0741137395926208), ('1981', 0.013176508412817256), ('2008', 0.07396169886845949), ('1988', 0.04122951442715728), ('2014', 0.145457601033107), ('1978', 0.0339443861207569), ('1993', 0.0503709126450258), ('1985', 0.05327975110189276), ('1977', 0.02355704345082632), ('1982', 0.04330896259241346), ('1990', 0.054253944156083866), ('1991', 0.052281968703199455), ('2010', 0.07098803448563529), ('1979', 0.039891572601853165), ('1983', 0.06020886141622572), ('1976', 7.649938800491363e-05), ('2016', 0.04662698412698418), ('1984', 0.037866158609192846), ('2012', 0.08213394741892155), ('1980', 0.014114776406550567), ('1969', 0.020000000000000018), ('1972', 0.020014907655357073), ('1971', 0.0714285714285714), ('1974', 0.029339019189765336), ('2015', 0.11481036777948894), ('1968', 0.0), ('1970', -0.0012443273312837677), ('1967', 0.025145067698259194), ('1973', 0.001804142310745549), ('1975', 0.012946010453487977), ('1963', 0.015037593984962516), ('1964', 0.03770620581303996), ('1966', 0.0512640449438202), ('1965', 0.03125), ('1962', 0.0), ('1959', 0.0), ('1960', 0.0), ('1961', 0.0), ('1951', 0.0)])"
      ]
     },
     "execution_count": 30,
     "metadata": {},
     "output_type": "execute_result"
    }
   ],
   "source": [
    "history_gini.items()"
   ]
  },
  {
   "cell_type": "code",
   "execution_count": 31,
   "metadata": {},
   "outputs": [],
   "source": [
    "history_shapes = {}\n",
    "\n",
    "for y in year_X_train2.year.unique():\n",
    "    # train\n",
    "    X_train2_year = X_train2.loc[year_X_train2.year == y]\n",
    "    y_train2_year = y_train2.loc[year_X_train2.year == y]\n",
    "\n",
    "    history_shapes[y] = y_train2_year.shape"
   ]
  },
  {
   "cell_type": "code",
   "execution_count": 41,
   "metadata": {},
   "outputs": [
    {
     "name": "stdout",
     "output_type": "stream",
     "text": [
      "(1, 1)\n",
      "(1, 1)\n",
      "(1, 1)\n",
      "(1, 1)\n"
     ]
    }
   ],
   "source": [
    "for elem in list(history_shapes.values()):\n",
    "    if elem[0] > 1:\n",
    "        pass\n",
    "    else:\n",
    "        print(elem)"
   ]
  },
  {
   "cell_type": "code",
   "execution_count": null,
   "metadata": {},
   "outputs": [],
   "source": []
  }
 ],
 "metadata": {
  "kernelspec": {
   "display_name": "tf_gpu",
   "language": "python",
   "name": "python3"
  },
  "language_info": {
   "codemirror_mode": {
    "name": "ipython",
    "version": 3
   },
   "file_extension": ".py",
   "mimetype": "text/x-python",
   "name": "python",
   "nbconvert_exporter": "python",
   "pygments_lexer": "ipython3",
   "version": "3.9.16"
  },
  "orig_nbformat": 4
 },
 "nbformat": 4,
 "nbformat_minor": 2
}
